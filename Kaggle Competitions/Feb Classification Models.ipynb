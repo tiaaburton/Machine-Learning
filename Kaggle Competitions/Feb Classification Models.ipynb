{
 "cells": [
  {
   "cell_type": "code",
   "metadata": {
    "tags": [],
    "cell_id": "4f9e63bc-1517-46e9-bf82-fbdbe31f393e",
    "deepnote_to_be_reexecuted": false,
    "source_hash": "8ad57f32",
    "execution_start": 1644197346123,
    "deepnote_cell_type": "code",
    "deepnote_cell_height": 81
   },
   "source": "# Start writing code here...",
   "execution_count": null,
   "outputs": []
  },
  {
   "cell_type": "markdown",
   "source": "# Feb 2022 Classification Models",
   "metadata": {
    "cell_id": "afe73bf6-1463-4cdc-87dc-5d67b4e8fc43",
    "tags": [],
    "is_collapsed": false,
    "deepnote_cell_type": "text-cell-h1"
   }
  },
  {
   "cell_type": "markdown",
   "source": "Kaggle provided a sample of data genetic data. The task is to classify the sequences in the text file with the correct label. Using a support vector machine, all versus one model, and a few advanced neural network techniques, I will try to predict the correct classes for the genetic sequences provided.",
   "metadata": {
    "cell_id": "360e73e1-7252-445d-994c-68dac50e3066",
    "tags": [],
    "is_collapsed": false,
    "deepnote_cell_type": "text-cell-p"
   }
  },
  {
   "cell_type": "markdown",
   "source": "",
   "metadata": {
    "cell_id": "d9d7c992-9a25-4b35-9bfa-5513d1ca9a67",
    "tags": [],
    "is_collapsed": false,
    "deepnote_cell_type": "text-cell-p"
   }
  },
  {
   "cell_type": "code",
   "metadata": {
    "cell_id": "73149252-3083-43e1-b3a6-76e04ce91e83",
    "tags": [],
    "deepnote_to_be_reexecuted": false,
    "source_hash": "8b1e33a3",
    "execution_start": 1644197346166,
    "execution_millis": 13044,
    "deepnote_cell_type": "code",
    "deepnote_cell_height": 531
   },
   "source": "# import the important libraries\nimport os\nimport datetime\n\nimport IPython\nimport IPython.display\nimport matplotlib as mpl\nimport matplotlib.pyplot as plt\nimport numpy as np\nimport pandas as pd\nimport seaborn as sns\nimport altair as alt\n\nfrom sklearn import metrics\nfrom sklearn.metrics import make_scorer\nfrom sklearn.svm import SVC\nfrom sklearn.tree import DecisionTreeClassifier\nfrom sklearn.preprocessing import OneHotEncoder, OrdinalEncoder, LabelEncoder\nfrom sklearn.model_selection import train_test_split, cross_val_score, RandomizedSearchCV\n\nimport tensorflow as tf\n\n# use mlp for prediction on multi-label classification\nfrom numpy import asarray\nfrom tensorflow.keras.models import Sequential\nfrom tensorflow.keras.layers import Dense",
   "execution_count": null,
   "outputs": []
  },
  {
   "cell_type": "code",
   "metadata": {
    "cell_id": "dfc7c512-a01e-45a7-9f6e-01285ba05d55",
    "tags": [],
    "deepnote_to_be_reexecuted": false,
    "source_hash": "d2471bdf",
    "execution_start": 1644197359212,
    "execution_millis": 17,
    "deepnote_cell_type": "code",
    "deepnote_cell_height": 189
   },
   "source": "# get the model\ndef get_model(n_inputs, n_outputs):\n\tmodel = Sequential()\n\tmodel.add(Dense(20, input_dim=n_inputs, kernel_initializer='he_uniform', activation='relu'))\n\tmodel.add(Dense(n_outputs, activation='sigmoid'))\n\tmodel.compile(loss='binary_crossentropy', optimizer='adam')\n\treturn model",
   "execution_count": null,
   "outputs": []
  },
  {
   "cell_type": "code",
   "metadata": {
    "cell_id": "4ae6ab82-f9ba-4df6-8566-86d337b575a3",
    "tags": [],
    "deepnote_to_be_reexecuted": false,
    "source_hash": "35d22526",
    "execution_start": 1644197359238,
    "execution_millis": 17277,
    "deepnote_cell_type": "code",
    "deepnote_cell_height": 99
   },
   "source": "train = pd.read_csv('/work/Machine-Learning/tabular-playground-series-feb-2022/train.csv')\ntest = pd.read_csv('/work/Machine-Learning/tabular-playground-series-feb-2022/test.csv')",
   "execution_count": null,
   "outputs": []
  },
  {
   "cell_type": "code",
   "metadata": {
    "cell_id": "dd41fc39-3c6d-40ea-8f79-a52177bc5158",
    "tags": [],
    "deepnote_to_be_reexecuted": false,
    "source_hash": "a84a3e86",
    "execution_start": 1644197376535,
    "execution_millis": 45,
    "deepnote_cell_type": "code",
    "deepnote_cell_height": 167.390625
   },
   "source": "print(\"Before: \", len(train))\ntrain = train.dropna(axis=0)\nprint(\"After: \", len(train))",
   "execution_count": null,
   "outputs": [
    {
     "name": "stdout",
     "text": "Before:  4655\nAfter:  4654\n",
     "output_type": "stream"
    }
   ]
  },
  {
   "cell_type": "markdown",
   "source": "There was one example with a value that wasn't available. Where that example is no longer available, we can home the model can recognize the example that it is provided, but it's more likely that this model is ",
   "metadata": {
    "cell_id": "6e7ce63b-bc12-4b51-bcda-ae8714673afa",
    "tags": [],
    "is_collapsed": false,
    "deepnote_cell_type": "text-cell-p"
   }
  },
  {
   "cell_type": "code",
   "metadata": {
    "cell_id": "0d5773aa-7bcc-4d36-83da-005851f5e2bd",
    "tags": [],
    "deepnote_to_be_reexecuted": false,
    "source_hash": "808fc18d",
    "execution_start": 1644197376588,
    "execution_millis": 15,
    "deepnote_cell_type": "code",
    "deepnote_cell_height": 99
   },
   "source": "features = train.iloc[:, 1:-1]\ntarget = train['target'].copy()",
   "execution_count": null,
   "outputs": []
  },
  {
   "cell_type": "code",
   "metadata": {
    "cell_id": "e7a49693-c559-4e5c-87e9-70dfef1502f5",
    "tags": [],
    "deepnote_to_be_reexecuted": false,
    "source_hash": "ab0de915",
    "execution_start": 1644197376615,
    "execution_millis": 7,
    "deepnote_cell_type": "code",
    "deepnote_cell_height": 99
   },
   "source": "le = LabelEncoder()\ntarget_enc = le.fit_transform(target).reshape(-1,1)",
   "execution_count": null,
   "outputs": []
  },
  {
   "cell_type": "code",
   "metadata": {
    "cell_id": "da886ccc-944d-4171-a360-576e41b8a08b",
    "tags": [],
    "deepnote_to_be_reexecuted": false,
    "source_hash": "1e687743",
    "execution_start": 1644197376635,
    "execution_millis": 46,
    "deepnote_cell_type": "code",
    "deepnote_cell_height": 233.359375,
    "deepnote_output_heights": [
     136.359375
    ]
   },
   "source": "target_enc",
   "execution_count": null,
   "outputs": [
    {
     "output_type": "execute_result",
     "execution_count": 8,
     "data": {
      "text/plain": "array([[9],\n       [6],\n       [6],\n       ...,\n       [7],\n       [7],\n       [8]])"
     },
     "metadata": {}
    }
   ]
  },
  {
   "cell_type": "code",
   "metadata": {
    "cell_id": "aba5f92b-97d1-4f51-b82a-e73e12e4775f",
    "tags": [],
    "deepnote_to_be_reexecuted": false,
    "source_hash": "4eee3ad6",
    "execution_start": 1644197376680,
    "execution_millis": 1,
    "output_cleared": false,
    "deepnote_cell_type": "code",
    "deepnote_cell_height": 135
   },
   "source": "# n_inputs, n_outputs = features.shape[1], 1#target.shape[1]\n# model = get_model(n_inputs, n_outputs)\n# model.fit(features, target_enc, verbose=0, epochs=100)\n# model",
   "execution_count": null,
   "outputs": []
  },
  {
   "cell_type": "code",
   "metadata": {
    "cell_id": "e5d727b5-ebdb-4cf7-9755-52d5665045c2",
    "tags": [],
    "deepnote_to_be_reexecuted": false,
    "source_hash": "1b3fafad",
    "execution_start": 1644197376723,
    "execution_millis": 0,
    "deepnote_cell_type": "code",
    "deepnote_cell_height": 117
   },
   "source": "# # model.predict(test)\n# #reshape(-1,1)\n# asarray(test.iloc[0]).reshape(,287)",
   "execution_count": null,
   "outputs": []
  },
  {
   "cell_type": "code",
   "metadata": {
    "cell_id": "b29c8178-6228-46b0-bdf4-98aec2ddbd4b",
    "tags": [],
    "deepnote_to_be_reexecuted": false,
    "source_hash": "e72abfed",
    "execution_start": 1644197376724,
    "execution_millis": 1213,
    "deepnote_cell_type": "code",
    "deepnote_cell_height": 117
   },
   "source": "dtc = DecisionTreeClassifier()\ndtc = dtc.fit(features,target_enc)\n",
   "execution_count": null,
   "outputs": []
  },
  {
   "cell_type": "code",
   "metadata": {
    "cell_id": "e8ffb7d2-47c8-42ea-be8e-91e3f2382ebb",
    "tags": [],
    "deepnote_to_be_reexecuted": false,
    "source_hash": "b623e53d",
    "execution_start": 1644197377943,
    "execution_millis": 5,
    "deepnote_cell_type": "code",
    "deepnote_cell_height": 81
   },
   "source": "",
   "execution_count": null,
   "outputs": []
  },
  {
   "cell_type": "markdown",
   "source": "<a style='text-decoration:none;line-height:16px;display:flex;color:#5B5B62;padding:10px;justify-content:end;' href='https://deepnote.com?utm_source=created-in-deepnote-cell&projectId=24d50205-0d01-4bd6-a263-9bbd6567f7de' target=\"_blank\">\n<img alt='Created in deepnote.com' style='display:inline;max-height:16px;margin:0px;margin-right:7.5px;' src='data:image/svg+xml;base64,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' > </img>\nCreated in <span style='font-weight:600;margin-left:4px;'>Deepnote</span></a>",
   "metadata": {
    "tags": [],
    "created_in_deepnote_cell": true,
    "deepnote_cell_type": "markdown"
   }
  }
 ],
 "nbformat": 4,
 "nbformat_minor": 2,
 "metadata": {
  "orig_nbformat": 2,
  "deepnote": {
   "is_reactive": false
  },
  "deepnote_notebook_id": "fd82c233-2903-4df4-bad1-d53d9d9610d2",
  "deepnote_execution_queue": []
 }
}