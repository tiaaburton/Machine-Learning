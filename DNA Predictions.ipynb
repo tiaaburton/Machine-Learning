{
 "cells": [
  {
   "cell_type": "code",
   "metadata": {
    "cell_id": "b741fd30-b35a-44d1-a9cc-b77e72626b3e",
    "tags": [],
    "deepnote_to_be_reexecuted": false,
    "source_hash": "f092f337",
    "execution_start": 1645594820378,
    "execution_millis": 1525,
    "deepnote_cell_type": "code"
   },
   "source": "import pandas as pd\nimport numpy as np\nimport seaborn as sns\nimport matplotlib.pyplot as plt\n\nfrom sklearn.preprocessing import LabelEncoder\nfrom sklearn.preprocessing import Normalizer\nfrom sklearn.neighbors import KNeighborsClassifier\nfrom sklearn.model_selection import cross_val_score, GridSearchCV, train_test_split, StratifiedKFold\nfrom sklearn.metrics import accuracy_score",
   "execution_count": 1,
   "outputs": []
  },
  {
   "cell_type": "code",
   "metadata": {
    "cell_id": "149bb2f7-81e1-43a2-8099-7c8c030ce989",
    "tags": [],
    "deepnote_to_be_reexecuted": false,
    "source_hash": "7bbeed50",
    "execution_start": 1645594821905,
    "execution_millis": 8246,
    "deepnote_cell_type": "code"
   },
   "source": "raw_train = pd.read_csv('/work/tabular-playground-series-feb-2022/train.csv')\nraw_test = pd.read_csv('/work/tabular-playground-series-feb-2022/test.csv')",
   "execution_count": 2,
   "outputs": [
    {
     "name": "stderr",
     "text": "/shared-libs/python3.9/py-core/lib/python3.9/site-packages/IPython/core/interactiveshell.py:3185: DtypeWarning: Columns (85) have mixed types.Specify dtype option on import or set low_memory=False.\n  has_raised = await self.run_ast_nodes(code_ast.body, cell_name,\n",
     "output_type": "stream"
    }
   ]
  },
  {
   "cell_type": "code",
   "metadata": {
    "cell_id": "0fc0a273-607c-4ea4-967b-302a73baca38",
    "tags": [],
    "deepnote_to_be_reexecuted": false,
    "source_hash": "156a5030",
    "execution_start": 1645594830157,
    "execution_millis": 742,
    "deepnote_cell_type": "code"
   },
   "source": "raw_train.head()",
   "execution_count": 3,
   "outputs": [
    {
     "output_type": "execute_result",
     "execution_count": 3,
     "data": {
      "application/vnd.deepnote.dataframe.v3+json": {
       "column_count": 288,
       "row_count": 5,
       "columns": [
        {
         "name": "row_id",
         "dtype": "int64",
         "stats": {
          "unique_count": 5,
          "nan_count": 0,
          "min": "0",
          "max": "4",
          "histogram": [
           {
            "bin_start": 0,
            "bin_end": 0.4,
            "count": 1
           },
           {
            "bin_start": 0.4,
            "bin_end": 0.8,
            "count": 0
           },
           {
            "bin_start": 0.8,
            "bin_end": 1.2000000000000002,
            "count": 1
           },
           {
            "bin_start": 1.2000000000000002,
            "bin_end": 1.6,
            "count": 0
           },
           {
            "bin_start": 1.6,
            "bin_end": 2,
            "count": 0
           },
           {
            "bin_start": 2,
            "bin_end": 2.4000000000000004,
            "count": 1
           },
           {
            "bin_start": 2.4000000000000004,
            "bin_end": 2.8000000000000003,
            "count": 0
           },
           {
            "bin_start": 2.8000000000000003,
            "bin_end": 3.2,
            "count": 1
           },
           {
            "bin_start": 3.2,
            "bin_end": 3.6,
            "count": 0
           },
           {
            "bin_start": 3.6,
            "bin_end": 4,
            "count": 1
           }
          ]
         }
        },
        {
         "name": "A0T0G0C10",
         "dtype": "float64",
         "stats": {
          "unique_count": 2,
          "nan_count": 0,
          "min": "-9.5367431640625e-07",
          "max": "4.632568359374996e-08",
          "histogram": [
           {
            "bin_start": -9.5367431640625e-7,
            "bin_end": -8.5367431640625e-7,
            "count": 4
           },
           {
            "bin_start": -8.5367431640625e-7,
            "bin_end": -7.5367431640625e-7,
            "count": 0
           },
           {
            "bin_start": -7.5367431640625e-7,
            "bin_end": -6.5367431640625e-7,
            "count": 0
           },
           {
            "bin_start": -6.5367431640625e-7,
            "bin_end": -5.5367431640625e-7,
            "count": 0
           },
           {
            "bin_start": -5.5367431640625e-7,
            "bin_end": -4.5367431640625e-7,
            "count": 0
           },
           {
            "bin_start": -4.5367431640625e-7,
            "bin_end": -3.5367431640625003e-7,
            "count": 0
           },
           {
            "bin_start": -3.5367431640625003e-7,
            "bin_end": -2.5367431640625003e-7,
            "count": 0
           },
           {
            "bin_start": -2.5367431640625003e-7,
            "bin_end": -1.5367431640625004e-7,
            "count": 0
           },
           {
            "bin_start": -1.5367431640625004e-7,
            "bin_end": -5.367431640625004e-8,
            "count": 0
           },
           {
            "bin_start": -5.367431640625004e-8,
            "bin_end": 4.632568359374996e-8,
            "count": 1
           }
          ]
         }
        },
        {
         "name": "A0T0G1C9",
         "dtype": "float64",
         "stats": {
          "unique_count": 3,
          "nan_count": 0,
          "min": "-9.5367431640625e-06",
          "max": "-1.5367431640625004e-06",
          "histogram": [
           {
            "bin_start": -0.0000095367431640625,
            "bin_end": -0.000008736743164062501,
            "count": 3
           },
           {
            "bin_start": -0.000008736743164062501,
            "bin_end": -0.0000079367431640625,
            "count": 0
           },
           {
            "bin_start": -0.0000079367431640625,
            "bin_end": -0.0000071367431640625,
            "count": 0
           },
           {
            "bin_start": -0.0000071367431640625,
            "bin_end": -0.0000063367431640625,
            "count": 0
           },
           {
            "bin_start": -0.0000063367431640625,
            "bin_end": -0.0000055367431640625,
            "count": 0
           },
           {
            "bin_start": -0.0000055367431640625,
            "bin_end": -0.0000047367431640625,
            "count": 1
           },
           {
            "bin_start": -0.0000047367431640625,
            "bin_end": -0.0000039367431640625,
            "count": 0
           },
           {
            "bin_start": -0.0000039367431640625,
            "bin_end": -0.0000031367431640625003,
            "count": 0
           },
           {
            "bin_start": -0.0000031367431640625003,
            "bin_end": -0.0000023367431640625003,
            "count": 0
           },
           {
            "bin_start": -0.0000023367431640625003,
            "bin_end": -0.0000015367431640625004,
            "count": 1
           }
          ]
         }
        },
        {
         "name": "A0T0G2C8",
         "dtype": "float64",
         "stats": {
          "unique_count": 3,
          "nan_count": 0,
          "min": "-4.291534423828125e-05",
          "max": "1.2084655761718752e-05",
          "histogram": [
           {
            "bin_start": -0.00004291534423828125,
            "bin_end": -0.00003741534423828125,
            "count": 3
           },
           {
            "bin_start": -0.00003741534423828125,
            "bin_end": -0.000031915344238281254,
            "count": 0
           },
           {
            "bin_start": -0.000031915344238281254,
            "bin_end": -0.00002641534423828125,
            "count": 0
           },
           {
            "bin_start": -0.00002641534423828125,
            "bin_end": -0.00002091534423828125,
            "count": 0
           },
           {
            "bin_start": -0.00002091534423828125,
            "bin_end": -0.000015415344238281252,
            "count": 0
           },
           {
            "bin_start": -0.000015415344238281252,
            "bin_end": -0.000009915344238281247,
            "count": 0
           },
           {
            "bin_start": -0.000009915344238281247,
            "bin_end": -0.000004415344238281249,
            "count": 0
           },
           {
            "bin_start": -0.000004415344238281249,
            "bin_end": 0.0000010846557617187489,
            "count": 0
           },
           {
            "bin_start": 0.0000010846557617187489,
            "bin_end": 0.000006584655761718747,
            "count": 0
           },
           {
            "bin_start": 0.000006584655761718747,
            "bin_end": 0.000012084655761718752,
            "count": 2
           }
          ]
         }
        },
        {
         "name": "A0T0G3C7",
         "dtype": "float64",
         "stats": {
          "unique_count": 4,
          "nan_count": 0,
          "min": "-0.0001144409179687",
          "max": "0.0008855590820312",
          "histogram": [
           {
            "bin_start": -0.0001144409179687,
            "bin_end": -0.000014440917968710002,
            "count": 2
           },
           {
            "bin_start": -0.000014440917968710002,
            "bin_end": 0.00008555908203128,
            "count": 0
           },
           {
            "bin_start": 0.00008555908203128,
            "bin_end": 0.00018555908203126998,
            "count": 1
           },
           {
            "bin_start": 0.00018555908203126998,
            "bin_end": 0.00028555908203126,
            "count": 1
           },
           {
            "bin_start": 0.00028555908203126,
            "bin_end": 0.00038555908203125,
            "count": 0
           },
           {
            "bin_start": 0.00038555908203125,
            "bin_end": 0.00048555908203123997,
            "count": 0
           },
           {
            "bin_start": 0.00048555908203123997,
            "bin_end": 0.00058555908203123,
            "count": 0
           },
           {
            "bin_start": 0.00058555908203123,
            "bin_end": 0.00068555908203122,
            "count": 0
           },
           {
            "bin_start": 0.00068555908203122,
            "bin_end": 0.00078555908203121,
            "count": 0
           },
           {
            "bin_start": 0.00078555908203121,
            "bin_end": 0.0008855590820312,
            "count": 1
           }
          ]
         }
        },
        {
         "name": "A0T0G4C6",
         "dtype": "float64",
         "stats": {
          "unique_count": 3,
          "nan_count": 0,
          "min": "-0.0002002716064453",
          "max": "0.0004917283935546",
          "histogram": [
           {
            "bin_start": -0.0002002716064453,
            "bin_end": -0.00013107160644531,
            "count": 3
           },
           {
            "bin_start": -0.00013107160644531,
            "bin_end": -0.00006187160644532,
            "count": 0
           },
           {
            "bin_start": -0.00006187160644532,
            "bin_end": 0.000007328393554669995,
            "count": 0
           },
           {
            "bin_start": 0.000007328393554669995,
            "bin_end": 0.00007652839355466,
            "count": 0
           },
           {
            "bin_start": 0.00007652839355466,
            "bin_end": 0.00014572839355464997,
            "count": 0
           },
           {
            "bin_start": 0.00014572839355464997,
            "bin_end": 0.00021492839355464,
            "count": 0
           },
           {
            "bin_start": 0.00021492839355464,
            "bin_end": 0.00028412839355463,
            "count": 1
           },
           {
            "bin_start": 0.00028412839355463,
            "bin_end": 0.00035332839355461997,
            "count": 0
           },
           {
            "bin_start": 0.00035332839355461997,
            "bin_end": 0.00042252839355460994,
            "count": 0
           },
           {
            "bin_start": 0.00042252839355460994,
            "bin_end": 0.0004917283935546,
            "count": 1
           }
          ]
         }
        },
        {
         "name": "A0T0G5C5",
         "dtype": "float64",
         "stats": {
          "unique_count": 4,
          "nan_count": 0,
          "min": "-0.0002403259277343",
          "max": "0.0007596740722656",
          "histogram": [
           {
            "bin_start": -0.0002403259277343,
            "bin_end": -0.00014032592773431,
            "count": 2
           },
           {
            "bin_start": -0.00014032592773431,
            "bin_end": -0.000040325927734319994,
            "count": 0
           },
           {
            "bin_start": -0.000040325927734319994,
            "bin_end": 0.000059674072265669995,
            "count": 0
           },
           {
            "bin_start": 0.000059674072265669995,
            "bin_end": 0.00015967407226566,
            "count": 0
           },
           {
            "bin_start": 0.00015967407226566,
            "bin_end": 0.00025967407226565006,
            "count": 0
           },
           {
            "bin_start": 0.00025967407226565006,
            "bin_end": 0.00035967407226564,
            "count": 1
           },
           {
            "bin_start": 0.00035967407226564,
            "bin_end": 0.0004596740722656301,
            "count": 0
           },
           {
            "bin_start": 0.0004596740722656301,
            "bin_end": 0.00055967407226562,
            "count": 1
           },
           {
            "bin_start": 0.00055967407226562,
            "bin_end": 0.00065967407226561,
            "count": 0
           },
           {
            "bin_start": 0.00065967407226561,
            "bin_end": 0.0007596740722656,
            "count": 1
           }
          ]
         }
        },
        {
         "name": "A0T0G6C4",
         "dtype": "float64",
         "stats": {
          "unique_count": 3,
          "nan_count": 0,
          "min": "-0.0002002716064453",
          "max": "0.0003957283935546",
          "histogram": [
           {
            "bin_start": -0.0002002716064453,
            "bin_end": -0.00014067160644531002,
            "count": 3
           },
           {
            "bin_start": -0.00014067160644531002,
            "bin_end": -0.00008107160644532001,
            "count": 0
           },
           {
            "bin_start": -0.00008107160644532001,
            "bin_end": -0.000021471606445330028,
            "count": 0
           },
           {
            "bin_start": -0.000021471606445330028,
            "bin_end": 0.00003812839355465998,
            "count": 0
           },
           {
            "bin_start": 0.00003812839355465998,
            "bin_end": 0.00009772839355464999,
            "count": 0
           },
           {
            "bin_start": 0.00009772839355464999,
            "bin_end": 0.00015732839355463995,
            "count": 0
           },
           {
            "bin_start": 0.00015732839355463995,
            "bin_end": 0.00021692839355462996,
            "count": 0
           },
           {
            "bin_start": 0.00021692839355462996,
            "bin_end": 0.00027652839355461994,
            "count": 1
           },
           {
            "bin_start": 0.00027652839355461994,
            "bin_end": 0.0003361283935546099,
            "count": 0
           },
           {
            "bin_start": 0.0003361283935546099,
            "bin_end": 0.0003957283935546,
            "count": 1
           }
          ]
         }
        },
        {
         "name": "A0T0G7C3",
         "dtype": "float64",
         "stats": {
          "unique_count": 3,
          "nan_count": 0,
          "min": "-0.0001144409179687",
          "max": "0.0001965590820312",
          "histogram": [
           {
            "bin_start": -0.0001144409179687,
            "bin_end": -0.00008334091796871,
            "count": 3
           },
           {
            "bin_start": -0.00008334091796871,
            "bin_end": -0.00005224091796872,
            "count": 0
           },
           {
            "bin_start": -0.00005224091796872,
            "bin_end": -0.000021140917968729992,
            "count": 0
           },
           {
            "bin_start": -0.000021140917968729992,
            "bin_end": 0.000009959082031260003,
            "count": 0
           },
           {
            "bin_start": 0.000009959082031260003,
            "bin_end": 0.00004105908203125,
            "count": 0
           },
           {
            "bin_start": 0.00004105908203125,
            "bin_end": 0.00007215908203124002,
            "count": 0
           },
           {
            "bin_start": 0.00007215908203124002,
            "bin_end": 0.00010325908203123002,
            "count": 0
           },
           {
            "bin_start": 0.00010325908203123002,
            "bin_end": 0.00013435908203122,
            "count": 1
           },
           {
            "bin_start": 0.00013435908203122,
            "bin_end": 0.00016545908203121002,
            "count": 0
           },
           {
            "bin_start": 0.00016545908203121002,
            "bin_end": 0.0001965590820312,
            "count": 1
           }
          ]
         }
        },
        {
         "name": "A0T0G8C2",
         "dtype": "float64",
         "stats": {
          "unique_count": 3,
          "nan_count": 0,
          "min": "-4.291534423828125e-05",
          "max": "1.0846557617187489e-06",
          "histogram": [
           {
            "bin_start": -0.00004291534423828125,
            "bin_end": -0.00003851534423828125,
            "count": 3
           },
           {
            "bin_start": -0.00003851534423828125,
            "bin_end": -0.00003411534423828125,
            "count": 0
           },
           {
            "bin_start": -0.00003411534423828125,
            "bin_end": -0.000029715344238281248,
            "count": 0
           },
           {
            "bin_start": -0.000029715344238281248,
            "bin_end": -0.00002531534423828125,
            "count": 0
           },
           {
            "bin_start": -0.00002531534423828125,
            "bin_end": -0.00002091534423828125,
            "count": 0
           },
           {
            "bin_start": -0.00002091534423828125,
            "bin_end": -0.00001651534423828125,
            "count": 0
           },
           {
            "bin_start": -0.00001651534423828125,
            "bin_end": -0.000012115344238281247,
            "count": 0
           },
           {
            "bin_start": -0.000012115344238281247,
            "bin_end": -0.000007715344238281248,
            "count": 0
           },
           {
            "bin_start": -0.000007715344238281248,
            "bin_end": -0.0000033153442382812497,
            "count": 0
           },
           {
            "bin_start": -0.0000033153442382812497,
            "bin_end": 0.0000010846557617187489,
            "count": 2
           }
          ]
         }
        },
        {
         "name": "A0T0G9C1",
         "dtype": "float64",
         "stats": {
          "unique_count": 2,
          "nan_count": 0,
          "min": "-9.5367431640625e-06",
          "max": "-6.5367431640625e-06",
          "histogram": [
           {
            "bin_start": -0.0000095367431640625,
            "bin_end": -0.0000092367431640625,
            "count": 3
           },
           {
            "bin_start": -0.0000092367431640625,
            "bin_end": -0.0000089367431640625,
            "count": 0
           },
           {
            "bin_start": -0.0000089367431640625,
            "bin_end": -0.0000086367431640625,
            "count": 0
           },
           {
            "bin_start": -0.0000086367431640625,
            "bin_end": -0.0000083367431640625,
            "count": 0
           },
           {
            "bin_start": -0.0000083367431640625,
            "bin_end": -0.0000080367431640625,
            "count": 0
           },
           {
            "bin_start": -0.0000080367431640625,
            "bin_end": -0.0000077367431640625,
            "count": 0
           },
           {
            "bin_start": -0.0000077367431640625,
            "bin_end": -0.0000074367431640625,
            "count": 0
           },
           {
            "bin_start": -0.0000074367431640625,
            "bin_end": -0.0000071367431640625,
            "count": 0
           },
           {
            "bin_start": -0.0000071367431640625,
            "bin_end": -0.0000068367431640625004,
            "count": 0
           },
           {
            "bin_start": -0.0000068367431640625004,
            "bin_end": -0.0000065367431640625,
            "count": 2
           }
          ]
         }
        },
        {
         "name": "A0T0G10C0",
         "dtype": "float64",
         "stats": {
          "unique_count": 2,
          "nan_count": 0,
          "min": "-9.5367431640625e-07",
          "max": "4.632568359374996e-08",
          "histogram": [
           {
            "bin_start": -9.5367431640625e-7,
            "bin_end": -8.5367431640625e-7,
            "count": 4
           },
           {
            "bin_start": -8.5367431640625e-7,
            "bin_end": -7.5367431640625e-7,
            "count": 0
           },
           {
            "bin_start": -7.5367431640625e-7,
            "bin_end": -6.5367431640625e-7,
            "count": 0
           },
           {
            "bin_start": -6.5367431640625e-7,
            "bin_end": -5.5367431640625e-7,
            "count": 0
           },
           {
            "bin_start": -5.5367431640625e-7,
            "bin_end": -4.5367431640625e-7,
            "count": 0
           },
           {
            "bin_start": -4.5367431640625e-7,
            "bin_end": -3.5367431640625003e-7,
            "count": 0
           },
           {
            "bin_start": -3.5367431640625003e-7,
            "bin_end": -2.5367431640625003e-7,
            "count": 0
           },
           {
            "bin_start": -2.5367431640625003e-7,
            "bin_end": -1.5367431640625004e-7,
            "count": 0
           },
           {
            "bin_start": -1.5367431640625004e-7,
            "bin_end": -5.367431640625004e-8,
            "count": 0
           },
           {
            "bin_start": -5.367431640625004e-8,
            "bin_end": 4.632568359374996e-8,
            "count": 1
           }
          ]
         }
        },
        {
         "name": "A0T1G0C9",
         "dtype": "float64",
         "stats": {
          "unique_count": 2,
          "nan_count": 0,
          "min": "-9.5367431640625e-06",
          "max": "-3.5367431640625e-06",
          "histogram": [
           {
            "bin_start": -0.0000095367431640625,
            "bin_end": -0.0000089367431640625,
            "count": 4
           },
           {
            "bin_start": -0.0000089367431640625,
            "bin_end": -0.0000083367431640625,
            "count": 0
           },
           {
            "bin_start": -0.0000083367431640625,
            "bin_end": -0.0000077367431640625,
            "count": 0
           },
           {
            "bin_start": -0.0000077367431640625,
            "bin_end": -0.0000071367431640625,
            "count": 0
           },
           {
            "bin_start": -0.0000071367431640625,
            "bin_end": -0.0000065367431640625,
            "count": 0
           },
           {
            "bin_start": -0.0000065367431640625,
            "bin_end": -0.000005936743164062501,
            "count": 0
           },
           {
            "bin_start": -0.000005936743164062501,
            "bin_end": -0.0000053367431640625,
            "count": 0
           },
           {
            "bin_start": -0.0000053367431640625,
            "bin_end": -0.0000047367431640625,
            "count": 0
           },
           {
            "bin_start": -0.0000047367431640625,
            "bin_end": -0.0000041367431640625,
            "count": 0
           },
           {
            "bin_start": -0.0000041367431640625,
            "bin_end": -0.0000035367431640625,
            "count": 1
           }
          ]
         }
        },
        {
         "name": "A0T1G1C8",
         "dtype": "float64",
         "stats": {
          "unique_count": 3,
          "nan_count": 0,
          "min": "-8.58306884765625e-05",
          "max": "1.693115234375033e-07",
          "histogram": [
           {
            "bin_start": -0.0000858306884765625,
            "bin_end": -0.0000772306884765625,
            "count": 3
           },
           {
            "bin_start": -0.0000772306884765625,
            "bin_end": -0.0000686306884765625,
            "count": 0
           },
           {
            "bin_start": -0.0000686306884765625,
            "bin_end": -0.000060030688476562496,
            "count": 0
           },
           {
            "bin_start": -0.000060030688476562496,
            "bin_end": -0.0000514306884765625,
            "count": 0
           },
           {
            "bin_start": -0.0000514306884765625,
            "bin_end": -0.0000428306884765625,
            "count": 0
           },
           {
            "bin_start": -0.0000428306884765625,
            "bin_end": -0.00003423068847656249,
            "count": 0
           },
           {
            "bin_start": -0.00003423068847656249,
            "bin_end": -0.000025630688476562494,
            "count": 0
           },
           {
            "bin_start": -0.000025630688476562494,
            "bin_end": -0.000017030688476562495,
            "count": 1
           },
           {
            "bin_start": -0.000017030688476562495,
            "bin_end": -0.000008430688476562489,
            "count": 0
           },
           {
            "bin_start": -0.000008430688476562489,
            "bin_end": 1.693115234375033e-7,
            "count": 1
           }
          ]
         }
        },
        {
         "name": "A0T1G2C7",
         "dtype": "float64",
         "stats": {
          "unique_count": 3,
          "nan_count": 0,
          "min": "-0.0003433227539062",
          "max": "6.767724609375002e-05",
          "histogram": [
           {
            "bin_start": -0.0003433227539062,
            "bin_end": -0.00030222275390620504,
            "count": 3
           },
           {
            "bin_start": -0.00030222275390620504,
            "bin_end": -0.00026112275390621,
            "count": 0
           },
           {
            "bin_start": -0.00026112275390621,
            "bin_end": -0.00022002275390621502,
            "count": 0
           },
           {
            "bin_start": -0.00022002275390621502,
            "bin_end": -0.00017892275390622,
            "count": 0
           },
           {
            "bin_start": -0.00017892275390622,
            "bin_end": -0.000137822753906225,
            "count": 0
           },
           {
            "bin_start": -0.000137822753906225,
            "bin_end": -0.00009672275390623002,
            "count": 0
           },
           {
            "bin_start": -0.00009672275390623002,
            "bin_end": -0.000055622753906234984,
            "count": 0
           },
           {
            "bin_start": -0.000055622753906234984,
            "bin_end": -0.000014522753906240002,
            "count": 0
           },
           {
            "bin_start": -0.000014522753906240002,
            "bin_end": 0.00002657724609375498,
            "count": 1
           },
           {
            "bin_start": 0.00002657724609375498,
            "bin_end": 0.00006767724609375002,
            "count": 1
           }
          ]
         }
        },
        {
         "name": "A0T1G3C6",
         "dtype": "float64",
         "stats": {
          "unique_count": 4,
          "nan_count": 0,
          "min": "-0.0008010864257812",
          "max": "0.0007219135742187",
          "histogram": [
           {
            "bin_start": -0.0008010864257812,
            "bin_end": -0.00064878642578121,
            "count": 2
           },
           {
            "bin_start": -0.00064878642578121,
            "bin_end": -0.00049648642578122,
            "count": 0
           },
           {
            "bin_start": -0.00049648642578122,
            "bin_end": -0.00034418642578123006,
            "count": 0
           },
           {
            "bin_start": -0.00034418642578123006,
            "bin_end": -0.00019188642578124007,
            "count": 0
           },
           {
            "bin_start": -0.00019188642578124007,
            "bin_end": -0.000039586425781250084,
            "count": 0
           },
           {
            "bin_start": -0.000039586425781250084,
            "bin_end": 0.0001127135742187399,
            "count": 0
           },
           {
            "bin_start": 0.0001127135742187399,
            "bin_end": 0.0002650135742187299,
            "count": 1
           },
           {
            "bin_start": 0.0002650135742187299,
            "bin_end": 0.0004173135742187199,
            "count": 1
           },
           {
            "bin_start": 0.0004173135742187199,
            "bin_end": 0.0005696135742187099,
            "count": 0
           },
           {
            "bin_start": 0.0005696135742187099,
            "bin_end": 0.0007219135742187,
            "count": 1
           }
          ]
         }
        },
        {
         "name": "A0T1G4C5",
         "dtype": "float64",
         "stats": {
          "unique_count": 4,
          "nan_count": 0,
          "min": "-0.0012016296386718",
          "max": "0.0015943703613281",
          "histogram": [
           {
            "bin_start": -0.0012016296386718,
            "bin_end": -0.00092202963867181,
            "count": 2
           },
           {
            "bin_start": -0.00092202963867181,
            "bin_end": -0.00064242963867182,
            "count": 0
           },
           {
            "bin_start": -0.00064242963867182,
            "bin_end": -0.00036282963867183,
            "count": 0
           },
           {
            "bin_start": -0.00036282963867183,
            "bin_end": -0.00008322963867184001,
            "count": 1
           },
           {
            "bin_start": -0.00008322963867184001,
            "bin_end": 0.0001963703613281501,
            "count": 0
           },
           {
            "bin_start": 0.0001963703613281501,
            "bin_end": 0.00047597036132814,
            "count": 0
           },
           {
            "bin_start": 0.00047597036132814,
            "bin_end": 0.0007555703613281299,
            "count": 0
           },
           {
            "bin_start": 0.0007555703613281299,
            "bin_end": 0.00103517036132812,
            "count": 1
           },
           {
            "bin_start": 0.00103517036132812,
            "bin_end": 0.00131477036132811,
            "count": 0
           },
           {
            "bin_start": 0.00131477036132811,
            "bin_end": 0.0015943703613281,
            "count": 1
           }
          ]
         }
        },
        {
         "name": "A0T1G5C4",
         "dtype": "float64",
         "stats": {
          "unique_count": 4,
          "nan_count": 0,
          "min": "-0.0012016296386718",
          "max": "0.0019133703613281",
          "histogram": [
           {
            "bin_start": -0.0012016296386718,
            "bin_end": -0.00089012963867181,
            "count": 2
           },
           {
            "bin_start": -0.00089012963867181,
            "bin_end": -0.00057862963867182,
            "count": 0
           },
           {
            "bin_start": -0.00057862963867182,
            "bin_end": -0.0002671296386718299,
            "count": 0
           },
           {
            "bin_start": -0.0002671296386718299,
            "bin_end": 0.00004437036132816006,
            "count": 0
           },
           {
            "bin_start": 0.00004437036132816006,
            "bin_end": 0.00035587036132815,
            "count": 0
           },
           {
            "bin_start": 0.00035587036132815,
            "bin_end": 0.0006673703613281402,
            "count": 0
           },
           {
            "bin_start": 0.0006673703613281402,
            "bin_end": 0.00097887036132813,
            "count": 1
           },
           {
            "bin_start": 0.00097887036132813,
            "bin_end": 0.00129037036132812,
            "count": 0
           },
           {
            "bin_start": 0.00129037036132812,
            "bin_end": 0.0016018703613281103,
            "count": 0
           },
           {
            "bin_start": 0.0016018703613281103,
            "bin_end": 0.0019133703613281,
            "count": 2
           }
          ]
         }
        },
        {
         "name": "A0T1G6C3",
         "dtype": "float64",
         "stats": {
          "unique_count": 3,
          "nan_count": 0,
          "min": "-0.0008010864257812",
          "max": "0.0011109135742187",
          "histogram": [
           {
            "bin_start": -0.0008010864257812,
            "bin_end": -0.00060988642578121,
            "count": 3
           },
           {
            "bin_start": -0.00060988642578121,
            "bin_end": -0.00041868642578122005,
            "count": 0
           },
           {
            "bin_start": -0.00041868642578122005,
            "bin_end": -0.0002274864257812301,
            "count": 0
           },
           {
            "bin_start": -0.0002274864257812301,
            "bin_end": -0.000036286425781240084,
            "count": 0
           },
           {
            "bin_start": -0.000036286425781240084,
            "bin_end": 0.00015491357421874993,
            "count": 0
           },
           {
            "bin_start": 0.00015491357421874993,
            "bin_end": 0.00034611357421873983,
            "count": 0
           },
           {
            "bin_start": 0.00034611357421873983,
            "bin_end": 0.00053731357421873,
            "count": 0
           },
           {
            "bin_start": 0.00053731357421873,
            "bin_end": 0.0007285135742187199,
            "count": 1
           },
           {
            "bin_start": 0.0007285135742187199,
            "bin_end": 0.0009197135742187098,
            "count": 0
           },
           {
            "bin_start": 0.0009197135742187098,
            "bin_end": 0.0011109135742187,
            "count": 1
           }
          ]
         }
        },
        {
         "name": "A0T1G7C2",
         "dtype": "float64",
         "stats": {
          "unique_count": 3,
          "nan_count": 0,
          "min": "-0.0003433227539062",
          "max": "0.0002466772460937",
          "histogram": [
           {
            "bin_start": -0.0003433227539062,
            "bin_end": -0.00028432275390621,
            "count": 3
           },
           {
            "bin_start": -0.00028432275390621,
            "bin_end": -0.00022532275390622,
            "count": 0
           },
           {
            "bin_start": -0.00022532275390622,
            "bin_end": -0.00016632275390622998,
            "count": 0
           },
           {
            "bin_start": -0.00016632275390622998,
            "bin_end": -0.00010732275390623998,
            "count": 0
           },
           {
            "bin_start": -0.00010732275390623998,
            "bin_end": -0.000048322753906249985,
            "count": 0
           },
           {
            "bin_start": -0.000048322753906249985,
            "bin_end": 0.000010677246093740065,
            "count": 0
           },
           {
            "bin_start": 0.000010677246093740065,
            "bin_end": 0.00006967724609373006,
            "count": 0
           },
           {
            "bin_start": 0.00006967724609373006,
            "bin_end": 0.00012867724609372006,
            "count": 1
           },
           {
            "bin_start": 0.00012867724609372006,
            "bin_end": 0.0001876772460937101,
            "count": 0
           },
           {
            "bin_start": 0.0001876772460937101,
            "bin_end": 0.0002466772460937,
            "count": 1
           }
          ]
         }
        },
        {
         "name": "A0T1G8C1",
         "dtype": "float64",
         "stats": {
          "unique_count": 3,
          "nan_count": 0,
          "min": "-8.58306884765625e-05",
          "max": "-2.0830688476562502e-05",
          "histogram": [
           {
            "bin_start": -0.0000858306884765625,
            "bin_end": -0.0000793306884765625,
            "count": 3
           },
           {
            "bin_start": -0.0000793306884765625,
            "bin_end": -0.0000728306884765625,
            "count": 0
           },
           {
            "bin_start": -0.0000728306884765625,
            "bin_end": -0.0000663306884765625,
            "count": 0
           },
           {
            "bin_start": -0.0000663306884765625,
            "bin_end": -0.000059830688476562505,
            "count": 0
           },
           {
            "bin_start": -0.000059830688476562505,
            "bin_end": -0.0000533306884765625,
            "count": 0
           },
           {
            "bin_start": -0.0000533306884765625,
            "bin_end": -0.0000468306884765625,
            "count": 0
           },
           {
            "bin_start": -0.0000468306884765625,
            "bin_end": -0.000040330688476562505,
            "count": 1
           },
           {
            "bin_start": -0.000040330688476562505,
            "bin_end": -0.0000338306884765625,
            "count": 0
           },
           {
            "bin_start": -0.0000338306884765625,
            "bin_end": -0.0000273306884765625,
            "count": 0
           },
           {
            "bin_start": -0.0000273306884765625,
            "bin_end": -0.000020830688476562502,
            "count": 1
           }
          ]
         }
        },
        {
         "name": "A0T1G9C0",
         "dtype": "float64",
         "stats": {
          "unique_count": 2,
          "nan_count": 0,
          "min": "-9.5367431640625e-06",
          "max": "-7.536743164062499e-06",
          "histogram": [
           {
            "bin_start": -0.0000095367431640625,
            "bin_end": -0.0000093367431640625,
            "count": 4
           },
           {
            "bin_start": -0.0000093367431640625,
            "bin_end": -0.0000091367431640625,
            "count": 0
           },
           {
            "bin_start": -0.0000091367431640625,
            "bin_end": -0.000008936743164062499,
            "count": 0
           },
           {
            "bin_start": -0.000008936743164062499,
            "bin_end": -0.0000087367431640625,
            "count": 0
           },
           {
            "bin_start": -0.0000087367431640625,
            "bin_end": -0.0000085367431640625,
            "count": 0
           },
           {
            "bin_start": -0.0000085367431640625,
            "bin_end": -0.0000083367431640625,
            "count": 0
           },
           {
            "bin_start": -0.0000083367431640625,
            "bin_end": -0.0000081367431640625,
            "count": 0
           },
           {
            "bin_start": -0.0000081367431640625,
            "bin_end": -0.000007936743164062498,
            "count": 0
           },
           {
            "bin_start": -0.000007936743164062498,
            "bin_end": -0.000007736743164062499,
            "count": 0
           },
           {
            "bin_start": -0.000007736743164062499,
            "bin_end": -0.000007536743164062499,
            "count": 1
           }
          ]
         }
        },
        {
         "name": "A0T2G0C8",
         "dtype": "float64",
         "stats": {
          "unique_count": 3,
          "nan_count": 0,
          "min": "-4.291534423828125e-05",
          "max": "8.465576171875165e-08",
          "histogram": [
           {
            "bin_start": -0.00004291534423828125,
            "bin_end": -0.00003861534423828125,
            "count": 3
           },
           {
            "bin_start": -0.00003861534423828125,
            "bin_end": -0.00003431534423828125,
            "count": 0
           },
           {
            "bin_start": -0.00003431534423828125,
            "bin_end": -0.000030015344238281248,
            "count": 0
           },
           {
            "bin_start": -0.000030015344238281248,
            "bin_end": -0.00002571534423828125,
            "count": 0
           },
           {
            "bin_start": -0.00002571534423828125,
            "bin_end": -0.00002141534423828125,
            "count": 0
           },
           {
            "bin_start": -0.00002141534423828125,
            "bin_end": -0.000017115344238281246,
            "count": 1
           },
           {
            "bin_start": -0.000017115344238281246,
            "bin_end": -0.000012815344238281247,
            "count": 0
           },
           {
            "bin_start": -0.000012815344238281247,
            "bin_end": -0.000008515344238281247,
            "count": 0
           },
           {
            "bin_start": -0.000008515344238281247,
            "bin_end": -0.0000042153442382812444,
            "count": 0
           },
           {
            "bin_start": -0.0000042153442382812444,
            "bin_end": 8.465576171875165e-8,
            "count": 1
           }
          ]
         }
        },
        {
         "name": "A0T2G1C7",
         "dtype": "float64",
         "stats": {
          "unique_count": 3,
          "nan_count": 0,
          "min": "-0.0003433227539062",
          "max": "-8.032275390625e-05",
          "histogram": [
           {
            "bin_start": -0.0003433227539062,
            "bin_end": -0.000317022753906205,
            "count": 3
           },
           {
            "bin_start": -0.000317022753906205,
            "bin_end": -0.00029072275390621,
            "count": 0
           },
           {
            "bin_start": -0.00029072275390621,
            "bin_end": -0.000264422753906215,
            "count": 0
           },
           {
            "bin_start": -0.000264422753906215,
            "bin_end": -0.00023812275390622,
            "count": 0
           },
           {
            "bin_start": -0.00023812275390622,
            "bin_end": -0.000211822753906225,
            "count": 0
           },
           {
            "bin_start": -0.000211822753906225,
            "bin_end": -0.00018552275390623,
            "count": 0
           },
           {
            "bin_start": -0.00018552275390623,
            "bin_end": -0.000159222753906235,
            "count": 0
           },
           {
            "bin_start": -0.000159222753906235,
            "bin_end": -0.00013292275390624,
            "count": 1
           },
           {
            "bin_start": -0.00013292275390624,
            "bin_end": -0.000106622753906245,
            "count": 0
           },
           {
            "bin_start": -0.000106622753906245,
            "bin_end": -0.00008032275390625,
            "count": 1
           }
          ]
         }
        },
        {
         "name": "A0T2G2C6",
         "dtype": "float64",
         "stats": {
          "unique_count": 4,
          "nan_count": 0,
          "min": "-0.0012016296386718",
          "max": "0.0017983703613281",
          "histogram": [
           {
            "bin_start": -0.0012016296386718,
            "bin_end": -0.00090162963867181,
            "count": 2
           },
           {
            "bin_start": -0.00090162963867181,
            "bin_end": -0.00060162963867182,
            "count": 0
           },
           {
            "bin_start": -0.00060162963867182,
            "bin_end": -0.0003016296386718299,
            "count": 0
           },
           {
            "bin_start": -0.0003016296386718299,
            "bin_end": -0.000001629638671839977,
            "count": 0
           },
           {
            "bin_start": -0.000001629638671839977,
            "bin_end": 0.00029837036132814997,
            "count": 2
           },
           {
            "bin_start": 0.00029837036132814997,
            "bin_end": 0.0005983703613281401,
            "count": 0
           },
           {
            "bin_start": 0.0005983703613281401,
            "bin_end": 0.0008983703613281301,
            "count": 0
           },
           {
            "bin_start": 0.0008983703613281301,
            "bin_end": 0.00119837036132812,
            "count": 0
           },
           {
            "bin_start": 0.00119837036132812,
            "bin_end": 0.00149837036132811,
            "count": 0
           },
           {
            "bin_start": 0.00149837036132811,
            "bin_end": 0.0017983703613281,
            "count": 1
           }
          ]
         }
        },
        {
         "name": "A0T2G3C5",
         "dtype": "float64",
         "stats": {
          "unique_count": 4,
          "nan_count": 0,
          "min": "-0.0024032592773437",
          "max": "0.0013447407226562",
          "histogram": [
           {
            "bin_start": -0.0024032592773437,
            "bin_end": -0.0020284592773437103,
            "count": 2
           },
           {
            "bin_start": -0.0020284592773437103,
            "bin_end": -0.00165365927734372,
            "count": 0
           },
           {
            "bin_start": -0.00165365927734372,
            "bin_end": -0.0012788592773437303,
            "count": 0
           },
           {
            "bin_start": -0.0012788592773437303,
            "bin_end": -0.0009040592773437402,
            "count": 0
           },
           {
            "bin_start": -0.0009040592773437402,
            "bin_end": -0.0005292592773437502,
            "count": 0
           },
           {
            "bin_start": -0.0005292592773437502,
            "bin_end": -0.0001544592773437604,
            "count": 1
           },
           {
            "bin_start": -0.0001544592773437604,
            "bin_end": 0.00022034072265622985,
            "count": 0
           },
           {
            "bin_start": 0.00022034072265622985,
            "bin_end": 0.0005951407226562197,
            "count": 0
           },
           {
            "bin_start": 0.0005951407226562197,
            "bin_end": 0.0009699407226562095,
            "count": 1
           },
           {
            "bin_start": 0.0009699407226562095,
            "bin_end": 0.0013447407226562,
            "count": 1
           }
          ]
         }
        },
        {
         "name": "A0T2G4C4",
         "dtype": "float64",
         "stats": {
          "unique_count": 4,
          "nan_count": 0,
          "min": "-0.0030040740966796",
          "max": "0.0025259259033203",
          "histogram": [
           {
            "bin_start": -0.0030040740966796,
            "bin_end": -0.0024510740966796098,
            "count": 2
           },
           {
            "bin_start": -0.0024510740966796098,
            "bin_end": -0.00189807409667962,
            "count": 0
           },
           {
            "bin_start": -0.00189807409667962,
            "bin_end": -0.0013450740966796302,
            "count": 0
           },
           {
            "bin_start": -0.0013450740966796302,
            "bin_end": -0.0007920740966796402,
            "count": 0
           },
           {
            "bin_start": -0.0007920740966796402,
            "bin_end": -0.0002390740966796501,
            "count": 0
           },
           {
            "bin_start": -0.0002390740966796501,
            "bin_end": 0.0003139259033203396,
            "count": 0
           },
           {
            "bin_start": 0.0003139259033203396,
            "bin_end": 0.0008669259033203293,
            "count": 0
           },
           {
            "bin_start": 0.0008669259033203293,
            "bin_end": 0.0014199259033203194,
            "count": 1
           },
           {
            "bin_start": 0.0014199259033203194,
            "bin_end": 0.0019729259033203096,
            "count": 0
           },
           {
            "bin_start": 0.0019729259033203096,
            "bin_end": 0.0025259259033203,
            "count": 2
           }
          ]
         }
        },
        {
         "name": "A0T2G5C3",
         "dtype": "float64",
         "stats": {
          "unique_count": 4,
          "nan_count": 0,
          "min": "-0.0024032592773437",
          "max": "0.0035967407226562",
          "histogram": [
           {
            "bin_start": -0.0024032592773437,
            "bin_end": -0.0018032592773437103,
            "count": 2
           },
           {
            "bin_start": -0.0018032592773437103,
            "bin_end": -0.0012032592773437202,
            "count": 0
           },
           {
            "bin_start": -0.0012032592773437202,
            "bin_end": -0.0006032592773437301,
            "count": 0
           },
           {
            "bin_start": -0.0006032592773437301,
            "bin_end": -0.0000032592773437402356,
            "count": 0
           },
           {
            "bin_start": -0.0000032592773437402356,
            "bin_end": 0.0005967407226562496,
            "count": 0
           },
           {
            "bin_start": 0.0005967407226562496,
            "bin_end": 0.00119674072265624,
            "count": 1
           },
           {
            "bin_start": 0.00119674072265624,
            "bin_end": 0.0017967407226562294,
            "count": 0
           },
           {
            "bin_start": 0.0017967407226562294,
            "bin_end": 0.0023967407226562197,
            "count": 1
           },
           {
            "bin_start": 0.0023967407226562197,
            "bin_end": 0.00299674072265621,
            "count": 0
           },
           {
            "bin_start": 0.00299674072265621,
            "bin_end": 0.0035967407226562,
            "count": 1
           }
          ]
         }
        },
        {
         "name": "A0T2G6C2",
         "dtype": "float64",
         "stats": {
          "unique_count": 3,
          "nan_count": 0,
          "min": "-0.0012016296386718",
          "max": "0.0007543703613281",
          "histogram": [
           {
            "bin_start": -0.0012016296386718,
            "bin_end": -0.00100602963867181,
            "count": 3
           },
           {
            "bin_start": -0.00100602963867181,
            "bin_end": -0.00081042963867182,
            "count": 0
           },
           {
            "bin_start": -0.00081042963867182,
            "bin_end": -0.0006148296386718299,
            "count": 0
           },
           {
            "bin_start": -0.0006148296386718299,
            "bin_end": -0.00041922963867183994,
            "count": 0
           },
           {
            "bin_start": -0.00041922963867183994,
            "bin_end": -0.00022362963867184993,
            "count": 0
           },
           {
            "bin_start": -0.00022362963867184993,
            "bin_end": -0.000028029638671859917,
            "count": 0
           },
           {
            "bin_start": -0.000028029638671859917,
            "bin_end": 0.0001675703613281301,
            "count": 0
           },
           {
            "bin_start": 0.0001675703613281301,
            "bin_end": 0.0003631703613281201,
            "count": 0
           },
           {
            "bin_start": 0.0003631703613281201,
            "bin_end": 0.0005587703613281101,
            "count": 1
           },
           {
            "bin_start": 0.0005587703613281101,
            "bin_end": 0.0007543703613281,
            "count": 1
           }
          ]
         }
        },
        {
         "name": "A0T2G7C1",
         "dtype": "float64",
         "stats": {
          "unique_count": 3,
          "nan_count": 0,
          "min": "-0.0003433227539062",
          "max": "-1.732275390624999e-05",
          "histogram": [
           {
            "bin_start": -0.0003433227539062,
            "bin_end": -0.000310722753906205,
            "count": 3
           },
           {
            "bin_start": -0.000310722753906205,
            "bin_end": -0.00027812275390621003,
            "count": 0
           },
           {
            "bin_start": -0.00027812275390621003,
            "bin_end": -0.000245522753906215,
            "count": 0
           },
           {
            "bin_start": -0.000245522753906215,
            "bin_end": -0.00021292275390622,
            "count": 0
           },
           {
            "bin_start": -0.00021292275390622,
            "bin_end": -0.000180322753906225,
            "count": 0
           },
           {
            "bin_start": -0.000180322753906225,
            "bin_end": -0.00014772275390622999,
            "count": 0
           },
           {
            "bin_start": -0.00014772275390622999,
            "bin_end": -0.00011512275390623497,
            "count": 0
           },
           {
            "bin_start": -0.00011512275390623497,
            "bin_end": -0.00008252275390623997,
            "count": 0
           },
           {
            "bin_start": -0.00008252275390623997,
            "bin_end": -0.00004992275390624498,
            "count": 0
           },
           {
            "bin_start": -0.00004992275390624498,
            "bin_end": -0.00001732275390624999,
            "count": 2
           }
          ]
         }
        },
        {
         "name": "A0T2G8C0",
         "dtype": "float64",
         "stats": {
          "unique_count": 3,
          "nan_count": 0,
          "min": "-4.291534423828125e-05",
          "max": "-1.691534423828125e-05",
          "histogram": [
           {
            "bin_start": -0.00004291534423828125,
            "bin_end": -0.00004031534423828125,
            "count": 3
           },
           {
            "bin_start": -0.00004031534423828125,
            "bin_end": -0.00003771534423828125,
            "count": 0
           },
           {
            "bin_start": -0.00003771534423828125,
            "bin_end": -0.00003511534423828125,
            "count": 0
           },
           {
            "bin_start": -0.00003511534423828125,
            "bin_end": -0.000032515344238281255,
            "count": 0
           },
           {
            "bin_start": -0.000032515344238281255,
            "bin_end": -0.000029915344238281252,
            "count": 0
           },
           {
            "bin_start": -0.000029915344238281252,
            "bin_end": -0.00002731534423828125,
            "count": 0
           },
           {
            "bin_start": -0.00002731534423828125,
            "bin_end": -0.00002471534423828125,
            "count": 1
           },
           {
            "bin_start": -0.00002471534423828125,
            "bin_end": -0.000022115344238281253,
            "count": 0
           },
           {
            "bin_start": -0.000022115344238281253,
            "bin_end": -0.000019515344238281254,
            "count": 0
           },
           {
            "bin_start": -0.000019515344238281254,
            "bin_end": -0.00001691534423828125,
            "count": 1
           }
          ]
         }
        },
        {
         "name": "A0T3G0C7",
         "dtype": "float64",
         "stats": {
          "unique_count": 3,
          "nan_count": 0,
          "min": "-0.0001144409179687",
          "max": "-1.4440917968749995e-05",
          "histogram": [
           {
            "bin_start": -0.0001144409179687,
            "bin_end": -0.000104440917968705,
            "count": 3
           },
           {
            "bin_start": -0.000104440917968705,
            "bin_end": -0.00009444091796871,
            "count": 0
           },
           {
            "bin_start": -0.00009444091796871,
            "bin_end": -0.000084440917968715,
            "count": 0
           },
           {
            "bin_start": -0.000084440917968715,
            "bin_end": -0.00007444091796872,
            "count": 0
           },
           {
            "bin_start": -0.00007444091796872,
            "bin_end": -0.000064440917968725,
            "count": 0
           },
           {
            "bin_start": -0.000064440917968725,
            "bin_end": -0.000054440917968729995,
            "count": 0
           },
           {
            "bin_start": -0.000054440917968729995,
            "bin_end": -0.00004444091796873499,
            "count": 0
           },
           {
            "bin_start": -0.00004444091796873499,
            "bin_end": -0.00003444091796873999,
            "count": 1
           },
           {
            "bin_start": -0.00003444091796873999,
            "bin_end": -0.000024440917968744993,
            "count": 0
           },
           {
            "bin_start": -0.000024440917968744993,
            "bin_end": -0.000014440917968749995,
            "count": 1
           }
          ]
         }
        },
        {
         "name": "A0T3G1C6",
         "dtype": "float64",
         "stats": {
          "unique_count": 3,
          "nan_count": 0,
          "min": "-0.0008010864257812",
          "max": "-9.408642578125004e-05",
          "histogram": [
           {
            "bin_start": -0.0008010864257812,
            "bin_end": -0.000730386425781205,
            "count": 3
           },
           {
            "bin_start": -0.000730386425781205,
            "bin_end": -0.00065968642578121,
            "count": 0
           },
           {
            "bin_start": -0.00065968642578121,
            "bin_end": -0.0005889864257812151,
            "count": 0
           },
           {
            "bin_start": -0.0005889864257812151,
            "bin_end": -0.00051828642578122,
            "count": 0
           },
           {
            "bin_start": -0.00051828642578122,
            "bin_end": -0.00044758642578122504,
            "count": 0
           },
           {
            "bin_start": -0.00044758642578122504,
            "bin_end": -0.00037688642578123004,
            "count": 0
           },
           {
            "bin_start": -0.00037688642578123004,
            "bin_end": -0.000306186425781235,
            "count": 0
           },
           {
            "bin_start": -0.000306186425781235,
            "bin_end": -0.00023548642578124005,
            "count": 0
           },
           {
            "bin_start": -0.00023548642578124005,
            "bin_end": -0.0001647864257812451,
            "count": 1
           },
           {
            "bin_start": -0.0001647864257812451,
            "bin_end": -0.00009408642578125004,
            "count": 1
           }
          ]
         }
        },
        {
         "name": "A0T3G2C5",
         "dtype": "float64",
         "stats": {
          "unique_count": 4,
          "nan_count": 0,
          "min": "-0.0024032592773437",
          "max": "0.0003447407226562",
          "histogram": [
           {
            "bin_start": -0.0024032592773437,
            "bin_end": -0.00212845927734371,
            "count": 2
           },
           {
            "bin_start": -0.00212845927734371,
            "bin_end": -0.0018536592773437202,
            "count": 0
           },
           {
            "bin_start": -0.0018536592773437202,
            "bin_end": -0.00157885927734373,
            "count": 0
           },
           {
            "bin_start": -0.00157885927734373,
            "bin_end": -0.00130405927734374,
            "count": 0
           },
           {
            "bin_start": -0.00130405927734374,
            "bin_end": -0.00102925927734375,
            "count": 0
           },
           {
            "bin_start": -0.00102925927734375,
            "bin_end": -0.0007544592773437598,
            "count": 0
           },
           {
            "bin_start": -0.0007544592773437598,
            "bin_end": -0.0004796592773437698,
            "count": 0
           },
           {
            "bin_start": -0.0004796592773437698,
            "bin_end": -0.00020485927734377983,
            "count": 1
           },
           {
            "bin_start": -0.00020485927734377983,
            "bin_end": 0.00006994072265621015,
            "count": 0
           },
           {
            "bin_start": 0.00006994072265621015,
            "bin_end": 0.0003447407226562,
            "count": 2
           }
          ]
         }
        },
        {
         "name": "A0T3G3C4",
         "dtype": "float64",
         "stats": {
          "unique_count": 4,
          "nan_count": 0,
          "min": "-0.0040054321289062",
          "max": "0.0029945678710937",
          "histogram": [
           {
            "bin_start": -0.0040054321289062,
            "bin_end": -0.00330543212890621,
            "count": 2
           },
           {
            "bin_start": -0.00330543212890621,
            "bin_end": -0.00260543212890622,
            "count": 0
           },
           {
            "bin_start": -0.00260543212890622,
            "bin_end": -0.0019054321289062297,
            "count": 0
           },
           {
            "bin_start": -0.0019054321289062297,
            "bin_end": -0.00120543212890624,
            "count": 0
           },
           {
            "bin_start": -0.00120543212890624,
            "bin_end": -0.0005054321289062504,
            "count": 0
           },
           {
            "bin_start": -0.0005054321289062504,
            "bin_end": 0.0001945678710937402,
            "count": 0
           },
           {
            "bin_start": 0.0001945678710937402,
            "bin_end": 0.0008945678710937299,
            "count": 1
           },
           {
            "bin_start": 0.0008945678710937299,
            "bin_end": 0.0015945678710937196,
            "count": 1
           },
           {
            "bin_start": 0.0015945678710937196,
            "bin_end": 0.0022945678710937093,
            "count": 0
           },
           {
            "bin_start": 0.0022945678710937093,
            "bin_end": 0.0029945678710937,
            "count": 1
           }
          ]
         }
        },
        {
         "name": "A0T3G4C3",
         "dtype": "float64",
         "stats": {
          "unique_count": 4,
          "nan_count": 0,
          "min": "-0.0040054321289062",
          "max": "0.0029945678710937",
          "histogram": [
           {
            "bin_start": -0.0040054321289062,
            "bin_end": -0.00330543212890621,
            "count": 2
           },
           {
            "bin_start": -0.00330543212890621,
            "bin_end": -0.00260543212890622,
            "count": 0
           },
           {
            "bin_start": -0.00260543212890622,
            "bin_end": -0.0019054321289062297,
            "count": 0
           },
           {
            "bin_start": -0.0019054321289062297,
            "bin_end": -0.00120543212890624,
            "count": 0
           },
           {
            "bin_start": -0.00120543212890624,
            "bin_end": -0.0005054321289062504,
            "count": 0
           },
           {
            "bin_start": -0.0005054321289062504,
            "bin_end": 0.0001945678710937402,
            "count": 0
           },
           {
            "bin_start": 0.0001945678710937402,
            "bin_end": 0.0008945678710937299,
            "count": 0
           },
           {
            "bin_start": 0.0008945678710937299,
            "bin_end": 0.0015945678710937196,
            "count": 1
           },
           {
            "bin_start": 0.0015945678710937196,
            "bin_end": 0.0022945678710937093,
            "count": 1
           },
           {
            "bin_start": 0.0022945678710937093,
            "bin_end": 0.0029945678710937,
            "count": 1
           }
          ]
         }
        },
        {
         "name": "A0T3G5C2",
         "dtype": "float64",
         "stats": {
          "unique_count": 4,
          "nan_count": 0,
          "min": "-0.0024032592773437",
          "max": "0.0008607407226562",
          "histogram": [
           {
            "bin_start": -0.0024032592773437,
            "bin_end": -0.00207685927734371,
            "count": 2
           },
           {
            "bin_start": -0.00207685927734371,
            "bin_end": -0.00175045927734372,
            "count": 0
           },
           {
            "bin_start": -0.00175045927734372,
            "bin_end": -0.00142405927734373,
            "count": 0
           },
           {
            "bin_start": -0.00142405927734373,
            "bin_end": -0.00109765927734374,
            "count": 0
           },
           {
            "bin_start": -0.00109765927734374,
            "bin_end": -0.0007712592773437498,
            "count": 0
           },
           {
            "bin_start": -0.0007712592773437498,
            "bin_end": -0.0004448592773437601,
            "count": 0
           },
           {
            "bin_start": -0.0004448592773437601,
            "bin_end": -0.00011845927734376992,
            "count": 0
           },
           {
            "bin_start": -0.00011845927734376992,
            "bin_end": 0.00020794072265622023,
            "count": 0
           },
           {
            "bin_start": 0.00020794072265622023,
            "bin_end": 0.0005343407226562104,
            "count": 1
           },
           {
            "bin_start": 0.0005343407226562104,
            "bin_end": 0.0008607407226562,
            "count": 2
           }
          ]
         }
        },
        {
         "name": "A0T3G6C1",
         "dtype": "float64",
         "stats": {
          "unique_count": 4,
          "nan_count": 0,
          "min": "-0.0008010864257812",
          "max": "0.0011989135742187",
          "histogram": [
           {
            "bin_start": -0.0008010864257812,
            "bin_end": -0.00060108642578121,
            "count": 2
           },
           {
            "bin_start": -0.00060108642578121,
            "bin_end": -0.00040108642578122006,
            "count": 0
           },
           {
            "bin_start": -0.00040108642578122006,
            "bin_end": -0.0002010864257812301,
            "count": 0
           },
           {
            "bin_start": -0.0002010864257812301,
            "bin_end": -0.0000010864257812400954,
            "count": 2
           },
           {
            "bin_start": -0.0000010864257812400954,
            "bin_end": 0.0001989135742187499,
            "count": 0
           },
           {
            "bin_start": 0.0001989135742187499,
            "bin_end": 0.0003989135742187398,
            "count": 0
           },
           {
            "bin_start": 0.0003989135742187398,
            "bin_end": 0.0005989135742187299,
            "count": 0
           },
           {
            "bin_start": 0.0005989135742187299,
            "bin_end": 0.0007989135742187198,
            "count": 0
           },
           {
            "bin_start": 0.0007989135742187198,
            "bin_end": 0.0009989135742187096,
            "count": 0
           },
           {
            "bin_start": 0.0009989135742187096,
            "bin_end": 0.0011989135742187,
            "count": 1
           }
          ]
         }
        },
        {
         "name": "A0T3G7C0",
         "dtype": "float64",
         "stats": {
          "unique_count": 3,
          "nan_count": 0,
          "min": "-0.0001144409179687",
          "max": "-1.744091796875e-05",
          "histogram": [
           {
            "bin_start": -0.0001144409179687,
            "bin_end": -0.000104740917968705,
            "count": 3
           },
           {
            "bin_start": -0.000104740917968705,
            "bin_end": -0.00009504091796871001,
            "count": 0
           },
           {
            "bin_start": -0.00009504091796871001,
            "bin_end": -0.000085340917968715,
            "count": 0
           },
           {
            "bin_start": -0.000085340917968715,
            "bin_end": -0.00007564091796872,
            "count": 0
           },
           {
            "bin_start": -0.00007564091796872,
            "bin_end": -0.000065940917968725,
            "count": 0
           },
           {
            "bin_start": -0.000065940917968725,
            "bin_end": -0.00005624091796873,
            "count": 0
           },
           {
            "bin_start": -0.00005624091796873,
            "bin_end": -0.000046540917968735,
            "count": 1
           },
           {
            "bin_start": -0.000046540917968735,
            "bin_end": -0.000036840917968739996,
            "count": 0
           },
           {
            "bin_start": -0.000036840917968739996,
            "bin_end": -0.00002714091796874499,
            "count": 0
           },
           {
            "bin_start": -0.00002714091796874499,
            "bin_end": -0.00001744091796875,
            "count": 1
           }
          ]
         }
        },
        {
         "name": "A0T4G0C6",
         "dtype": "float64",
         "stats": {
          "unique_count": 3,
          "nan_count": 0,
          "min": "-0.0002002716064453",
          "max": "-3.127160644531251e-05",
          "histogram": [
           {
            "bin_start": -0.0002002716064453,
            "bin_end": -0.00018337160644530125,
            "count": 3
           },
           {
            "bin_start": -0.00018337160644530125,
            "bin_end": -0.00016647160644530252,
            "count": 0
           },
           {
            "bin_start": -0.00016647160644530252,
            "bin_end": -0.00014957160644530376,
            "count": 0
           },
           {
            "bin_start": -0.00014957160644530376,
            "bin_end": -0.000132671606445305,
            "count": 0
           },
           {
            "bin_start": -0.000132671606445305,
            "bin_end": -0.00011577160644530624,
            "count": 0
           },
           {
            "bin_start": -0.00011577160644530624,
            "bin_end": -0.0000988716064453075,
            "count": 0
           },
           {
            "bin_start": -0.0000988716064453075,
            "bin_end": -0.00008197160644530876,
            "count": 0
           },
           {
            "bin_start": -0.00008197160644530876,
            "bin_end": -0.00006507160644531,
            "count": 1
           },
           {
            "bin_start": -0.00006507160644531,
            "bin_end": -0.00004817160644531124,
            "count": 0
           },
           {
            "bin_start": -0.00004817160644531124,
            "bin_end": -0.00003127160644531251,
            "count": 1
           }
          ]
         }
        },
        {
         "name": "A0T4G1C5",
         "dtype": "float64",
         "stats": {
          "unique_count": 3,
          "nan_count": 0,
          "min": "-0.0012016296386718",
          "max": "-4.8629638671875055e-05",
          "histogram": [
           {
            "bin_start": -0.0012016296386718,
            "bin_end": -0.0010863296386718075,
            "count": 3
           },
           {
            "bin_start": -0.0010863296386718075,
            "bin_end": -0.000971029638671815,
            "count": 0
           },
           {
            "bin_start": -0.000971029638671815,
            "bin_end": -0.0008557296386718225,
            "count": 0
           },
           {
            "bin_start": -0.0008557296386718225,
            "bin_end": -0.00074042963867183,
            "count": 0
           },
           {
            "bin_start": -0.00074042963867183,
            "bin_end": -0.0006251296386718375,
            "count": 0
           },
           {
            "bin_start": -0.0006251296386718375,
            "bin_end": -0.0005098296386718451,
            "count": 0
           },
           {
            "bin_start": -0.0005098296386718451,
            "bin_end": -0.0003945296386718525,
            "count": 0
           },
           {
            "bin_start": -0.0003945296386718525,
            "bin_end": -0.00027922963867186006,
            "count": 0
           },
           {
            "bin_start": -0.00027922963867186006,
            "bin_end": -0.0001639296386718675,
            "count": 0
           },
           {
            "bin_start": -0.0001639296386718675,
            "bin_end": -0.000048629638671875055,
            "count": 2
           }
          ]
         }
        },
        {
         "name": "A0T4G2C4",
         "dtype": "float64",
         "stats": {
          "unique_count": 4,
          "nan_count": 0,
          "min": "-0.0030040740966796",
          "max": "0.0004369259033203",
          "histogram": [
           {
            "bin_start": -0.0030040740966796,
            "bin_end": -0.00265997409667961,
            "count": 2
           },
           {
            "bin_start": -0.00265997409667961,
            "bin_end": -0.00231587409667962,
            "count": 0
           },
           {
            "bin_start": -0.00231587409667962,
            "bin_end": -0.00197177409667963,
            "count": 1
           },
           {
            "bin_start": -0.00197177409667963,
            "bin_end": -0.00162767409667964,
            "count": 0
           },
           {
            "bin_start": -0.00162767409667964,
            "bin_end": -0.00128357409667965,
            "count": 0
           },
           {
            "bin_start": -0.00128357409667965,
            "bin_end": -0.00093947409667966,
            "count": 0
           },
           {
            "bin_start": -0.00093947409667966,
            "bin_end": -0.00059537409667967,
            "count": 0
           },
           {
            "bin_start": -0.00059537409667967,
            "bin_end": -0.00025127409667968,
            "count": 0
           },
           {
            "bin_start": -0.00025127409667968,
            "bin_end": 0.00009282590332030998,
            "count": 0
           },
           {
            "bin_start": 0.00009282590332030998,
            "bin_end": 0.0004369259033203,
            "count": 2
           }
          ]
         }
        },
        {
         "name": "A0T4G3C3",
         "dtype": "float64",
         "stats": {
          "unique_count": 4,
          "nan_count": 0,
          "min": "-0.0040054321289062",
          "max": "0.0009865678710937",
          "histogram": [
           {
            "bin_start": -0.0040054321289062,
            "bin_end": -0.0035062321289062097,
            "count": 2
           },
           {
            "bin_start": -0.0035062321289062097,
            "bin_end": -0.0030070321289062197,
            "count": 0
           },
           {
            "bin_start": -0.0030070321289062197,
            "bin_end": -0.00250783212890623,
            "count": 0
           },
           {
            "bin_start": -0.00250783212890623,
            "bin_end": -0.00200863212890624,
            "count": 0
           },
           {
            "bin_start": -0.00200863212890624,
            "bin_end": -0.00150943212890625,
            "count": 0
           },
           {
            "bin_start": -0.00150943212890625,
            "bin_end": -0.0010102321289062605,
            "count": 0
           },
           {
            "bin_start": -0.0010102321289062605,
            "bin_end": -0.0005110321289062704,
            "count": 0
           },
           {
            "bin_start": -0.0005110321289062704,
            "bin_end": -0.00001183212890628043,
            "count": 0
           },
           {
            "bin_start": -0.00001183212890628043,
            "bin_end": 0.00048736787109370915,
            "count": 2
           },
           {
            "bin_start": 0.00048736787109370915,
            "bin_end": 0.0009865678710937,
            "count": 1
           }
          ]
         }
        },
        {
         "name": "A0T4G4C2",
         "dtype": "float64",
         "stats": {
          "unique_count": 4,
          "nan_count": 0,
          "min": "-0.0030040740966796",
          "max": "0.0004979259033203",
          "histogram": [
           {
            "bin_start": -0.0030040740966796,
            "bin_end": -0.0026538740966796097,
            "count": 2
           },
           {
            "bin_start": -0.0026538740966796097,
            "bin_end": -0.00230367409667962,
            "count": 0
           },
           {
            "bin_start": -0.00230367409667962,
            "bin_end": -0.0019534740966796298,
            "count": 0
           },
           {
            "bin_start": -0.0019534740966796298,
            "bin_end": -0.0016032740966796398,
            "count": 0
           },
           {
            "bin_start": -0.0016032740966796398,
            "bin_end": -0.0012530740966796498,
            "count": 0
           },
           {
            "bin_start": -0.0012530740966796498,
            "bin_end": -0.0009028740966796596,
            "count": 0
           },
           {
            "bin_start": -0.0009028740966796596,
            "bin_end": -0.0005526740966796699,
            "count": 0
           },
           {
            "bin_start": -0.0005526740966796699,
            "bin_end": -0.00020247409667967968,
            "count": 0
           },
           {
            "bin_start": -0.00020247409667967968,
            "bin_end": 0.0001477259033203105,
            "count": 1
           },
           {
            "bin_start": 0.0001477259033203105,
            "bin_end": 0.0004979259033203,
            "count": 2
           }
          ]
         }
        },
        {
         "name": "A0T4G5C1",
         "dtype": "float64",
         "stats": {
          "unique_count": 4,
          "nan_count": 0,
          "min": "-0.0012016296386718",
          "max": "0.0007983703613281",
          "histogram": [
           {
            "bin_start": -0.0012016296386718,
            "bin_end": -0.00100162963867181,
            "count": 2
           },
           {
            "bin_start": -0.00100162963867181,
            "bin_end": -0.00080162963867182,
            "count": 0
           },
           {
            "bin_start": -0.00080162963867182,
            "bin_end": -0.0006016296386718301,
            "count": 0
           },
           {
            "bin_start": -0.0006016296386718301,
            "bin_end": -0.00040162963867184005,
            "count": 0
           },
           {
            "bin_start": -0.00040162963867184005,
            "bin_end": -0.00020162963867185004,
            "count": 0
           },
           {
            "bin_start": -0.00020162963867185004,
            "bin_end": -0.0000016296386718601431,
            "count": 1
           },
           {
            "bin_start": -0.0000016296386718601431,
            "bin_end": 0.00019837036132812997,
            "count": 1
           },
           {
            "bin_start": 0.00019837036132812997,
            "bin_end": 0.00039837036132811987,
            "count": 0
           },
           {
            "bin_start": 0.00039837036132811987,
            "bin_end": 0.0005983703613281098,
            "count": 0
           },
           {
            "bin_start": 0.0005983703613281098,
            "bin_end": 0.0007983703613281,
            "count": 1
           }
          ]
         }
        },
        {
         "name": "A0T4G6C0",
         "dtype": "float64",
         "stats": {
          "unique_count": 3,
          "nan_count": 0,
          "min": "-0.0002002716064453",
          "max": "-2.227160644531251e-05",
          "histogram": [
           {
            "bin_start": -0.0002002716064453,
            "bin_end": -0.00018247160644530125,
            "count": 3
           },
           {
            "bin_start": -0.00018247160644530125,
            "bin_end": -0.0001646716064453025,
            "count": 0
           },
           {
            "bin_start": -0.0001646716064453025,
            "bin_end": -0.00014687160644530378,
            "count": 0
           },
           {
            "bin_start": -0.00014687160644530378,
            "bin_end": -0.00012907160644530502,
            "count": 0
           },
           {
            "bin_start": -0.00012907160644530502,
            "bin_end": -0.00011127160644530626,
            "count": 0
           },
           {
            "bin_start": -0.00011127160644530626,
            "bin_end": -0.00009347160644530752,
            "count": 0
           },
           {
            "bin_start": -0.00009347160644530752,
            "bin_end": -0.00007567160644530877,
            "count": 0
           },
           {
            "bin_start": -0.00007567160644530877,
            "bin_end": -0.000057871606445310014,
            "count": 1
           },
           {
            "bin_start": -0.000057871606445310014,
            "bin_end": -0.00004007160644531126,
            "count": 0
           },
           {
            "bin_start": -0.00004007160644531126,
            "bin_end": -0.00002227160644531251,
            "count": 1
           }
          ]
         }
        },
        {
         "name": "A0T5G0C5",
         "dtype": "float64",
         "stats": {
          "unique_count": 3,
          "nan_count": 0,
          "min": "-0.0002403259277343",
          "max": "-2.332592773437501e-05",
          "histogram": [
           {
            "bin_start": -0.0002403259277343,
            "bin_end": -0.0002186259277343075,
            "count": 3
           },
           {
            "bin_start": -0.0002186259277343075,
            "bin_end": -0.00019692592773431502,
            "count": 0
           },
           {
            "bin_start": -0.00019692592773431502,
            "bin_end": -0.00017522592773432251,
            "count": 0
           },
           {
            "bin_start": -0.00017522592773432251,
            "bin_end": -0.00015352592773433,
            "count": 0
           },
           {
            "bin_start": -0.00015352592773433,
            "bin_end": -0.0001318259277343375,
            "count": 0
           },
           {
            "bin_start": -0.0001318259277343375,
            "bin_end": -0.00011012592773434503,
            "count": 0
           },
           {
            "bin_start": -0.00011012592773434503,
            "bin_end": -0.00008842592773435252,
            "count": 0
           },
           {
            "bin_start": -0.00008842592773435252,
            "bin_end": -0.00006672592773436002,
            "count": 0
           },
           {
            "bin_start": -0.00006672592773436002,
            "bin_end": -0.000045025927734367515,
            "count": 0
           },
           {
            "bin_start": -0.000045025927734367515,
            "bin_end": -0.00002332592773437501,
            "count": 2
           }
          ]
         }
        },
        {
         "name": "A0T5G1C4",
         "dtype": "float64",
         "stats": {
          "unique_count": 4,
          "nan_count": 0,
          "min": "-0.0012016296386718",
          "max": "0.0027983703613281",
          "histogram": [
           {
            "bin_start": -0.0012016296386718,
            "bin_end": -0.00080162963867181,
            "count": 2
           },
           {
            "bin_start": -0.00080162963867181,
            "bin_end": -0.0004016296386718201,
            "count": 0
           },
           {
            "bin_start": -0.0004016296386718201,
            "bin_end": -0.0000016296386718302192,
            "count": 0
           },
           {
            "bin_start": -0.0000016296386718302192,
            "bin_end": 0.00039837036132815977,
            "count": 2
           },
           {
            "bin_start": 0.00039837036132815977,
            "bin_end": 0.0007983703613281498,
            "count": 0
           },
           {
            "bin_start": 0.0007983703613281498,
            "bin_end": 0.0011983703613281395,
            "count": 0
           },
           {
            "bin_start": 0.0011983703613281395,
            "bin_end": 0.0015983703613281297,
            "count": 0
           },
           {
            "bin_start": 0.0015983703613281297,
            "bin_end": 0.0019983703613281195,
            "count": 0
           },
           {
            "bin_start": 0.0019983703613281195,
            "bin_end": 0.0023983703613281093,
            "count": 0
           },
           {
            "bin_start": 0.0023983703613281093,
            "bin_end": 0.0027983703613281,
            "count": 1
           }
          ]
         }
        },
        {
         "name": "A0T5G2C3",
         "dtype": "float64",
         "stats": {
          "unique_count": 4,
          "nan_count": 0,
          "min": "-0.0024032592773437",
          "max": "0.0015967407226562",
          "histogram": [
           {
            "bin_start": -0.0024032592773437,
            "bin_end": -0.00200325927734371,
            "count": 2
           },
           {
            "bin_start": -0.00200325927734371,
            "bin_end": -0.0016032592773437201,
            "count": 0
           },
           {
            "bin_start": -0.0016032592773437201,
            "bin_end": -0.00120325927734373,
            "count": 0
           },
           {
            "bin_start": -0.00120325927734373,
            "bin_end": -0.00080325927734374,
            "count": 0
           },
           {
            "bin_start": -0.00080325927734374,
            "bin_end": -0.00040325927734374996,
            "count": 0
           },
           {
            "bin_start": -0.00040325927734374996,
            "bin_end": -0.0000032592773437597512,
            "count": 0
           },
           {
            "bin_start": -0.0000032592773437597512,
            "bin_end": 0.00039674072265623,
            "count": 1
           },
           {
            "bin_start": 0.00039674072265623,
            "bin_end": 0.0007967407226562202,
            "count": 1
           },
           {
            "bin_start": 0.0007967407226562202,
            "bin_end": 0.0011967407226562104,
            "count": 0
           },
           {
            "bin_start": 0.0011967407226562104,
            "bin_end": 0.0015967407226562,
            "count": 1
           }
          ]
         }
        },
        {
         "name": "A0T5G3C2",
         "dtype": "float64",
         "stats": {
          "unique_count": 4,
          "nan_count": 0,
          "min": "-0.0024032592773437",
          "max": "0.0005967407226562",
          "histogram": [
           {
            "bin_start": -0.0024032592773437,
            "bin_end": -0.00210325927734371,
            "count": 2
           },
           {
            "bin_start": -0.00210325927734371,
            "bin_end": -0.00180325927734372,
            "count": 0
           },
           {
            "bin_start": -0.00180325927734372,
            "bin_end": -0.0015032592773437299,
            "count": 0
           },
           {
            "bin_start": -0.0015032592773437299,
            "bin_end": -0.00120325927734374,
            "count": 0
           },
           {
            "bin_start": -0.00120325927734374,
            "bin_end": -0.00090325927734375,
            "count": 0
           },
           {
            "bin_start": -0.00090325927734375,
            "bin_end": -0.0006032592773437598,
            "count": 0
           },
           {
            "bin_start": -0.0006032592773437598,
            "bin_end": -0.00030325927734376965,
            "count": 0
           },
           {
            "bin_start": -0.00030325927734376965,
            "bin_end": -0.0000032592773437797005,
            "count": 0
           },
           {
            "bin_start": -0.0000032592773437797005,
            "bin_end": 0.00029674072265621024,
            "count": 1
           },
           {
            "bin_start": 0.00029674072265621024,
            "bin_end": 0.0005967407226562,
            "count": 2
           }
          ]
         }
        },
        {
         "name": "A0T5G4C1",
         "dtype": "float64",
         "stats": {
          "unique_count": 4,
          "nan_count": 0,
          "min": "-0.0012016296386718",
          "max": "6.337036132812507e-05",
          "histogram": [
           {
            "bin_start": -0.0012016296386718,
            "bin_end": -0.0010751296386718075,
            "count": 2
           },
           {
            "bin_start": -0.0010751296386718075,
            "bin_end": -0.000948629638671815,
            "count": 0
           },
           {
            "bin_start": -0.000948629638671815,
            "bin_end": -0.0008221296386718225,
            "count": 0
           },
           {
            "bin_start": -0.0008221296386718225,
            "bin_end": -0.00069562963867183,
            "count": 0
           },
           {
            "bin_start": -0.00069562963867183,
            "bin_end": -0.0005691296386718375,
            "count": 0
           },
           {
            "bin_start": -0.0005691296386718375,
            "bin_end": -0.00044262963867184495,
            "count": 0
           },
           {
            "bin_start": -0.00044262963867184495,
            "bin_end": -0.00031612963867185245,
            "count": 0
           },
           {
            "bin_start": -0.00031612963867185245,
            "bin_end": -0.00018962963867185994,
            "count": 1
           },
           {
            "bin_start": -0.00018962963867185994,
            "bin_end": -0.00006312963867186744,
            "count": 0
           },
           {
            "bin_start": -0.00006312963867186744,
            "bin_end": 0.00006337036132812507,
            "count": 2
           }
          ]
         }
        },
        {
         "name": "A0T5G5C0",
         "dtype": "float64",
         "stats": {
          "unique_count": 3,
          "nan_count": 0,
          "min": "-0.0002403259277343",
          "max": "-2.8325927734375e-05",
          "histogram": [
           {
            "bin_start": -0.0002403259277343,
            "bin_end": -0.0002191259277343075,
            "count": 3
           },
           {
            "bin_start": -0.0002191259277343075,
            "bin_end": -0.000197925927734315,
            "count": 0
           },
           {
            "bin_start": -0.000197925927734315,
            "bin_end": -0.0001767259277343225,
            "count": 0
           },
           {
            "bin_start": -0.0001767259277343225,
            "bin_end": -0.00015552592773433,
            "count": 0
           },
           {
            "bin_start": -0.00015552592773433,
            "bin_end": -0.0001343259277343375,
            "count": 0
           },
           {
            "bin_start": -0.0001343259277343375,
            "bin_end": -0.00011312592773434499,
            "count": 0
           },
           {
            "bin_start": -0.00011312592773434499,
            "bin_end": -0.0000919259277343525,
            "count": 0
           },
           {
            "bin_start": -0.0000919259277343525,
            "bin_end": -0.00007072592773436001,
            "count": 0
           },
           {
            "bin_start": -0.00007072592773436001,
            "bin_end": -0.000049525927734367516,
            "count": 1
           },
           {
            "bin_start": -0.000049525927734367516,
            "bin_end": -0.000028325927734375,
            "count": 1
           }
          ]
         }
        },
        {
         "name": "A0T6G0C4",
         "dtype": "float64",
         "stats": {
          "unique_count": 3,
          "nan_count": 0,
          "min": "-0.0002002716064453",
          "max": "6.672839355468748e-05",
          "histogram": [
           {
            "bin_start": -0.0002002716064453,
            "bin_end": -0.00017357160644530125,
            "count": 3
           },
           {
            "bin_start": -0.00017357160644530125,
            "bin_end": -0.0001468716064453025,
            "count": 0
           },
           {
            "bin_start": -0.0001468716064453025,
            "bin_end": -0.00012017160644530375,
            "count": 0
           },
           {
            "bin_start": -0.00012017160644530375,
            "bin_end": -0.000093471606445305,
            "count": 0
           },
           {
            "bin_start": -0.000093471606445305,
            "bin_end": -0.00006677160644530625,
            "count": 0
           },
           {
            "bin_start": -0.00006677160644530625,
            "bin_end": -0.000040071606445307495,
            "count": 0
           },
           {
            "bin_start": -0.000040071606445307495,
            "bin_end": -0.000013371606445308743,
            "count": 0
           },
           {
            "bin_start": -0.000013371606445308743,
            "bin_end": 0.000013328393554690009,
            "count": 0
           },
           {
            "bin_start": 0.000013328393554690009,
            "bin_end": 0.00004002839355468876,
            "count": 1
           },
           {
            "bin_start": 0.00004002839355468876,
            "bin_end": 0.00006672839355468748,
            "count": 1
           }
          ]
         }
        },
        {
         "name": "A0T6G1C3",
         "dtype": "float64",
         "stats": {
          "unique_count": 4,
          "nan_count": 0,
          "min": "-0.0008010864257812",
          "max": "0.0011989135742187",
          "histogram": [
           {
            "bin_start": -0.0008010864257812,
            "bin_end": -0.00060108642578121,
            "count": 2
           },
           {
            "bin_start": -0.00060108642578121,
            "bin_end": -0.00040108642578122006,
            "count": 0
           },
           {
            "bin_start": -0.00040108642578122006,
            "bin_end": -0.0002010864257812301,
            "count": 0
           },
           {
            "bin_start": -0.0002010864257812301,
            "bin_end": -0.0000010864257812400954,
            "count": 0
           },
           {
            "bin_start": -0.0000010864257812400954,
            "bin_end": 0.0001989135742187499,
            "count": 1
           },
           {
            "bin_start": 0.0001989135742187499,
            "bin_end": 0.0003989135742187398,
            "count": 1
           },
           {
            "bin_start": 0.0003989135742187398,
            "bin_end": 0.0005989135742187299,
            "count": 0
           },
           {
            "bin_start": 0.0005989135742187299,
            "bin_end": 0.0007989135742187198,
            "count": 0
           },
           {
            "bin_start": 0.0007989135742187198,
            "bin_end": 0.0009989135742187096,
            "count": 0
           },
           {
            "bin_start": 0.0009989135742187096,
            "bin_end": 0.0011989135742187,
            "count": 1
           }
          ]
         }
        },
        {
         "name": "A0T6G2C2",
         "dtype": "float64",
         "stats": {
          "unique_count": 4,
          "nan_count": 0,
          "min": "-0.0012016296386718",
          "max": "0.0004503703613281",
          "histogram": [
           {
            "bin_start": -0.0012016296386718,
            "bin_end": -0.00103642963867181,
            "count": 2
           },
           {
            "bin_start": -0.00103642963867181,
            "bin_end": -0.0008712296386718199,
            "count": 0
           },
           {
            "bin_start": -0.0008712296386718199,
            "bin_end": -0.00070602963867183,
            "count": 0
           },
           {
            "bin_start": -0.00070602963867183,
            "bin_end": -0.00054082963867184,
            "count": 0
           },
           {
            "bin_start": -0.00054082963867184,
            "bin_end": -0.00037562963867184994,
            "count": 0
           },
           {
            "bin_start": -0.00037562963867184994,
            "bin_end": -0.00021042963867186001,
            "count": 0
           },
           {
            "bin_start": -0.00021042963867186001,
            "bin_end": -0.000045229638671869877,
            "count": 1
           },
           {
            "bin_start": -0.000045229638671869877,
            "bin_end": 0.00011997036132812004,
            "count": 0
           },
           {
            "bin_start": 0.00011997036132812004,
            "bin_end": 0.00028517036132810997,
            "count": 1
           },
           {
            "bin_start": 0.00028517036132810997,
            "bin_end": 0.0004503703613281,
            "count": 1
           }
          ]
         }
        },
        {
         "name": "A0T6G3C1",
         "dtype": "float64",
         "stats": {
          "unique_count": 4,
          "nan_count": 0,
          "min": "-0.0008010864257812",
          "max": "0.0001989135742187",
          "histogram": [
           {
            "bin_start": -0.0008010864257812,
            "bin_end": -0.0007010864257812101,
            "count": 2
           },
           {
            "bin_start": -0.0007010864257812101,
            "bin_end": -0.00060108642578122,
            "count": 0
           },
           {
            "bin_start": -0.00060108642578122,
            "bin_end": -0.00050108642578123,
            "count": 0
           },
           {
            "bin_start": -0.00050108642578123,
            "bin_end": -0.00040108642578124,
            "count": 0
           },
           {
            "bin_start": -0.00040108642578124,
            "bin_end": -0.00030108642578125,
            "count": 0
           },
           {
            "bin_start": -0.00030108642578125,
            "bin_end": -0.00020108642578126003,
            "count": 0
           },
           {
            "bin_start": -0.00020108642578126003,
            "bin_end": -0.00010108642578126996,
            "count": 0
           },
           {
            "bin_start": -0.00010108642578126996,
            "bin_end": -0.000001086425781279994,
            "count": 0
           },
           {
            "bin_start": -0.000001086425781279994,
            "bin_end": 0.00009891357421870997,
            "count": 0
           },
           {
            "bin_start": 0.00009891357421870997,
            "bin_end": 0.0001989135742187,
            "count": 3
           }
          ]
         }
        },
        {
         "name": "A0T6G4C0",
         "dtype": "float64",
         "stats": {
          "unique_count": 3,
          "nan_count": 0,
          "min": "-0.0002002716064453",
          "max": "3.7283935546874975e-06",
          "histogram": [
           {
            "bin_start": -0.0002002716064453,
            "bin_end": -0.00017987160644530124,
            "count": 3
           },
           {
            "bin_start": -0.00017987160644530124,
            "bin_end": -0.0001594716064453025,
            "count": 0
           },
           {
            "bin_start": -0.0001594716064453025,
            "bin_end": -0.00013907160644530375,
            "count": 0
           },
           {
            "bin_start": -0.00013907160644530375,
            "bin_end": -0.000118671606445305,
            "count": 0
           },
           {
            "bin_start": -0.000118671606445305,
            "bin_end": -0.00009827160644530625,
            "count": 0
           },
           {
            "bin_start": -0.00009827160644530625,
            "bin_end": -0.00007787160644530749,
            "count": 0
           },
           {
            "bin_start": -0.00007787160644530749,
            "bin_end": -0.00005747160644530876,
            "count": 0
           },
           {
            "bin_start": -0.00005747160644530876,
            "bin_end": -0.00003707160644531,
            "count": 0
           },
           {
            "bin_start": -0.00003707160644531,
            "bin_end": -0.000016671606445311236,
            "count": 0
           },
           {
            "bin_start": -0.000016671606445311236,
            "bin_end": 0.0000037283935546874975,
            "count": 2
           }
          ]
         }
        },
        {
         "name": "A0T7G0C3",
         "dtype": "float64",
         "stats": {
          "unique_count": 3,
          "nan_count": 0,
          "min": "-0.0001144409179687",
          "max": "0.0001105590820312",
          "histogram": [
           {
            "bin_start": -0.0001144409179687,
            "bin_end": -0.00009194091796871,
            "count": 3
           },
           {
            "bin_start": -0.00009194091796871,
            "bin_end": -0.00006944091796872001,
            "count": 0
           },
           {
            "bin_start": -0.00006944091796872001,
            "bin_end": -0.00004694091796873001,
            "count": 0
           },
           {
            "bin_start": -0.00004694091796873001,
            "bin_end": -0.000024440917968740006,
            "count": 0
           },
           {
            "bin_start": -0.000024440917968740006,
            "bin_end": -0.000001940917968750003,
            "count": 0
           },
           {
            "bin_start": -0.000001940917968750003,
            "bin_end": 0.000020559082031239986,
            "count": 0
           },
           {
            "bin_start": 0.000020559082031239986,
            "bin_end": 0.00004305908203122999,
            "count": 0
           },
           {
            "bin_start": 0.00004305908203122999,
            "bin_end": 0.00006555908203121999,
            "count": 1
           },
           {
            "bin_start": 0.00006555908203121999,
            "bin_end": 0.00008805908203121,
            "count": 0
           },
           {
            "bin_start": 0.00008805908203121,
            "bin_end": 0.0001105590820312,
            "count": 1
           }
          ]
         }
        },
        {
         "name": "A0T7G1C2",
         "dtype": "float64",
         "stats": {
          "unique_count": 3,
          "nan_count": 0,
          "min": "-0.0003433227539062",
          "max": "0.0003386772460937",
          "histogram": [
           {
            "bin_start": -0.0003433227539062,
            "bin_end": -0.00027512275390621,
            "count": 3
           },
           {
            "bin_start": -0.00027512275390621,
            "bin_end": -0.00020692275390622,
            "count": 0
           },
           {
            "bin_start": -0.00020692275390622,
            "bin_end": -0.00013872275390623,
            "count": 0
           },
           {
            "bin_start": -0.00013872275390623,
            "bin_end": -0.00007052275390624001,
            "count": 0
           },
           {
            "bin_start": -0.00007052275390624001,
            "bin_end": -0.0000023227539062500055,
            "count": 0
           },
           {
            "bin_start": -0.0000023227539062500055,
            "bin_end": 0.00006587724609374,
            "count": 0
           },
           {
            "bin_start": 0.00006587724609374,
            "bin_end": 0.00013407724609373,
            "count": 0
           },
           {
            "bin_start": 0.00013407724609373,
            "bin_end": 0.00020227724609372,
            "count": 1
           },
           {
            "bin_start": 0.00020227724609372,
            "bin_end": 0.00027047724609371006,
            "count": 0
           },
           {
            "bin_start": 0.00027047724609371006,
            "bin_end": 0.0003386772460937,
            "count": 1
           }
          ]
         }
        },
        {
         "name": "A0T7G2C1",
         "dtype": "float64",
         "stats": {
          "unique_count": 3,
          "nan_count": 0,
          "min": "-0.0003433227539062",
          "max": "0.0001976772460937",
          "histogram": [
           {
            "bin_start": -0.0003433227539062,
            "bin_end": -0.00028922275390621003,
            "count": 3
           },
           {
            "bin_start": -0.00028922275390621003,
            "bin_end": -0.00023512275390622,
            "count": 0
           },
           {
            "bin_start": -0.00023512275390622,
            "bin_end": -0.00018102275390623,
            "count": 0
           },
           {
            "bin_start": -0.00018102275390623,
            "bin_end": -0.00012692275390624,
            "count": 0
           },
           {
            "bin_start": -0.00012692275390624,
            "bin_end": -0.00007282275390624998,
            "count": 0
           },
           {
            "bin_start": -0.00007282275390624998,
            "bin_end": -0.00001872275390626,
            "count": 0
           },
           {
            "bin_start": -0.00001872275390626,
            "bin_end": 0.00003537724609373004,
            "count": 0
           },
           {
            "bin_start": 0.00003537724609373004,
            "bin_end": 0.00008947724609372003,
            "count": 0
           },
           {
            "bin_start": 0.00008947724609372003,
            "bin_end": 0.00014357724609371,
            "count": 1
           },
           {
            "bin_start": 0.00014357724609371,
            "bin_end": 0.0001976772460937,
            "count": 1
           }
          ]
         }
        },
        {
         "name": "A0T7G3C0",
         "dtype": "float64",
         "stats": {
          "unique_count": 3,
          "nan_count": 0,
          "min": "-0.0001144409179687",
          "max": "5.555908203125001e-05",
          "histogram": [
           {
            "bin_start": -0.0001144409179687,
            "bin_end": -0.000097440917968705,
            "count": 3
           },
           {
            "bin_start": -0.000097440917968705,
            "bin_end": -0.00008044091796871,
            "count": 0
           },
           {
            "bin_start": -0.00008044091796871,
            "bin_end": -0.000063440917968715,
            "count": 0
           },
           {
            "bin_start": -0.000063440917968715,
            "bin_end": -0.000046440917968719995,
            "count": 0
           },
           {
            "bin_start": -0.000046440917968719995,
            "bin_end": -0.00002944091796872499,
            "count": 0
           },
           {
            "bin_start": -0.00002944091796872499,
            "bin_end": -0.000012440917968729997,
            "count": 0
           },
           {
            "bin_start": -0.000012440917968729997,
            "bin_end": 0.0000045590820312650085,
            "count": 0
           },
           {
            "bin_start": 0.0000045590820312650085,
            "bin_end": 0.000021559082031260014,
            "count": 0
           },
           {
            "bin_start": 0.000021559082031260014,
            "bin_end": 0.000038559082031255006,
            "count": 1
           },
           {
            "bin_start": 0.000038559082031255006,
            "bin_end": 0.00005555908203125001,
            "count": 1
           }
          ]
         }
        },
        {
         "name": "A0T8G0C2",
         "dtype": "float64",
         "stats": {
          "unique_count": 3,
          "nan_count": 0,
          "min": "-4.291534423828125e-05",
          "max": "7.508465576171875e-05",
          "histogram": [
           {
            "bin_start": -0.00004291534423828125,
            "bin_end": -0.00003111534423828125,
            "count": 3
           },
           {
            "bin_start": -0.00003111534423828125,
            "bin_end": -0.000019315344238281252,
            "count": 0
           },
           {
            "bin_start": -0.000019315344238281252,
            "bin_end": -0.000007515344238281257,
            "count": 0
           },
           {
            "bin_start": -0.000007515344238281257,
            "bin_end": 0.000004284655761718745,
            "count": 0
           },
           {
            "bin_start": 0.000004284655761718745,
            "bin_end": 0.000016084655761718748,
            "count": 0
           },
           {
            "bin_start": 0.000016084655761718748,
            "bin_end": 0.000027884655761718736,
            "count": 1
           },
           {
            "bin_start": 0.000027884655761718736,
            "bin_end": 0.00003968465576171874,
            "count": 0
           },
           {
            "bin_start": 0.00003968465576171874,
            "bin_end": 0.00005148465576171874,
            "count": 0
           },
           {
            "bin_start": 0.00005148465576171874,
            "bin_end": 0.00006328465576171874,
            "count": 0
           },
           {
            "bin_start": 0.00006328465576171874,
            "bin_end": 0.00007508465576171875,
            "count": 1
           }
          ]
         }
        },
        {
         "name": "A0T8G1C1",
         "dtype": "float64",
         "stats": {
          "unique_count": 3,
          "nan_count": 0,
          "min": "-8.58306884765625e-05",
          "max": "0.0001421693115234",
          "histogram": [
           {
            "bin_start": -0.0000858306884765625,
            "bin_end": -0.00006303068847656626,
            "count": 3
           },
           {
            "bin_start": -0.00006303068847656626,
            "bin_end": -0.00004023068847657,
            "count": 0
           },
           {
            "bin_start": -0.00004023068847657,
            "bin_end": -0.00001743068847657374,
            "count": 0
           },
           {
            "bin_start": -0.00001743068847657374,
            "bin_end": 0.000005369311523422505,
            "count": 0
           },
           {
            "bin_start": 0.000005369311523422505,
            "bin_end": 0.00002816931152341875,
            "count": 0
           },
           {
            "bin_start": 0.00002816931152341875,
            "bin_end": 0.00005096931152341502,
            "count": 0
           },
           {
            "bin_start": 0.00005096931152341502,
            "bin_end": 0.00007376931152341127,
            "count": 0
           },
           {
            "bin_start": 0.00007376931152341127,
            "bin_end": 0.00009656931152340751,
            "count": 0
           },
           {
            "bin_start": 0.00009656931152340751,
            "bin_end": 0.00011936931152340375,
            "count": 1
           },
           {
            "bin_start": 0.00011936931152340375,
            "bin_end": 0.0001421693115234,
            "count": 1
           }
          ]
         }
        },
        {
         "name": "A0T8G2C0",
         "dtype": "float64",
         "stats": {
          "unique_count": 3,
          "nan_count": 0,
          "min": "-4.291534423828125e-05",
          "max": "5.308465576171875e-05",
          "histogram": [
           {
            "bin_start": -0.00004291534423828125,
            "bin_end": -0.00003331534423828125,
            "count": 3
           },
           {
            "bin_start": -0.00003331534423828125,
            "bin_end": -0.00002371534423828125,
            "count": 0
           },
           {
            "bin_start": -0.00002371534423828125,
            "bin_end": -0.000014115344238281251,
            "count": 0
           },
           {
            "bin_start": -0.000014115344238281251,
            "bin_end": -0.000004515344238281252,
            "count": 0
           },
           {
            "bin_start": -0.000004515344238281252,
            "bin_end": 0.000005084655761718751,
            "count": 0
           },
           {
            "bin_start": 0.000005084655761718751,
            "bin_end": 0.000014684655761718747,
            "count": 0
           },
           {
            "bin_start": 0.000014684655761718747,
            "bin_end": 0.000024284655761718744,
            "count": 1
           },
           {
            "bin_start": 0.000024284655761718744,
            "bin_end": 0.000033884655761718747,
            "count": 0
           },
           {
            "bin_start": 0.000033884655761718747,
            "bin_end": 0.00004348465576171875,
            "count": 0
           },
           {
            "bin_start": 0.00004348465576171875,
            "bin_end": 0.00005308465576171875,
            "count": 1
           }
          ]
         }
        },
        {
         "name": "A0T9G0C1",
         "dtype": "float64",
         "stats": {
          "unique_count": 3,
          "nan_count": 0,
          "min": "-9.5367431640625e-06",
          "max": "2.14632568359375e-05",
          "histogram": [
           {
            "bin_start": -0.0000095367431640625,
            "bin_end": -0.0000064367431640625,
            "count": 3
           },
           {
            "bin_start": -0.0000064367431640625,
            "bin_end": -0.0000033367431640625,
            "count": 0
           },
           {
            "bin_start": -0.0000033367431640625,
            "bin_end": -2.3674316406250095e-7,
            "count": 0
           },
           {
            "bin_start": -2.3674316406250095e-7,
            "bin_end": 0.0000028632568359375,
            "count": 0
           },
           {
            "bin_start": 0.0000028632568359375,
            "bin_end": 0.000005963256835937501,
            "count": 1
           },
           {
            "bin_start": 0.000005963256835937501,
            "bin_end": 0.000009063256835937498,
            "count": 0
           },
           {
            "bin_start": 0.000009063256835937498,
            "bin_end": 0.000012163256835937499,
            "count": 0
           },
           {
            "bin_start": 0.000012163256835937499,
            "bin_end": 0.0000152632568359375,
            "count": 0
           },
           {
            "bin_start": 0.0000152632568359375,
            "bin_end": 0.0000183632568359375,
            "count": 0
           },
           {
            "bin_start": 0.0000183632568359375,
            "bin_end": 0.0000214632568359375,
            "count": 1
           }
          ]
         }
        },
        {
         "name": "A0T9G1C0",
         "dtype": "float64",
         "stats": {
          "unique_count": 3,
          "nan_count": 0,
          "min": "-9.5367431640625e-06",
          "max": "2.24632568359375e-05",
          "histogram": [
           {
            "bin_start": -0.0000095367431640625,
            "bin_end": -0.0000063367431640625,
            "count": 3
           },
           {
            "bin_start": -0.0000063367431640625,
            "bin_end": -0.0000031367431640625003,
            "count": 0
           },
           {
            "bin_start": -0.0000031367431640625003,
            "bin_end": 6.325683593749957e-8,
            "count": 0
           },
           {
            "bin_start": 6.325683593749957e-8,
            "bin_end": 0.0000032632568359374994,
            "count": 0
           },
           {
            "bin_start": 0.0000032632568359374994,
            "bin_end": 0.000006463256835937499,
            "count": 0
           },
           {
            "bin_start": 0.000006463256835937499,
            "bin_end": 0.000009663256835937499,
            "count": 1
           },
           {
            "bin_start": 0.000009663256835937499,
            "bin_end": 0.000012863256835937499,
            "count": 0
           },
           {
            "bin_start": 0.000012863256835937499,
            "bin_end": 0.0000160632568359375,
            "count": 0
           },
           {
            "bin_start": 0.0000160632568359375,
            "bin_end": 0.0000192632568359375,
            "count": 0
           },
           {
            "bin_start": 0.0000192632568359375,
            "bin_end": 0.0000224632568359375,
            "count": 1
           }
          ]
         }
        },
        {
         "name": "A0T10G0C0",
         "dtype": "float64",
         "stats": {
          "unique_count": 1,
          "nan_count": 0,
          "min": "-9.5367431640625e-07",
          "max": "-9.5367431640625e-07",
          "histogram": [
           {
            "bin_start": -0.5000009536743164,
            "bin_end": -0.40000095367431643,
            "count": 0
           },
           {
            "bin_start": -0.40000095367431643,
            "bin_end": -0.3000009536743164,
            "count": 0
           },
           {
            "bin_start": -0.3000009536743164,
            "bin_end": -0.20000095367431636,
            "count": 0
           },
           {
            "bin_start": -0.20000095367431636,
            "bin_end": -0.10000095367431638,
            "count": 0
           },
           {
            "bin_start": -0.10000095367431638,
            "bin_end": -9.5367431640625e-7,
            "count": 0
           },
           {
            "bin_start": -9.5367431640625e-7,
            "bin_end": 0.09999904632568368,
            "count": 5
           },
           {
            "bin_start": 0.09999904632568368,
            "bin_end": 0.19999904632568366,
            "count": 0
           },
           {
            "bin_start": 0.19999904632568366,
            "bin_end": 0.29999904632568364,
            "count": 0
           },
           {
            "bin_start": 0.29999904632568364,
            "bin_end": 0.3999990463256836,
            "count": 0
           },
           {
            "bin_start": 0.3999990463256836,
            "bin_end": 0.4999990463256836,
            "count": 0
           }
          ]
         }
        },
        {
         "name": "A1T0G0C9",
         "dtype": "float64",
         "stats": {
          "unique_count": 3,
          "nan_count": 0,
          "min": "-9.5367431640625e-06",
          "max": "-5.367431640624998e-07",
          "histogram": [
           {
            "bin_start": -0.0000095367431640625,
            "bin_end": -0.0000086367431640625,
            "count": 3
           },
           {
            "bin_start": -0.0000086367431640625,
            "bin_end": -0.0000077367431640625,
            "count": 1
           },
           {
            "bin_start": -0.0000077367431640625,
            "bin_end": -0.0000068367431640625,
            "count": 0
           },
           {
            "bin_start": -0.0000068367431640625,
            "bin_end": -0.0000059367431640625,
            "count": 0
           },
           {
            "bin_start": -0.0000059367431640625,
            "bin_end": -0.0000050367431640625,
            "count": 0
           },
           {
            "bin_start": -0.0000050367431640625,
            "bin_end": -0.000004136743164062499,
            "count": 0
           },
           {
            "bin_start": -0.000004136743164062499,
            "bin_end": -0.0000032367431640624993,
            "count": 0
           },
           {
            "bin_start": -0.0000032367431640624993,
            "bin_end": -0.0000023367431640624995,
            "count": 0
           },
           {
            "bin_start": -0.0000023367431640624995,
            "bin_end": -0.0000014367431640624996,
            "count": 0
           },
           {
            "bin_start": -0.0000014367431640624996,
            "bin_end": -5.367431640624998e-7,
            "count": 1
           }
          ]
         }
        },
        {
         "name": "A1T0G1C8",
         "dtype": "float64",
         "stats": {
          "unique_count": 4,
          "nan_count": 0,
          "min": "-8.58306884765625e-05",
          "max": "0.0009141693115234",
          "histogram": [
           {
            "bin_start": -0.0000858306884765625,
            "bin_end": 0.00001416931152343375,
            "count": 4
           },
           {
            "bin_start": 0.00001416931152343375,
            "bin_end": 0.00011416931152343,
            "count": 0
           },
           {
            "bin_start": 0.00011416931152343,
            "bin_end": 0.00021416931152342625,
            "count": 0
           },
           {
            "bin_start": 0.00021416931152342625,
            "bin_end": 0.0003141693115234225,
            "count": 0
           },
           {
            "bin_start": 0.0003141693115234225,
            "bin_end": 0.00041416931152341875,
            "count": 0
           },
           {
            "bin_start": 0.00041416931152341875,
            "bin_end": 0.000514169311523415,
            "count": 0
           },
           {
            "bin_start": 0.000514169311523415,
            "bin_end": 0.0006141693115234113,
            "count": 0
           },
           {
            "bin_start": 0.0006141693115234113,
            "bin_end": 0.0007141693115234075,
            "count": 0
           },
           {
            "bin_start": 0.0007141693115234075,
            "bin_end": 0.0008141693115234038,
            "count": 0
           },
           {
            "bin_start": 0.0008141693115234038,
            "bin_end": 0.0009141693115234,
            "count": 1
           }
          ]
         }
        },
        {
         "name": "A1T0G2C7",
         "dtype": "float64",
         "stats": {
          "unique_count": 3,
          "nan_count": 0,
          "min": "-0.0003433227539062",
          "max": "0.0002126772460937",
          "histogram": [
           {
            "bin_start": -0.0003433227539062,
            "bin_end": -0.00028772275390621,
            "count": 3
           },
           {
            "bin_start": -0.00028772275390621,
            "bin_end": -0.00023212275390622003,
            "count": 0
           },
           {
            "bin_start": -0.00023212275390622003,
            "bin_end": -0.00017652275390623,
            "count": 0
           },
           {
            "bin_start": -0.00017652275390623,
            "bin_end": -0.00012092275390624001,
            "count": 0
           },
           {
            "bin_start": -0.00012092275390624001,
            "bin_end": -0.00006532275390625002,
            "count": 0
           },
           {
            "bin_start": -0.00006532275390625002,
            "bin_end": -0.000009722753906259997,
            "count": 0
           },
           {
            "bin_start": -0.000009722753906259997,
            "bin_end": 0.00004587724609372997,
            "count": 0
           },
           {
            "bin_start": 0.00004587724609372997,
            "bin_end": 0.00010147724609371999,
            "count": 0
           },
           {
            "bin_start": 0.00010147724609371999,
            "bin_end": 0.00015707724609371,
            "count": 1
           },
           {
            "bin_start": 0.00015707724609371,
            "bin_end": 0.0002126772460937,
            "count": 1
           }
          ]
         }
        },
        {
         "name": "A1T0G3C6",
         "dtype": "float64",
         "stats": {
          "unique_count": 4,
          "nan_count": 0,
          "min": "-0.0008010864257812",
          "max": "0.0011229135742187",
          "histogram": [
           {
            "bin_start": -0.0008010864257812,
            "bin_end": -0.00060868642578121,
            "count": 2
           },
           {
            "bin_start": -0.00060868642578121,
            "bin_end": -0.00041628642578122,
            "count": 0
           },
           {
            "bin_start": -0.00041628642578122,
            "bin_end": -0.00022388642578123,
            "count": 0
           },
           {
            "bin_start": -0.00022388642578123,
            "bin_end": -0.00003148642578123997,
            "count": 0
           },
           {
            "bin_start": -0.00003148642578123997,
            "bin_end": 0.00016091357421875007,
            "count": 0
           },
           {
            "bin_start": 0.00016091357421875007,
            "bin_end": 0.00035331357421874,
            "count": 1
           },
           {
            "bin_start": 0.00035331357421874,
            "bin_end": 0.0005457135742187302,
            "count": 0
           },
           {
            "bin_start": 0.0005457135742187302,
            "bin_end": 0.0007381135742187201,
            "count": 1
           },
           {
            "bin_start": 0.0007381135742187201,
            "bin_end": 0.00093051357421871,
            "count": 0
           },
           {
            "bin_start": 0.00093051357421871,
            "bin_end": 0.0011229135742187,
            "count": 1
           }
          ]
         }
        },
        {
         "name": "A1T0G4C5",
         "dtype": "float64",
         "stats": {
          "unique_count": 3,
          "nan_count": 0,
          "min": "-0.0012016296386718",
          "max": "0.0018383703613281",
          "histogram": [
           {
            "bin_start": -0.0012016296386718,
            "bin_end": -0.0008976296386718099,
            "count": 3
           },
           {
            "bin_start": -0.0008976296386718099,
            "bin_end": -0.00059362963867182,
            "count": 0
           },
           {
            "bin_start": -0.00059362963867182,
            "bin_end": -0.00028962963867183006,
            "count": 0
           },
           {
            "bin_start": -0.00028962963867183006,
            "bin_end": 0.000014370361328159978,
            "count": 0
           },
           {
            "bin_start": 0.000014370361328159978,
            "bin_end": 0.00031837036132815,
            "count": 0
           },
           {
            "bin_start": 0.00031837036132815,
            "bin_end": 0.0006223703613281398,
            "count": 0
           },
           {
            "bin_start": 0.0006223703613281398,
            "bin_end": 0.0009263703613281299,
            "count": 0
           },
           {
            "bin_start": 0.0009263703613281299,
            "bin_end": 0.00123037036132812,
            "count": 1
           },
           {
            "bin_start": 0.00123037036132812,
            "bin_end": 0.00153437036132811,
            "count": 0
           },
           {
            "bin_start": 0.00153437036132811,
            "bin_end": 0.0018383703613281,
            "count": 1
           }
          ]
         }
        },
        {
         "name": "A1T0G5C4",
         "dtype": "float64",
         "stats": {
          "unique_count": 4,
          "nan_count": 0,
          "min": "-0.0012016296386718",
          "max": "0.0017253703613281",
          "histogram": [
           {
            "bin_start": -0.0012016296386718,
            "bin_end": -0.0009089296386718099,
            "count": 2
           },
           {
            "bin_start": -0.0009089296386718099,
            "bin_end": -0.0006162296386718199,
            "count": 0
           },
           {
            "bin_start": -0.0006162296386718199,
            "bin_end": -0.00032352963867182986,
            "count": 0
           },
           {
            "bin_start": -0.00032352963867182986,
            "bin_end": -0.00003082963867183982,
            "count": 0
           },
           {
            "bin_start": -0.00003082963867183982,
            "bin_end": 0.0002618703613281501,
            "count": 0
           },
           {
            "bin_start": 0.0002618703613281501,
            "bin_end": 0.0005545703613281403,
            "count": 0
           },
           {
            "bin_start": 0.0005545703613281403,
            "bin_end": 0.0008472703613281304,
            "count": 1
           },
           {
            "bin_start": 0.0008472703613281304,
            "bin_end": 0.0011399703613281203,
            "count": 1
           },
           {
            "bin_start": 0.0011399703613281203,
            "bin_end": 0.0014326703613281103,
            "count": 0
           },
           {
            "bin_start": 0.0014326703613281103,
            "bin_end": 0.0017253703613281,
            "count": 1
           }
          ]
         }
        },
        {
         "name": "A1T0G6C3",
         "dtype": "float64",
         "stats": {
          "unique_count": 4,
          "nan_count": 0,
          "min": "-0.0008010864257812",
          "max": "0.0011989135742187",
          "histogram": [
           {
            "bin_start": -0.0008010864257812,
            "bin_end": -0.00060108642578121,
            "count": 2
           },
           {
            "bin_start": -0.00060108642578121,
            "bin_end": -0.00040108642578122006,
            "count": 0
           },
           {
            "bin_start": -0.00040108642578122006,
            "bin_end": -0.0002010864257812301,
            "count": 0
           },
           {
            "bin_start": -0.0002010864257812301,
            "bin_end": -0.0000010864257812400954,
            "count": 0
           },
           {
            "bin_start": -0.0000010864257812400954,
            "bin_end": 0.0001989135742187499,
            "count": 0
           },
           {
            "bin_start": 0.0001989135742187499,
            "bin_end": 0.0003989135742187398,
            "count": 1
           },
           {
            "bin_start": 0.0003989135742187398,
            "bin_end": 0.0005989135742187299,
            "count": 0
           },
           {
            "bin_start": 0.0005989135742187299,
            "bin_end": 0.0007989135742187198,
            "count": 1
           },
           {
            "bin_start": 0.0007989135742187198,
            "bin_end": 0.0009989135742187096,
            "count": 0
           },
           {
            "bin_start": 0.0009989135742187096,
            "bin_end": 0.0011989135742187,
            "count": 1
           }
          ]
         }
        },
        {
         "name": "A1T0G7C2",
         "dtype": "float64",
         "stats": {
          "unique_count": 4,
          "nan_count": 0,
          "min": "-0.0003433227539062",
          "max": "0.0006566772460937",
          "histogram": [
           {
            "bin_start": -0.0003433227539062,
            "bin_end": -0.00024332275390621,
            "count": 2
           },
           {
            "bin_start": -0.00024332275390621,
            "bin_end": -0.00014332275390622,
            "count": 0
           },
           {
            "bin_start": -0.00014332275390622,
            "bin_end": -0.00004332275390623002,
            "count": 0
           },
           {
            "bin_start": -0.00004332275390623002,
            "bin_end": 0.000056677246093759994,
            "count": 1
           },
           {
            "bin_start": 0.000056677246093759994,
            "bin_end": 0.00015667724609375,
            "count": 1
           },
           {
            "bin_start": 0.00015667724609375,
            "bin_end": 0.00025667724609373997,
            "count": 0
           },
           {
            "bin_start": 0.00025667724609373997,
            "bin_end": 0.00035667724609373004,
            "count": 0
           },
           {
            "bin_start": 0.00035667724609373004,
            "bin_end": 0.00045667724609372,
            "count": 0
           },
           {
            "bin_start": 0.00045667724609372,
            "bin_end": 0.00055667724609371,
            "count": 0
           },
           {
            "bin_start": 0.00055667724609371,
            "bin_end": 0.0006566772460937,
            "count": 1
           }
          ]
         }
        },
        {
         "name": "A1T0G8C1",
         "dtype": "float64",
         "stats": {
          "unique_count": 3,
          "nan_count": 0,
          "min": "-8.58306884765625e-05",
          "max": "-1.78306884765625e-05",
          "histogram": [
           {
            "bin_start": -0.0000858306884765625,
            "bin_end": -0.0000790306884765625,
            "count": 3
           },
           {
            "bin_start": -0.0000790306884765625,
            "bin_end": -0.0000722306884765625,
            "count": 0
           },
           {
            "bin_start": -0.0000722306884765625,
            "bin_end": -0.00006543068847656249,
            "count": 0
           },
           {
            "bin_start": -0.00006543068847656249,
            "bin_end": -0.0000586306884765625,
            "count": 0
           },
           {
            "bin_start": -0.0000586306884765625,
            "bin_end": -0.0000518306884765625,
            "count": 0
           },
           {
            "bin_start": -0.0000518306884765625,
            "bin_end": -0.0000450306884765625,
            "count": 1
           },
           {
            "bin_start": -0.0000450306884765625,
            "bin_end": -0.0000382306884765625,
            "count": 0
           },
           {
            "bin_start": -0.0000382306884765625,
            "bin_end": -0.0000314306884765625,
            "count": 0
           },
           {
            "bin_start": -0.0000314306884765625,
            "bin_end": -0.000024630688476562503,
            "count": 0
           },
           {
            "bin_start": -0.000024630688476562503,
            "bin_end": -0.0000178306884765625,
            "count": 1
           }
          ]
         }
        },
        {
         "name": "A1T0G9C0",
         "dtype": "float64",
         "stats": {
          "unique_count": 3,
          "nan_count": 0,
          "min": "-9.5367431640625e-06",
          "max": "-4.5367431640625e-06",
          "histogram": [
           {
            "bin_start": -0.0000095367431640625,
            "bin_end": -0.0000090367431640625,
            "count": 3
           },
           {
            "bin_start": -0.0000090367431640625,
            "bin_end": -0.0000085367431640625,
            "count": 0
           },
           {
            "bin_start": -0.0000085367431640625,
            "bin_end": -0.000008036743164062499,
            "count": 1
           },
           {
            "bin_start": -0.000008036743164062499,
            "bin_end": -0.0000075367431640625,
            "count": 0
           },
           {
            "bin_start": -0.0000075367431640625,
            "bin_end": -0.000007036743164062499,
            "count": 0
           },
           {
            "bin_start": -0.000007036743164062499,
            "bin_end": -0.0000065367431640625,
            "count": 0
           },
           {
            "bin_start": -0.0000065367431640625,
            "bin_end": -0.0000060367431640625,
            "count": 0
           },
           {
            "bin_start": -0.0000060367431640625,
            "bin_end": -0.000005536743164062499,
            "count": 0
           },
           {
            "bin_start": -0.000005536743164062499,
            "bin_end": -0.000005036743164062499,
            "count": 0
           },
           {
            "bin_start": -0.000005036743164062499,
            "bin_end": -0.0000045367431640625,
            "count": 1
           }
          ]
         }
        },
        {
         "name": "A1T1G0C8",
         "dtype": "float64",
         "stats": {
          "unique_count": 3,
          "nan_count": 0,
          "min": "-8.58306884765625e-05",
          "max": "-9.830688476562496e-06",
          "histogram": [
           {
            "bin_start": -0.0000858306884765625,
            "bin_end": -0.0000782306884765625,
            "count": 3
           },
           {
            "bin_start": -0.0000782306884765625,
            "bin_end": -0.0000706306884765625,
            "count": 0
           },
           {
            "bin_start": -0.0000706306884765625,
            "bin_end": -0.0000630306884765625,
            "count": 0
           },
           {
            "bin_start": -0.0000630306884765625,
            "bin_end": -0.0000554306884765625,
            "count": 0
           },
           {
            "bin_start": -0.0000554306884765625,
            "bin_end": -0.0000478306884765625,
            "count": 0
           },
           {
            "bin_start": -0.0000478306884765625,
            "bin_end": -0.0000402306884765625,
            "count": 1
           },
           {
            "bin_start": -0.0000402306884765625,
            "bin_end": -0.0000326306884765625,
            "count": 0
           },
           {
            "bin_start": -0.0000326306884765625,
            "bin_end": -0.0000250306884765625,
            "count": 0
           },
           {
            "bin_start": -0.0000250306884765625,
            "bin_end": -0.000017430688476562504,
            "count": 0
           },
           {
            "bin_start": -0.000017430688476562504,
            "bin_end": -0.000009830688476562496,
            "count": 1
           }
          ]
         }
        },
        {
         "name": "A1T1G1C7",
         "dtype": "float64",
         "stats": {
          "unique_count": 3,
          "nan_count": 0,
          "min": "-0.0006866455078125",
          "max": "-9.464550781250004e-05",
          "histogram": [
           {
            "bin_start": -0.0006866455078125,
            "bin_end": -0.0006274455078125,
            "count": 3
           },
           {
            "bin_start": -0.0006274455078125,
            "bin_end": -0.0005682455078125,
            "count": 0
           },
           {
            "bin_start": -0.0005682455078125,
            "bin_end": -0.0005090455078125,
            "count": 0
           },
           {
            "bin_start": -0.0005090455078125,
            "bin_end": -0.0004498455078125,
            "count": 0
           },
           {
            "bin_start": -0.0004498455078125,
            "bin_end": -0.0003906455078125,
            "count": 0
           },
           {
            "bin_start": -0.0003906455078125,
            "bin_end": -0.00033144550781250004,
            "count": 0
           },
           {
            "bin_start": -0.00033144550781250004,
            "bin_end": -0.0002722455078125,
            "count": 0
           },
           {
            "bin_start": -0.0002722455078125,
            "bin_end": -0.00021304550781250003,
            "count": 0
           },
           {
            "bin_start": -0.00021304550781250003,
            "bin_end": -0.00015384550781250006,
            "count": 1
           },
           {
            "bin_start": -0.00015384550781250006,
            "bin_end": -0.00009464550781250004,
            "count": 1
           }
          ]
         }
        },
        {
         "name": "A1T1G2C6",
         "dtype": "float64",
         "stats": {
          "unique_count": 4,
          "nan_count": 0,
          "min": "-0.0024032592773437",
          "max": "0.0007077407226562",
          "histogram": [
           {
            "bin_start": -0.0024032592773437,
            "bin_end": -0.00209215927734371,
            "count": 2
           },
           {
            "bin_start": -0.00209215927734371,
            "bin_end": -0.00178105927734372,
            "count": 0
           },
           {
            "bin_start": -0.00178105927734372,
            "bin_end": -0.0014699592773437299,
            "count": 0
           },
           {
            "bin_start": -0.0014699592773437299,
            "bin_end": -0.00115885927734374,
            "count": 0
           },
           {
            "bin_start": -0.00115885927734374,
            "bin_end": -0.00084775927734375,
            "count": 0
           },
           {
            "bin_start": -0.00084775927734375,
            "bin_end": -0.0005366592773437598,
            "count": 0
           },
           {
            "bin_start": -0.0005366592773437598,
            "bin_end": -0.00022555927734376965,
            "count": 0
           },
           {
            "bin_start": -0.00022555927734376965,
            "bin_end": 0.00008554072265622029,
            "count": 0
           },
           {
            "bin_start": 0.00008554072265622029,
            "bin_end": 0.00039664072265621023,
            "count": 1
           },
           {
            "bin_start": 0.00039664072265621023,
            "bin_end": 0.0007077407226562,
            "count": 2
           }
          ]
         }
        },
        {
         "name": "A1T1G3C5",
         "dtype": "float64",
         "stats": {
          "unique_count": 4,
          "nan_count": 0,
          "min": "-0.0048065185546875",
          "max": "0.0031124814453125",
          "histogram": [
           {
            "bin_start": -0.0048065185546875,
            "bin_end": -0.0040146185546875,
            "count": 2
           },
           {
            "bin_start": -0.0040146185546875,
            "bin_end": -0.0032227185546875,
            "count": 0
           },
           {
            "bin_start": -0.0032227185546875,
            "bin_end": -0.0024308185546875003,
            "count": 0
           },
           {
            "bin_start": -0.0024308185546875003,
            "bin_end": -0.0016389185546875004,
            "count": 0
           },
           {
            "bin_start": -0.0016389185546875004,
            "bin_end": -0.0008470185546875005,
            "count": 0
           },
           {
            "bin_start": -0.0008470185546875005,
            "bin_end": -0.000055118554687500626,
            "count": 0
           },
           {
            "bin_start": -0.000055118554687500626,
            "bin_end": 0.0007367814453124993,
            "count": 0
           },
           {
            "bin_start": 0.0007367814453124993,
            "bin_end": 0.0015286814453124992,
            "count": 0
           },
           {
            "bin_start": 0.0015286814453124992,
            "bin_end": 0.002320581445312499,
            "count": 2
           },
           {
            "bin_start": 0.002320581445312499,
            "bin_end": 0.0031124814453125,
            "count": 1
           }
          ]
         }
        },
        {
         "name": "A1T1G4C4",
         "dtype": "float64",
         "stats": {
          "unique_count": 4,
          "nan_count": 0,
          "min": "-0.0060081481933593",
          "max": "0.0046018518066406",
          "histogram": [
           {
            "bin_start": -0.0060081481933593,
            "bin_end": -0.0049471481933593105,
            "count": 2
           },
           {
            "bin_start": -0.0049471481933593105,
            "bin_end": -0.00388614819335932,
            "count": 0
           },
           {
            "bin_start": -0.00388614819335932,
            "bin_end": -0.00282514819335933,
            "count": 1
           },
           {
            "bin_start": -0.00282514819335933,
            "bin_end": -0.00176414819335934,
            "count": 0
           },
           {
            "bin_start": -0.00176414819335934,
            "bin_end": -0.00070314819335935,
            "count": 0
           },
           {
            "bin_start": -0.00070314819335935,
            "bin_end": 0.00035785180664064074,
            "count": 0
           },
           {
            "bin_start": 0.00035785180664064074,
            "bin_end": 0.0014188518066406306,
            "count": 0
           },
           {
            "bin_start": 0.0014188518066406306,
            "bin_end": 0.0024798518066406205,
            "count": 1
           },
           {
            "bin_start": 0.0024798518066406205,
            "bin_end": 0.0035408518066406113,
            "count": 0
           },
           {
            "bin_start": 0.0035408518066406113,
            "bin_end": 0.0046018518066406,
            "count": 1
           }
          ]
         }
        },
        {
         "name": "A1T1G5C3",
         "dtype": "float64",
         "stats": {
          "unique_count": 4,
          "nan_count": 0,
          "min": "-0.0048065185546875",
          "max": "0.0031934814453125",
          "histogram": [
           {
            "bin_start": -0.0048065185546875,
            "bin_end": -0.0040065185546875,
            "count": 2
           },
           {
            "bin_start": -0.0040065185546875,
            "bin_end": -0.0032065185546875,
            "count": 0
           },
           {
            "bin_start": -0.0032065185546875,
            "bin_end": -0.0024065185546874998,
            "count": 0
           },
           {
            "bin_start": -0.0024065185546874998,
            "bin_end": -0.0016065185546874998,
            "count": 0
           },
           {
            "bin_start": -0.0016065185546874998,
            "bin_end": -0.0008065185546874999,
            "count": 0
           },
           {
            "bin_start": -0.0008065185546874999,
            "bin_end": -0.000006518554687499553,
            "count": 0
           },
           {
            "bin_start": -0.000006518554687499553,
            "bin_end": 0.0007934814453124999,
            "count": 0
           },
           {
            "bin_start": 0.0007934814453124999,
            "bin_end": 0.0015934814453125003,
            "count": 1
           },
           {
            "bin_start": 0.0015934814453125003,
            "bin_end": 0.0023934814453125007,
            "count": 0
           },
           {
            "bin_start": 0.0023934814453125007,
            "bin_end": 0.0031934814453125,
            "count": 2
           }
          ]
         }
        },
        {
         "name": "A1T1G6C2",
         "dtype": "float64",
         "stats": {
          "unique_count": 4,
          "nan_count": 0,
          "min": "-0.0024032592773437",
          "max": "0.0025967407226562",
          "histogram": [
           {
            "bin_start": -0.0024032592773437,
            "bin_end": -0.00190325927734371,
            "count": 2
           },
           {
            "bin_start": -0.00190325927734371,
            "bin_end": -0.00140325927734372,
            "count": 0
           },
           {
            "bin_start": -0.00140325927734372,
            "bin_end": -0.00090325927734373,
            "count": 0
           },
           {
            "bin_start": -0.00090325927734373,
            "bin_end": -0.00040325927734374,
            "count": 0
           },
           {
            "bin_start": -0.00040325927734374,
            "bin_end": 0.00009674072265625005,
            "count": 0
           },
           {
            "bin_start": 0.00009674072265625005,
            "bin_end": 0.0005967407226562401,
            "count": 1
           },
           {
            "bin_start": 0.0005967407226562401,
            "bin_end": 0.0010967407226562301,
            "count": 1
           },
           {
            "bin_start": 0.0010967407226562301,
            "bin_end": 0.0015967407226562202,
            "count": 0
           },
           {
            "bin_start": 0.0015967407226562202,
            "bin_end": 0.00209674072265621,
            "count": 0
           },
           {
            "bin_start": 0.00209674072265621,
            "bin_end": 0.0025967407226562,
            "count": 1
           }
          ]
         }
        },
        {
         "name": "A1T1G7C1",
         "dtype": "float64",
         "stats": {
          "unique_count": 3,
          "nan_count": 0,
          "min": "-0.0006866455078125",
          "max": "-7.264550781250004e-05",
          "histogram": [
           {
            "bin_start": -0.0006866455078125,
            "bin_end": -0.0006252455078125,
            "count": 3
           },
           {
            "bin_start": -0.0006252455078125,
            "bin_end": -0.0005638455078125,
            "count": 0
           },
           {
            "bin_start": -0.0005638455078125,
            "bin_end": -0.0005024455078125,
            "count": 0
           },
           {
            "bin_start": -0.0005024455078125,
            "bin_end": -0.0004410455078125,
            "count": 0
           },
           {
            "bin_start": -0.0004410455078125,
            "bin_end": -0.0003796455078125,
            "count": 0
           },
           {
            "bin_start": -0.0003796455078125,
            "bin_end": -0.0003182455078125,
            "count": 0
           },
           {
            "bin_start": -0.0003182455078125,
            "bin_end": -0.00025684550781249996,
            "count": 0
           },
           {
            "bin_start": -0.00025684550781249996,
            "bin_end": -0.0001954455078125,
            "count": 0
           },
           {
            "bin_start": -0.0001954455078125,
            "bin_end": -0.0001340455078125,
            "count": 1
           },
           {
            "bin_start": -0.0001340455078125,
            "bin_end": -0.00007264550781250004,
            "count": 1
           }
          ]
         }
        },
        {
         "name": "A1T1G8C0",
         "dtype": "object",
         "stats": {
          "unique_count": 3,
          "nan_count": 0,
          "categories": [
           {
            "name": "-8.58306884765625e-05",
            "count": 3
           },
           {
            "name": "-2.58306884765625e-05",
            "count": 1
           },
           {
            "name": "-5.68306884765625e-05",
            "count": 1
           }
          ]
         }
        },
        {
         "name": "A1T2G0C7",
         "dtype": "float64",
         "stats": {
          "unique_count": 3,
          "nan_count": 0,
          "min": "-0.0003433227539062",
          "max": "-0.0001053227539062",
          "histogram": [
           {
            "bin_start": -0.0003433227539062,
            "bin_end": -0.00031952275390620004,
            "count": 3
           },
           {
            "bin_start": -0.00031952275390620004,
            "bin_end": -0.0002957227539062,
            "count": 0
           },
           {
            "bin_start": -0.0002957227539062,
            "bin_end": -0.0002719227539062,
            "count": 0
           },
           {
            "bin_start": -0.0002719227539062,
            "bin_end": -0.0002481227539062,
            "count": 0
           },
           {
            "bin_start": -0.0002481227539062,
            "bin_end": -0.0002243227539062,
            "count": 0
           },
           {
            "bin_start": -0.0002243227539062,
            "bin_end": -0.00020052275390620002,
            "count": 0
           },
           {
            "bin_start": -0.00020052275390620002,
            "bin_end": -0.0001767227539062,
            "count": 1
           },
           {
            "bin_start": -0.0001767227539062,
            "bin_end": -0.0001529227539062,
            "count": 0
           },
           {
            "bin_start": -0.0001529227539062,
            "bin_end": -0.0001291227539062,
            "count": 0
           },
           {
            "bin_start": -0.0001291227539062,
            "bin_end": -0.0001053227539062,
            "count": 1
           }
          ]
         }
        },
        {
         "name": "A1T2G1C6",
         "dtype": "float64",
         "stats": {
          "unique_count": 4,
          "nan_count": 0,
          "min": "-0.0024032592773437",
          "max": "0.0005967407226562",
          "histogram": [
           {
            "bin_start": -0.0024032592773437,
            "bin_end": -0.00210325927734371,
            "count": 2
           },
           {
            "bin_start": -0.00210325927734371,
            "bin_end": -0.00180325927734372,
            "count": 0
           },
           {
            "bin_start": -0.00180325927734372,
            "bin_end": -0.0015032592773437299,
            "count": 0
           },
           {
            "bin_start": -0.0015032592773437299,
            "bin_end": -0.00120325927734374,
            "count": 0
           },
           {
            "bin_start": -0.00120325927734374,
            "bin_end": -0.00090325927734375,
            "count": 0
           },
           {
            "bin_start": -0.00090325927734375,
            "bin_end": -0.0006032592773437598,
            "count": 1
           },
           {
            "bin_start": -0.0006032592773437598,
            "bin_end": -0.00030325927734376965,
            "count": 1
           },
           {
            "bin_start": -0.00030325927734376965,
            "bin_end": -0.0000032592773437797005,
            "count": 0
           },
           {
            "bin_start": -0.0000032592773437797005,
            "bin_end": 0.00029674072265621024,
            "count": 0
           },
           {
            "bin_start": 0.00029674072265621024,
            "bin_end": 0.0005967407226562,
            "count": 1
           }
          ]
         }
        },
        {
         "name": "A1T2G2C5",
         "dtype": "float64",
         "stats": {
          "unique_count": 4,
          "nan_count": 0,
          "min": "-0.0072097778320312",
          "max": "0.0007902221679687",
          "histogram": [
           {
            "bin_start": -0.0072097778320312,
            "bin_end": -0.00640977783203121,
            "count": 2
           },
           {
            "bin_start": -0.00640977783203121,
            "bin_end": -0.00560977783203122,
            "count": 0
           },
           {
            "bin_start": -0.00560977783203122,
            "bin_end": -0.00480977783203123,
            "count": 0
           },
           {
            "bin_start": -0.00480977783203123,
            "bin_end": -0.00400977783203124,
            "count": 0
           },
           {
            "bin_start": -0.00400977783203124,
            "bin_end": -0.00320977783203125,
            "count": 0
           },
           {
            "bin_start": -0.00320977783203125,
            "bin_end": -0.00240977783203126,
            "count": 0
           },
           {
            "bin_start": -0.00240977783203126,
            "bin_end": -0.00160977783203127,
            "count": 0
           },
           {
            "bin_start": -0.00160977783203127,
            "bin_end": -0.00080977783203128,
            "count": 0
           },
           {
            "bin_start": -0.00080977783203128,
            "bin_end": -0.000009777832031290096,
            "count": 0
           },
           {
            "bin_start": -0.000009777832031290096,
            "bin_end": 0.0007902221679687,
            "count": 3
           }
          ]
         }
        },
        {
         "name": "A1T2G3C4",
         "dtype": "float64",
         "stats": {
          "unique_count": 4,
          "nan_count": 0,
          "min": "-0.0120162963867187",
          "max": "0.0034557036132812",
          "histogram": [
           {
            "bin_start": -0.0120162963867187,
            "bin_end": -0.01046909638671871,
            "count": 1
           },
           {
            "bin_start": -0.01046909638671871,
            "bin_end": -0.00892189638671872,
            "count": 0
           },
           {
            "bin_start": -0.00892189638671872,
            "bin_end": -0.00737469638671873,
            "count": 0
           },
           {
            "bin_start": -0.00737469638671873,
            "bin_end": -0.00582749638671874,
            "count": 0
           },
           {
            "bin_start": -0.00582749638671874,
            "bin_end": -0.00428029638671875,
            "count": 0
           },
           {
            "bin_start": -0.00428029638671875,
            "bin_end": -0.0027330963867187603,
            "count": 0
           },
           {
            "bin_start": -0.0027330963867187603,
            "bin_end": -0.0011858963867187704,
            "count": 2
           },
           {
            "bin_start": -0.0011858963867187704,
            "bin_end": 0.00036130361328121953,
            "count": 0
           },
           {
            "bin_start": 0.00036130361328121953,
            "bin_end": 0.0019085036132812094,
            "count": 1
           },
           {
            "bin_start": 0.0019085036132812094,
            "bin_end": 0.0034557036132812,
            "count": 1
           }
          ]
         }
        },
        {
         "name": "A1T2G4C3",
         "dtype": "float64",
         "stats": {
          "unique_count": 5,
          "nan_count": 0,
          "min": "-0.0120162963867187",
          "max": "0.0037707036132812",
          "histogram": [
           {
            "bin_start": -0.0120162963867187,
            "bin_end": -0.01043759638671871,
            "count": 1
           },
           {
            "bin_start": -0.01043759638671871,
            "bin_end": -0.008858896386718721,
            "count": 0
           },
           {
            "bin_start": -0.008858896386718721,
            "bin_end": -0.007280196386718731,
            "count": 0
           },
           {
            "bin_start": -0.007280196386718731,
            "bin_end": -0.005701496386718741,
            "count": 0
           },
           {
            "bin_start": -0.005701496386718741,
            "bin_end": -0.0041227963867187505,
            "count": 0
           },
           {
            "bin_start": -0.0041227963867187505,
            "bin_end": -0.002544096386718762,
            "count": 0
           },
           {
            "bin_start": -0.002544096386718762,
            "bin_end": -0.0009653963867187719,
            "count": 1
           },
           {
            "bin_start": -0.0009653963867187719,
            "bin_end": 0.0006133036132812183,
            "count": 0
           },
           {
            "bin_start": 0.0006133036132812183,
            "bin_end": 0.0021920036132812085,
            "count": 2
           },
           {
            "bin_start": 0.0021920036132812085,
            "bin_end": 0.0037707036132812,
            "count": 1
           }
          ]
         }
        },
        {
         "name": "A1T2G5C2",
         "dtype": "float64",
         "stats": {
          "unique_count": 4,
          "nan_count": 0,
          "min": "-0.0072097778320312",
          "max": "0.0013642221679687",
          "histogram": [
           {
            "bin_start": -0.0072097778320312,
            "bin_end": -0.00635237783203121,
            "count": 2
           },
           {
            "bin_start": -0.00635237783203121,
            "bin_end": -0.00549497783203122,
            "count": 0
           },
           {
            "bin_start": -0.00549497783203122,
            "bin_end": -0.00463757783203123,
            "count": 0
           },
           {
            "bin_start": -0.00463757783203123,
            "bin_end": -0.00378017783203124,
            "count": 0
           },
           {
            "bin_start": -0.00378017783203124,
            "bin_end": -0.00292277783203125,
            "count": 0
           },
           {
            "bin_start": -0.00292277783203125,
            "bin_end": -0.00206537783203126,
            "count": 0
           },
           {
            "bin_start": -0.00206537783203126,
            "bin_end": -0.00120797783203127,
            "count": 0
           },
           {
            "bin_start": -0.00120797783203127,
            "bin_end": -0.00035057783203128016,
            "count": 0
           },
           {
            "bin_start": -0.00035057783203128016,
            "bin_end": 0.0005068221679687098,
            "count": 1
           },
           {
            "bin_start": 0.0005068221679687098,
            "bin_end": 0.0013642221679687,
            "count": 2
           }
          ]
         }
        },
        {
         "name": "A1T2G6C1",
         "dtype": "float64",
         "stats": {
          "unique_count": 5,
          "nan_count": 0,
          "min": "-0.0024032592773437",
          "max": "0.0175967407226562",
          "histogram": [
           {
            "bin_start": -0.0024032592773437,
            "bin_end": -0.00040325927734371006,
            "count": 1
           },
           {
            "bin_start": -0.00040325927734371006,
            "bin_end": 0.00159674072265628,
            "count": 2
           },
           {
            "bin_start": 0.00159674072265628,
            "bin_end": 0.0035967407226562705,
            "count": 1
           },
           {
            "bin_start": 0.0035967407226562705,
            "bin_end": 0.005596740722656261,
            "count": 0
           },
           {
            "bin_start": 0.005596740722656261,
            "bin_end": 0.00759674072265625,
            "count": 0
           },
           {
            "bin_start": 0.00759674072265625,
            "bin_end": 0.009596740722656242,
            "count": 0
           },
           {
            "bin_start": 0.009596740722656242,
            "bin_end": 0.011596740722656231,
            "count": 0
           },
           {
            "bin_start": 0.011596740722656231,
            "bin_end": 0.01359674072265622,
            "count": 0
           },
           {
            "bin_start": 0.01359674072265622,
            "bin_end": 0.015596740722656212,
            "count": 0
           },
           {
            "bin_start": 0.015596740722656212,
            "bin_end": 0.0175967407226562,
            "count": 1
           }
          ]
         }
        },
        {
         "name": "A1T2G7C0",
         "dtype": "float64",
         "stats": {
          "unique_count": 4,
          "nan_count": 0,
          "min": "-0.0003433227539062",
          "max": "0.0096566772460937",
          "histogram": [
           {
            "bin_start": -0.0003433227539062,
            "bin_end": 0.00065667724609379,
            "count": 4
           },
           {
            "bin_start": 0.00065667724609379,
            "bin_end": 0.00165667724609378,
            "count": 0
           },
           {
            "bin_start": 0.00165667724609378,
            "bin_end": 0.00265667724609377,
            "count": 0
           },
           {
            "bin_start": 0.00265667724609377,
            "bin_end": 0.00365667724609376,
            "count": 0
           },
           {
            "bin_start": 0.00365667724609376,
            "bin_end": 0.004656677246093751,
            "count": 0
           },
           {
            "bin_start": 0.004656677246093751,
            "bin_end": 0.005656677246093741,
            "count": 0
           },
           {
            "bin_start": 0.005656677246093741,
            "bin_end": 0.00665667724609373,
            "count": 0
           },
           {
            "bin_start": 0.00665667724609373,
            "bin_end": 0.007656677246093721,
            "count": 0
           },
           {
            "bin_start": 0.007656677246093721,
            "bin_end": 0.008656677246093711,
            "count": 0
           },
           {
            "bin_start": 0.008656677246093711,
            "bin_end": 0.0096566772460937,
            "count": 1
           }
          ]
         }
        },
        {
         "name": "A1T3G0C6",
         "dtype": "float64",
         "stats": {
          "unique_count": 4,
          "nan_count": 0,
          "min": "-0.0008010864257812",
          "max": "0.0001989135742187",
          "histogram": [
           {
            "bin_start": -0.0008010864257812,
            "bin_end": -0.0007010864257812101,
            "count": 2
           },
           {
            "bin_start": -0.0007010864257812101,
            "bin_end": -0.00060108642578122,
            "count": 0
           },
           {
            "bin_start": -0.00060108642578122,
            "bin_end": -0.00050108642578123,
            "count": 0
           },
           {
            "bin_start": -0.00050108642578123,
            "bin_end": -0.00040108642578124,
            "count": 0
           },
           {
            "bin_start": -0.00040108642578124,
            "bin_end": -0.00030108642578125,
            "count": 1
           },
           {
            "bin_start": -0.00030108642578125,
            "bin_end": -0.00020108642578126003,
            "count": 0
           },
           {
            "bin_start": -0.00020108642578126003,
            "bin_end": -0.00010108642578126996,
            "count": 1
           },
           {
            "bin_start": -0.00010108642578126996,
            "bin_end": -0.000001086425781279994,
            "count": 0
           },
           {
            "bin_start": -0.000001086425781279994,
            "bin_end": 0.00009891357421870997,
            "count": 0
           },
           {
            "bin_start": 0.00009891357421870997,
            "bin_end": 0.0001989135742187,
            "count": 1
           }
          ]
         }
        },
        {
         "name": "A1T3G1C5",
         "dtype": "float64",
         "stats": {
          "unique_count": 4,
          "nan_count": 0,
          "min": "-0.0048065185546875",
          "max": "0.0011934814453125",
          "histogram": [
           {
            "bin_start": -0.0048065185546875,
            "bin_end": -0.0042065185546875,
            "count": 2
           },
           {
            "bin_start": -0.0042065185546875,
            "bin_end": -0.0036065185546875,
            "count": 0
           },
           {
            "bin_start": -0.0036065185546875,
            "bin_end": -0.0030065185546874996,
            "count": 0
           },
           {
            "bin_start": -0.0030065185546874996,
            "bin_end": -0.0024065185546874998,
            "count": 0
           },
           {
            "bin_start": -0.0024065185546874998,
            "bin_end": -0.0018065185546875,
            "count": 0
           },
           {
            "bin_start": -0.0018065185546875,
            "bin_end": -0.0012065185546874997,
            "count": 0
           },
           {
            "bin_start": -0.0012065185546874997,
            "bin_end": -0.0006065185546874994,
            "count": 1
           },
           {
            "bin_start": -0.0006065185546874994,
            "bin_end": -0.000006518554687499553,
            "count": 1
           },
           {
            "bin_start": -0.000006518554687499553,
            "bin_end": 0.0005934814453125003,
            "count": 0
           },
           {
            "bin_start": 0.0005934814453125003,
            "bin_end": 0.0011934814453125,
            "count": 1
           }
          ]
         }
        },
        {
         "name": "A1T3G2C4",
         "dtype": "float64",
         "stats": {
          "unique_count": 5,
          "nan_count": 0,
          "min": "-0.0120162963867187",
          "max": "0.0079837036132812",
          "histogram": [
           {
            "bin_start": -0.0120162963867187,
            "bin_end": -0.01001629638671871,
            "count": 1
           },
           {
            "bin_start": -0.01001629638671871,
            "bin_end": -0.008016296386718719,
            "count": 0
           },
           {
            "bin_start": -0.008016296386718719,
            "bin_end": -0.006016296386718729,
            "count": 0
           },
           {
            "bin_start": -0.006016296386718729,
            "bin_end": -0.004016296386718739,
            "count": 0
           },
           {
            "bin_start": -0.004016296386718739,
            "bin_end": -0.00201629638671875,
            "count": 0
           },
           {
            "bin_start": -0.00201629638671875,
            "bin_end": -0.000016296386718758424,
            "count": 1
           },
           {
            "bin_start": -0.000016296386718758424,
            "bin_end": 0.001983703613281231,
            "count": 2
           },
           {
            "bin_start": 0.001983703613281231,
            "bin_end": 0.003983703613281221,
            "count": 0
           },
           {
            "bin_start": 0.003983703613281221,
            "bin_end": 0.005983703613281212,
            "count": 0
           },
           {
            "bin_start": 0.005983703613281212,
            "bin_end": 0.0079837036132812,
            "count": 1
           }
          ]
         }
        },
        {
         "name": "A1T3G3C3",
         "dtype": "float64",
         "stats": {
          "unique_count": 5,
          "nan_count": 0,
          "min": "-0.016021728515625",
          "max": "0.0012992714843749",
          "histogram": [
           {
            "bin_start": -0.016021728515625,
            "bin_end": -0.01428962851562501,
            "count": 1
           },
           {
            "bin_start": -0.01428962851562501,
            "bin_end": -0.01255752851562502,
            "count": 0
           },
           {
            "bin_start": -0.01255752851562502,
            "bin_end": -0.01082542851562503,
            "count": 0
           },
           {
            "bin_start": -0.01082542851562503,
            "bin_end": -0.00909332851562504,
            "count": 0
           },
           {
            "bin_start": -0.00909332851562504,
            "bin_end": -0.0073612285156250505,
            "count": 0
           },
           {
            "bin_start": -0.0073612285156250505,
            "bin_end": -0.005629128515625061,
            "count": 1
           },
           {
            "bin_start": -0.005629128515625061,
            "bin_end": -0.0038970285156250707,
            "count": 0
           },
           {
            "bin_start": -0.0038970285156250707,
            "bin_end": -0.002164928515625081,
            "count": 0
           },
           {
            "bin_start": -0.002164928515625081,
            "bin_end": -0.0004328285156250909,
            "count": 0
           },
           {
            "bin_start": -0.0004328285156250909,
            "bin_end": 0.0012992714843749,
            "count": 3
           }
          ]
         }
        },
        {
         "name": "A1T3G4C2",
         "dtype": "float64",
         "stats": {
          "unique_count": 5,
          "nan_count": 0,
          "min": "-0.0120162963867187",
          "max": "0.0079837036132812",
          "histogram": [
           {
            "bin_start": -0.0120162963867187,
            "bin_end": -0.01001629638671871,
            "count": 1
           },
           {
            "bin_start": -0.01001629638671871,
            "bin_end": -0.008016296386718719,
            "count": 0
           },
           {
            "bin_start": -0.008016296386718719,
            "bin_end": -0.006016296386718729,
            "count": 0
           },
           {
            "bin_start": -0.006016296386718729,
            "bin_end": -0.004016296386718739,
            "count": 0
           },
           {
            "bin_start": -0.004016296386718739,
            "bin_end": -0.00201629638671875,
            "count": 1
           },
           {
            "bin_start": -0.00201629638671875,
            "bin_end": -0.000016296386718758424,
            "count": 0
           },
           {
            "bin_start": -0.000016296386718758424,
            "bin_end": 0.001983703613281231,
            "count": 2
           },
           {
            "bin_start": 0.001983703613281231,
            "bin_end": 0.003983703613281221,
            "count": 0
           },
           {
            "bin_start": 0.003983703613281221,
            "bin_end": 0.005983703613281212,
            "count": 0
           },
           {
            "bin_start": 0.005983703613281212,
            "bin_end": 0.0079837036132812,
            "count": 1
           }
          ]
         }
        },
        {
         "name": "A1T3G5C1",
         "dtype": "float64",
         "stats": {
          "unique_count": 4,
          "nan_count": 0,
          "min": "-0.0048065185546875",
          "max": "-0.0003815185546874",
          "histogram": [
           {
            "bin_start": -0.0048065185546875,
            "bin_end": -0.00436401855468749,
            "count": 2
           },
           {
            "bin_start": -0.00436401855468749,
            "bin_end": -0.00392151855468748,
            "count": 0
           },
           {
            "bin_start": -0.00392151855468748,
            "bin_end": -0.00347901855468747,
            "count": 0
           },
           {
            "bin_start": -0.00347901855468747,
            "bin_end": -0.0030365185546874602,
            "count": 0
           },
           {
            "bin_start": -0.0030365185546874602,
            "bin_end": -0.00259401855468745,
            "count": 0
           },
           {
            "bin_start": -0.00259401855468745,
            "bin_end": -0.00215151855468744,
            "count": 0
           },
           {
            "bin_start": -0.00215151855468744,
            "bin_end": -0.0017090185546874302,
            "count": 0
           },
           {
            "bin_start": -0.0017090185546874302,
            "bin_end": -0.00126651855468742,
            "count": 0
           },
           {
            "bin_start": -0.00126651855468742,
            "bin_end": -0.0008240185546874099,
            "count": 0
           },
           {
            "bin_start": -0.0008240185546874099,
            "bin_end": -0.0003815185546874,
            "count": 3
           }
          ]
         }
        },
        {
         "name": "A1T3G6C0",
         "dtype": "float64",
         "stats": {
          "unique_count": 4,
          "nan_count": 0,
          "min": "-0.0008010864257812",
          "max": "0.0001989135742187",
          "histogram": [
           {
            "bin_start": -0.0008010864257812,
            "bin_end": -0.0007010864257812101,
            "count": 2
           },
           {
            "bin_start": -0.0007010864257812101,
            "bin_end": -0.00060108642578122,
            "count": 0
           },
           {
            "bin_start": -0.00060108642578122,
            "bin_end": -0.00050108642578123,
            "count": 0
           },
           {
            "bin_start": -0.00050108642578123,
            "bin_end": -0.00040108642578124,
            "count": 0
           },
           {
            "bin_start": -0.00040108642578124,
            "bin_end": -0.00030108642578125,
            "count": 1
           },
           {
            "bin_start": -0.00030108642578125,
            "bin_end": -0.00020108642578126003,
            "count": 0
           },
           {
            "bin_start": -0.00020108642578126003,
            "bin_end": -0.00010108642578126996,
            "count": 1
           },
           {
            "bin_start": -0.00010108642578126996,
            "bin_end": -0.000001086425781279994,
            "count": 0
           },
           {
            "bin_start": -0.000001086425781279994,
            "bin_end": 0.00009891357421870997,
            "count": 0
           },
           {
            "bin_start": 0.00009891357421870997,
            "bin_end": 0.0001989135742187,
            "count": 1
           }
          ]
         }
        },
        {
         "name": "A1T4G0C5",
         "dtype": "float64",
         "stats": {
          "unique_count": 3,
          "nan_count": 0,
          "min": "-0.0012016296386718",
          "max": "-0.0001326296386718",
          "histogram": [
           {
            "bin_start": -0.0012016296386718,
            "bin_end": -0.0010947296386718,
            "count": 3
           },
           {
            "bin_start": -0.0010947296386718,
            "bin_end": -0.0009878296386717999,
            "count": 0
           },
           {
            "bin_start": -0.0009878296386717999,
            "bin_end": -0.0008809296386717999,
            "count": 0
           },
           {
            "bin_start": -0.0008809296386717999,
            "bin_end": -0.0007740296386718,
            "count": 0
           },
           {
            "bin_start": -0.0007740296386718,
            "bin_end": -0.0006671296386717999,
            "count": 0
           },
           {
            "bin_start": -0.0006671296386717999,
            "bin_end": -0.0005602296386717999,
            "count": 0
           },
           {
            "bin_start": -0.0005602296386717999,
            "bin_end": -0.00045332963867179994,
            "count": 0
           },
           {
            "bin_start": -0.00045332963867179994,
            "bin_end": -0.0003464296386717999,
            "count": 1
           },
           {
            "bin_start": -0.0003464296386717999,
            "bin_end": -0.00023952963867179984,
            "count": 0
           },
           {
            "bin_start": -0.00023952963867179984,
            "bin_end": -0.0001326296386718,
            "count": 1
           }
          ]
         }
        },
        {
         "name": "A1T4G1C4",
         "dtype": "float64",
         "stats": {
          "unique_count": 5,
          "nan_count": 0,
          "min": "-0.0060081481933593",
          "max": "0.0039918518066406",
          "histogram": [
           {
            "bin_start": -0.0060081481933593,
            "bin_end": -0.00500814819335931,
            "count": 1
           },
           {
            "bin_start": -0.00500814819335931,
            "bin_end": -0.00400814819335932,
            "count": 0
           },
           {
            "bin_start": -0.00400814819335932,
            "bin_end": -0.0030081481933593303,
            "count": 0
           },
           {
            "bin_start": -0.0030081481933593303,
            "bin_end": -0.0020081481933593402,
            "count": 0
           },
           {
            "bin_start": -0.0020081481933593402,
            "bin_end": -0.0010081481933593497,
            "count": 0
           },
           {
            "bin_start": -0.0010081481933593497,
            "bin_end": -0.00000814819335936013,
            "count": 2
           },
           {
            "bin_start": -0.00000814819335936013,
            "bin_end": 0.0009918518066406295,
            "count": 0
           },
           {
            "bin_start": 0.0009918518066406295,
            "bin_end": 0.00199185180664062,
            "count": 1
           },
           {
            "bin_start": 0.00199185180664062,
            "bin_end": 0.0029918518066406104,
            "count": 0
           },
           {
            "bin_start": 0.0029918518066406104,
            "bin_end": 0.0039918518066406,
            "count": 1
           }
          ]
         }
        },
        {
         "name": "A1T4G2C3",
         "dtype": "float64",
         "stats": {
          "unique_count": 4,
          "nan_count": 0,
          "min": "-0.0120162963867187",
          "max": "7.170361328124979e-05",
          "histogram": [
           {
            "bin_start": -0.0120162963867187,
            "bin_end": -0.010807496386718705,
            "count": 2
           },
           {
            "bin_start": -0.010807496386718705,
            "bin_end": -0.00959869638671871,
            "count": 0
           },
           {
            "bin_start": -0.00959869638671871,
            "bin_end": -0.008389896386718715,
            "count": 0
           },
           {
            "bin_start": -0.008389896386718715,
            "bin_end": -0.00718109638671872,
            "count": 0
           },
           {
            "bin_start": -0.00718109638671872,
            "bin_end": -0.005972296386718725,
            "count": 0
           },
           {
            "bin_start": -0.005972296386718725,
            "bin_end": -0.004763496386718731,
            "count": 0
           },
           {
            "bin_start": -0.004763496386718731,
            "bin_end": -0.0035546963867187347,
            "count": 0
           },
           {
            "bin_start": -0.0035546963867187347,
            "bin_end": -0.0023458963867187405,
            "count": 1
           },
           {
            "bin_start": -0.0023458963867187405,
            "bin_end": -0.0011370963867187462,
            "count": 0
           },
           {
            "bin_start": -0.0011370963867187462,
            "bin_end": 0.00007170361328124979,
            "count": 2
           }
          ]
         }
        },
        {
         "name": "A1T4G3C2",
         "dtype": "float64",
         "stats": {
          "unique_count": 4,
          "nan_count": 0,
          "min": "-0.0120162963867187",
          "max": "0.0009837036132812",
          "histogram": [
           {
            "bin_start": -0.0120162963867187,
            "bin_end": -0.01071629638671871,
            "count": 2
           },
           {
            "bin_start": -0.01071629638671871,
            "bin_end": -0.00941629638671872,
            "count": 0
           },
           {
            "bin_start": -0.00941629638671872,
            "bin_end": -0.00811629638671873,
            "count": 0
           },
           {
            "bin_start": -0.00811629638671873,
            "bin_end": -0.00681629638671874,
            "count": 0
           },
           {
            "bin_start": -0.00681629638671874,
            "bin_end": -0.005516296386718749,
            "count": 0
           },
           {
            "bin_start": -0.005516296386718749,
            "bin_end": -0.00421629638671876,
            "count": 0
           },
           {
            "bin_start": -0.00421629638671876,
            "bin_end": -0.0029162963867187704,
            "count": 0
           },
           {
            "bin_start": -0.0029162963867187704,
            "bin_end": -0.00161629638671878,
            "count": 0
           },
           {
            "bin_start": -0.00161629638671878,
            "bin_end": -0.00031629638671878957,
            "count": 0
           },
           {
            "bin_start": -0.00031629638671878957,
            "bin_end": 0.0009837036132812,
            "count": 3
           }
          ]
         }
        },
        {
         "name": "A1T4G4C1",
         "dtype": "float64",
         "stats": {
          "unique_count": 5,
          "nan_count": 0,
          "min": "-0.0060081481933593",
          "max": "0.0039918518066406",
          "histogram": [
           {
            "bin_start": -0.0060081481933593,
            "bin_end": -0.00500814819335931,
            "count": 1
           },
           {
            "bin_start": -0.00500814819335931,
            "bin_end": -0.00400814819335932,
            "count": 0
           },
           {
            "bin_start": -0.00400814819335932,
            "bin_end": -0.0030081481933593303,
            "count": 0
           },
           {
            "bin_start": -0.0030081481933593303,
            "bin_end": -0.0020081481933593402,
            "count": 0
           },
           {
            "bin_start": -0.0020081481933593402,
            "bin_end": -0.0010081481933593497,
            "count": 0
           },
           {
            "bin_start": -0.0010081481933593497,
            "bin_end": -0.00000814819335936013,
            "count": 2
           },
           {
            "bin_start": -0.00000814819335936013,
            "bin_end": 0.0009918518066406295,
            "count": 0
           },
           {
            "bin_start": 0.0009918518066406295,
            "bin_end": 0.00199185180664062,
            "count": 1
           },
           {
            "bin_start": 0.00199185180664062,
            "bin_end": 0.0029918518066406104,
            "count": 0
           },
           {
            "bin_start": 0.0029918518066406104,
            "bin_end": 0.0039918518066406,
            "count": 1
           }
          ]
         }
        },
        {
         "name": "A1T4G5C0",
         "dtype": "float64",
         "stats": {
          "unique_count": 4,
          "nan_count": 0,
          "min": "-0.0012016296386718",
          "max": "0.0087983703613281",
          "histogram": [
           {
            "bin_start": -0.0012016296386718,
            "bin_end": -0.00020162963867180993,
            "count": 4
           },
           {
            "bin_start": -0.00020162963867180993,
            "bin_end": 0.0007983703613281801,
            "count": 0
           },
           {
            "bin_start": 0.0007983703613281801,
            "bin_end": 0.0017983703613281702,
            "count": 0
           },
           {
            "bin_start": 0.0017983703613281702,
            "bin_end": 0.00279837036132816,
            "count": 0
           },
           {
            "bin_start": 0.00279837036132816,
            "bin_end": 0.0037983703613281507,
            "count": 0
           },
           {
            "bin_start": 0.0037983703613281507,
            "bin_end": 0.004798370361328141,
            "count": 0
           },
           {
            "bin_start": 0.004798370361328141,
            "bin_end": 0.0057983703613281295,
            "count": 0
           },
           {
            "bin_start": 0.0057983703613281295,
            "bin_end": 0.00679837036132812,
            "count": 0
           },
           {
            "bin_start": 0.00679837036132812,
            "bin_end": 0.0077983703613281104,
            "count": 0
           },
           {
            "bin_start": 0.0077983703613281104,
            "bin_end": 0.0087983703613281,
            "count": 1
           }
          ]
         }
        },
        {
         "name": "A1T5G0C4",
         "dtype": "float64",
         "stats": {
          "unique_count": 4,
          "nan_count": 0,
          "min": "-0.0012016296386718",
          "max": "4.23703613281251e-05",
          "histogram": [
           {
            "bin_start": -0.0012016296386718,
            "bin_end": -0.0010772296386718076,
            "count": 2
           },
           {
            "bin_start": -0.0010772296386718076,
            "bin_end": -0.000952829638671815,
            "count": 0
           },
           {
            "bin_start": -0.000952829638671815,
            "bin_end": -0.0008284296386718225,
            "count": 0
           },
           {
            "bin_start": -0.0008284296386718225,
            "bin_end": -0.0007040296386718299,
            "count": 0
           },
           {
            "bin_start": -0.0007040296386718299,
            "bin_end": -0.0005796296386718374,
            "count": 0
           },
           {
            "bin_start": -0.0005796296386718374,
            "bin_end": -0.00045522963867184493,
            "count": 0
           },
           {
            "bin_start": -0.00045522963867184493,
            "bin_end": -0.0003308296386718524,
            "count": 0
           },
           {
            "bin_start": -0.0003308296386718524,
            "bin_end": -0.00020642963867185992,
            "count": 0
           },
           {
            "bin_start": -0.00020642963867185992,
            "bin_end": -0.00008202963867186752,
            "count": 1
           },
           {
            "bin_start": -0.00008202963867186752,
            "bin_end": 0.0000423703613281251,
            "count": 2
           }
          ]
         }
        },
        {
         "name": "A1T5G1C3",
         "dtype": "float64",
         "stats": {
          "unique_count": 5,
          "nan_count": 0,
          "min": "-0.0048065185546875",
          "max": "0.0051934814453125",
          "histogram": [
           {
            "bin_start": -0.0048065185546875,
            "bin_end": -0.0038065185546875,
            "count": 1
           },
           {
            "bin_start": -0.0038065185546875,
            "bin_end": -0.0028065185546875,
            "count": 0
           },
           {
            "bin_start": -0.0028065185546875,
            "bin_end": -0.0018065185546875,
            "count": 0
           },
           {
            "bin_start": -0.0018065185546875,
            "bin_end": -0.0008065185546874999,
            "count": 0
           },
           {
            "bin_start": -0.0008065185546874999,
            "bin_end": 0.0001934814453125001,
            "count": 2
           },
           {
            "bin_start": 0.0001934814453125001,
            "bin_end": 0.0011934814453125001,
            "count": 1
           },
           {
            "bin_start": 0.0011934814453125001,
            "bin_end": 0.0021934814453125,
            "count": 0
           },
           {
            "bin_start": 0.0021934814453125,
            "bin_end": 0.0031934814453125,
            "count": 0
           },
           {
            "bin_start": 0.0031934814453125,
            "bin_end": 0.004193481445312501,
            "count": 0
           },
           {
            "bin_start": 0.004193481445312501,
            "bin_end": 0.0051934814453125,
            "count": 1
           }
          ]
         }
        },
        {
         "name": "A1T5G2C2",
         "dtype": "float64",
         "stats": {
          "unique_count": 5,
          "nan_count": 0,
          "min": "-0.0072097778320312",
          "max": "0.0027902221679687",
          "histogram": [
           {
            "bin_start": -0.0072097778320312,
            "bin_end": -0.006209777832031209,
            "count": 1
           },
           {
            "bin_start": -0.006209777832031209,
            "bin_end": -0.00520977783203122,
            "count": 0
           },
           {
            "bin_start": -0.00520977783203122,
            "bin_end": -0.00420977783203123,
            "count": 0
           },
           {
            "bin_start": -0.00420977783203123,
            "bin_end": -0.0032097778320312395,
            "count": 0
           },
           {
            "bin_start": -0.0032097778320312395,
            "bin_end": -0.002209777832031249,
            "count": 0
           },
           {
            "bin_start": -0.002209777832031249,
            "bin_end": -0.0012097778320312594,
            "count": 1
           },
           {
            "bin_start": -0.0012097778320312594,
            "bin_end": -0.0002097778320312698,
            "count": 0
           },
           {
            "bin_start": -0.0002097778320312698,
            "bin_end": 0.0007902221679687207,
            "count": 2
           },
           {
            "bin_start": 0.0007902221679687207,
            "bin_end": 0.0017902221679687112,
            "count": 0
           },
           {
            "bin_start": 0.0017902221679687112,
            "bin_end": 0.0027902221679687,
            "count": 1
           }
          ]
         }
        },
        {
         "name": "A1T5G3C1",
         "dtype": "float64",
         "stats": {
          "unique_count": 4,
          "nan_count": 0,
          "min": "-0.0048065185546875",
          "max": "-0.0001425185546875",
          "histogram": [
           {
            "bin_start": -0.0048065185546875,
            "bin_end": -0.0043401185546875,
            "count": 2
           },
           {
            "bin_start": -0.0043401185546875,
            "bin_end": -0.0038737185546875,
            "count": 0
           },
           {
            "bin_start": -0.0038737185546875,
            "bin_end": -0.0034073185546875003,
            "count": 0
           },
           {
            "bin_start": -0.0034073185546875003,
            "bin_end": -0.0029409185546875,
            "count": 0
           },
           {
            "bin_start": -0.0029409185546875,
            "bin_end": -0.0024745185546875,
            "count": 0
           },
           {
            "bin_start": -0.0024745185546875,
            "bin_end": -0.0020081185546875005,
            "count": 0
           },
           {
            "bin_start": -0.0020081185546875005,
            "bin_end": -0.0015417185546875004,
            "count": 1
           },
           {
            "bin_start": -0.0015417185546875004,
            "bin_end": -0.0010753185546875004,
            "count": 0
           },
           {
            "bin_start": -0.0010753185546875004,
            "bin_end": -0.0006089185546875008,
            "count": 0
           },
           {
            "bin_start": -0.0006089185546875008,
            "bin_end": -0.0001425185546875,
            "count": 2
           }
          ]
         }
        },
        {
         "name": "A1T5G4C0",
         "dtype": "float64",
         "stats": {
          "unique_count": 3,
          "nan_count": 0,
          "min": "-0.0012016296386718",
          "max": "-0.0001636296386718",
          "histogram": [
           {
            "bin_start": -0.0012016296386718,
            "bin_end": -0.0010978296386718,
            "count": 3
           },
           {
            "bin_start": -0.0010978296386718,
            "bin_end": -0.0009940296386718,
            "count": 0
           },
           {
            "bin_start": -0.0009940296386718,
            "bin_end": -0.0008902296386718,
            "count": 0
           },
           {
            "bin_start": -0.0008902296386718,
            "bin_end": -0.0007864296386718001,
            "count": 0
           },
           {
            "bin_start": -0.0007864296386718001,
            "bin_end": -0.0006826296386718,
            "count": 0
           },
           {
            "bin_start": -0.0006826296386718,
            "bin_end": -0.0005788296386718,
            "count": 0
           },
           {
            "bin_start": -0.0005788296386718,
            "bin_end": -0.0004750296386718001,
            "count": 0
           },
           {
            "bin_start": -0.0004750296386718001,
            "bin_end": -0.00037122963867180006,
            "count": 0
           },
           {
            "bin_start": -0.00037122963867180006,
            "bin_end": -0.00026742963867180003,
            "count": 1
           },
           {
            "bin_start": -0.00026742963867180003,
            "bin_end": -0.0001636296386718,
            "count": 1
           }
          ]
         }
        },
        {
         "name": "A1T6G0C3",
         "dtype": "float64",
         "stats": {
          "unique_count": 4,
          "nan_count": 0,
          "min": "-0.0008010864257812",
          "max": "0.0091989135742187",
          "histogram": [
           {
            "bin_start": -0.0008010864257812,
            "bin_end": 0.00019891357421879003,
            "count": 3
           },
           {
            "bin_start": 0.00019891357421879003,
            "bin_end": 0.00119891357421878,
            "count": 1
           },
           {
            "bin_start": 0.00119891357421878,
            "bin_end": 0.00219891357421877,
            "count": 0
           },
           {
            "bin_start": 0.00219891357421877,
            "bin_end": 0.00319891357421876,
            "count": 0
           },
           {
            "bin_start": 0.00319891357421876,
            "bin_end": 0.004198913574218751,
            "count": 0
           },
           {
            "bin_start": 0.004198913574218751,
            "bin_end": 0.005198913574218741,
            "count": 0
           },
           {
            "bin_start": 0.005198913574218741,
            "bin_end": 0.00619891357421873,
            "count": 0
           },
           {
            "bin_start": 0.00619891357421873,
            "bin_end": 0.007198913574218721,
            "count": 0
           },
           {
            "bin_start": 0.007198913574218721,
            "bin_end": 0.008198913574218711,
            "count": 0
           },
           {
            "bin_start": 0.008198913574218711,
            "bin_end": 0.0091989135742187,
            "count": 1
           }
          ]
         }
        },
        {
         "name": "A1T6G1C2",
         "dtype": "float64",
         "stats": {
          "unique_count": 4,
          "nan_count": 0,
          "min": "-0.0014032592773437",
          "max": "0.0075967407226562",
          "histogram": [
           {
            "bin_start": -0.0014032592773437,
            "bin_end": -0.0005032592773437101,
            "count": 1
           },
           {
            "bin_start": -0.0005032592773437101,
            "bin_end": 0.0003967407226562799,
            "count": 0
           },
           {
            "bin_start": 0.0003967407226562799,
            "bin_end": 0.0012967407226562697,
            "count": 2
           },
           {
            "bin_start": 0.0012967407226562697,
            "bin_end": 0.00219674072265626,
            "count": 0
           },
           {
            "bin_start": 0.00219674072265626,
            "bin_end": 0.00309674072265625,
            "count": 0
           },
           {
            "bin_start": 0.00309674072265625,
            "bin_end": 0.003996740722656239,
            "count": 0
           },
           {
            "bin_start": 0.003996740722656239,
            "bin_end": 0.00489674072265623,
            "count": 0
           },
           {
            "bin_start": 0.00489674072265623,
            "bin_end": 0.0057967407226562195,
            "count": 0
           },
           {
            "bin_start": 0.0057967407226562195,
            "bin_end": 0.006696740722656209,
            "count": 0
           },
           {
            "bin_start": 0.006696740722656209,
            "bin_end": 0.0075967407226562,
            "count": 2
           }
          ]
         }
        },
        {
         "name": "A1T6G2C1",
         "dtype": "float64",
         "stats": {
          "unique_count": 5,
          "nan_count": 0,
          "min": "-0.0024032592773437",
          "max": "0.0075967407226562",
          "histogram": [
           {
            "bin_start": -0.0024032592773437,
            "bin_end": -0.00140325927734371,
            "count": 1
           },
           {
            "bin_start": -0.00140325927734371,
            "bin_end": -0.00040325927734372003,
            "count": 0
           },
           {
            "bin_start": -0.00040325927734372003,
            "bin_end": 0.00059674072265627,
            "count": 2
           },
           {
            "bin_start": 0.00059674072265627,
            "bin_end": 0.00159674072265626,
            "count": 1
           },
           {
            "bin_start": 0.00159674072265626,
            "bin_end": 0.0025967407226562505,
            "count": 0
           },
           {
            "bin_start": 0.0025967407226562505,
            "bin_end": 0.00359674072265624,
            "count": 0
           },
           {
            "bin_start": 0.00359674072265624,
            "bin_end": 0.00459674072265623,
            "count": 0
           },
           {
            "bin_start": 0.00459674072265623,
            "bin_end": 0.005596740722656221,
            "count": 0
           },
           {
            "bin_start": 0.005596740722656221,
            "bin_end": 0.006596740722656211,
            "count": 0
           },
           {
            "bin_start": 0.006596740722656211,
            "bin_end": 0.0075967407226562,
            "count": 1
           }
          ]
         }
        },
        {
         "name": "A1T6G3C0",
         "dtype": "float64",
         "stats": {
          "unique_count": 3,
          "nan_count": 0,
          "min": "-0.0008010864257812",
          "max": "8.891357421874995e-05",
          "histogram": [
           {
            "bin_start": -0.0008010864257812,
            "bin_end": -0.000712086425781205,
            "count": 3
           },
           {
            "bin_start": -0.000712086425781205,
            "bin_end": -0.00062308642578121,
            "count": 0
           },
           {
            "bin_start": -0.00062308642578121,
            "bin_end": -0.000534086425781215,
            "count": 0
           },
           {
            "bin_start": -0.000534086425781215,
            "bin_end": -0.00044508642578122004,
            "count": 0
           },
           {
            "bin_start": -0.00044508642578122004,
            "bin_end": -0.00035608642578122503,
            "count": 0
           },
           {
            "bin_start": -0.00035608642578122503,
            "bin_end": -0.0002670864257812301,
            "count": 0
           },
           {
            "bin_start": -0.0002670864257812301,
            "bin_end": -0.00017808642578123507,
            "count": 0
           },
           {
            "bin_start": -0.00017808642578123507,
            "bin_end": -0.00008908642578124007,
            "count": 0
           },
           {
            "bin_start": -0.00008908642578124007,
            "bin_end": -8.642578124505845e-8,
            "count": 0
           },
           {
            "bin_start": -8.642578124505845e-8,
            "bin_end": 0.00008891357421874995,
            "count": 2
           }
          ]
         }
        },
        {
         "name": "A1T7G0C2",
         "dtype": "float64",
         "stats": {
          "unique_count": 3,
          "nan_count": 0,
          "min": "-0.0003433227539062",
          "max": "0.0003966772460937",
          "histogram": [
           {
            "bin_start": -0.0003433227539062,
            "bin_end": -0.00026932275390621004,
            "count": 3
           },
           {
            "bin_start": -0.00026932275390621004,
            "bin_end": -0.00019532275390622,
            "count": 0
           },
           {
            "bin_start": -0.00019532275390622,
            "bin_end": -0.00012132275390623,
            "count": 0
           },
           {
            "bin_start": -0.00012132275390623,
            "bin_end": -0.000047322753906239986,
            "count": 0
           },
           {
            "bin_start": -0.000047322753906239986,
            "bin_end": 0.000026677246093749995,
            "count": 0
           },
           {
            "bin_start": 0.000026677246093749995,
            "bin_end": 0.00010067724609374003,
            "count": 0
           },
           {
            "bin_start": 0.00010067724609374003,
            "bin_end": 0.00017467724609373006,
            "count": 0
           },
           {
            "bin_start": 0.00017467724609373006,
            "bin_end": 0.00024867724609372005,
            "count": 1
           },
           {
            "bin_start": 0.00024867724609372005,
            "bin_end": 0.00032267724609371,
            "count": 0
           },
           {
            "bin_start": 0.00032267724609371,
            "bin_end": 0.0003966772460937,
            "count": 1
           }
          ]
         }
        },
        {
         "name": "A1T7G1C1",
         "dtype": "float64",
         "stats": {
          "unique_count": 4,
          "nan_count": 0,
          "min": "-0.0006866455078125",
          "max": "0.0013133544921875",
          "histogram": [
           {
            "bin_start": -0.0006866455078125,
            "bin_end": -0.0004866455078125,
            "count": 2
           },
           {
            "bin_start": -0.0004866455078125,
            "bin_end": -0.0002866455078125,
            "count": 0
           },
           {
            "bin_start": -0.0002866455078125,
            "bin_end": -0.00008664550781249994,
            "count": 0
           },
           {
            "bin_start": -0.00008664550781249994,
            "bin_end": 0.00011335449218750004,
            "count": 0
           },
           {
            "bin_start": 0.00011335449218750004,
            "bin_end": 0.0003133544921875,
            "count": 1
           },
           {
            "bin_start": 0.0003133544921875,
            "bin_end": 0.0005133544921875001,
            "count": 0
           },
           {
            "bin_start": 0.0005133544921875001,
            "bin_end": 0.0007133544921875,
            "count": 1
           },
           {
            "bin_start": 0.0007133544921875,
            "bin_end": 0.0009133544921875001,
            "count": 0
           },
           {
            "bin_start": 0.0009133544921875001,
            "bin_end": 0.0011133544921875002,
            "count": 0
           },
           {
            "bin_start": 0.0011133544921875002,
            "bin_end": 0.0013133544921875,
            "count": 1
           }
          ]
         }
        },
        {
         "name": "A1T7G2C0",
         "dtype": "float64",
         "stats": {
          "unique_count": 4,
          "nan_count": 0,
          "min": "-0.0003433227539062",
          "max": "0.0006566772460937",
          "histogram": [
           {
            "bin_start": -0.0003433227539062,
            "bin_end": -0.00024332275390621,
            "count": 2
           },
           {
            "bin_start": -0.00024332275390621,
            "bin_end": -0.00014332275390622,
            "count": 0
           },
           {
            "bin_start": -0.00014332275390622,
            "bin_end": -0.00004332275390623002,
            "count": 0
           },
           {
            "bin_start": -0.00004332275390623002,
            "bin_end": 0.000056677246093759994,
            "count": 0
           },
           {
            "bin_start": 0.000056677246093759994,
            "bin_end": 0.00015667724609375,
            "count": 1
           },
           {
            "bin_start": 0.00015667724609375,
            "bin_end": 0.00025667724609373997,
            "count": 1
           },
           {
            "bin_start": 0.00025667724609373997,
            "bin_end": 0.00035667724609373004,
            "count": 0
           },
           {
            "bin_start": 0.00035667724609373004,
            "bin_end": 0.00045667724609372,
            "count": 0
           },
           {
            "bin_start": 0.00045667724609372,
            "bin_end": 0.00055667724609371,
            "count": 0
           },
           {
            "bin_start": 0.00055667724609371,
            "bin_end": 0.0006566772460937,
            "count": 1
           }
          ]
         }
        },
        {
         "name": "A1T8G0C1",
         "dtype": "float64",
         "stats": {
          "unique_count": 3,
          "nan_count": 0,
          "min": "-8.58306884765625e-05",
          "max": "0.0002441693115234",
          "histogram": [
           {
            "bin_start": -0.0000858306884765625,
            "bin_end": -0.00005283068847656625,
            "count": 3
           },
           {
            "bin_start": -0.00005283068847656625,
            "bin_end": -0.000019830688476570003,
            "count": 0
           },
           {
            "bin_start": -0.000019830688476570003,
            "bin_end": 0.000013169311523426245,
            "count": 0
           },
           {
            "bin_start": 0.000013169311523426245,
            "bin_end": 0.000046169311523422494,
            "count": 0
           },
           {
            "bin_start": 0.000046169311523422494,
            "bin_end": 0.00007916931152341874,
            "count": 0
           },
           {
            "bin_start": 0.00007916931152341874,
            "bin_end": 0.00011216931152341499,
            "count": 0
           },
           {
            "bin_start": 0.00011216931152341499,
            "bin_end": 0.00014516931152341124,
            "count": 1
           },
           {
            "bin_start": 0.00014516931152341124,
            "bin_end": 0.0001781693115234075,
            "count": 0
           },
           {
            "bin_start": 0.0001781693115234075,
            "bin_end": 0.00021116931152340374,
            "count": 0
           },
           {
            "bin_start": 0.00021116931152340374,
            "bin_end": 0.0002441693115234,
            "count": 1
           }
          ]
         }
        },
        {
         "name": "A1T8G1C0",
         "dtype": "float64",
         "stats": {
          "unique_count": 3,
          "nan_count": 0,
          "min": "-8.58306884765625e-05",
          "max": "0.0001721693115234",
          "histogram": [
           {
            "bin_start": -0.0000858306884765625,
            "bin_end": -0.00006003068847656625,
            "count": 3
           },
           {
            "bin_start": -0.00006003068847656625,
            "bin_end": -0.00003423068847657001,
            "count": 0
           },
           {
            "bin_start": -0.00003423068847657001,
            "bin_end": -0.000008430688476573765,
            "count": 0
           },
           {
            "bin_start": -0.000008430688476573765,
            "bin_end": 0.000017369311523422485,
            "count": 0
           },
           {
            "bin_start": 0.000017369311523422485,
            "bin_end": 0.000043169311523418735,
            "count": 0
           },
           {
            "bin_start": 0.000043169311523418735,
            "bin_end": 0.00006896931152341497,
            "count": 0
           },
           {
            "bin_start": 0.00006896931152341497,
            "bin_end": 0.00009476931152341123,
            "count": 1
           },
           {
            "bin_start": 0.00009476931152341123,
            "bin_end": 0.00012056931152340747,
            "count": 0
           },
           {
            "bin_start": 0.00012056931152340747,
            "bin_end": 0.0001463693115234037,
            "count": 0
           },
           {
            "bin_start": 0.0001463693115234037,
            "bin_end": 0.0001721693115234,
            "count": 1
           }
          ]
         }
        },
        {
         "name": "A1T9G0C0",
         "dtype": "float64",
         "stats": {
          "unique_count": 3,
          "nan_count": 0,
          "min": "-9.5367431640625e-06",
          "max": "4.24632568359375e-05",
          "histogram": [
           {
            "bin_start": -0.0000095367431640625,
            "bin_end": -0.000004336743164062501,
            "count": 3
           },
           {
            "bin_start": -0.000004336743164062501,
            "bin_end": 8.632568359374987e-7,
            "count": 0
           },
           {
            "bin_start": 8.632568359374987e-7,
            "bin_end": 0.0000060632568359375,
            "count": 0
           },
           {
            "bin_start": 0.0000060632568359375,
            "bin_end": 0.000011263256835937497,
            "count": 0
           },
           {
            "bin_start": 0.000011263256835937497,
            "bin_end": 0.000016463256835937495,
            "count": 0
           },
           {
            "bin_start": 0.000016463256835937495,
            "bin_end": 0.0000216632568359375,
            "count": 1
           },
           {
            "bin_start": 0.0000216632568359375,
            "bin_end": 0.000026863256835937497,
            "count": 0
           },
           {
            "bin_start": 0.000026863256835937497,
            "bin_end": 0.000032063256835937495,
            "count": 0
           },
           {
            "bin_start": 0.000032063256835937495,
            "bin_end": 0.00003726325683593749,
            "count": 0
           },
           {
            "bin_start": 0.00003726325683593749,
            "bin_end": 0.0000424632568359375,
            "count": 1
           }
          ]
         }
        },
        {
         "name": "A2T0G0C8",
         "dtype": "float64",
         "stats": {
          "unique_count": 3,
          "nan_count": 0,
          "min": "-4.291534423828125e-05",
          "max": "-9.915344238281247e-06",
          "histogram": [
           {
            "bin_start": -0.00004291534423828125,
            "bin_end": -0.00003961534423828125,
            "count": 3
           },
           {
            "bin_start": -0.00003961534423828125,
            "bin_end": -0.00003631534423828125,
            "count": 0
           },
           {
            "bin_start": -0.00003631534423828125,
            "bin_end": -0.00003301534423828125,
            "count": 0
           },
           {
            "bin_start": -0.00003301534423828125,
            "bin_end": -0.000029715344238281248,
            "count": 0
           },
           {
            "bin_start": -0.000029715344238281248,
            "bin_end": -0.00002641534423828125,
            "count": 0
           },
           {
            "bin_start": -0.00002641534423828125,
            "bin_end": -0.00002311534423828125,
            "count": 0
           },
           {
            "bin_start": -0.00002311534423828125,
            "bin_end": -0.000019815344238281248,
            "count": 1
           },
           {
            "bin_start": -0.000019815344238281248,
            "bin_end": -0.00001651534423828125,
            "count": 0
           },
           {
            "bin_start": -0.00001651534423828125,
            "bin_end": -0.00001321534423828125,
            "count": 0
           },
           {
            "bin_start": -0.00001321534423828125,
            "bin_end": -0.000009915344238281247,
            "count": 1
           }
          ]
         }
        },
        {
         "name": "A2T0G1C7",
         "dtype": "float64",
         "stats": {
          "unique_count": 4,
          "nan_count": 0,
          "min": "-0.0003433227539062",
          "max": "0.0006566772460937",
          "histogram": [
           {
            "bin_start": -0.0003433227539062,
            "bin_end": -0.00024332275390621,
            "count": 2
           },
           {
            "bin_start": -0.00024332275390621,
            "bin_end": -0.00014332275390622,
            "count": 0
           },
           {
            "bin_start": -0.00014332275390622,
            "bin_end": -0.00004332275390623002,
            "count": 0
           },
           {
            "bin_start": -0.00004332275390623002,
            "bin_end": 0.000056677246093759994,
            "count": 2
           },
           {
            "bin_start": 0.000056677246093759994,
            "bin_end": 0.00015667724609375,
            "count": 0
           },
           {
            "bin_start": 0.00015667724609375,
            "bin_end": 0.00025667724609373997,
            "count": 0
           },
           {
            "bin_start": 0.00025667724609373997,
            "bin_end": 0.00035667724609373004,
            "count": 0
           },
           {
            "bin_start": 0.00035667724609373004,
            "bin_end": 0.00045667724609372,
            "count": 0
           },
           {
            "bin_start": 0.00045667724609372,
            "bin_end": 0.00055667724609371,
            "count": 0
           },
           {
            "bin_start": 0.00055667724609371,
            "bin_end": 0.0006566772460937,
            "count": 1
           }
          ]
         }
        },
        {
         "name": "A2T0G2C6",
         "dtype": "float64",
         "stats": {
          "unique_count": 3,
          "nan_count": 0,
          "min": "-0.0012016296386718",
          "max": "0.0007383703613281",
          "histogram": [
           {
            "bin_start": -0.0012016296386718,
            "bin_end": -0.00100762963867181,
            "count": 3
           },
           {
            "bin_start": -0.00100762963867181,
            "bin_end": -0.00081362963867182,
            "count": 0
           },
           {
            "bin_start": -0.00081362963867182,
            "bin_end": -0.00061962963867183,
            "count": 0
           },
           {
            "bin_start": -0.00061962963867183,
            "bin_end": -0.00042562963867184,
            "count": 0
           },
           {
            "bin_start": -0.00042562963867184,
            "bin_end": -0.00023162963867185,
            "count": 0
           },
           {
            "bin_start": -0.00023162963867185,
            "bin_end": -0.000037629638671859934,
            "count": 0
           },
           {
            "bin_start": -0.000037629638671859934,
            "bin_end": 0.00015637036132813004,
            "count": 0
           },
           {
            "bin_start": 0.00015637036132813004,
            "bin_end": 0.00035037036132812,
            "count": 0
           },
           {
            "bin_start": 0.00035037036132812,
            "bin_end": 0.00054437036132811,
            "count": 1
           },
           {
            "bin_start": 0.00054437036132811,
            "bin_end": 0.0007383703613281,
            "count": 1
           }
          ]
         }
        },
        {
         "name": "A2T0G3C5",
         "dtype": "float64",
         "stats": {
          "unique_count": 4,
          "nan_count": 0,
          "min": "-0.0024032592773437",
          "max": "0.0020997407226562",
          "histogram": [
           {
            "bin_start": -0.0024032592773437,
            "bin_end": -0.00195295927734371,
            "count": 2
           },
           {
            "bin_start": -0.00195295927734371,
            "bin_end": -0.00150265927734372,
            "count": 0
           },
           {
            "bin_start": -0.00150265927734372,
            "bin_end": -0.0010523592773437301,
            "count": 0
           },
           {
            "bin_start": -0.0010523592773437301,
            "bin_end": -0.00060205927734374,
            "count": 0
           },
           {
            "bin_start": -0.00060205927734374,
            "bin_end": -0.00015175927734374997,
            "count": 0
           },
           {
            "bin_start": -0.00015175927734374997,
            "bin_end": 0.0002985407226562399,
            "count": 0
           },
           {
            "bin_start": 0.0002985407226562399,
            "bin_end": 0.0007488407226562302,
            "count": 0
           },
           {
            "bin_start": 0.0007488407226562302,
            "bin_end": 0.00119914072265622,
            "count": 1
           },
           {
            "bin_start": 0.00119914072265622,
            "bin_end": 0.00164944072265621,
            "count": 1
           },
           {
            "bin_start": 0.00164944072265621,
            "bin_end": 0.0020997407226562,
            "count": 1
           }
          ]
         }
        },
        {
         "name": "A2T0G4C4",
         "dtype": "float64",
         "stats": {
          "unique_count": 4,
          "nan_count": 0,
          "min": "-0.0030040740966796",
          "max": "0.0025459259033203",
          "histogram": [
           {
            "bin_start": -0.0030040740966796,
            "bin_end": -0.00244907409667961,
            "count": 2
           },
           {
            "bin_start": -0.00244907409667961,
            "bin_end": -0.0018940740966796198,
            "count": 1
           },
           {
            "bin_start": -0.0018940740966796198,
            "bin_end": -0.0013390740966796296,
            "count": 0
           },
           {
            "bin_start": -0.0013390740966796296,
            "bin_end": -0.0007840740966796396,
            "count": 0
           },
           {
            "bin_start": -0.0007840740966796396,
            "bin_end": -0.00022907409667964965,
            "count": 0
           },
           {
            "bin_start": -0.00022907409667964965,
            "bin_end": 0.00032592590332034075,
            "count": 0
           },
           {
            "bin_start": 0.00032592590332034075,
            "bin_end": 0.0008809259033203307,
            "count": 0
           },
           {
            "bin_start": 0.0008809259033203307,
            "bin_end": 0.0014359259033203207,
            "count": 1
           },
           {
            "bin_start": 0.0014359259033203207,
            "bin_end": 0.001990925903320311,
            "count": 0
           },
           {
            "bin_start": 0.001990925903320311,
            "bin_end": 0.0025459259033203,
            "count": 1
           }
          ]
         }
        },
        {
         "name": "A2T0G5C3",
         "dtype": "float64",
         "stats": {
          "unique_count": 4,
          "nan_count": 0,
          "min": "-0.0024032592773437",
          "max": "0.0014487407226562",
          "histogram": [
           {
            "bin_start": -0.0024032592773437,
            "bin_end": -0.00201805927734371,
            "count": 2
           },
           {
            "bin_start": -0.00201805927734371,
            "bin_end": -0.00163285927734372,
            "count": 0
           },
           {
            "bin_start": -0.00163285927734372,
            "bin_end": -0.0012476592773437302,
            "count": 0
           },
           {
            "bin_start": -0.0012476592773437302,
            "bin_end": -0.0008624592773437401,
            "count": 0
           },
           {
            "bin_start": -0.0008624592773437401,
            "bin_end": -0.00047725927734375,
            "count": 0
           },
           {
            "bin_start": -0.00047725927734375,
            "bin_end": -0.00009205927734376017,
            "count": 1
           },
           {
            "bin_start": -0.00009205927734376017,
            "bin_end": 0.0002931407226562299,
            "count": 0
           },
           {
            "bin_start": 0.0002931407226562299,
            "bin_end": 0.00067834072265622,
            "count": 0
           },
           {
            "bin_start": 0.00067834072265622,
            "bin_end": 0.00106354072265621,
            "count": 1
           },
           {
            "bin_start": 0.00106354072265621,
            "bin_end": 0.0014487407226562,
            "count": 1
           }
          ]
         }
        },
        {
         "name": "A2T0G6C2",
         "dtype": "float64",
         "stats": {
          "unique_count": 4,
          "nan_count": 0,
          "min": "-0.0012016296386718",
          "max": "0.0017983703613281",
          "histogram": [
           {
            "bin_start": -0.0012016296386718,
            "bin_end": -0.00090162963867181,
            "count": 2
           },
           {
            "bin_start": -0.00090162963867181,
            "bin_end": -0.00060162963867182,
            "count": 0
           },
           {
            "bin_start": -0.00060162963867182,
            "bin_end": -0.0003016296386718299,
            "count": 0
           },
           {
            "bin_start": -0.0003016296386718299,
            "bin_end": -0.000001629638671839977,
            "count": 0
           },
           {
            "bin_start": -0.000001629638671839977,
            "bin_end": 0.00029837036132814997,
            "count": 2
           },
           {
            "bin_start": 0.00029837036132814997,
            "bin_end": 0.0005983703613281401,
            "count": 0
           },
           {
            "bin_start": 0.0005983703613281401,
            "bin_end": 0.0008983703613281301,
            "count": 0
           },
           {
            "bin_start": 0.0008983703613281301,
            "bin_end": 0.00119837036132812,
            "count": 0
           },
           {
            "bin_start": 0.00119837036132812,
            "bin_end": 0.00149837036132811,
            "count": 0
           },
           {
            "bin_start": 0.00149837036132811,
            "bin_end": 0.0017983703613281,
            "count": 1
           }
          ]
         }
        },
        {
         "name": "A2T0G7C1",
         "dtype": "float64",
         "stats": {
          "unique_count": 3,
          "nan_count": 0,
          "min": "-0.0003433227539062",
          "max": "-6.332275390625002e-05",
          "histogram": [
           {
            "bin_start": -0.0003433227539062,
            "bin_end": -0.00031532275390620503,
            "count": 3
           },
           {
            "bin_start": -0.00031532275390620503,
            "bin_end": -0.00028732275390621004,
            "count": 0
           },
           {
            "bin_start": -0.00028732275390621004,
            "bin_end": -0.000259322753906215,
            "count": 0
           },
           {
            "bin_start": -0.000259322753906215,
            "bin_end": -0.00023132275390622,
            "count": 0
           },
           {
            "bin_start": -0.00023132275390622,
            "bin_end": -0.00020332275390622502,
            "count": 0
           },
           {
            "bin_start": -0.00020332275390622502,
            "bin_end": -0.00017532275390623003,
            "count": 0
           },
           {
            "bin_start": -0.00017532275390623003,
            "bin_end": -0.00014732275390623502,
            "count": 0
           },
           {
            "bin_start": -0.00014732275390623502,
            "bin_end": -0.00011932275390624003,
            "count": 0
           },
           {
            "bin_start": -0.00011932275390624003,
            "bin_end": -0.00009132275390624501,
            "count": 0
           },
           {
            "bin_start": -0.00009132275390624501,
            "bin_end": -0.00006332275390625002,
            "count": 2
           }
          ]
         }
        },
        {
         "name": "A2T0G8C0",
         "dtype": "float64",
         "stats": {
          "unique_count": 3,
          "nan_count": 0,
          "min": "-4.291534423828125e-05",
          "max": "-6.915344238281249e-06",
          "histogram": [
           {
            "bin_start": -0.00004291534423828125,
            "bin_end": -0.00003931534423828125,
            "count": 3
           },
           {
            "bin_start": -0.00003931534423828125,
            "bin_end": -0.00003571534423828125,
            "count": 0
           },
           {
            "bin_start": -0.00003571534423828125,
            "bin_end": -0.000032115344238281245,
            "count": 0
           },
           {
            "bin_start": -0.000032115344238281245,
            "bin_end": -0.00002851534423828125,
            "count": 0
           },
           {
            "bin_start": -0.00002851534423828125,
            "bin_end": -0.00002491534423828125,
            "count": 0
           },
           {
            "bin_start": -0.00002491534423828125,
            "bin_end": -0.000021315344238281247,
            "count": 0
           },
           {
            "bin_start": -0.000021315344238281247,
            "bin_end": -0.000017715344238281247,
            "count": 1
           },
           {
            "bin_start": -0.000017715344238281247,
            "bin_end": -0.000014115344238281248,
            "count": 0
           },
           {
            "bin_start": -0.000014115344238281248,
            "bin_end": -0.000010515344238281249,
            "count": 0
           },
           {
            "bin_start": -0.000010515344238281249,
            "bin_end": -0.000006915344238281249,
            "count": 1
           }
          ]
         }
        },
        {
         "name": "A2T1G0C7",
         "dtype": "float64",
         "stats": {
          "unique_count": 3,
          "nan_count": 0,
          "min": "-0.0003433227539062",
          "max": "-8.832275390624998e-05",
          "histogram": [
           {
            "bin_start": -0.0003433227539062,
            "bin_end": -0.00031782275390620504,
            "count": 3
           },
           {
            "bin_start": -0.00031782275390620504,
            "bin_end": -0.00029232275390621,
            "count": 0
           },
           {
            "bin_start": -0.00029232275390621,
            "bin_end": -0.000266822753906215,
            "count": 0
           },
           {
            "bin_start": -0.000266822753906215,
            "bin_end": -0.00024132275390622,
            "count": 0
           },
           {
            "bin_start": -0.00024132275390622,
            "bin_end": -0.000215822753906225,
            "count": 0
           },
           {
            "bin_start": -0.000215822753906225,
            "bin_end": -0.00019032275390623002,
            "count": 0
           },
           {
            "bin_start": -0.00019032275390623002,
            "bin_end": -0.000164822753906235,
            "count": 1
           },
           {
            "bin_start": -0.000164822753906235,
            "bin_end": -0.00013932275390624,
            "count": 0
           },
           {
            "bin_start": -0.00013932275390624,
            "bin_end": -0.00011382275390624499,
            "count": 0
           },
           {
            "bin_start": -0.00011382275390624499,
            "bin_end": -0.00008832275390624998,
            "count": 1
           }
          ]
         }
        },
        {
         "name": "A2T1G1C6",
         "dtype": "float64",
         "stats": {
          "unique_count": 4,
          "nan_count": 0,
          "min": "-0.0024032592773437",
          "max": "0.0005967407226562",
          "histogram": [
           {
            "bin_start": -0.0024032592773437,
            "bin_end": -0.00210325927734371,
            "count": 2
           },
           {
            "bin_start": -0.00210325927734371,
            "bin_end": -0.00180325927734372,
            "count": 0
           },
           {
            "bin_start": -0.00180325927734372,
            "bin_end": -0.0015032592773437299,
            "count": 0
           },
           {
            "bin_start": -0.0015032592773437299,
            "bin_end": -0.00120325927734374,
            "count": 0
           },
           {
            "bin_start": -0.00120325927734374,
            "bin_end": -0.00090325927734375,
            "count": 0
           },
           {
            "bin_start": -0.00090325927734375,
            "bin_end": -0.0006032592773437598,
            "count": 0
           },
           {
            "bin_start": -0.0006032592773437598,
            "bin_end": -0.00030325927734376965,
            "count": 1
           },
           {
            "bin_start": -0.00030325927734376965,
            "bin_end": -0.0000032592773437797005,
            "count": 1
           },
           {
            "bin_start": -0.0000032592773437797005,
            "bin_end": 0.00029674072265621024,
            "count": 0
           },
           {
            "bin_start": 0.00029674072265621024,
            "bin_end": 0.0005967407226562,
            "count": 1
           }
          ]
         }
        },
        {
         "name": "A2T1G2C5",
         "dtype": "float64",
         "stats": {
          "unique_count": 4,
          "nan_count": 0,
          "min": "-0.0072097778320312",
          "max": "0.0015252221679687",
          "histogram": [
           {
            "bin_start": -0.0072097778320312,
            "bin_end": -0.00633627783203121,
            "count": 2
           },
           {
            "bin_start": -0.00633627783203121,
            "bin_end": -0.00546277783203122,
            "count": 0
           },
           {
            "bin_start": -0.00546277783203122,
            "bin_end": -0.00458927783203123,
            "count": 0
           },
           {
            "bin_start": -0.00458927783203123,
            "bin_end": -0.00371577783203124,
            "count": 0
           },
           {
            "bin_start": -0.00371577783203124,
            "bin_end": -0.00284227783203125,
            "count": 0
           },
           {
            "bin_start": -0.00284227783203125,
            "bin_end": -0.0019687778320312595,
            "count": 0
           },
           {
            "bin_start": -0.0019687778320312595,
            "bin_end": -0.0010952778320312698,
            "count": 0
           },
           {
            "bin_start": -0.0010952778320312698,
            "bin_end": -0.00022177783203128007,
            "count": 0
           },
           {
            "bin_start": -0.00022177783203128007,
            "bin_end": 0.0006517221679687105,
            "count": 1
           },
           {
            "bin_start": 0.0006517221679687105,
            "bin_end": 0.0015252221679687,
            "count": 2
           }
          ]
         }
        },
        {
         "name": "A2T1G3C4",
         "dtype": "float64",
         "stats": {
          "unique_count": 4,
          "nan_count": 0,
          "min": "-0.0120162963867187",
          "max": "0.0036197036132812",
          "histogram": [
           {
            "bin_start": -0.0120162963867187,
            "bin_end": -0.01045269638671871,
            "count": 2
           },
           {
            "bin_start": -0.01045269638671871,
            "bin_end": -0.008889096386718719,
            "count": 0
           },
           {
            "bin_start": -0.008889096386718719,
            "bin_end": -0.007325496386718729,
            "count": 0
           },
           {
            "bin_start": -0.007325496386718729,
            "bin_end": -0.005761896386718739,
            "count": 0
           },
           {
            "bin_start": -0.005761896386718739,
            "bin_end": -0.00419829638671875,
            "count": 0
           },
           {
            "bin_start": -0.00419829638671875,
            "bin_end": -0.0026346963867187583,
            "count": 0
           },
           {
            "bin_start": -0.0026346963867187583,
            "bin_end": -0.0010710963867187687,
            "count": 1
           },
           {
            "bin_start": -0.0010710963867187687,
            "bin_end": 0.000492503613281221,
            "count": 0
           },
           {
            "bin_start": 0.000492503613281221,
            "bin_end": 0.0020561036132812106,
            "count": 1
           },
           {
            "bin_start": 0.0020561036132812106,
            "bin_end": 0.0036197036132812,
            "count": 1
           }
          ]
         }
        },
        {
         "name": "A2T1G4C3",
         "dtype": "float64",
         "stats": {
          "unique_count": 5,
          "nan_count": 0,
          "min": "-0.0120162963867187",
          "max": "0.0034397036132812",
          "histogram": [
           {
            "bin_start": -0.0120162963867187,
            "bin_end": -0.010470696386718709,
            "count": 1
           },
           {
            "bin_start": -0.010470696386718709,
            "bin_end": -0.00892509638671872,
            "count": 0
           },
           {
            "bin_start": -0.00892509638671872,
            "bin_end": -0.007379496386718729,
            "count": 0
           },
           {
            "bin_start": -0.007379496386718729,
            "bin_end": -0.005833896386718739,
            "count": 0
           },
           {
            "bin_start": -0.005833896386718739,
            "bin_end": -0.0042882963867187495,
            "count": 0
           },
           {
            "bin_start": -0.0042882963867187495,
            "bin_end": -0.0027426963867187588,
            "count": 0
           },
           {
            "bin_start": -0.0027426963867187588,
            "bin_end": -0.0011970963867187698,
            "count": 1
           },
           {
            "bin_start": -0.0011970963867187698,
            "bin_end": 0.00034850361328122095,
            "count": 1
           },
           {
            "bin_start": 0.00034850361328122095,
            "bin_end": 0.0018941036132812117,
            "count": 1
           },
           {
            "bin_start": 0.0018941036132812117,
            "bin_end": 0.0034397036132812,
            "count": 1
           }
          ]
         }
        },
        {
         "name": "A2T1G5C2",
         "dtype": "float64",
         "stats": {
          "unique_count": 4,
          "nan_count": 0,
          "min": "-0.0072097778320312",
          "max": "0.0008622221679687",
          "histogram": [
           {
            "bin_start": -0.0072097778320312,
            "bin_end": -0.00640257783203121,
            "count": 2
           },
           {
            "bin_start": -0.00640257783203121,
            "bin_end": -0.005595377832031219,
            "count": 0
           },
           {
            "bin_start": -0.005595377832031219,
            "bin_end": -0.00478817783203123,
            "count": 0
           },
           {
            "bin_start": -0.00478817783203123,
            "bin_end": -0.003980977832031239,
            "count": 0
           },
           {
            "bin_start": -0.003980977832031239,
            "bin_end": -0.0031737778320312495,
            "count": 0
           },
           {
            "bin_start": -0.0031737778320312495,
            "bin_end": -0.0023665778320312598,
            "count": 0
           },
           {
            "bin_start": -0.0023665778320312598,
            "bin_end": -0.0015593778320312692,
            "count": 0
           },
           {
            "bin_start": -0.0015593778320312692,
            "bin_end": -0.0007521778320312795,
            "count": 1
           },
           {
            "bin_start": -0.0007521778320312795,
            "bin_end": 0.00005502216796871018,
            "count": 0
           },
           {
            "bin_start": 0.00005502216796871018,
            "bin_end": 0.0008622221679687,
            "count": 2
           }
          ]
         }
        },
        {
         "name": "A2T1G6C1",
         "dtype": "float64",
         "stats": {
          "unique_count": 4,
          "nan_count": 0,
          "min": "-0.0024032592773437",
          "max": "-0.0003132592773437",
          "histogram": [
           {
            "bin_start": -0.0024032592773437,
            "bin_end": -0.0021942592773437,
            "count": 2
           },
           {
            "bin_start": -0.0021942592773437,
            "bin_end": -0.0019852592773437,
            "count": 0
           },
           {
            "bin_start": -0.0019852592773437,
            "bin_end": -0.0017762592773437,
            "count": 0
           },
           {
            "bin_start": -0.0017762592773437,
            "bin_end": -0.0015672592773437,
            "count": 0
           },
           {
            "bin_start": -0.0015672592773437,
            "bin_end": -0.0013582592773437,
            "count": 0
           },
           {
            "bin_start": -0.0013582592773437,
            "bin_end": -0.0011492592773436998,
            "count": 0
           },
           {
            "bin_start": -0.0011492592773436998,
            "bin_end": -0.0009402592773436998,
            "count": 0
           },
           {
            "bin_start": -0.0009402592773436998,
            "bin_end": -0.0007312592773436998,
            "count": 0
           },
           {
            "bin_start": -0.0007312592773436998,
            "bin_end": -0.0005222592773436998,
            "count": 1
           },
           {
            "bin_start": -0.0005222592773436998,
            "bin_end": -0.0003132592773437,
            "count": 2
           }
          ]
         }
        },
        {
         "name": "A2T1G7C0",
         "dtype": "float64",
         "stats": {
          "unique_count": 3,
          "nan_count": 0,
          "min": "-0.0003433227539062",
          "max": "-8.432275390624999e-05",
          "histogram": [
           {
            "bin_start": -0.0003433227539062,
            "bin_end": -0.000317422753906205,
            "count": 3
           },
           {
            "bin_start": -0.000317422753906205,
            "bin_end": -0.00029152275390621003,
            "count": 0
           },
           {
            "bin_start": -0.00029152275390621003,
            "bin_end": -0.000265622753906215,
            "count": 0
           },
           {
            "bin_start": -0.000265622753906215,
            "bin_end": -0.00023972275390622,
            "count": 0
           },
           {
            "bin_start": -0.00023972275390622,
            "bin_end": -0.000213822753906225,
            "count": 0
           },
           {
            "bin_start": -0.000213822753906225,
            "bin_end": -0.00018792275390623001,
            "count": 0
           },
           {
            "bin_start": -0.00018792275390623001,
            "bin_end": -0.000162022753906235,
            "count": 0
           },
           {
            "bin_start": -0.000162022753906235,
            "bin_end": -0.00013612275390624,
            "count": 1
           },
           {
            "bin_start": -0.00013612275390624,
            "bin_end": -0.00011022275390624501,
            "count": 0
           },
           {
            "bin_start": -0.00011022275390624501,
            "bin_end": -0.00008432275390624999,
            "count": 1
           }
          ]
         }
        },
        {
         "name": "A2T2G0C6",
         "dtype": "float64",
         "stats": {
          "unique_count": 5,
          "nan_count": 0,
          "min": "-0.0012016296386718",
          "max": "0.0087983703613281",
          "histogram": [
           {
            "bin_start": -0.0012016296386718,
            "bin_end": -0.00020162963867180993,
            "count": 3
           },
           {
            "bin_start": -0.00020162963867180993,
            "bin_end": 0.0007983703613281801,
            "count": 1
           },
           {
            "bin_start": 0.0007983703613281801,
            "bin_end": 0.0017983703613281702,
            "count": 0
           },
           {
            "bin_start": 0.0017983703613281702,
            "bin_end": 0.00279837036132816,
            "count": 0
           },
           {
            "bin_start": 0.00279837036132816,
            "bin_end": 0.0037983703613281507,
            "count": 0
           },
           {
            "bin_start": 0.0037983703613281507,
            "bin_end": 0.004798370361328141,
            "count": 0
           },
           {
            "bin_start": 0.004798370361328141,
            "bin_end": 0.0057983703613281295,
            "count": 0
           },
           {
            "bin_start": 0.0057983703613281295,
            "bin_end": 0.00679837036132812,
            "count": 0
           },
           {
            "bin_start": 0.00679837036132812,
            "bin_end": 0.0077983703613281104,
            "count": 0
           },
           {
            "bin_start": 0.0077983703613281104,
            "bin_end": 0.0087983703613281,
            "count": 1
           }
          ]
         }
        },
        {
         "name": "A2T2G1C5",
         "dtype": "float64",
         "stats": {
          "unique_count": 4,
          "nan_count": 0,
          "min": "-0.0072097778320312",
          "max": "-0.0007247778320312",
          "histogram": [
           {
            "bin_start": -0.0072097778320312,
            "bin_end": -0.0065612778320312,
            "count": 2
           },
           {
            "bin_start": -0.0065612778320312,
            "bin_end": -0.0059127778320312,
            "count": 0
           },
           {
            "bin_start": -0.0059127778320312,
            "bin_end": -0.0052642778320311995,
            "count": 0
           },
           {
            "bin_start": -0.0052642778320311995,
            "bin_end": -0.0046157778320312,
            "count": 0
           },
           {
            "bin_start": -0.0046157778320312,
            "bin_end": -0.0039672778320312,
            "count": 0
           },
           {
            "bin_start": -0.0039672778320312,
            "bin_end": -0.0033187778320311998,
            "count": 0
           },
           {
            "bin_start": -0.0033187778320311998,
            "bin_end": -0.0026702778320311996,
            "count": 0
           },
           {
            "bin_start": -0.0026702778320311996,
            "bin_end": -0.0020217778320312,
            "count": 0
           },
           {
            "bin_start": -0.0020217778320312,
            "bin_end": -0.0013732778320312,
            "count": 1
           },
           {
            "bin_start": -0.0013732778320312,
            "bin_end": -0.0007247778320312,
            "count": 2
           }
          ]
         }
        },
        {
         "name": "A2T2G2C4",
         "dtype": "float64",
         "stats": {
          "unique_count": 5,
          "nan_count": 0,
          "min": "-0.0180244445800781",
          "max": "0.0119755554199218",
          "histogram": [
           {
            "bin_start": -0.0180244445800781,
            "bin_end": -0.01502444458007811,
            "count": 1
           },
           {
            "bin_start": -0.01502444458007811,
            "bin_end": -0.01202444458007812,
            "count": 0
           },
           {
            "bin_start": -0.01202444458007812,
            "bin_end": -0.009024444580078131,
            "count": 0
           },
           {
            "bin_start": -0.009024444580078131,
            "bin_end": -0.00602444458007814,
            "count": 0
           },
           {
            "bin_start": -0.00602444458007814,
            "bin_end": -0.00302444458007815,
            "count": 0
           },
           {
            "bin_start": -0.00302444458007815,
            "bin_end": -0.000024444580078161054,
            "count": 2
           },
           {
            "bin_start": -0.000024444580078161054,
            "bin_end": 0.002975555419921831,
            "count": 0
           },
           {
            "bin_start": 0.002975555419921831,
            "bin_end": 0.00597555541992182,
            "count": 0
           },
           {
            "bin_start": 0.00597555541992182,
            "bin_end": 0.008975555419921809,
            "count": 1
           },
           {
            "bin_start": 0.008975555419921809,
            "bin_end": 0.0119755554199218,
            "count": 1
           }
          ]
         }
        },
        {
         "name": "A2T2G3C3",
         "dtype": "float64",
         "stats": {
          "unique_count": 5,
          "nan_count": 0,
          "min": "-0.0240325927734375",
          "max": "0.0004394072265625",
          "histogram": [
           {
            "bin_start": -0.0240325927734375,
            "bin_end": -0.0215853927734375,
            "count": 1
           },
           {
            "bin_start": -0.0215853927734375,
            "bin_end": -0.0191381927734375,
            "count": 0
           },
           {
            "bin_start": -0.0191381927734375,
            "bin_end": -0.0166909927734375,
            "count": 0
           },
           {
            "bin_start": -0.0166909927734375,
            "bin_end": -0.0142437927734375,
            "count": 0
           },
           {
            "bin_start": -0.0142437927734375,
            "bin_end": -0.0117965927734375,
            "count": 1
           },
           {
            "bin_start": -0.0117965927734375,
            "bin_end": -0.0093493927734375,
            "count": 0
           },
           {
            "bin_start": -0.0093493927734375,
            "bin_end": -0.0069021927734374995,
            "count": 0
           },
           {
            "bin_start": -0.0069021927734374995,
            "bin_end": -0.0044549927734374994,
            "count": 0
           },
           {
            "bin_start": -0.0044549927734374994,
            "bin_end": -0.0020077927734374994,
            "count": 0
           },
           {
            "bin_start": -0.0020077927734374994,
            "bin_end": 0.0004394072265625,
            "count": 3
           }
          ]
         }
        },
        {
         "name": "A2T2G4C2",
         "dtype": "float64",
         "stats": {
          "unique_count": 5,
          "nan_count": 0,
          "min": "-0.0180244445800781",
          "max": "0.0219755554199218",
          "histogram": [
           {
            "bin_start": -0.0180244445800781,
            "bin_end": -0.014024444580078111,
            "count": 1
           },
           {
            "bin_start": -0.014024444580078111,
            "bin_end": -0.010024444580078121,
            "count": 0
           },
           {
            "bin_start": -0.010024444580078121,
            "bin_end": -0.006024444580078132,
            "count": 0
           },
           {
            "bin_start": -0.006024444580078132,
            "bin_end": -0.002024444580078142,
            "count": 0
           },
           {
            "bin_start": -0.002024444580078142,
            "bin_end": 0.0019755554199218477,
            "count": 3
           },
           {
            "bin_start": 0.0019755554199218477,
            "bin_end": 0.005975555419921837,
            "count": 0
           },
           {
            "bin_start": 0.005975555419921837,
            "bin_end": 0.009975555419921827,
            "count": 0
           },
           {
            "bin_start": 0.009975555419921827,
            "bin_end": 0.013975555419921817,
            "count": 0
           },
           {
            "bin_start": 0.013975555419921817,
            "bin_end": 0.017975555419921806,
            "count": 0
           },
           {
            "bin_start": 0.017975555419921806,
            "bin_end": 0.0219755554199218,
            "count": 1
           }
          ]
         }
        },
        {
         "name": "A2T2G5C1",
         "dtype": "float64",
         "stats": {
          "unique_count": 5,
          "nan_count": 0,
          "min": "-0.0022097778320312",
          "max": "0.0127902221679687",
          "histogram": [
           {
            "bin_start": -0.0022097778320312,
            "bin_end": -0.00070977783203121,
            "count": 2
           },
           {
            "bin_start": -0.00070977783203121,
            "bin_end": 0.0007902221679687801,
            "count": 1
           },
           {
            "bin_start": 0.0007902221679687801,
            "bin_end": 0.00229022216796877,
            "count": 0
           },
           {
            "bin_start": 0.00229022216796877,
            "bin_end": 0.00379022216796876,
            "count": 1
           },
           {
            "bin_start": 0.00379022216796876,
            "bin_end": 0.005290222167968751,
            "count": 0
           },
           {
            "bin_start": 0.005290222167968751,
            "bin_end": 0.00679022216796874,
            "count": 0
           },
           {
            "bin_start": 0.00679022216796874,
            "bin_end": 0.008290222167968729,
            "count": 0
           },
           {
            "bin_start": 0.008290222167968729,
            "bin_end": 0.00979022216796872,
            "count": 0
           },
           {
            "bin_start": 0.00979022216796872,
            "bin_end": 0.011290222167968711,
            "count": 0
           },
           {
            "bin_start": 0.011290222167968711,
            "bin_end": 0.0127902221679687,
            "count": 1
           }
          ]
         }
        },
        {
         "name": "A2T2G6C0",
         "dtype": "float64",
         "stats": {
          "unique_count": 3,
          "nan_count": 0,
          "min": "-0.0012016296386718",
          "max": "-0.0002756296386718",
          "histogram": [
           {
            "bin_start": -0.0012016296386718,
            "bin_end": -0.0011090296386718,
            "count": 3
           },
           {
            "bin_start": -0.0011090296386718,
            "bin_end": -0.0010164296386718,
            "count": 0
           },
           {
            "bin_start": -0.0010164296386718,
            "bin_end": -0.0009238296386717999,
            "count": 0
           },
           {
            "bin_start": -0.0009238296386717999,
            "bin_end": -0.0008312296386718,
            "count": 0
           },
           {
            "bin_start": -0.0008312296386718,
            "bin_end": -0.0007386296386718,
            "count": 0
           },
           {
            "bin_start": -0.0007386296386718,
            "bin_end": -0.0006460296386717999,
            "count": 0
           },
           {
            "bin_start": -0.0006460296386717999,
            "bin_end": -0.0005534296386717999,
            "count": 1
           },
           {
            "bin_start": -0.0005534296386717999,
            "bin_end": -0.00046082963867179996,
            "count": 0
           },
           {
            "bin_start": -0.00046082963867179996,
            "bin_end": -0.0003682296386718,
            "count": 0
           },
           {
            "bin_start": -0.0003682296386718,
            "bin_end": -0.0002756296386718,
            "count": 1
           }
          ]
         }
        },
        {
         "name": "A2T3G0C5",
         "dtype": "float64",
         "stats": {
          "unique_count": 4,
          "nan_count": 0,
          "min": "-0.0024032592773437",
          "max": "0.0005967407226562",
          "histogram": [
           {
            "bin_start": -0.0024032592773437,
            "bin_end": -0.00210325927734371,
            "count": 2
           },
           {
            "bin_start": -0.00210325927734371,
            "bin_end": -0.00180325927734372,
            "count": 0
           },
           {
            "bin_start": -0.00180325927734372,
            "bin_end": -0.0015032592773437299,
            "count": 0
           },
           {
            "bin_start": -0.0015032592773437299,
            "bin_end": -0.00120325927734374,
            "count": 0
           },
           {
            "bin_start": -0.00120325927734374,
            "bin_end": -0.00090325927734375,
            "count": 1
           },
           {
            "bin_start": -0.00090325927734375,
            "bin_end": -0.0006032592773437598,
            "count": 0
           },
           {
            "bin_start": -0.0006032592773437598,
            "bin_end": -0.00030325927734376965,
            "count": 1
           },
           {
            "bin_start": -0.00030325927734376965,
            "bin_end": -0.0000032592773437797005,
            "count": 0
           },
           {
            "bin_start": -0.0000032592773437797005,
            "bin_end": 0.00029674072265621024,
            "count": 0
           },
           {
            "bin_start": 0.00029674072265621024,
            "bin_end": 0.0005967407226562,
            "count": 1
           }
          ]
         }
        },
        {
         "name": "A2T3G1C4",
         "dtype": "float64",
         "stats": {
          "unique_count": 4,
          "nan_count": 0,
          "min": "-0.0120162963867187",
          "max": "-0.0012382963867187",
          "histogram": [
           {
            "bin_start": -0.0120162963867187,
            "bin_end": -0.0109384963867187,
            "count": 2
           },
           {
            "bin_start": -0.0109384963867187,
            "bin_end": -0.0098606963867187,
            "count": 0
           },
           {
            "bin_start": -0.0098606963867187,
            "bin_end": -0.0087828963867187,
            "count": 0
           },
           {
            "bin_start": -0.0087828963867187,
            "bin_end": -0.0077050963867187,
            "count": 0
           },
           {
            "bin_start": -0.0077050963867187,
            "bin_end": -0.0066272963867187,
            "count": 0
           },
           {
            "bin_start": -0.0066272963867187,
            "bin_end": -0.005549496386718701,
            "count": 0
           },
           {
            "bin_start": -0.005549496386718701,
            "bin_end": -0.004471696386718701,
            "count": 1
           },
           {
            "bin_start": -0.004471696386718701,
            "bin_end": -0.003393896386718701,
            "count": 0
           },
           {
            "bin_start": -0.003393896386718701,
            "bin_end": -0.0023160963867187006,
            "count": 1
           },
           {
            "bin_start": -0.0023160963867187006,
            "bin_end": -0.0012382963867187,
            "count": 1
           }
          ]
         }
        },
        {
         "name": "A2T3G2C3",
         "dtype": "float64",
         "stats": {
          "unique_count": 5,
          "nan_count": 0,
          "min": "-0.0140325927734375",
          "max": "-0.0010325927734375",
          "histogram": [
           {
            "bin_start": -0.0140325927734375,
            "bin_end": -0.012732592773437499,
            "count": 1
           },
           {
            "bin_start": -0.012732592773437499,
            "bin_end": -0.0114325927734375,
            "count": 0
           },
           {
            "bin_start": -0.0114325927734375,
            "bin_end": -0.0101325927734375,
            "count": 0
           },
           {
            "bin_start": -0.0101325927734375,
            "bin_end": -0.0088325927734375,
            "count": 0
           },
           {
            "bin_start": -0.0088325927734375,
            "bin_end": -0.0075325927734375,
            "count": 0
           },
           {
            "bin_start": -0.0075325927734375,
            "bin_end": -0.0062325927734375,
            "count": 0
           },
           {
            "bin_start": -0.0062325927734375,
            "bin_end": -0.004932592773437499,
            "count": 0
           },
           {
            "bin_start": -0.004932592773437499,
            "bin_end": -0.0036325927734375003,
            "count": 1
           },
           {
            "bin_start": -0.0036325927734375003,
            "bin_end": -0.002332592773437501,
            "count": 1
           },
           {
            "bin_start": -0.002332592773437501,
            "bin_end": -0.0010325927734375,
            "count": 2
           }
          ]
         }
        },
        {
         "name": "A2T3G3C2",
         "dtype": "float64",
         "stats": {
          "unique_count": 5,
          "nan_count": 0,
          "min": "-0.0240325927734375",
          "max": "-0.0019445927734375",
          "histogram": [
           {
            "bin_start": -0.0240325927734375,
            "bin_end": -0.0218237927734375,
            "count": 1
           },
           {
            "bin_start": -0.0218237927734375,
            "bin_end": -0.0196149927734375,
            "count": 0
           },
           {
            "bin_start": -0.0196149927734375,
            "bin_end": -0.017406192773437502,
            "count": 0
           },
           {
            "bin_start": -0.017406192773437502,
            "bin_end": -0.0151973927734375,
            "count": 0
           },
           {
            "bin_start": -0.0151973927734375,
            "bin_end": -0.0129885927734375,
            "count": 0
           },
           {
            "bin_start": -0.0129885927734375,
            "bin_end": -0.010779792773437501,
            "count": 0
           },
           {
            "bin_start": -0.010779792773437501,
            "bin_end": -0.008570992773437501,
            "count": 0
           },
           {
            "bin_start": -0.008570992773437501,
            "bin_end": -0.006362192773437501,
            "count": 0
           },
           {
            "bin_start": -0.006362192773437501,
            "bin_end": -0.0041533927734375,
            "count": 0
           },
           {
            "bin_start": -0.0041533927734375,
            "bin_end": -0.0019445927734375,
            "count": 4
           }
          ]
         }
        },
        {
         "name": "A2T3G4C1",
         "dtype": "float64",
         "stats": {
          "unique_count": 4,
          "nan_count": 0,
          "min": "-0.0024462963867187",
          "max": "-0.0010162963867187",
          "histogram": [
           {
            "bin_start": -0.0024462963867187,
            "bin_end": -0.0023032963867187003,
            "count": 1
           },
           {
            "bin_start": -0.0023032963867187003,
            "bin_end": -0.0021602963867187,
            "count": 0
           },
           {
            "bin_start": -0.0021602963867187,
            "bin_end": -0.0020172963867187,
            "count": 0
           },
           {
            "bin_start": -0.0020172963867187,
            "bin_end": -0.0018742963867187002,
            "count": 2
           },
           {
            "bin_start": -0.0018742963867187002,
            "bin_end": -0.0017312963867187,
            "count": 0
           },
           {
            "bin_start": -0.0017312963867187,
            "bin_end": -0.0015882963867187,
            "count": 0
           },
           {
            "bin_start": -0.0015882963867187,
            "bin_end": -0.0014452963867187,
            "count": 0
           },
           {
            "bin_start": -0.0014452963867187,
            "bin_end": -0.0013022963867187,
            "count": 0
           },
           {
            "bin_start": -0.0013022963867187,
            "bin_end": -0.0011592963867186998,
            "count": 1
           },
           {
            "bin_start": -0.0011592963867186998,
            "bin_end": -0.0010162963867187,
            "count": 1
           }
          ]
         }
        },
        {
         "name": "A2T3G5C0",
         "dtype": "float64",
         "stats": {
          "unique_count": 3,
          "nan_count": 0,
          "min": "-0.0024032592773437",
          "max": "-0.0004342592773437",
          "histogram": [
           {
            "bin_start": -0.0024032592773437,
            "bin_end": -0.0022063592773437003,
            "count": 3
           },
           {
            "bin_start": -0.0022063592773437003,
            "bin_end": -0.0020094592773437,
            "count": 0
           },
           {
            "bin_start": -0.0020094592773437,
            "bin_end": -0.0018125592773437001,
            "count": 0
           },
           {
            "bin_start": -0.0018125592773437001,
            "bin_end": -0.0016156592773437,
            "count": 0
           },
           {
            "bin_start": -0.0016156592773437,
            "bin_end": -0.0014187592773437,
            "count": 0
           },
           {
            "bin_start": -0.0014187592773437,
            "bin_end": -0.0012218592773437001,
            "count": 0
           },
           {
            "bin_start": -0.0012218592773437001,
            "bin_end": -0.0010249592773437,
            "count": 0
           },
           {
            "bin_start": -0.0010249592773437,
            "bin_end": -0.0008280592773437,
            "count": 1
           },
           {
            "bin_start": -0.0008280592773437,
            "bin_end": -0.0006311592773436999,
            "count": 0
           },
           {
            "bin_start": -0.0006311592773436999,
            "bin_end": -0.0004342592773437,
            "count": 1
           }
          ]
         }
        },
        {
         "name": "A2T4G0C4",
         "dtype": "float64",
         "stats": {
          "unique_count": 4,
          "nan_count": 0,
          "min": "-0.0030040740966796",
          "max": "-0.0004480740966796",
          "histogram": [
           {
            "bin_start": -0.0030040740966796,
            "bin_end": -0.0027484740966796,
            "count": 2
           },
           {
            "bin_start": -0.0027484740966796,
            "bin_end": -0.0024928740966796,
            "count": 0
           },
           {
            "bin_start": -0.0024928740966796,
            "bin_end": -0.0022372740966795997,
            "count": 0
           },
           {
            "bin_start": -0.0022372740966795997,
            "bin_end": -0.0019816740966795998,
            "count": 0
           },
           {
            "bin_start": -0.0019816740966795998,
            "bin_end": -0.0017260740966795998,
            "count": 0
           },
           {
            "bin_start": -0.0017260740966795998,
            "bin_end": -0.0014704740966795997,
            "count": 0
           },
           {
            "bin_start": -0.0014704740966795997,
            "bin_end": -0.0012148740966795996,
            "count": 0
           },
           {
            "bin_start": -0.0012148740966795996,
            "bin_end": -0.0009592740966795996,
            "count": 1
           },
           {
            "bin_start": -0.0009592740966795996,
            "bin_end": -0.0007036740966795997,
            "count": 1
           },
           {
            "bin_start": -0.0007036740966795997,
            "bin_end": -0.0004480740966796,
            "count": 1
           }
          ]
         }
        },
        {
         "name": "A2T4G1C3",
         "dtype": "float64",
         "stats": {
          "unique_count": 5,
          "nan_count": 0,
          "min": "-0.0050162963867187",
          "max": "0.0079837036132812",
          "histogram": [
           {
            "bin_start": -0.0050162963867187,
            "bin_end": -0.0037162963867187104,
            "count": 1
           },
           {
            "bin_start": -0.0037162963867187104,
            "bin_end": -0.0024162963867187205,
            "count": 0
           },
           {
            "bin_start": -0.0024162963867187205,
            "bin_end": -0.0011162963867187305,
            "count": 2
           },
           {
            "bin_start": -0.0011162963867187305,
            "bin_end": 0.00018370361328125945,
            "count": 1
           },
           {
            "bin_start": 0.00018370361328125945,
            "bin_end": 0.0014837036132812498,
            "count": 0
           },
           {
            "bin_start": 0.0014837036132812498,
            "bin_end": 0.0027837036132812394,
            "count": 0
           },
           {
            "bin_start": 0.0027837036132812394,
            "bin_end": 0.004083703613281229,
            "count": 0
           },
           {
            "bin_start": 0.004083703613281229,
            "bin_end": 0.005383703613281219,
            "count": 0
           },
           {
            "bin_start": 0.005383703613281219,
            "bin_end": 0.00668370361328121,
            "count": 0
           },
           {
            "bin_start": 0.00668370361328121,
            "bin_end": 0.0079837036132812,
            "count": 1
           }
          ]
         }
        },
        {
         "name": "A2T4G2C2",
         "dtype": "float64",
         "stats": {
          "unique_count": 4,
          "nan_count": 0,
          "min": "-0.0027764445800781",
          "max": "0.0029755554199218",
          "histogram": [
           {
            "bin_start": -0.0027764445800781,
            "bin_end": -0.0022012445800781103,
            "count": 1
           },
           {
            "bin_start": -0.0022012445800781103,
            "bin_end": -0.0016260445800781202,
            "count": 0
           },
           {
            "bin_start": -0.0016260445800781202,
            "bin_end": -0.0010508445800781303,
            "count": 1
           },
           {
            "bin_start": -0.0010508445800781303,
            "bin_end": -0.00047564458007814036,
            "count": 0
           },
           {
            "bin_start": -0.00047564458007814036,
            "bin_end": 0.00009955541992184977,
            "count": 0
           },
           {
            "bin_start": 0.00009955541992184977,
            "bin_end": 0.0006747554199218395,
            "count": 0
           },
           {
            "bin_start": 0.0006747554199218395,
            "bin_end": 0.0012499554199218292,
            "count": 0
           },
           {
            "bin_start": 0.0012499554199218292,
            "bin_end": 0.0018251554199218193,
            "count": 0
           },
           {
            "bin_start": 0.0018251554199218193,
            "bin_end": 0.0024003554199218094,
            "count": 2
           },
           {
            "bin_start": 0.0024003554199218094,
            "bin_end": 0.0029755554199218,
            "count": 1
           }
          ]
         }
        },
        {
         "name": "A2T4G3C1",
         "dtype": "float64",
         "stats": {
          "unique_count": 5,
          "nan_count": 0,
          "min": "-0.0120162963867187",
          "max": "0.0179837036132812",
          "histogram": [
           {
            "bin_start": -0.0120162963867187,
            "bin_end": -0.00901629638671871,
            "count": 1
           },
           {
            "bin_start": -0.00901629638671871,
            "bin_end": -0.0060162963867187195,
            "count": 0
           },
           {
            "bin_start": -0.0060162963867187195,
            "bin_end": -0.00301629638671873,
            "count": 0
           },
           {
            "bin_start": -0.00301629638671873,
            "bin_end": -0.000016296386718739342,
            "count": 2
           },
           {
            "bin_start": -0.000016296386718739342,
            "bin_end": 0.002983703613281251,
            "count": 0
           },
           {
            "bin_start": 0.002983703613281251,
            "bin_end": 0.00598370361328124,
            "count": 0
           },
           {
            "bin_start": 0.00598370361328124,
            "bin_end": 0.008983703613281232,
            "count": 1
           },
           {
            "bin_start": 0.008983703613281232,
            "bin_end": 0.011983703613281221,
            "count": 0
           },
           {
            "bin_start": 0.011983703613281221,
            "bin_end": 0.01498370361328121,
            "count": 0
           },
           {
            "bin_start": 0.01498370361328121,
            "bin_end": 0.0179837036132812,
            "count": 1
           }
          ]
         }
        },
        {
         "name": "A2T4G4C0",
         "dtype": "float64",
         "stats": {
          "unique_count": 4,
          "nan_count": 0,
          "min": "-0.0009720740966796",
          "max": "0.0069959259033203",
          "histogram": [
           {
            "bin_start": -0.0009720740966796,
            "bin_end": -0.00017527409667960996,
            "count": 2
           },
           {
            "bin_start": -0.00017527409667960996,
            "bin_end": 0.0006215259033203801,
            "count": 0
           },
           {
            "bin_start": 0.0006215259033203801,
            "bin_end": 0.0014183259033203706,
            "count": 1
           },
           {
            "bin_start": 0.0014183259033203706,
            "bin_end": 0.0022151259033203604,
            "count": 0
           },
           {
            "bin_start": 0.0022151259033203604,
            "bin_end": 0.0030119259033203503,
            "count": 0
           },
           {
            "bin_start": 0.0030119259033203503,
            "bin_end": 0.003808725903320341,
            "count": 0
           },
           {
            "bin_start": 0.003808725903320341,
            "bin_end": 0.004605525903320331,
            "count": 0
           },
           {
            "bin_start": 0.004605525903320331,
            "bin_end": 0.005402325903320321,
            "count": 0
           },
           {
            "bin_start": 0.005402325903320321,
            "bin_end": 0.006199125903320311,
            "count": 0
           },
           {
            "bin_start": 0.006199125903320311,
            "bin_end": 0.0069959259033203,
            "count": 2
           }
          ]
         }
        },
        {
         "name": "A2T5G0C3",
         "dtype": "float64",
         "stats": {
          "unique_count": 4,
          "nan_count": 0,
          "min": "-0.0024032592773437",
          "max": "0.0075967407226562",
          "histogram": [
           {
            "bin_start": -0.0024032592773437,
            "bin_end": -0.00140325927734371,
            "count": 2
           },
           {
            "bin_start": -0.00140325927734371,
            "bin_end": -0.00040325927734372003,
            "count": 0
           },
           {
            "bin_start": -0.00040325927734372003,
            "bin_end": 0.00059674072265627,
            "count": 2
           },
           {
            "bin_start": 0.00059674072265627,
            "bin_end": 0.00159674072265626,
            "count": 0
           },
           {
            "bin_start": 0.00159674072265626,
            "bin_end": 0.0025967407226562505,
            "count": 0
           },
           {
            "bin_start": 0.0025967407226562505,
            "bin_end": 0.00359674072265624,
            "count": 0
           },
           {
            "bin_start": 0.00359674072265624,
            "bin_end": 0.00459674072265623,
            "count": 0
           },
           {
            "bin_start": 0.00459674072265623,
            "bin_end": 0.005596740722656221,
            "count": 0
           },
           {
            "bin_start": 0.005596740722656221,
            "bin_end": 0.006596740722656211,
            "count": 0
           },
           {
            "bin_start": 0.006596740722656211,
            "bin_end": 0.0075967407226562,
            "count": 1
           }
          ]
         }
        },
        {
         "name": "A2T5G1C2",
         "dtype": "float64",
         "stats": {
          "unique_count": 5,
          "nan_count": 0,
          "min": "-0.0072097778320312",
          "max": "0.0127902221679687",
          "histogram": [
           {
            "bin_start": -0.0072097778320312,
            "bin_end": -0.00520977783203121,
            "count": 1
           },
           {
            "bin_start": -0.00520977783203121,
            "bin_end": -0.0032097778320312196,
            "count": 0
           },
           {
            "bin_start": -0.0032097778320312196,
            "bin_end": -0.001209777832031229,
            "count": 0
           },
           {
            "bin_start": -0.001209777832031229,
            "bin_end": 0.0007902221679687606,
            "count": 3
           },
           {
            "bin_start": 0.0007902221679687606,
            "bin_end": 0.00279022216796875,
            "count": 0
           },
           {
            "bin_start": 0.00279022216796875,
            "bin_end": 0.004790222167968742,
            "count": 0
           },
           {
            "bin_start": 0.004790222167968742,
            "bin_end": 0.006790222167968731,
            "count": 0
           },
           {
            "bin_start": 0.006790222167968731,
            "bin_end": 0.00879022216796872,
            "count": 0
           },
           {
            "bin_start": 0.00879022216796872,
            "bin_end": 0.010790222167968712,
            "count": 0
           },
           {
            "bin_start": 0.010790222167968712,
            "bin_end": 0.0127902221679687,
            "count": 1
           }
          ]
         }
        },
        {
         "name": "A2T5G2C1",
         "dtype": "float64",
         "stats": {
          "unique_count": 5,
          "nan_count": 0,
          "min": "-0.0072097778320312",
          "max": "0.0127902221679687",
          "histogram": [
           {
            "bin_start": -0.0072097778320312,
            "bin_end": -0.00520977783203121,
            "count": 1
           },
           {
            "bin_start": -0.00520977783203121,
            "bin_end": -0.0032097778320312196,
            "count": 0
           },
           {
            "bin_start": -0.0032097778320312196,
            "bin_end": -0.001209777832031229,
            "count": 0
           },
           {
            "bin_start": -0.001209777832031229,
            "bin_end": 0.0007902221679687606,
            "count": 3
           },
           {
            "bin_start": 0.0007902221679687606,
            "bin_end": 0.00279022216796875,
            "count": 0
           },
           {
            "bin_start": 0.00279022216796875,
            "bin_end": 0.004790222167968742,
            "count": 0
           },
           {
            "bin_start": 0.004790222167968742,
            "bin_end": 0.006790222167968731,
            "count": 0
           },
           {
            "bin_start": 0.006790222167968731,
            "bin_end": 0.00879022216796872,
            "count": 0
           },
           {
            "bin_start": 0.00879022216796872,
            "bin_end": 0.010790222167968712,
            "count": 0
           },
           {
            "bin_start": 0.010790222167968712,
            "bin_end": 0.0127902221679687,
            "count": 1
           }
          ]
         }
        },
        {
         "name": "A2T5G3C0",
         "dtype": "float64",
         "stats": {
          "unique_count": 4,
          "nan_count": 0,
          "min": "-0.0024032592773437",
          "max": "0.0005967407226562",
          "histogram": [
           {
            "bin_start": -0.0024032592773437,
            "bin_end": -0.00210325927734371,
            "count": 2
           },
           {
            "bin_start": -0.00210325927734371,
            "bin_end": -0.00180325927734372,
            "count": 0
           },
           {
            "bin_start": -0.00180325927734372,
            "bin_end": -0.0015032592773437299,
            "count": 0
           },
           {
            "bin_start": -0.0015032592773437299,
            "bin_end": -0.00120325927734374,
            "count": 0
           },
           {
            "bin_start": -0.00120325927734374,
            "bin_end": -0.00090325927734375,
            "count": 0
           },
           {
            "bin_start": -0.00090325927734375,
            "bin_end": -0.0006032592773437598,
            "count": 0
           },
           {
            "bin_start": -0.0006032592773437598,
            "bin_end": -0.00030325927734376965,
            "count": 1
           },
           {
            "bin_start": -0.00030325927734376965,
            "bin_end": -0.0000032592773437797005,
            "count": 1
           },
           {
            "bin_start": -0.0000032592773437797005,
            "bin_end": 0.00029674072265621024,
            "count": 0
           },
           {
            "bin_start": 0.00029674072265621024,
            "bin_end": 0.0005967407226562,
            "count": 1
           }
          ]
         }
        },
        {
         "name": "A2T6G0C2",
         "dtype": "float64",
         "stats": {
          "unique_count": 5,
          "nan_count": 0,
          "min": "-0.0012016296386718",
          "max": "0.0287983703613281",
          "histogram": [
           {
            "bin_start": -0.0012016296386718,
            "bin_end": 0.0017983703613281897,
            "count": 4
           },
           {
            "bin_start": 0.0017983703613281897,
            "bin_end": 0.004798370361328179,
            "count": 0
           },
           {
            "bin_start": 0.004798370361328179,
            "bin_end": 0.007798370361328169,
            "count": 0
           },
           {
            "bin_start": 0.007798370361328169,
            "bin_end": 0.010798370361328158,
            "count": 0
           },
           {
            "bin_start": 0.010798370361328158,
            "bin_end": 0.013798370361328147,
            "count": 0
           },
           {
            "bin_start": 0.013798370361328147,
            "bin_end": 0.01679837036132814,
            "count": 0
           },
           {
            "bin_start": 0.01679837036132814,
            "bin_end": 0.01979837036132813,
            "count": 0
           },
           {
            "bin_start": 0.01979837036132813,
            "bin_end": 0.02279837036132812,
            "count": 0
           },
           {
            "bin_start": 0.02279837036132812,
            "bin_end": 0.025798370361328107,
            "count": 0
           },
           {
            "bin_start": 0.025798370361328107,
            "bin_end": 0.0287983703613281,
            "count": 1
           }
          ]
         }
        },
        {
         "name": "A2T6G1C1",
         "dtype": "float64",
         "stats": {
          "unique_count": 5,
          "nan_count": 0,
          "min": "-0.0014032592773437",
          "max": "0.0175967407226562",
          "histogram": [
           {
            "bin_start": -0.0014032592773437,
            "bin_end": 0.0004967407226562897,
            "count": 2
           },
           {
            "bin_start": 0.0004967407226562897,
            "bin_end": 0.0023967407226562795,
            "count": 1
           },
           {
            "bin_start": 0.0023967407226562795,
            "bin_end": 0.0042967407226562684,
            "count": 0
           },
           {
            "bin_start": 0.0042967407226562684,
            "bin_end": 0.006196740722656259,
            "count": 0
           },
           {
            "bin_start": 0.006196740722656259,
            "bin_end": 0.008096740722656249,
            "count": 1
           },
           {
            "bin_start": 0.008096740722656249,
            "bin_end": 0.009996740722656237,
            "count": 0
           },
           {
            "bin_start": 0.009996740722656237,
            "bin_end": 0.011896740722656228,
            "count": 0
           },
           {
            "bin_start": 0.011896740722656228,
            "bin_end": 0.013796740722656218,
            "count": 0
           },
           {
            "bin_start": 0.013796740722656218,
            "bin_end": 0.015696740722656206,
            "count": 0
           },
           {
            "bin_start": 0.015696740722656206,
            "bin_end": 0.0175967407226562,
            "count": 1
           }
          ]
         }
        },
        {
         "name": "A2T6G2C0",
         "dtype": "float64",
         "stats": {
          "unique_count": 4,
          "nan_count": 0,
          "min": "0.0001393703613281",
          "max": "0.0087983703613281",
          "histogram": [
           {
            "bin_start": 0.0001393703613281,
            "bin_end": 0.0010052703613281,
            "count": 2
           },
           {
            "bin_start": 0.0010052703613281,
            "bin_end": 0.0018711703613281,
            "count": 1
           },
           {
            "bin_start": 0.0018711703613281,
            "bin_end": 0.0027370703613280997,
            "count": 0
           },
           {
            "bin_start": 0.0027370703613280997,
            "bin_end": 0.0036029703613281,
            "count": 0
           },
           {
            "bin_start": 0.0036029703613281,
            "bin_end": 0.0044688703613281,
            "count": 0
           },
           {
            "bin_start": 0.0044688703613281,
            "bin_end": 0.005334770361328099,
            "count": 0
           },
           {
            "bin_start": 0.005334770361328099,
            "bin_end": 0.0062006703613280995,
            "count": 0
           },
           {
            "bin_start": 0.0062006703613280995,
            "bin_end": 0.0070665703613281,
            "count": 0
           },
           {
            "bin_start": 0.0070665703613281,
            "bin_end": 0.0079324703613281,
            "count": 0
           },
           {
            "bin_start": 0.0079324703613281,
            "bin_end": 0.0087983703613281,
            "count": 2
           }
          ]
         }
        },
        {
         "name": "A2T7G0C1",
         "dtype": "float64",
         "stats": {
          "unique_count": 3,
          "nan_count": 0,
          "min": "-0.0003433227539062",
          "max": "0.0004186772460937",
          "histogram": [
           {
            "bin_start": -0.0003433227539062,
            "bin_end": -0.00026712275390621,
            "count": 3
           },
           {
            "bin_start": -0.00026712275390621,
            "bin_end": -0.00019092275390622,
            "count": 0
           },
           {
            "bin_start": -0.00019092275390622,
            "bin_end": -0.00011472275390623,
            "count": 0
           },
           {
            "bin_start": -0.00011472275390623,
            "bin_end": -0.00003852275390623999,
            "count": 0
           },
           {
            "bin_start": -0.00003852275390623999,
            "bin_end": 0.000037677246093750045,
            "count": 0
           },
           {
            "bin_start": 0.000037677246093750045,
            "bin_end": 0.00011387724609374003,
            "count": 0
           },
           {
            "bin_start": 0.00011387724609374003,
            "bin_end": 0.00019007724609373,
            "count": 0
           },
           {
            "bin_start": 0.00019007724609373,
            "bin_end": 0.00026627724609372004,
            "count": 1
           },
           {
            "bin_start": 0.00026627724609372004,
            "bin_end": 0.0003424772460937101,
            "count": 0
           },
           {
            "bin_start": 0.0003424772460937101,
            "bin_end": 0.0004186772460937,
            "count": 1
           }
          ]
         }
        },
        {
         "name": "A2T7G1C0",
         "dtype": "float64",
         "stats": {
          "unique_count": 4,
          "nan_count": 0,
          "min": "-0.0003433227539062",
          "max": "0.0006566772460937",
          "histogram": [
           {
            "bin_start": -0.0003433227539062,
            "bin_end": -0.00024332275390621,
            "count": 2
           },
           {
            "bin_start": -0.00024332275390621,
            "bin_end": -0.00014332275390622,
            "count": 0
           },
           {
            "bin_start": -0.00014332275390622,
            "bin_end": -0.00004332275390623002,
            "count": 0
           },
           {
            "bin_start": -0.00004332275390623002,
            "bin_end": 0.000056677246093759994,
            "count": 0
           },
           {
            "bin_start": 0.000056677246093759994,
            "bin_end": 0.00015667724609375,
            "count": 0
           },
           {
            "bin_start": 0.00015667724609375,
            "bin_end": 0.00025667724609373997,
            "count": 1
           },
           {
            "bin_start": 0.00025667724609373997,
            "bin_end": 0.00035667724609373004,
            "count": 1
           },
           {
            "bin_start": 0.00035667724609373004,
            "bin_end": 0.00045667724609372,
            "count": 0
           },
           {
            "bin_start": 0.00045667724609372,
            "bin_end": 0.00055667724609371,
            "count": 0
           },
           {
            "bin_start": 0.00055667724609371,
            "bin_end": 0.0006566772460937,
            "count": 1
           }
          ]
         }
        },
        {
         "name": "A2T8G0C0",
         "dtype": "float64",
         "stats": {
          "unique_count": 3,
          "nan_count": 0,
          "min": "-4.291534423828125e-05",
          "max": "0.0001480846557617",
          "histogram": [
           {
            "bin_start": -0.00004291534423828125,
            "bin_end": -0.000023815344238283124,
            "count": 3
           },
           {
            "bin_start": -0.000023815344238283124,
            "bin_end": -0.000004715344238284997,
            "count": 0
           },
           {
            "bin_start": -0.000004715344238284997,
            "bin_end": 0.00001438465576171313,
            "count": 0
           },
           {
            "bin_start": 0.00001438465576171313,
            "bin_end": 0.000033484655761711256,
            "count": 0
           },
           {
            "bin_start": 0.000033484655761711256,
            "bin_end": 0.00005258465576170939,
            "count": 0
           },
           {
            "bin_start": 0.00005258465576170939,
            "bin_end": 0.00007168465576170751,
            "count": 0
           },
           {
            "bin_start": 0.00007168465576170751,
            "bin_end": 0.00009078465576170563,
            "count": 1
           },
           {
            "bin_start": 0.00009078465576170563,
            "bin_end": 0.00010988465576170376,
            "count": 0
           },
           {
            "bin_start": 0.00010988465576170376,
            "bin_end": 0.0001289846557617019,
            "count": 0
           },
           {
            "bin_start": 0.0001289846557617019,
            "bin_end": 0.0001480846557617,
            "count": 1
           }
          ]
         }
        },
        {
         "name": "A3T0G0C7",
         "dtype": "float64",
         "stats": {
          "unique_count": 3,
          "nan_count": 0,
          "min": "-0.0001144409179687",
          "max": "-2.344091796875e-05",
          "histogram": [
           {
            "bin_start": -0.0001144409179687,
            "bin_end": -0.000105340917968705,
            "count": 3
           },
           {
            "bin_start": -0.000105340917968705,
            "bin_end": -0.00009624091796871001,
            "count": 0
           },
           {
            "bin_start": -0.00009624091796871001,
            "bin_end": -0.00008714091796871501,
            "count": 0
           },
           {
            "bin_start": -0.00008714091796871501,
            "bin_end": -0.00007804091796872,
            "count": 0
           },
           {
            "bin_start": -0.00007804091796872,
            "bin_end": -0.000068940917968725,
            "count": 0
           },
           {
            "bin_start": -0.000068940917968725,
            "bin_end": -0.000059840917968730004,
            "count": 0
           },
           {
            "bin_start": -0.000059840917968730004,
            "bin_end": -0.00005074091796873501,
            "count": 0
           },
           {
            "bin_start": -0.00005074091796873501,
            "bin_end": -0.000041640917968740004,
            "count": 0
           },
           {
            "bin_start": -0.000041640917968740004,
            "bin_end": -0.000032540917968745,
            "count": 0
           },
           {
            "bin_start": -0.000032540917968745,
            "bin_end": -0.00002344091796875,
            "count": 2
           }
          ]
         }
        },
        {
         "name": "A3T0G1C6",
         "dtype": "float64",
         "stats": {
          "unique_count": 3,
          "nan_count": 0,
          "min": "-0.0008010864257812",
          "max": "1.7913574218749958e-05",
          "histogram": [
           {
            "bin_start": -0.0008010864257812,
            "bin_end": -0.000719186425781205,
            "count": 3
           },
           {
            "bin_start": -0.000719186425781205,
            "bin_end": -0.00063728642578121,
            "count": 0
           },
           {
            "bin_start": -0.00063728642578121,
            "bin_end": -0.000555386425781215,
            "count": 0
           },
           {
            "bin_start": -0.000555386425781215,
            "bin_end": -0.00047348642578122003,
            "count": 0
           },
           {
            "bin_start": -0.00047348642578122003,
            "bin_end": -0.00039158642578122503,
            "count": 0
           },
           {
            "bin_start": -0.00039158642578122503,
            "bin_end": -0.00030968642578123003,
            "count": 0
           },
           {
            "bin_start": -0.00030968642578123003,
            "bin_end": -0.00022778642578123503,
            "count": 0
           },
           {
            "bin_start": -0.00022778642578123503,
            "bin_end": -0.00014588642578124004,
            "count": 0
           },
           {
            "bin_start": -0.00014588642578124004,
            "bin_end": -0.00006398642578124504,
            "count": 0
           },
           {
            "bin_start": -0.00006398642578124504,
            "bin_end": 0.000017913574218749958,
            "count": 2
           }
          ]
         }
        },
        {
         "name": "A3T0G2C5",
         "dtype": "float64",
         "stats": {
          "unique_count": 5,
          "nan_count": 0,
          "min": "-0.0024032592773437",
          "max": "0.0075967407226562",
          "histogram": [
           {
            "bin_start": -0.0024032592773437,
            "bin_end": -0.00140325927734371,
            "count": 1
           },
           {
            "bin_start": -0.00140325927734371,
            "bin_end": -0.00040325927734372003,
            "count": 0
           },
           {
            "bin_start": -0.00040325927734372003,
            "bin_end": 0.00059674072265627,
            "count": 2
           },
           {
            "bin_start": 0.00059674072265627,
            "bin_end": 0.00159674072265626,
            "count": 1
           },
           {
            "bin_start": 0.00159674072265626,
            "bin_end": 0.0025967407226562505,
            "count": 0
           },
           {
            "bin_start": 0.0025967407226562505,
            "bin_end": 0.00359674072265624,
            "count": 0
           },
           {
            "bin_start": 0.00359674072265624,
            "bin_end": 0.00459674072265623,
            "count": 0
           },
           {
            "bin_start": 0.00459674072265623,
            "bin_end": 0.005596740722656221,
            "count": 0
           },
           {
            "bin_start": 0.005596740722656221,
            "bin_end": 0.006596740722656211,
            "count": 0
           },
           {
            "bin_start": 0.006596740722656211,
            "bin_end": 0.0075967407226562,
            "count": 1
           }
          ]
         }
        },
        {
         "name": "A3T0G3C4",
         "dtype": "float64",
         "stats": {
          "unique_count": 4,
          "nan_count": 0,
          "min": "0.0009595678710937",
          "max": "0.0159945678710937",
          "histogram": [
           {
            "bin_start": 0.0009595678710937,
            "bin_end": 0.0024630678710937,
            "count": 3
           },
           {
            "bin_start": 0.0024630678710937,
            "bin_end": 0.0039665678710937,
            "count": 0
           },
           {
            "bin_start": 0.0039665678710937,
            "bin_end": 0.0054700678710937,
            "count": 0
           },
           {
            "bin_start": 0.0054700678710937,
            "bin_end": 0.0069735678710937,
            "count": 0
           },
           {
            "bin_start": 0.0069735678710937,
            "bin_end": 0.008477067871093698,
            "count": 0
           },
           {
            "bin_start": 0.008477067871093698,
            "bin_end": 0.0099805678710937,
            "count": 0
           },
           {
            "bin_start": 0.0099805678710937,
            "bin_end": 0.0114840678710937,
            "count": 0
           },
           {
            "bin_start": 0.0114840678710937,
            "bin_end": 0.012987567871093699,
            "count": 0
           },
           {
            "bin_start": 0.012987567871093699,
            "bin_end": 0.014491067871093699,
            "count": 0
           },
           {
            "bin_start": 0.014491067871093699,
            "bin_end": 0.0159945678710937,
            "count": 2
           }
          ]
         }
        },
        {
         "name": "A3T0G4C3",
         "dtype": "float64",
         "stats": {
          "unique_count": 4,
          "nan_count": 0,
          "min": "0.0007085678710937",
          "max": "0.0059945678710937",
          "histogram": [
           {
            "bin_start": 0.0007085678710937,
            "bin_end": 0.0012371678710937,
            "count": 1
           },
           {
            "bin_start": 0.0012371678710937,
            "bin_end": 0.0017657678710937,
            "count": 1
           },
           {
            "bin_start": 0.0017657678710937,
            "bin_end": 0.0022943678710937,
            "count": 1
           },
           {
            "bin_start": 0.0022943678710937,
            "bin_end": 0.0028229678710937,
            "count": 0
           },
           {
            "bin_start": 0.0028229678710937,
            "bin_end": 0.0033515678710936995,
            "count": 0
           },
           {
            "bin_start": 0.0033515678710936995,
            "bin_end": 0.0038801678710936997,
            "count": 0
           },
           {
            "bin_start": 0.0038801678710936997,
            "bin_end": 0.0044087678710937,
            "count": 0
           },
           {
            "bin_start": 0.0044087678710937,
            "bin_end": 0.0049373678710937,
            "count": 0
           },
           {
            "bin_start": 0.0049373678710937,
            "bin_end": 0.005465967871093699,
            "count": 0
           },
           {
            "bin_start": 0.005465967871093699,
            "bin_end": 0.0059945678710937,
            "count": 2
           }
          ]
         }
        },
        {
         "name": "A3T0G5C2",
         "dtype": "float64",
         "stats": {
          "unique_count": 4,
          "nan_count": 0,
          "min": "0.0001307407226562",
          "max": "0.0075967407226562",
          "histogram": [
           {
            "bin_start": 0.0001307407226562,
            "bin_end": 0.0008773407226562,
            "count": 2
           },
           {
            "bin_start": 0.0008773407226562,
            "bin_end": 0.0016239407226561998,
            "count": 1
           },
           {
            "bin_start": 0.0016239407226561998,
            "bin_end": 0.0023705407226561996,
            "count": 0
           },
           {
            "bin_start": 0.0023705407226561996,
            "bin_end": 0.0031171407226561997,
            "count": 0
           },
           {
            "bin_start": 0.0031171407226561997,
            "bin_end": 0.0038637407226561997,
            "count": 0
           },
           {
            "bin_start": 0.0038637407226561997,
            "bin_end": 0.0046103407226562,
            "count": 0
           },
           {
            "bin_start": 0.0046103407226562,
            "bin_end": 0.0053569407226562,
            "count": 0
           },
           {
            "bin_start": 0.0053569407226562,
            "bin_end": 0.0061035407226562,
            "count": 0
           },
           {
            "bin_start": 0.0061035407226562,
            "bin_end": 0.0068501407226562,
            "count": 0
           },
           {
            "bin_start": 0.0068501407226562,
            "bin_end": 0.0075967407226562,
            "count": 2
           }
          ]
         }
        },
        {
         "name": "A3T0G6C1",
         "dtype": "float64",
         "stats": {
          "unique_count": 3,
          "nan_count": 0,
          "min": "-0.0008010864257812",
          "max": "-5.708642578125002e-05",
          "histogram": [
           {
            "bin_start": -0.0008010864257812,
            "bin_end": -0.000726686425781205,
            "count": 3
           },
           {
            "bin_start": -0.000726686425781205,
            "bin_end": -0.00065228642578121,
            "count": 0
           },
           {
            "bin_start": -0.00065228642578121,
            "bin_end": -0.000577886425781215,
            "count": 0
           },
           {
            "bin_start": -0.000577886425781215,
            "bin_end": -0.00050348642578122,
            "count": 0
           },
           {
            "bin_start": -0.00050348642578122,
            "bin_end": -0.000429086425781225,
            "count": 0
           },
           {
            "bin_start": -0.000429086425781225,
            "bin_end": -0.00035468642578123,
            "count": 0
           },
           {
            "bin_start": -0.00035468642578123,
            "bin_end": -0.00028028642578123496,
            "count": 0
           },
           {
            "bin_start": -0.00028028642578123496,
            "bin_end": -0.00020588642578123998,
            "count": 0
           },
           {
            "bin_start": -0.00020588642578123998,
            "bin_end": -0.000131486425781245,
            "count": 1
           },
           {
            "bin_start": -0.000131486425781245,
            "bin_end": -0.00005708642578125002,
            "count": 1
           }
          ]
         }
        },
        {
         "name": "A3T0G7C0",
         "dtype": "float64",
         "stats": {
          "unique_count": 3,
          "nan_count": 0,
          "min": "-0.0001144409179687",
          "max": "-9.440917968749996e-06",
          "histogram": [
           {
            "bin_start": -0.0001144409179687,
            "bin_end": -0.00010394091796870501,
            "count": 3
           },
           {
            "bin_start": -0.00010394091796870501,
            "bin_end": -0.00009344091796871,
            "count": 0
           },
           {
            "bin_start": -0.00009344091796871,
            "bin_end": -0.000082940917968715,
            "count": 0
           },
           {
            "bin_start": -0.000082940917968715,
            "bin_end": -0.00007244091796872,
            "count": 0
           },
           {
            "bin_start": -0.00007244091796872,
            "bin_end": -0.00006194091796872501,
            "count": 0
           },
           {
            "bin_start": -0.00006194091796872501,
            "bin_end": -0.000051440917968729997,
            "count": 0
           },
           {
            "bin_start": -0.000051440917968729997,
            "bin_end": -0.000040940917968735,
            "count": 1
           },
           {
            "bin_start": -0.000040940917968735,
            "bin_end": -0.000030440917968740003,
            "count": 0
           },
           {
            "bin_start": -0.000030440917968740003,
            "bin_end": -0.000019940917968745006,
            "count": 0
           },
           {
            "bin_start": -0.000019940917968745006,
            "bin_end": -0.000009440917968749996,
            "count": 1
           }
          ]
         }
        },
        {
         "name": "A3T1G0C6",
         "dtype": "float64",
         "stats": {
          "unique_count": 3,
          "nan_count": 0,
          "min": "-0.0008010864257812",
          "max": "-0.0001830864257812",
          "histogram": [
           {
            "bin_start": -0.0008010864257812,
            "bin_end": -0.0007392864257812,
            "count": 3
           },
           {
            "bin_start": -0.0007392864257812,
            "bin_end": -0.0006774864257811999,
            "count": 0
           },
           {
            "bin_start": -0.0006774864257811999,
            "bin_end": -0.0006156864257812,
            "count": 0
           },
           {
            "bin_start": -0.0006156864257812,
            "bin_end": -0.0005538864257812,
            "count": 0
           },
           {
            "bin_start": -0.0005538864257812,
            "bin_end": -0.0004920864257812,
            "count": 0
           },
           {
            "bin_start": -0.0004920864257812,
            "bin_end": -0.00043028642578119995,
            "count": 0
           },
           {
            "bin_start": -0.00043028642578119995,
            "bin_end": -0.0003684864257811999,
            "count": 0
           },
           {
            "bin_start": -0.0003684864257811999,
            "bin_end": -0.00030668642578119993,
            "count": 1
           },
           {
            "bin_start": -0.00030668642578119993,
            "bin_end": -0.00024488642578119994,
            "count": 0
           },
           {
            "bin_start": -0.00024488642578119994,
            "bin_end": -0.0001830864257812,
            "count": 1
           }
          ]
         }
        },
        {
         "name": "A3T1G1C5",
         "dtype": "float64",
         "stats": {
          "unique_count": 5,
          "nan_count": 0,
          "min": "-0.0008065185546874",
          "max": "0.0151934814453125",
          "histogram": [
           {
            "bin_start": -0.0008065185546874,
            "bin_end": 0.0007934814453125899,
            "count": 3
           },
           {
            "bin_start": 0.0007934814453125899,
            "bin_end": 0.0023934814453125796,
            "count": 0
           },
           {
            "bin_start": 0.0023934814453125796,
            "bin_end": 0.003993481445312569,
            "count": 0
           },
           {
            "bin_start": 0.003993481445312569,
            "bin_end": 0.005593481445312559,
            "count": 1
           },
           {
            "bin_start": 0.005593481445312559,
            "bin_end": 0.00719348144531255,
            "count": 0
           },
           {
            "bin_start": 0.00719348144531255,
            "bin_end": 0.00879348144531254,
            "count": 0
           },
           {
            "bin_start": 0.00879348144531254,
            "bin_end": 0.01039348144531253,
            "count": 0
           },
           {
            "bin_start": 0.01039348144531253,
            "bin_end": 0.01199348144531252,
            "count": 0
           },
           {
            "bin_start": 0.01199348144531252,
            "bin_end": 0.01359348144531251,
            "count": 0
           },
           {
            "bin_start": 0.01359348144531251,
            "bin_end": 0.0151934814453125,
            "count": 1
           }
          ]
         }
        },
        {
         "name": "A3T1G2C4",
         "dtype": "float64",
         "stats": {
          "unique_count": 4,
          "nan_count": 0,
          "min": "-0.0120162963867187",
          "max": "0.0005437036132812",
          "histogram": [
           {
            "bin_start": -0.0120162963867187,
            "bin_end": -0.01076029638671871,
            "count": 2
           },
           {
            "bin_start": -0.01076029638671871,
            "bin_end": -0.00950429638671872,
            "count": 0
           },
           {
            "bin_start": -0.00950429638671872,
            "bin_end": -0.008248296386718729,
            "count": 0
           },
           {
            "bin_start": -0.008248296386718729,
            "bin_end": -0.00699229638671874,
            "count": 0
           },
           {
            "bin_start": -0.00699229638671874,
            "bin_end": -0.00573629638671875,
            "count": 0
           },
           {
            "bin_start": -0.00573629638671875,
            "bin_end": -0.004480296386718759,
            "count": 0
           },
           {
            "bin_start": -0.004480296386718759,
            "bin_end": -0.0032242963867187696,
            "count": 1
           },
           {
            "bin_start": -0.0032242963867187696,
            "bin_end": -0.00196829638671878,
            "count": 0
           },
           {
            "bin_start": -0.00196829638671878,
            "bin_end": -0.0007122963867187901,
            "count": 0
           },
           {
            "bin_start": -0.0007122963867187901,
            "bin_end": 0.0005437036132812,
            "count": 2
           }
          ]
         }
        },
        {
         "name": "A3T1G3C3",
         "dtype": "float64",
         "stats": {
          "unique_count": 5,
          "nan_count": 0,
          "min": "0.0007962714843749",
          "max": "0.033978271484375",
          "histogram": [
           {
            "bin_start": 0.0007962714843749,
            "bin_end": 0.00411447148437491,
            "count": 3
           },
           {
            "bin_start": 0.00411447148437491,
            "bin_end": 0.00743267148437492,
            "count": 0
           },
           {
            "bin_start": 0.00743267148437492,
            "bin_end": 0.01075087148437493,
            "count": 0
           },
           {
            "bin_start": 0.01075087148437493,
            "bin_end": 0.01406907148437494,
            "count": 0
           },
           {
            "bin_start": 0.01406907148437494,
            "bin_end": 0.01738727148437495,
            "count": 0
           },
           {
            "bin_start": 0.01738727148437495,
            "bin_end": 0.020705471484374956,
            "count": 0
           },
           {
            "bin_start": 0.020705471484374956,
            "bin_end": 0.024023671484374967,
            "count": 1
           },
           {
            "bin_start": 0.024023671484374967,
            "bin_end": 0.027341871484374978,
            "count": 0
           },
           {
            "bin_start": 0.027341871484374978,
            "bin_end": 0.03066007148437499,
            "count": 0
           },
           {
            "bin_start": 0.03066007148437499,
            "bin_end": 0.033978271484375,
            "count": 1
           }
          ]
         }
        },
        {
         "name": "A3T1G4C2",
         "dtype": "float64",
         "stats": {
          "unique_count": 4,
          "nan_count": 0,
          "min": "-0.0120162963867187",
          "max": "0.0003227036132812",
          "histogram": [
           {
            "bin_start": -0.0120162963867187,
            "bin_end": -0.010782396386718709,
            "count": 2
           },
           {
            "bin_start": -0.010782396386718709,
            "bin_end": -0.00954849638671872,
            "count": 0
           },
           {
            "bin_start": -0.00954849638671872,
            "bin_end": -0.00831459638671873,
            "count": 0
           },
           {
            "bin_start": -0.00831459638671873,
            "bin_end": -0.0070806963867187395,
            "count": 0
           },
           {
            "bin_start": -0.0070806963867187395,
            "bin_end": -0.0058467963867187495,
            "count": 0
           },
           {
            "bin_start": -0.0058467963867187495,
            "bin_end": -0.0046128963867187595,
            "count": 0
           },
           {
            "bin_start": -0.0046128963867187595,
            "bin_end": -0.0033789963867187685,
            "count": 0
           },
           {
            "bin_start": -0.0033789963867187685,
            "bin_end": -0.0021450963867187794,
            "count": 1
           },
           {
            "bin_start": -0.0021450963867187794,
            "bin_end": -0.0009111963867187902,
            "count": 0
           },
           {
            "bin_start": -0.0009111963867187902,
            "bin_end": 0.0003227036132812,
            "count": 2
           }
          ]
         }
        },
        {
         "name": "A3T1G5C1",
         "dtype": "float64",
         "stats": {
          "unique_count": 4,
          "nan_count": 0,
          "min": "-0.0008835185546874",
          "max": "0.0051934814453125",
          "histogram": [
           {
            "bin_start": -0.0008835185546874,
            "bin_end": -0.00027581855468741,
            "count": 2
           },
           {
            "bin_start": -0.00027581855468741,
            "bin_end": 0.00033188144531258,
            "count": 1
           },
           {
            "bin_start": 0.00033188144531258,
            "bin_end": 0.0009395814453125699,
            "count": 0
           },
           {
            "bin_start": 0.0009395814453125699,
            "bin_end": 0.00154728144531256,
            "count": 0
           },
           {
            "bin_start": 0.00154728144531256,
            "bin_end": 0.00215498144531255,
            "count": 0
           },
           {
            "bin_start": 0.00215498144531255,
            "bin_end": 0.00276268144531254,
            "count": 0
           },
           {
            "bin_start": 0.00276268144531254,
            "bin_end": 0.0033703814453125303,
            "count": 0
           },
           {
            "bin_start": 0.0033703814453125303,
            "bin_end": 0.00397808144531252,
            "count": 0
           },
           {
            "bin_start": 0.00397808144531252,
            "bin_end": 0.00458578144531251,
            "count": 0
           },
           {
            "bin_start": 0.00458578144531251,
            "bin_end": 0.0051934814453125,
            "count": 2
           }
          ]
         }
        },
        {
         "name": "A3T1G6C0",
         "dtype": "float64",
         "stats": {
          "unique_count": 3,
          "nan_count": 0,
          "min": "-0.0008010864257812",
          "max": "-0.0001780864257812",
          "histogram": [
           {
            "bin_start": -0.0008010864257812,
            "bin_end": -0.0007387864257812,
            "count": 3
           },
           {
            "bin_start": -0.0007387864257812,
            "bin_end": -0.0006764864257812,
            "count": 0
           },
           {
            "bin_start": -0.0006764864257812,
            "bin_end": -0.0006141864257812,
            "count": 0
           },
           {
            "bin_start": -0.0006141864257812,
            "bin_end": -0.0005518864257811999,
            "count": 0
           },
           {
            "bin_start": -0.0005518864257811999,
            "bin_end": -0.0004895864257812,
            "count": 0
           },
           {
            "bin_start": -0.0004895864257812,
            "bin_end": -0.00042728642578119993,
            "count": 0
           },
           {
            "bin_start": -0.00042728642578119993,
            "bin_end": -0.00036498642578119993,
            "count": 0
           },
           {
            "bin_start": -0.00036498642578119993,
            "bin_end": -0.00030268642578119994,
            "count": 1
           },
           {
            "bin_start": -0.00030268642578119994,
            "bin_end": -0.0002403864257811999,
            "count": 0
           },
           {
            "bin_start": -0.0002403864257811999,
            "bin_end": -0.0001780864257812,
            "count": 1
           }
          ]
         }
        },
        {
         "name": "A3T2G0C5",
         "dtype": "float64",
         "stats": {
          "unique_count": 4,
          "nan_count": 0,
          "min": "-0.0024032592773437",
          "max": "-0.0004032592773437",
          "histogram": [
           {
            "bin_start": -0.0024032592773437,
            "bin_end": -0.0022032592773437,
            "count": 2
           },
           {
            "bin_start": -0.0022032592773437,
            "bin_end": -0.0020032592773437,
            "count": 0
           },
           {
            "bin_start": -0.0020032592773437,
            "bin_end": -0.0018032592773437,
            "count": 0
           },
           {
            "bin_start": -0.0018032592773437,
            "bin_end": -0.0016032592773437002,
            "count": 0
           },
           {
            "bin_start": -0.0016032592773437002,
            "bin_end": -0.0014032592773437,
            "count": 0
           },
           {
            "bin_start": -0.0014032592773437,
            "bin_end": -0.0012032592773437,
            "count": 0
           },
           {
            "bin_start": -0.0012032592773437,
            "bin_end": -0.0010032592773437001,
            "count": 0
           },
           {
            "bin_start": -0.0010032592773437001,
            "bin_end": -0.0008032592773437,
            "count": 1
           },
           {
            "bin_start": -0.0008032592773437,
            "bin_end": -0.0006032592773437,
            "count": 0
           },
           {
            "bin_start": -0.0006032592773437,
            "bin_end": -0.0004032592773437,
            "count": 2
           }
          ]
         }
        },
        {
         "name": "A3T2G1C4",
         "dtype": "float64",
         "stats": {
          "unique_count": 4,
          "nan_count": 0,
          "min": "-0.0040162963867187",
          "max": "-0.0016062963867187",
          "histogram": [
           {
            "bin_start": -0.0040162963867187,
            "bin_end": -0.0037752963867187005,
            "count": 1
           },
           {
            "bin_start": -0.0037752963867187005,
            "bin_end": -0.0035342963867187,
            "count": 0
           },
           {
            "bin_start": -0.0035342963867187,
            "bin_end": -0.0032932963867187003,
            "count": 0
           },
           {
            "bin_start": -0.0032932963867187003,
            "bin_end": -0.0030522963867187,
            "count": 0
           },
           {
            "bin_start": -0.0030522963867187,
            "bin_end": -0.0028112963867187,
            "count": 0
           },
           {
            "bin_start": -0.0028112963867187,
            "bin_end": -0.0025702963867187,
            "count": 1
           },
           {
            "bin_start": -0.0025702963867187,
            "bin_end": -0.0023292963867187003,
            "count": 0
           },
           {
            "bin_start": -0.0023292963867187003,
            "bin_end": -0.0020882963867187,
            "count": 0
           },
           {
            "bin_start": -0.0020882963867187,
            "bin_end": -0.0018472963867187,
            "count": 2
           },
           {
            "bin_start": -0.0018472963867187,
            "bin_end": -0.0016062963867187,
            "count": 1
           }
          ]
         }
        },
        {
         "name": "A3T2G2C3",
         "dtype": "float64",
         "stats": {
          "unique_count": 4,
          "nan_count": 0,
          "min": "-0.0040325927734375",
          "max": "0.0159674072265625",
          "histogram": [
           {
            "bin_start": -0.0040325927734375,
            "bin_end": -0.0020325927734374995,
            "count": 3
           },
           {
            "bin_start": -0.0020325927734374995,
            "bin_end": -0.0000325927734374995,
            "count": 1
           },
           {
            "bin_start": -0.0000325927734374995,
            "bin_end": 0.0019674072265625005,
            "count": 0
           },
           {
            "bin_start": 0.0019674072265625005,
            "bin_end": 0.003967407226562501,
            "count": 0
           },
           {
            "bin_start": 0.003967407226562501,
            "bin_end": 0.005967407226562501,
            "count": 0
           },
           {
            "bin_start": 0.005967407226562501,
            "bin_end": 0.0079674072265625,
            "count": 0
           },
           {
            "bin_start": 0.0079674072265625,
            "bin_end": 0.0099674072265625,
            "count": 0
           },
           {
            "bin_start": 0.0099674072265625,
            "bin_end": 0.0119674072265625,
            "count": 0
           },
           {
            "bin_start": 0.0119674072265625,
            "bin_end": 0.013967407226562503,
            "count": 0
           },
           {
            "bin_start": 0.013967407226562503,
            "bin_end": 0.0159674072265625,
            "count": 1
           }
          ]
         }
        },
        {
         "name": "A3T2G3C2",
         "dtype": "float64",
         "stats": {
          "unique_count": 4,
          "nan_count": 0,
          "min": "-0.0140325927734375",
          "max": "-3.25927734374995e-05",
          "histogram": [
           {
            "bin_start": -0.0140325927734375,
            "bin_end": -0.0126325927734375,
            "count": 2
           },
           {
            "bin_start": -0.0126325927734375,
            "bin_end": -0.0112325927734375,
            "count": 0
           },
           {
            "bin_start": -0.0112325927734375,
            "bin_end": -0.0098325927734375,
            "count": 0
           },
           {
            "bin_start": -0.0098325927734375,
            "bin_end": -0.0084325927734375,
            "count": 0
           },
           {
            "bin_start": -0.0084325927734375,
            "bin_end": -0.0070325927734375,
            "count": 0
           },
           {
            "bin_start": -0.0070325927734375,
            "bin_end": -0.0056325927734375,
            "count": 0
           },
           {
            "bin_start": -0.0056325927734375,
            "bin_end": -0.0042325927734375,
            "count": 0
           },
           {
            "bin_start": -0.0042325927734375,
            "bin_end": -0.0028325927734375,
            "count": 1
           },
           {
            "bin_start": -0.0028325927734375,
            "bin_end": -0.0014325927734374997,
            "count": 1
           },
           {
            "bin_start": -0.0014325927734374997,
            "bin_end": -0.0000325927734374995,
            "count": 1
           }
          ]
         }
        },
        {
         "name": "A3T2G4C1",
         "dtype": "float64",
         "stats": {
          "unique_count": 4,
          "nan_count": 0,
          "min": "-0.0040162963867187",
          "max": "-0.0013172963867187",
          "histogram": [
           {
            "bin_start": -0.0040162963867187,
            "bin_end": -0.0037463963867187004,
            "count": 1
           },
           {
            "bin_start": -0.0037463963867187004,
            "bin_end": -0.0034764963867187004,
            "count": 0
           },
           {
            "bin_start": -0.0034764963867187004,
            "bin_end": -0.0032065963867187004,
            "count": 0
           },
           {
            "bin_start": -0.0032065963867187004,
            "bin_end": -0.0029366963867187004,
            "count": 0
           },
           {
            "bin_start": -0.0029366963867187004,
            "bin_end": -0.0026667963867187004,
            "count": 0
           },
           {
            "bin_start": -0.0026667963867187004,
            "bin_end": -0.0023968963867187,
            "count": 1
           },
           {
            "bin_start": -0.0023968963867187,
            "bin_end": -0.0021269963867187,
            "count": 0
           },
           {
            "bin_start": -0.0021269963867187,
            "bin_end": -0.0018570963867187,
            "count": 2
           },
           {
            "bin_start": -0.0018570963867187,
            "bin_end": -0.0015871963867187,
            "count": 0
           },
           {
            "bin_start": -0.0015871963867187,
            "bin_end": -0.0013172963867187,
            "count": 1
           }
          ]
         }
        },
        {
         "name": "A3T2G5C0",
         "dtype": "float64",
         "stats": {
          "unique_count": 4,
          "nan_count": 0,
          "min": "-0.0009242592773437",
          "max": "0.0075967407226562",
          "histogram": [
           {
            "bin_start": -0.0009242592773437,
            "bin_end": -0.00007215927734370998,
            "count": 3
           },
           {
            "bin_start": -0.00007215927734370998,
            "bin_end": 0.00077994072265628,
            "count": 0
           },
           {
            "bin_start": 0.00077994072265628,
            "bin_end": 0.0016320407226562699,
            "count": 0
           },
           {
            "bin_start": 0.0016320407226562699,
            "bin_end": 0.00248414072265626,
            "count": 0
           },
           {
            "bin_start": 0.00248414072265626,
            "bin_end": 0.0033362407226562502,
            "count": 0
           },
           {
            "bin_start": 0.0033362407226562502,
            "bin_end": 0.004188340722656239,
            "count": 0
           },
           {
            "bin_start": 0.004188340722656239,
            "bin_end": 0.005040440722656229,
            "count": 0
           },
           {
            "bin_start": 0.005040440722656229,
            "bin_end": 0.0058925407226562195,
            "count": 0
           },
           {
            "bin_start": 0.0058925407226562195,
            "bin_end": 0.00674464072265621,
            "count": 0
           },
           {
            "bin_start": 0.00674464072265621,
            "bin_end": 0.0075967407226562,
            "count": 2
           }
          ]
         }
        },
        {
         "name": "A3T3G0C4",
         "dtype": "float64",
         "stats": {
          "unique_count": 4,
          "nan_count": 0,
          "min": "-0.0040054321289062",
          "max": "0.0019945678710937",
          "histogram": [
           {
            "bin_start": -0.0040054321289062,
            "bin_end": -0.00340543212890621,
            "count": 2
           },
           {
            "bin_start": -0.00340543212890621,
            "bin_end": -0.00280543212890622,
            "count": 0
           },
           {
            "bin_start": -0.00280543212890622,
            "bin_end": -0.0022054321289062297,
            "count": 0
           },
           {
            "bin_start": -0.0022054321289062297,
            "bin_end": -0.0016054321289062398,
            "count": 0
           },
           {
            "bin_start": -0.0016054321289062398,
            "bin_end": -0.00100543212890625,
            "count": 1
           },
           {
            "bin_start": -0.00100543212890625,
            "bin_end": -0.00040543212890625964,
            "count": 1
           },
           {
            "bin_start": -0.00040543212890625964,
            "bin_end": 0.0001945678710937298,
            "count": 0
           },
           {
            "bin_start": 0.0001945678710937298,
            "bin_end": 0.0007945678710937201,
            "count": 0
           },
           {
            "bin_start": 0.0007945678710937201,
            "bin_end": 0.0013945678710937104,
            "count": 0
           },
           {
            "bin_start": 0.0013945678710937104,
            "bin_end": 0.0019945678710937,
            "count": 1
           }
          ]
         }
        },
        {
         "name": "A3T3G1C3",
         "dtype": "float64",
         "stats": {
          "unique_count": 4,
          "nan_count": 0,
          "min": "-0.0040957285156249",
          "max": "0.003978271484375",
          "histogram": [
           {
            "bin_start": -0.0040957285156249,
            "bin_end": -0.00328832851562491,
            "count": 1
           },
           {
            "bin_start": -0.00328832851562491,
            "bin_end": -0.0024809285156249202,
            "count": 0
           },
           {
            "bin_start": -0.0024809285156249202,
            "bin_end": -0.0016735285156249304,
            "count": 2
           },
           {
            "bin_start": -0.0016735285156249304,
            "bin_end": -0.0008661285156249402,
            "count": 0
           },
           {
            "bin_start": -0.0008661285156249402,
            "bin_end": -0.000058728515624949934,
            "count": 0
           },
           {
            "bin_start": -0.000058728515624949934,
            "bin_end": 0.0007486714843750394,
            "count": 0
           },
           {
            "bin_start": 0.0007486714843750394,
            "bin_end": 0.0015560714843750297,
            "count": 0
           },
           {
            "bin_start": 0.0015560714843750297,
            "bin_end": 0.00236347148437502,
            "count": 0
           },
           {
            "bin_start": 0.00236347148437502,
            "bin_end": 0.00317087148437501,
            "count": 0
           },
           {
            "bin_start": 0.00317087148437501,
            "bin_end": 0.003978271484375,
            "count": 2
           }
          ]
         }
        },
        {
         "name": "A3T3G2C2",
         "dtype": "float64",
         "stats": {
          "unique_count": 5,
          "nan_count": 0,
          "min": "-0.0054025927734374",
          "max": "0.0259674072265625",
          "histogram": [
           {
            "bin_start": -0.0054025927734374,
            "bin_end": -0.0022655927734374108,
            "count": 2
           },
           {
            "bin_start": -0.0022655927734374108,
            "bin_end": 0.0008714072265625789,
            "count": 0
           },
           {
            "bin_start": 0.0008714072265625789,
            "bin_end": 0.004008407226562568,
            "count": 1
           },
           {
            "bin_start": 0.004008407226562568,
            "bin_end": 0.007145407226562558,
            "count": 1
           },
           {
            "bin_start": 0.007145407226562558,
            "bin_end": 0.010282407226562549,
            "count": 0
           },
           {
            "bin_start": 0.010282407226562549,
            "bin_end": 0.013419407226562536,
            "count": 0
           },
           {
            "bin_start": 0.013419407226562536,
            "bin_end": 0.016556407226562528,
            "count": 0
           },
           {
            "bin_start": 0.016556407226562528,
            "bin_end": 0.019693407226562515,
            "count": 0
           },
           {
            "bin_start": 0.019693407226562515,
            "bin_end": 0.02283040722656251,
            "count": 0
           },
           {
            "bin_start": 0.02283040722656251,
            "bin_end": 0.0259674072265625,
            "count": 1
           }
          ]
         }
        },
        {
         "name": "A3T3G3C1",
         "dtype": "float64",
         "stats": {
          "unique_count": 4,
          "nan_count": 0,
          "min": "-0.006021728515625",
          "max": "-0.001925728515625",
          "histogram": [
           {
            "bin_start": -0.006021728515625,
            "bin_end": -0.005612128515625,
            "count": 2
           },
           {
            "bin_start": -0.005612128515625,
            "bin_end": -0.005202528515625,
            "count": 0
           },
           {
            "bin_start": -0.005202528515625,
            "bin_end": -0.004792928515624999,
            "count": 0
           },
           {
            "bin_start": -0.004792928515624999,
            "bin_end": -0.004383328515625,
            "count": 0
           },
           {
            "bin_start": -0.004383328515625,
            "bin_end": -0.003973728515625,
            "count": 0
           },
           {
            "bin_start": -0.003973728515625,
            "bin_end": -0.003564128515625,
            "count": 1
           },
           {
            "bin_start": -0.003564128515625,
            "bin_end": -0.003154528515625,
            "count": 0
           },
           {
            "bin_start": -0.003154528515625,
            "bin_end": -0.002744928515625,
            "count": 1
           },
           {
            "bin_start": -0.002744928515625,
            "bin_end": -0.002335328515625,
            "count": 0
           },
           {
            "bin_start": -0.002335328515625,
            "bin_end": -0.001925728515625,
            "count": 1
           }
          ]
         }
        },
        {
         "name": "A3T3G4C0",
         "dtype": "float64",
         "stats": {
          "unique_count": 4,
          "nan_count": 0,
          "min": "-0.0040054321289062",
          "max": "-5.432128906249917e-06",
          "histogram": [
           {
            "bin_start": -0.0040054321289062,
            "bin_end": -0.0036054321289062047,
            "count": 2
           },
           {
            "bin_start": -0.0036054321289062047,
            "bin_end": -0.0032054321289062097,
            "count": 0
           },
           {
            "bin_start": -0.0032054321289062097,
            "bin_end": -0.0028054321289062148,
            "count": 0
           },
           {
            "bin_start": -0.0028054321289062148,
            "bin_end": -0.0024054321289062198,
            "count": 0
           },
           {
            "bin_start": -0.0024054321289062198,
            "bin_end": -0.002005432128906225,
            "count": 0
           },
           {
            "bin_start": -0.002005432128906225,
            "bin_end": -0.0016054321289062298,
            "count": 0
           },
           {
            "bin_start": -0.0016054321289062298,
            "bin_end": -0.0012054321289062348,
            "count": 1
           },
           {
            "bin_start": -0.0012054321289062348,
            "bin_end": -0.0008054321289062399,
            "count": 0
           },
           {
            "bin_start": -0.0008054321289062399,
            "bin_end": -0.0004054321289062449,
            "count": 1
           },
           {
            "bin_start": -0.0004054321289062449,
            "bin_end": -0.000005432128906249917,
            "count": 1
           }
          ]
         }
        },
        {
         "name": "A3T4G0C3",
         "dtype": "float64",
         "stats": {
          "unique_count": 4,
          "nan_count": 0,
          "min": "-0.0040054321289062",
          "max": "-0.0004404321289062",
          "histogram": [
           {
            "bin_start": -0.0040054321289062,
            "bin_end": -0.0036489321289061996,
            "count": 2
           },
           {
            "bin_start": -0.0036489321289061996,
            "bin_end": -0.0032924321289061996,
            "count": 0
           },
           {
            "bin_start": -0.0032924321289061996,
            "bin_end": -0.0029359321289062,
            "count": 1
           },
           {
            "bin_start": -0.0029359321289062,
            "bin_end": -0.0025794321289062,
            "count": 0
           },
           {
            "bin_start": -0.0025794321289062,
            "bin_end": -0.0022229321289062,
            "count": 0
           },
           {
            "bin_start": -0.0022229321289062,
            "bin_end": -0.0018664321289062003,
            "count": 0
           },
           {
            "bin_start": -0.0018664321289062003,
            "bin_end": -0.0015099321289062002,
            "count": 0
           },
           {
            "bin_start": -0.0015099321289062002,
            "bin_end": -0.0011534321289062002,
            "count": 0
           },
           {
            "bin_start": -0.0011534321289062002,
            "bin_end": -0.0007969321289062001,
            "count": 1
           },
           {
            "bin_start": -0.0007969321289062001,
            "bin_end": -0.0004404321289062,
            "count": 1
           }
          ]
         }
        },
        {
         "name": "A3T4G1C2",
         "dtype": "float64",
         "stats": {
          "unique_count": 5,
          "nan_count": 0,
          "min": "-0.0120162963867187",
          "max": "-0.0013862963867187",
          "histogram": [
           {
            "bin_start": -0.0120162963867187,
            "bin_end": -0.0109532963867187,
            "count": 1
           },
           {
            "bin_start": -0.0109532963867187,
            "bin_end": -0.009890296386718699,
            "count": 0
           },
           {
            "bin_start": -0.009890296386718699,
            "bin_end": -0.008827296386718699,
            "count": 0
           },
           {
            "bin_start": -0.008827296386718699,
            "bin_end": -0.007764296386718699,
            "count": 0
           },
           {
            "bin_start": -0.007764296386718699,
            "bin_end": -0.006701296386718699,
            "count": 0
           },
           {
            "bin_start": -0.006701296386718699,
            "bin_end": -0.005638296386718699,
            "count": 0
           },
           {
            "bin_start": -0.005638296386718699,
            "bin_end": -0.004575296386718698,
            "count": 1
           },
           {
            "bin_start": -0.004575296386718698,
            "bin_end": -0.0035122963867186986,
            "count": 0
           },
           {
            "bin_start": -0.0035122963867186986,
            "bin_end": -0.002449296386718699,
            "count": 1
           },
           {
            "bin_start": -0.002449296386718699,
            "bin_end": -0.0013862963867187,
            "count": 2
           }
          ]
         }
        },
        {
         "name": "A3T4G2C1",
         "dtype": "float64",
         "stats": {
          "unique_count": 5,
          "nan_count": 0,
          "min": "-0.0030162963867187",
          "max": "0.0179837036132812",
          "histogram": [
           {
            "bin_start": -0.0030162963867187,
            "bin_end": -0.00091629638671871,
            "count": 3
           },
           {
            "bin_start": -0.00091629638671871,
            "bin_end": 0.0011837036132812799,
            "count": 0
           },
           {
            "bin_start": 0.0011837036132812799,
            "bin_end": 0.0032837036132812697,
            "count": 0
           },
           {
            "bin_start": 0.0032837036132812697,
            "bin_end": 0.005383703613281259,
            "count": 0
           },
           {
            "bin_start": 0.005383703613281259,
            "bin_end": 0.00748370361328125,
            "count": 0
           },
           {
            "bin_start": 0.00748370361328125,
            "bin_end": 0.009583703613281239,
            "count": 1
           },
           {
            "bin_start": 0.009583703613281239,
            "bin_end": 0.011683703613281228,
            "count": 0
           },
           {
            "bin_start": 0.011683703613281228,
            "bin_end": 0.013783703613281219,
            "count": 0
           },
           {
            "bin_start": 0.013783703613281219,
            "bin_end": 0.01588370361328121,
            "count": 0
           },
           {
            "bin_start": 0.01588370361328121,
            "bin_end": 0.0179837036132812,
            "count": 1
           }
          ]
         }
        },
        {
         "name": "A3T4G3C0",
         "dtype": "float64",
         "stats": {
          "unique_count": 4,
          "nan_count": 0,
          "min": "-0.0010564321289062",
          "max": "0.0159945678710937",
          "histogram": [
           {
            "bin_start": -0.0010564321289062,
            "bin_end": 0.0006486678710937901,
            "count": 2
           },
           {
            "bin_start": 0.0006486678710937901,
            "bin_end": 0.00235376787109378,
            "count": 0
           },
           {
            "bin_start": 0.00235376787109378,
            "bin_end": 0.004058867871093771,
            "count": 0
           },
           {
            "bin_start": 0.004058867871093771,
            "bin_end": 0.00576396787109376,
            "count": 0
           },
           {
            "bin_start": 0.00576396787109376,
            "bin_end": 0.00746906787109375,
            "count": 1
           },
           {
            "bin_start": 0.00746906787109375,
            "bin_end": 0.009174167871093741,
            "count": 0
           },
           {
            "bin_start": 0.009174167871093741,
            "bin_end": 0.01087926787109373,
            "count": 0
           },
           {
            "bin_start": 0.01087926787109373,
            "bin_end": 0.01258436787109372,
            "count": 0
           },
           {
            "bin_start": 0.01258436787109372,
            "bin_end": 0.014289467871093711,
            "count": 0
           },
           {
            "bin_start": 0.014289467871093711,
            "bin_end": 0.0159945678710937,
            "count": 2
           }
          ]
         }
        },
        {
         "name": "A3T5G0C2",
         "dtype": "float64",
         "stats": {
          "unique_count": 5,
          "nan_count": 0,
          "min": "-0.0024032592773437",
          "max": "0.0075967407226562",
          "histogram": [
           {
            "bin_start": -0.0024032592773437,
            "bin_end": -0.00140325927734371,
            "count": 1
           },
           {
            "bin_start": -0.00140325927734371,
            "bin_end": -0.00040325927734372003,
            "count": 0
           },
           {
            "bin_start": -0.00040325927734372003,
            "bin_end": 0.00059674072265627,
            "count": 3
           },
           {
            "bin_start": 0.00059674072265627,
            "bin_end": 0.00159674072265626,
            "count": 0
           },
           {
            "bin_start": 0.00159674072265626,
            "bin_end": 0.0025967407226562505,
            "count": 0
           },
           {
            "bin_start": 0.0025967407226562505,
            "bin_end": 0.00359674072265624,
            "count": 0
           },
           {
            "bin_start": 0.00359674072265624,
            "bin_end": 0.00459674072265623,
            "count": 0
           },
           {
            "bin_start": 0.00459674072265623,
            "bin_end": 0.005596740722656221,
            "count": 0
           },
           {
            "bin_start": 0.005596740722656221,
            "bin_end": 0.006596740722656211,
            "count": 0
           },
           {
            "bin_start": 0.006596740722656211,
            "bin_end": 0.0075967407226562,
            "count": 1
           }
          ]
         }
        },
        {
         "name": "A3T5G1C1",
         "dtype": "float64",
         "stats": {
          "unique_count": 4,
          "nan_count": 0,
          "min": "-0.0048065185546875",
          "max": "0.0001934814453125",
          "histogram": [
           {
            "bin_start": -0.0048065185546875,
            "bin_end": -0.0043065185546874996,
            "count": 2
           },
           {
            "bin_start": -0.0043065185546874996,
            "bin_end": -0.0038065185546875,
            "count": 0
           },
           {
            "bin_start": -0.0038065185546875,
            "bin_end": -0.0033065185546875,
            "count": 0
           },
           {
            "bin_start": -0.0033065185546875,
            "bin_end": -0.0028065185546875,
            "count": 0
           },
           {
            "bin_start": -0.0028065185546875,
            "bin_end": -0.0023065185546875,
            "count": 0
           },
           {
            "bin_start": -0.0023065185546875,
            "bin_end": -0.0018065185546875,
            "count": 0
           },
           {
            "bin_start": -0.0018065185546875,
            "bin_end": -0.0013065185546875,
            "count": 0
           },
           {
            "bin_start": -0.0013065185546875,
            "bin_end": -0.0008065185546874999,
            "count": 0
           },
           {
            "bin_start": -0.0008065185546874999,
            "bin_end": -0.00030651855468749947,
            "count": 0
           },
           {
            "bin_start": -0.00030651855468749947,
            "bin_end": 0.0001934814453125,
            "count": 3
           }
          ]
         }
        },
        {
         "name": "A3T5G2C0",
         "dtype": "float64",
         "stats": {
          "unique_count": 5,
          "nan_count": 0,
          "min": "-0.0024032592773437",
          "max": "0.0075967407226562",
          "histogram": [
           {
            "bin_start": -0.0024032592773437,
            "bin_end": -0.00140325927734371,
            "count": 1
           },
           {
            "bin_start": -0.00140325927734371,
            "bin_end": -0.00040325927734372003,
            "count": 0
           },
           {
            "bin_start": -0.00040325927734372003,
            "bin_end": 0.00059674072265627,
            "count": 2
           },
           {
            "bin_start": 0.00059674072265627,
            "bin_end": 0.00159674072265626,
            "count": 1
           },
           {
            "bin_start": 0.00159674072265626,
            "bin_end": 0.0025967407226562505,
            "count": 0
           },
           {
            "bin_start": 0.0025967407226562505,
            "bin_end": 0.00359674072265624,
            "count": 0
           },
           {
            "bin_start": 0.00359674072265624,
            "bin_end": 0.00459674072265623,
            "count": 0
           },
           {
            "bin_start": 0.00459674072265623,
            "bin_end": 0.005596740722656221,
            "count": 0
           },
           {
            "bin_start": 0.005596740722656221,
            "bin_end": 0.006596740722656211,
            "count": 0
           },
           {
            "bin_start": 0.006596740722656211,
            "bin_end": 0.0075967407226562,
            "count": 1
           }
          ]
         }
        },
        {
         "name": "A3T6G0C1",
         "dtype": "float64",
         "stats": {
          "unique_count": 3,
          "nan_count": 0,
          "min": "-0.0008010864257812",
          "max": "0.0004739135742187",
          "histogram": [
           {
            "bin_start": -0.0008010864257812,
            "bin_end": -0.0006735864257812101,
            "count": 3
           },
           {
            "bin_start": -0.0006735864257812101,
            "bin_end": -0.0005460864257812201,
            "count": 0
           },
           {
            "bin_start": -0.0005460864257812201,
            "bin_end": -0.0004185864257812301,
            "count": 0
           },
           {
            "bin_start": -0.0004185864257812301,
            "bin_end": -0.0002910864257812401,
            "count": 0
           },
           {
            "bin_start": -0.0002910864257812401,
            "bin_end": -0.00016358642578125006,
            "count": 0
           },
           {
            "bin_start": -0.00016358642578125006,
            "bin_end": -0.000036086425781260137,
            "count": 0
           },
           {
            "bin_start": -0.000036086425781260137,
            "bin_end": 0.00009141357421872979,
            "count": 0
           },
           {
            "bin_start": 0.00009141357421872979,
            "bin_end": 0.00021891357421871982,
            "count": 1
           },
           {
            "bin_start": 0.00021891357421871982,
            "bin_end": 0.00034641357421870986,
            "count": 0
           },
           {
            "bin_start": 0.00034641357421870986,
            "bin_end": 0.0004739135742187,
            "count": 1
           }
          ]
         }
        },
        {
         "name": "A3T6G1C0",
         "dtype": "float64",
         "stats": {
          "unique_count": 3,
          "nan_count": 0,
          "min": "-0.0008010864257812",
          "max": "0.0002859135742187",
          "histogram": [
           {
            "bin_start": -0.0008010864257812,
            "bin_end": -0.00069238642578121,
            "count": 3
           },
           {
            "bin_start": -0.00069238642578121,
            "bin_end": -0.00058368642578122,
            "count": 0
           },
           {
            "bin_start": -0.00058368642578122,
            "bin_end": -0.00047498642578123,
            "count": 0
           },
           {
            "bin_start": -0.00047498642578123,
            "bin_end": -0.00036628642578124,
            "count": 0
           },
           {
            "bin_start": -0.00036628642578124,
            "bin_end": -0.00025758642578124996,
            "count": 0
           },
           {
            "bin_start": -0.00025758642578124996,
            "bin_end": -0.00014888642578125995,
            "count": 0
           },
           {
            "bin_start": -0.00014888642578125995,
            "bin_end": -0.00004018642578126994,
            "count": 0
           },
           {
            "bin_start": -0.00004018642578126994,
            "bin_end": 0.00006851357421872007,
            "count": 0
           },
           {
            "bin_start": 0.00006851357421872007,
            "bin_end": 0.00017721357421871008,
            "count": 1
           },
           {
            "bin_start": 0.00017721357421871008,
            "bin_end": 0.0002859135742187,
            "count": 1
           }
          ]
         }
        },
        {
         "name": "A3T7G0C0",
         "dtype": "float64",
         "stats": {
          "unique_count": 5,
          "nan_count": 0,
          "min": "-0.0001144409179687",
          "max": "0.0098855590820312",
          "histogram": [
           {
            "bin_start": -0.0001144409179687,
            "bin_end": 0.00088555908203129,
            "count": 4
           },
           {
            "bin_start": 0.00088555908203129,
            "bin_end": 0.0018855590820312802,
            "count": 0
           },
           {
            "bin_start": 0.0018855590820312802,
            "bin_end": 0.00288555908203127,
            "count": 0
           },
           {
            "bin_start": 0.00288555908203127,
            "bin_end": 0.00388555908203126,
            "count": 0
           },
           {
            "bin_start": 0.00388555908203126,
            "bin_end": 0.004885559082031251,
            "count": 0
           },
           {
            "bin_start": 0.004885559082031251,
            "bin_end": 0.005885559082031241,
            "count": 0
           },
           {
            "bin_start": 0.005885559082031241,
            "bin_end": 0.00688555908203123,
            "count": 0
           },
           {
            "bin_start": 0.00688555908203123,
            "bin_end": 0.00788555908203122,
            "count": 0
           },
           {
            "bin_start": 0.00788555908203122,
            "bin_end": 0.008885559082031211,
            "count": 0
           },
           {
            "bin_start": 0.008885559082031211,
            "bin_end": 0.0098855590820312,
            "count": 1
           }
          ]
         }
        },
        {
         "name": "A4T0G0C6",
         "dtype": "float64",
         "stats": {
          "unique_count": 3,
          "nan_count": 0,
          "min": "-0.0002002716064453",
          "max": "-3.0271606445312488e-05",
          "histogram": [
           {
            "bin_start": -0.0002002716064453,
            "bin_end": -0.00018327160644530124,
            "count": 3
           },
           {
            "bin_start": -0.00018327160644530124,
            "bin_end": -0.0001662716064453025,
            "count": 0
           },
           {
            "bin_start": -0.0001662716064453025,
            "bin_end": -0.00014927160644530375,
            "count": 0
           },
           {
            "bin_start": -0.00014927160644530375,
            "bin_end": -0.000132271606445305,
            "count": 0
           },
           {
            "bin_start": -0.000132271606445305,
            "bin_end": -0.00011527160644530623,
            "count": 0
           },
           {
            "bin_start": -0.00011527160644530623,
            "bin_end": -0.00009827160644530749,
            "count": 0
           },
           {
            "bin_start": -0.00009827160644530749,
            "bin_end": -0.00008127160644530874,
            "count": 0
           },
           {
            "bin_start": -0.00008127160644530874,
            "bin_end": -0.00006427160644530998,
            "count": 0
           },
           {
            "bin_start": -0.00006427160644530998,
            "bin_end": -0.00004727160644531122,
            "count": 1
           },
           {
            "bin_start": -0.00004727160644531122,
            "bin_end": -0.000030271606445312488,
            "count": 1
           }
          ]
         }
        },
        {
         "name": "A4T0G1C5",
         "dtype": "float64",
         "stats": {
          "unique_count": 4,
          "nan_count": 0,
          "min": "-4.062963867187508e-05",
          "max": "0.0087983703613281",
          "histogram": [
           {
            "bin_start": -0.00004062963867187508,
            "bin_end": 0.0008432703613281223,
            "count": 2
           },
           {
            "bin_start": 0.0008432703613281223,
            "bin_end": 0.0017271703613281196,
            "count": 0
           },
           {
            "bin_start": 0.0017271703613281196,
            "bin_end": 0.002611070361328117,
            "count": 1
           },
           {
            "bin_start": 0.002611070361328117,
            "bin_end": 0.003494970361328114,
            "count": 0
           },
           {
            "bin_start": 0.003494970361328114,
            "bin_end": 0.0043788703613281115,
            "count": 0
           },
           {
            "bin_start": 0.0043788703613281115,
            "bin_end": 0.005262770361328109,
            "count": 0
           },
           {
            "bin_start": 0.005262770361328109,
            "bin_end": 0.006146670361328106,
            "count": 0
           },
           {
            "bin_start": 0.006146670361328106,
            "bin_end": 0.007030570361328104,
            "count": 0
           },
           {
            "bin_start": 0.007030570361328104,
            "bin_end": 0.007914470361328101,
            "count": 0
           },
           {
            "bin_start": 0.007914470361328101,
            "bin_end": 0.0087983703613281,
            "count": 2
           }
          ]
         }
        },
        {
         "name": "A4T0G2C4",
         "dtype": "float64",
         "stats": {
          "unique_count": 4,
          "nan_count": 0,
          "min": "0.0002819259033203",
          "max": "0.0069959259033203",
          "histogram": [
           {
            "bin_start": 0.0002819259033203,
            "bin_end": 0.0009533259033203,
            "count": 2
           },
           {
            "bin_start": 0.0009533259033203,
            "bin_end": 0.0016247259033203,
            "count": 1
           },
           {
            "bin_start": 0.0016247259033203,
            "bin_end": 0.0022961259033203,
            "count": 0
           },
           {
            "bin_start": 0.0022961259033203,
            "bin_end": 0.0029675259033203,
            "count": 0
           },
           {
            "bin_start": 0.0029675259033203,
            "bin_end": 0.0036389259033203,
            "count": 0
           },
           {
            "bin_start": 0.0036389259033203,
            "bin_end": 0.0043103259033203,
            "count": 0
           },
           {
            "bin_start": 0.0043103259033203,
            "bin_end": 0.0049817259033203,
            "count": 0
           },
           {
            "bin_start": 0.0049817259033203,
            "bin_end": 0.0056531259033203,
            "count": 0
           },
           {
            "bin_start": 0.0056531259033203,
            "bin_end": 0.0063245259033203,
            "count": 0
           },
           {
            "bin_start": 0.0063245259033203,
            "bin_end": 0.0069959259033203,
            "count": 2
           }
          ]
         }
        },
        {
         "name": "A4T0G3C3",
         "dtype": "float64",
         "stats": {
          "unique_count": 4,
          "nan_count": 0,
          "min": "-0.0010054321289062",
          "max": "0.0059945678710937",
          "histogram": [
           {
            "bin_start": -0.0010054321289062,
            "bin_end": -0.00030543212890621005,
            "count": 1
           },
           {
            "bin_start": -0.00030543212890621005,
            "bin_end": 0.00039456787109377997,
            "count": 0
           },
           {
            "bin_start": 0.00039456787109377997,
            "bin_end": 0.0010945678710937699,
            "count": 2
           },
           {
            "bin_start": 0.0010945678710937699,
            "bin_end": 0.00179456787109376,
            "count": 0
           },
           {
            "bin_start": 0.00179456787109376,
            "bin_end": 0.00249456787109375,
            "count": 0
           },
           {
            "bin_start": 0.00249456787109375,
            "bin_end": 0.00319456787109374,
            "count": 0
           },
           {
            "bin_start": 0.00319456787109374,
            "bin_end": 0.0038945678710937304,
            "count": 0
           },
           {
            "bin_start": 0.0038945678710937304,
            "bin_end": 0.0045945678710937205,
            "count": 0
           },
           {
            "bin_start": 0.0045945678710937205,
            "bin_end": 0.005294567871093709,
            "count": 0
           },
           {
            "bin_start": 0.005294567871093709,
            "bin_end": 0.0059945678710937,
            "count": 2
           }
          ]
         }
        },
        {
         "name": "A4T0G4C2",
         "dtype": "float64",
         "stats": {
          "unique_count": 3,
          "nan_count": 0,
          "min": "-0.0030040740966796",
          "max": "0.0004449259033203",
          "histogram": [
           {
            "bin_start": -0.0030040740966796,
            "bin_end": -0.00265917409667961,
            "count": 3
           },
           {
            "bin_start": -0.00265917409667961,
            "bin_end": -0.00231427409667962,
            "count": 0
           },
           {
            "bin_start": -0.00231427409667962,
            "bin_end": -0.00196937409667963,
            "count": 0
           },
           {
            "bin_start": -0.00196937409667963,
            "bin_end": -0.0016244740966796399,
            "count": 0
           },
           {
            "bin_start": -0.0016244740966796399,
            "bin_end": -0.0012795740966796499,
            "count": 0
           },
           {
            "bin_start": -0.0012795740966796499,
            "bin_end": -0.0009346740966796599,
            "count": 0
           },
           {
            "bin_start": -0.0009346740966796599,
            "bin_end": -0.0005897740966796699,
            "count": 0
           },
           {
            "bin_start": -0.0005897740966796699,
            "bin_end": -0.00024487409667967985,
            "count": 0
           },
           {
            "bin_start": -0.00024487409667967985,
            "bin_end": 0.00010002590332031016,
            "count": 0
           },
           {
            "bin_start": 0.00010002590332031016,
            "bin_end": 0.0004449259033203,
            "count": 2
           }
          ]
         }
        },
        {
         "name": "A4T0G5C1",
         "dtype": "float64",
         "stats": {
          "unique_count": 3,
          "nan_count": 0,
          "min": "-0.0012016296386718",
          "max": "-3.162963867187497e-05",
          "histogram": [
           {
            "bin_start": -0.0012016296386718,
            "bin_end": -0.0010846296386718074,
            "count": 3
           },
           {
            "bin_start": -0.0010846296386718074,
            "bin_end": -0.000967629638671815,
            "count": 0
           },
           {
            "bin_start": -0.000967629638671815,
            "bin_end": -0.0008506296386718224,
            "count": 0
           },
           {
            "bin_start": -0.0008506296386718224,
            "bin_end": -0.00073362963867183,
            "count": 0
           },
           {
            "bin_start": -0.00073362963867183,
            "bin_end": -0.0006166296386718375,
            "count": 0
           },
           {
            "bin_start": -0.0006166296386718375,
            "bin_end": -0.0004996296386718449,
            "count": 0
           },
           {
            "bin_start": -0.0004996296386718449,
            "bin_end": -0.0003826296386718525,
            "count": 0
           },
           {
            "bin_start": -0.0003826296386718525,
            "bin_end": -0.00026562963867185995,
            "count": 0
           },
           {
            "bin_start": -0.00026562963867185995,
            "bin_end": -0.0001486296386718675,
            "count": 0
           },
           {
            "bin_start": -0.0001486296386718675,
            "bin_end": -0.00003162963867187497,
            "count": 2
           }
          ]
         }
        },
        {
         "name": "A4T0G6C0",
         "dtype": "float64",
         "stats": {
          "unique_count": 4,
          "nan_count": 0,
          "min": "-0.0002002716064453",
          "max": "0.0007997283935546",
          "histogram": [
           {
            "bin_start": -0.0002002716064453,
            "bin_end": -0.00010027160644531,
            "count": 2
           },
           {
            "bin_start": -0.00010027160644531,
            "bin_end": -2.716064453199985e-7,
            "count": 2
           },
           {
            "bin_start": -2.716064453199985e-7,
            "bin_end": 0.00009972839355466999,
            "count": 0
           },
           {
            "bin_start": 0.00009972839355466999,
            "bin_end": 0.00019972839355466,
            "count": 0
           },
           {
            "bin_start": 0.00019972839355466,
            "bin_end": 0.00029972839355465,
            "count": 0
           },
           {
            "bin_start": 0.00029972839355465,
            "bin_end": 0.00039972839355463996,
            "count": 0
           },
           {
            "bin_start": 0.00039972839355463996,
            "bin_end": 0.00049972839355463,
            "count": 0
           },
           {
            "bin_start": 0.00049972839355463,
            "bin_end": 0.00059972839355462,
            "count": 0
           },
           {
            "bin_start": 0.00059972839355462,
            "bin_end": 0.00069972839355461,
            "count": 0
           },
           {
            "bin_start": 0.00069972839355461,
            "bin_end": 0.0007997283935546,
            "count": 1
           }
          ]
         }
        },
        {
         "name": "A4T1G0C5",
         "dtype": "float64",
         "stats": {
          "unique_count": 4,
          "nan_count": 0,
          "min": "-0.0012016296386718",
          "max": "-0.0001786296386718",
          "histogram": [
           {
            "bin_start": -0.0012016296386718,
            "bin_end": -0.0010993296386718,
            "count": 2
           },
           {
            "bin_start": -0.0010993296386718,
            "bin_end": -0.0009970296386717999,
            "count": 0
           },
           {
            "bin_start": -0.0009970296386717999,
            "bin_end": -0.0008947296386717999,
            "count": 0
           },
           {
            "bin_start": -0.0008947296386717999,
            "bin_end": -0.0007924296386718,
            "count": 0
           },
           {
            "bin_start": -0.0007924296386718,
            "bin_end": -0.0006901296386718,
            "count": 0
           },
           {
            "bin_start": -0.0006901296386718,
            "bin_end": -0.0005878296386717999,
            "count": 0
           },
           {
            "bin_start": -0.0005878296386717999,
            "bin_end": -0.00048552963867179997,
            "count": 0
           },
           {
            "bin_start": -0.00048552963867179997,
            "bin_end": -0.0003832296386717999,
            "count": 1
           },
           {
            "bin_start": -0.0003832296386717999,
            "bin_end": -0.0002809296386717999,
            "count": 0
           },
           {
            "bin_start": -0.0002809296386717999,
            "bin_end": -0.0001786296386718,
            "count": 2
           }
          ]
         }
        },
        {
         "name": "A4T1G1C4",
         "dtype": "float64",
         "stats": {
          "unique_count": 4,
          "nan_count": 0,
          "min": "-0.0060081481933593",
          "max": "-0.0003241481933593",
          "histogram": [
           {
            "bin_start": -0.0060081481933593,
            "bin_end": -0.0054397481933593,
            "count": 2
           },
           {
            "bin_start": -0.0054397481933593,
            "bin_end": -0.0048713481933593,
            "count": 0
           },
           {
            "bin_start": -0.0048713481933593,
            "bin_end": -0.0043029481933593,
            "count": 0
           },
           {
            "bin_start": -0.0043029481933593,
            "bin_end": -0.0037345481933593002,
            "count": 0
           },
           {
            "bin_start": -0.0037345481933593002,
            "bin_end": -0.0031661481933593,
            "count": 0
           },
           {
            "bin_start": -0.0031661481933593,
            "bin_end": -0.0025977481933593003,
            "count": 1
           },
           {
            "bin_start": -0.0025977481933593003,
            "bin_end": -0.0020293481933593,
            "count": 0
           },
           {
            "bin_start": -0.0020293481933593,
            "bin_end": -0.0014609481933593,
            "count": 0
           },
           {
            "bin_start": -0.0014609481933593,
            "bin_end": -0.0008925481933592999,
            "count": 0
           },
           {
            "bin_start": -0.0008925481933592999,
            "bin_end": -0.0003241481933593,
            "count": 2
           }
          ]
         }
        },
        {
         "name": "A4T1G2C3",
         "dtype": "float64",
         "stats": {
          "unique_count": 5,
          "nan_count": 0,
          "min": "-0.0020162963867187",
          "max": "0.0079837036132812",
          "histogram": [
           {
            "bin_start": -0.0020162963867187,
            "bin_end": -0.0010162963867187099,
            "count": 1
           },
           {
            "bin_start": -0.0010162963867187099,
            "bin_end": -0.000016296386718719826,
            "count": 3
           },
           {
            "bin_start": -0.000016296386718719826,
            "bin_end": 0.0009837036132812702,
            "count": 0
           },
           {
            "bin_start": 0.0009837036132812702,
            "bin_end": 0.0019837036132812603,
            "count": 0
           },
           {
            "bin_start": 0.0019837036132812603,
            "bin_end": 0.0029837036132812507,
            "count": 0
           },
           {
            "bin_start": 0.0029837036132812507,
            "bin_end": 0.00398370361328124,
            "count": 0
           },
           {
            "bin_start": 0.00398370361328124,
            "bin_end": 0.00498370361328123,
            "count": 0
           },
           {
            "bin_start": 0.00498370361328123,
            "bin_end": 0.005983703613281221,
            "count": 0
           },
           {
            "bin_start": 0.005983703613281221,
            "bin_end": 0.006983703613281211,
            "count": 0
           },
           {
            "bin_start": 0.006983703613281211,
            "bin_end": 0.0079837036132812,
            "count": 1
           }
          ]
         }
        },
        {
         "name": "A4T1G3C2",
         "dtype": "float64",
         "stats": {
          "unique_count": 4,
          "nan_count": 0,
          "min": "-1.629638671874975e-05",
          "max": "0.0079837036132812",
          "histogram": [
           {
            "bin_start": -0.00001629638671874975,
            "bin_end": 0.0007837036132812452,
            "count": 3
           },
           {
            "bin_start": 0.0007837036132812452,
            "bin_end": 0.0015837036132812401,
            "count": 0
           },
           {
            "bin_start": 0.0015837036132812401,
            "bin_end": 0.002383703613281235,
            "count": 0
           },
           {
            "bin_start": 0.002383703613281235,
            "bin_end": 0.00318370361328123,
            "count": 0
           },
           {
            "bin_start": 0.00318370361328123,
            "bin_end": 0.003983703613281225,
            "count": 0
           },
           {
            "bin_start": 0.003983703613281225,
            "bin_end": 0.0047837036132812195,
            "count": 0
           },
           {
            "bin_start": 0.0047837036132812195,
            "bin_end": 0.005583703613281215,
            "count": 0
           },
           {
            "bin_start": 0.005583703613281215,
            "bin_end": 0.00638370361328121,
            "count": 0
           },
           {
            "bin_start": 0.00638370361328121,
            "bin_end": 0.007183703613281205,
            "count": 0
           },
           {
            "bin_start": 0.007183703613281205,
            "bin_end": 0.0079837036132812,
            "count": 2
           }
          ]
         }
        },
        {
         "name": "A4T1G4C1",
         "dtype": "float64",
         "stats": {
          "unique_count": 4,
          "nan_count": 0,
          "min": "-0.0004661481933593",
          "max": "0.0139918518066406",
          "histogram": [
           {
            "bin_start": -0.0004661481933593,
            "bin_end": 0.00097965180664069,
            "count": 2
           },
           {
            "bin_start": 0.00097965180664069,
            "bin_end": 0.00242545180664068,
            "count": 0
           },
           {
            "bin_start": 0.00242545180664068,
            "bin_end": 0.0038712518066406697,
            "count": 0
           },
           {
            "bin_start": 0.0038712518066406697,
            "bin_end": 0.005317051806640659,
            "count": 0
           },
           {
            "bin_start": 0.005317051806640659,
            "bin_end": 0.0067628518066406495,
            "count": 1
           },
           {
            "bin_start": 0.0067628518066406495,
            "bin_end": 0.008208651806640639,
            "count": 0
           },
           {
            "bin_start": 0.008208651806640639,
            "bin_end": 0.009654451806640629,
            "count": 0
           },
           {
            "bin_start": 0.009654451806640629,
            "bin_end": 0.011100251806640619,
            "count": 0
           },
           {
            "bin_start": 0.011100251806640619,
            "bin_end": 0.01254605180664061,
            "count": 0
           },
           {
            "bin_start": 0.01254605180664061,
            "bin_end": 0.0139918518066406,
            "count": 2
           }
          ]
         }
        },
        {
         "name": "A4T1G5C0",
         "dtype": "float64",
         "stats": {
          "unique_count": 4,
          "nan_count": 0,
          "min": "-0.0012016296386718",
          "max": "-0.0001706296386718",
          "histogram": [
           {
            "bin_start": -0.0012016296386718,
            "bin_end": -0.0010985296386718,
            "count": 2
           },
           {
            "bin_start": -0.0010985296386718,
            "bin_end": -0.0009954296386718,
            "count": 0
           },
           {
            "bin_start": -0.0009954296386718,
            "bin_end": -0.0008923296386718,
            "count": 0
           },
           {
            "bin_start": -0.0008923296386718,
            "bin_end": -0.0007892296386717999,
            "count": 0
           },
           {
            "bin_start": -0.0007892296386717999,
            "bin_end": -0.0006861296386718,
            "count": 0
           },
           {
            "bin_start": -0.0006861296386718,
            "bin_end": -0.0005830296386718,
            "count": 0
           },
           {
            "bin_start": -0.0005830296386718,
            "bin_end": -0.00047992963867179994,
            "count": 0
           },
           {
            "bin_start": -0.00047992963867179994,
            "bin_end": -0.0003768296386718,
            "count": 0
           },
           {
            "bin_start": -0.0003768296386718,
            "bin_end": -0.0002737296386718,
            "count": 1
           },
           {
            "bin_start": -0.0002737296386718,
            "bin_end": -0.0001706296386718,
            "count": 2
           }
          ]
         }
        },
        {
         "name": "A4T2G0C4",
         "dtype": "float64",
         "stats": {
          "unique_count": 4,
          "nan_count": 0,
          "min": "-0.0030040740966796",
          "max": "-0.0004130740966796",
          "histogram": [
           {
            "bin_start": -0.0030040740966796,
            "bin_end": -0.0027449740966796,
            "count": 2
           },
           {
            "bin_start": -0.0027449740966796,
            "bin_end": -0.0024858740966796,
            "count": 0
           },
           {
            "bin_start": -0.0024858740966796,
            "bin_end": -0.0022267740966796,
            "count": 0
           },
           {
            "bin_start": -0.0022267740966796,
            "bin_end": -0.0019676740966796,
            "count": 1
           },
           {
            "bin_start": -0.0019676740966796,
            "bin_end": -0.0017085740966796,
            "count": 0
           },
           {
            "bin_start": -0.0017085740966796,
            "bin_end": -0.0014494740966795997,
            "count": 0
           },
           {
            "bin_start": -0.0014494740966795997,
            "bin_end": -0.0011903740966795998,
            "count": 0
           },
           {
            "bin_start": -0.0011903740966795998,
            "bin_end": -0.0009312740966795998,
            "count": 1
           },
           {
            "bin_start": -0.0009312740966795998,
            "bin_end": -0.0006721740966795999,
            "count": 0
           },
           {
            "bin_start": -0.0006721740966795999,
            "bin_end": -0.0004130740966796,
            "count": 1
           }
          ]
         }
        },
        {
         "name": "A4T2G1C3",
         "dtype": "float64",
         "stats": {
          "unique_count": 4,
          "nan_count": 0,
          "min": "-0.0120162963867187",
          "max": "-0.0011222963867187",
          "histogram": [
           {
            "bin_start": -0.0120162963867187,
            "bin_end": -0.0109268963867187,
            "count": 1
           },
           {
            "bin_start": -0.0109268963867187,
            "bin_end": -0.0098374963867187,
            "count": 0
           },
           {
            "bin_start": -0.0098374963867187,
            "bin_end": -0.008748096386718699,
            "count": 0
           },
           {
            "bin_start": -0.008748096386718699,
            "bin_end": -0.0076586963867187,
            "count": 0
           },
           {
            "bin_start": -0.0076586963867187,
            "bin_end": -0.0065692963867187,
            "count": 0
           },
           {
            "bin_start": -0.0065692963867187,
            "bin_end": -0.0054798963867187,
            "count": 0
           },
           {
            "bin_start": -0.0054798963867187,
            "bin_end": -0.0043904963867187,
            "count": 0
           },
           {
            "bin_start": -0.0043904963867187,
            "bin_end": -0.0033010963867187004,
            "count": 0
           },
           {
            "bin_start": -0.0033010963867187004,
            "bin_end": -0.0022116963867186996,
            "count": 1
           },
           {
            "bin_start": -0.0022116963867186996,
            "bin_end": -0.0011222963867187,
            "count": 3
           }
          ]
         }
        },
        {
         "name": "A4T2G2C2",
         "dtype": "float64",
         "stats": {
          "unique_count": 4,
          "nan_count": 0,
          "min": "-0.0027914445800781",
          "max": "0.0019755554199218",
          "histogram": [
           {
            "bin_start": -0.0027914445800781,
            "bin_end": -0.0023147445800781098,
            "count": 1
           },
           {
            "bin_start": -0.0023147445800781098,
            "bin_end": -0.00183804458007812,
            "count": 0
           },
           {
            "bin_start": -0.00183804458007812,
            "bin_end": -0.00136134458007813,
            "count": 1
           },
           {
            "bin_start": -0.00136134458007813,
            "bin_end": -0.00088464458007814,
            "count": 0
           },
           {
            "bin_start": -0.00088464458007814,
            "bin_end": -0.00040794458007814994,
            "count": 0
           },
           {
            "bin_start": -0.00040794458007814994,
            "bin_end": 0.00006875541992183969,
            "count": 0
           },
           {
            "bin_start": 0.00006875541992183969,
            "bin_end": 0.0005454554199218298,
            "count": 0
           },
           {
            "bin_start": 0.0005454554199218298,
            "bin_end": 0.0010221554199218198,
            "count": 1
           },
           {
            "bin_start": 0.0010221554199218198,
            "bin_end": 0.0014988554199218095,
            "count": 0
           },
           {
            "bin_start": 0.0014988554199218095,
            "bin_end": 0.0019755554199218,
            "count": 2
           }
          ]
         }
        },
        {
         "name": "A4T2G3C1",
         "dtype": "float64",
         "stats": {
          "unique_count": 4,
          "nan_count": 0,
          "min": "-0.0020422963867187",
          "max": "0.0079837036132812",
          "histogram": [
           {
            "bin_start": -0.0020422963867187,
            "bin_end": -0.00103969638671871,
            "count": 2
           },
           {
            "bin_start": -0.00103969638671871,
            "bin_end": -0.0000370963867187199,
            "count": 0
           },
           {
            "bin_start": -0.0000370963867187199,
            "bin_end": 0.0009655036132812703,
            "count": 0
           },
           {
            "bin_start": 0.0009655036132812703,
            "bin_end": 0.00196810361328126,
            "count": 0
           },
           {
            "bin_start": 0.00196810361328126,
            "bin_end": 0.00297070361328125,
            "count": 0
           },
           {
            "bin_start": 0.00297070361328125,
            "bin_end": 0.003973303613281241,
            "count": 1
           },
           {
            "bin_start": 0.003973303613281241,
            "bin_end": 0.00497590361328123,
            "count": 0
           },
           {
            "bin_start": 0.00497590361328123,
            "bin_end": 0.0059785036132812205,
            "count": 0
           },
           {
            "bin_start": 0.0059785036132812205,
            "bin_end": 0.006981103613281211,
            "count": 0
           },
           {
            "bin_start": 0.006981103613281211,
            "bin_end": 0.0079837036132812,
            "count": 2
           }
          ]
         }
        },
        {
         "name": "A4T2G4C0",
         "dtype": "float64",
         "stats": {
          "unique_count": 4,
          "nan_count": 0,
          "min": "-0.0030040740966796",
          "max": "-0.0004360740966796",
          "histogram": [
           {
            "bin_start": -0.0030040740966796,
            "bin_end": -0.0027472740966795997,
            "count": 2
           },
           {
            "bin_start": -0.0027472740966795997,
            "bin_end": -0.0024904740966796,
            "count": 0
           },
           {
            "bin_start": -0.0024904740966796,
            "bin_end": -0.0022336740966796,
            "count": 0
           },
           {
            "bin_start": -0.0022336740966796,
            "bin_end": -0.0019768740966796,
            "count": 1
           },
           {
            "bin_start": -0.0019768740966796,
            "bin_end": -0.0017200740966796,
            "count": 0
           },
           {
            "bin_start": -0.0017200740966796,
            "bin_end": -0.0014632740966795997,
            "count": 0
           },
           {
            "bin_start": -0.0014632740966795997,
            "bin_end": -0.0012064740966795998,
            "count": 0
           },
           {
            "bin_start": -0.0012064740966795998,
            "bin_end": -0.0009496740966795998,
            "count": 0
           },
           {
            "bin_start": -0.0009496740966795998,
            "bin_end": -0.0006928740966795997,
            "count": 1
           },
           {
            "bin_start": -0.0006928740966795997,
            "bin_end": -0.0004360740966796,
            "count": 1
           }
          ]
         }
        },
        {
         "name": "A4T3G0C3",
         "dtype": "float64",
         "stats": {
          "unique_count": 4,
          "nan_count": 0,
          "min": "-0.0040054321289062",
          "max": "-5.432128906249917e-06",
          "histogram": [
           {
            "bin_start": -0.0040054321289062,
            "bin_end": -0.0036054321289062047,
            "count": 2
           },
           {
            "bin_start": -0.0036054321289062047,
            "bin_end": -0.0032054321289062097,
            "count": 0
           },
           {
            "bin_start": -0.0032054321289062097,
            "bin_end": -0.0028054321289062148,
            "count": 0
           },
           {
            "bin_start": -0.0028054321289062148,
            "bin_end": -0.0024054321289062198,
            "count": 0
           },
           {
            "bin_start": -0.0024054321289062198,
            "bin_end": -0.002005432128906225,
            "count": 0
           },
           {
            "bin_start": -0.002005432128906225,
            "bin_end": -0.0016054321289062298,
            "count": 0
           },
           {
            "bin_start": -0.0016054321289062298,
            "bin_end": -0.0012054321289062348,
            "count": 0
           },
           {
            "bin_start": -0.0012054321289062348,
            "bin_end": -0.0008054321289062399,
            "count": 1
           },
           {
            "bin_start": -0.0008054321289062399,
            "bin_end": -0.0004054321289062449,
            "count": 1
           },
           {
            "bin_start": -0.0004054321289062449,
            "bin_end": -0.000005432128906249917,
            "count": 1
           }
          ]
         }
        },
        {
         "name": "A4T3G1C2",
         "dtype": "float64",
         "stats": {
          "unique_count": 5,
          "nan_count": 0,
          "min": "-0.0040162963867187",
          "max": "0.0079837036132812",
          "histogram": [
           {
            "bin_start": -0.0040162963867187,
            "bin_end": -0.0028162963867187103,
            "count": 1
           },
           {
            "bin_start": -0.0028162963867187103,
            "bin_end": -0.0016162963867187206,
            "count": 2
           },
           {
            "bin_start": -0.0016162963867187206,
            "bin_end": -0.00041629638671873085,
            "count": 1
           },
           {
            "bin_start": -0.00041629638671873085,
            "bin_end": 0.0007837036132812593,
            "count": 0
           },
           {
            "bin_start": 0.0007837036132812593,
            "bin_end": 0.0019837036132812494,
            "count": 0
           },
           {
            "bin_start": 0.0019837036132812494,
            "bin_end": 0.0031837036132812387,
            "count": 0
           },
           {
            "bin_start": 0.0031837036132812387,
            "bin_end": 0.00438370361328123,
            "count": 0
           },
           {
            "bin_start": 0.00438370361328123,
            "bin_end": 0.005583703613281219,
            "count": 0
           },
           {
            "bin_start": 0.005583703613281219,
            "bin_end": 0.006783703613281208,
            "count": 0
           },
           {
            "bin_start": 0.006783703613281208,
            "bin_end": 0.0079837036132812,
            "count": 1
           }
          ]
         }
        },
        {
         "name": "A4T3G2C1",
         "dtype": "float64",
         "stats": {
          "unique_count": 5,
          "nan_count": 0,
          "min": "-0.0023042963867187",
          "max": "0.0379837036132812",
          "histogram": [
           {
            "bin_start": -0.0023042963867187,
            "bin_end": 0.0017245036132812904,
            "count": 2
           },
           {
            "bin_start": 0.0017245036132812904,
            "bin_end": 0.005753303613281281,
            "count": 1
           },
           {
            "bin_start": 0.005753303613281281,
            "bin_end": 0.009782103613281272,
            "count": 0
           },
           {
            "bin_start": 0.009782103613281272,
            "bin_end": 0.013810903613281262,
            "count": 0
           },
           {
            "bin_start": 0.013810903613281262,
            "bin_end": 0.017839703613281254,
            "count": 0
           },
           {
            "bin_start": 0.017839703613281254,
            "bin_end": 0.021868503613281243,
            "count": 1
           },
           {
            "bin_start": 0.021868503613281243,
            "bin_end": 0.02589730361328123,
            "count": 0
           },
           {
            "bin_start": 0.02589730361328123,
            "bin_end": 0.029926103613281223,
            "count": 0
           },
           {
            "bin_start": 0.029926103613281223,
            "bin_end": 0.03395490361328121,
            "count": 0
           },
           {
            "bin_start": 0.03395490361328121,
            "bin_end": 0.0379837036132812,
            "count": 1
           }
          ]
         }
        },
        {
         "name": "A4T3G3C0",
         "dtype": "float64",
         "stats": {
          "unique_count": 4,
          "nan_count": 0,
          "min": "-0.0040054321289062",
          "max": "-0.0006054321289062",
          "histogram": [
           {
            "bin_start": -0.0040054321289062,
            "bin_end": -0.0036654321289061997,
            "count": 2
           },
           {
            "bin_start": -0.0036654321289061997,
            "bin_end": -0.0033254321289061996,
            "count": 0
           },
           {
            "bin_start": -0.0033254321289061996,
            "bin_end": -0.0029854321289061996,
            "count": 1
           },
           {
            "bin_start": -0.0029854321289061996,
            "bin_end": -0.0026454321289061996,
            "count": 0
           },
           {
            "bin_start": -0.0026454321289061996,
            "bin_end": -0.0023054321289061996,
            "count": 0
           },
           {
            "bin_start": -0.0023054321289061996,
            "bin_end": -0.0019654321289062,
            "count": 0
           },
           {
            "bin_start": -0.0019654321289062,
            "bin_end": -0.0016254321289062,
            "count": 0
           },
           {
            "bin_start": -0.0016254321289062,
            "bin_end": -0.0012854321289062,
            "count": 0
           },
           {
            "bin_start": -0.0012854321289062,
            "bin_end": -0.0009454321289061999,
            "count": 0
           },
           {
            "bin_start": -0.0009454321289061999,
            "bin_end": -0.0006054321289062,
            "count": 2
           }
          ]
         }
        },
        {
         "name": "A4T4G0C2",
         "dtype": "float64",
         "stats": {
          "unique_count": 4,
          "nan_count": 0,
          "min": "-0.0030040740966796",
          "max": "-4.0740966796874375e-06",
          "histogram": [
           {
            "bin_start": -0.0030040740966796,
            "bin_end": -0.0027040740966796087,
            "count": 2
           },
           {
            "bin_start": -0.0027040740966796087,
            "bin_end": -0.0024040740966796174,
            "count": 0
           },
           {
            "bin_start": -0.0024040740966796174,
            "bin_end": -0.002104074096679626,
            "count": 0
           },
           {
            "bin_start": -0.002104074096679626,
            "bin_end": -0.001804074096679635,
            "count": 0
           },
           {
            "bin_start": -0.001804074096679635,
            "bin_end": -0.0015040740966796437,
            "count": 0
           },
           {
            "bin_start": -0.0015040740966796437,
            "bin_end": -0.0012040740966796524,
            "count": 0
           },
           {
            "bin_start": -0.0012040740966796524,
            "bin_end": -0.0009040740966796612,
            "count": 0
           },
           {
            "bin_start": -0.0009040740966796612,
            "bin_end": -0.0006040740966796699,
            "count": 0
           },
           {
            "bin_start": -0.0006040740966796699,
            "bin_end": -0.0003040740966796787,
            "count": 1
           },
           {
            "bin_start": -0.0003040740966796787,
            "bin_end": -0.0000040740966796874375,
            "count": 2
           }
          ]
         }
        },
        {
         "name": "A4T4G1C1",
         "dtype": "float64",
         "stats": {
          "unique_count": 5,
          "nan_count": 0,
          "min": "-0.0008351481933593",
          "max": "0.0239918518066406",
          "histogram": [
           {
            "bin_start": -0.0008351481933593,
            "bin_end": 0.0016475518066406901,
            "count": 3
           },
           {
            "bin_start": 0.0016475518066406901,
            "bin_end": 0.00413025180664068,
            "count": 0
           },
           {
            "bin_start": 0.00413025180664068,
            "bin_end": 0.00661295180664067,
            "count": 0
           },
           {
            "bin_start": 0.00661295180664067,
            "bin_end": 0.00909565180664066,
            "count": 0
           },
           {
            "bin_start": 0.00909565180664066,
            "bin_end": 0.01157835180664065,
            "count": 0
           },
           {
            "bin_start": 0.01157835180664065,
            "bin_end": 0.01406105180664064,
            "count": 1
           },
           {
            "bin_start": 0.01406105180664064,
            "bin_end": 0.016543751806640628,
            "count": 0
           },
           {
            "bin_start": 0.016543751806640628,
            "bin_end": 0.01902645180664062,
            "count": 0
           },
           {
            "bin_start": 0.01902645180664062,
            "bin_end": 0.02150915180664061,
            "count": 0
           },
           {
            "bin_start": 0.02150915180664061,
            "bin_end": 0.0239918518066406,
            "count": 1
           }
          ]
         }
        },
        {
         "name": "A4T4G2C0",
         "dtype": "float64",
         "stats": {
          "unique_count": 4,
          "nan_count": 0,
          "min": "-0.0030040740966796",
          "max": "0.0069959259033203",
          "histogram": [
           {
            "bin_start": -0.0030040740966796,
            "bin_end": -0.00200407409667961,
            "count": 2
           },
           {
            "bin_start": -0.00200407409667961,
            "bin_end": -0.0010040740966796198,
            "count": 0
           },
           {
            "bin_start": -0.0010040740966796198,
            "bin_end": -0.000004074096679629758,
            "count": 2
           },
           {
            "bin_start": -0.000004074096679629758,
            "bin_end": 0.0009959259033203603,
            "count": 0
           },
           {
            "bin_start": 0.0009959259033203603,
            "bin_end": 0.0019959259033203508,
            "count": 0
           },
           {
            "bin_start": 0.0019959259033203508,
            "bin_end": 0.0029959259033203404,
            "count": 0
           },
           {
            "bin_start": 0.0029959259033203404,
            "bin_end": 0.00399592590332033,
            "count": 0
           },
           {
            "bin_start": 0.00399592590332033,
            "bin_end": 0.0049959259033203205,
            "count": 0
           },
           {
            "bin_start": 0.0049959259033203205,
            "bin_end": 0.005995925903320311,
            "count": 0
           },
           {
            "bin_start": 0.005995925903320311,
            "bin_end": 0.0069959259033203,
            "count": 1
           }
          ]
         }
        },
        {
         "name": "A4T5G0C1",
         "dtype": "float64",
         "stats": {
          "unique_count": 4,
          "nan_count": 0,
          "min": "-0.0012016296386718",
          "max": "0.0002763703613281",
          "histogram": [
           {
            "bin_start": -0.0012016296386718,
            "bin_end": -0.00105382963867181,
            "count": 2
           },
           {
            "bin_start": -0.00105382963867181,
            "bin_end": -0.00090602963867182,
            "count": 0
           },
           {
            "bin_start": -0.00090602963867182,
            "bin_end": -0.0007582296386718301,
            "count": 0
           },
           {
            "bin_start": -0.0007582296386718301,
            "bin_end": -0.00061042963867184,
            "count": 0
           },
           {
            "bin_start": -0.00061042963867184,
            "bin_end": -0.00046262963867185,
            "count": 0
           },
           {
            "bin_start": -0.00046262963867185,
            "bin_end": -0.00031482963867186006,
            "count": 0
           },
           {
            "bin_start": -0.00031482963867186006,
            "bin_end": -0.00016702963867187013,
            "count": 1
           },
           {
            "bin_start": -0.00016702963867187013,
            "bin_end": -0.000019229638671880087,
            "count": 0
           },
           {
            "bin_start": -0.000019229638671880087,
            "bin_end": 0.00012857036132810995,
            "count": 0
           },
           {
            "bin_start": 0.00012857036132810995,
            "bin_end": 0.0002763703613281,
            "count": 2
           }
          ]
         }
        },
        {
         "name": "A4T5G1C0",
         "dtype": "float64",
         "stats": {
          "unique_count": 4,
          "nan_count": 0,
          "min": "-0.0012016296386718",
          "max": "0.0087983703613281",
          "histogram": [
           {
            "bin_start": -0.0012016296386718,
            "bin_end": -0.00020162963867180993,
            "count": 2
           },
           {
            "bin_start": -0.00020162963867180993,
            "bin_end": 0.0007983703613281801,
            "count": 2
           },
           {
            "bin_start": 0.0007983703613281801,
            "bin_end": 0.0017983703613281702,
            "count": 0
           },
           {
            "bin_start": 0.0017983703613281702,
            "bin_end": 0.00279837036132816,
            "count": 0
           },
           {
            "bin_start": 0.00279837036132816,
            "bin_end": 0.0037983703613281507,
            "count": 0
           },
           {
            "bin_start": 0.0037983703613281507,
            "bin_end": 0.004798370361328141,
            "count": 0
           },
           {
            "bin_start": 0.004798370361328141,
            "bin_end": 0.0057983703613281295,
            "count": 0
           },
           {
            "bin_start": 0.0057983703613281295,
            "bin_end": 0.00679837036132812,
            "count": 0
           },
           {
            "bin_start": 0.00679837036132812,
            "bin_end": 0.0077983703613281104,
            "count": 0
           },
           {
            "bin_start": 0.0077983703613281104,
            "bin_end": 0.0087983703613281,
            "count": 1
           }
          ]
         }
        },
        {
         "name": "A4T6G0C0",
         "dtype": "float64",
         "stats": {
          "unique_count": 3,
          "nan_count": 0,
          "min": "-0.0002002716064453",
          "max": "0.0002737283935546",
          "histogram": [
           {
            "bin_start": -0.0002002716064453,
            "bin_end": -0.00015287160644531,
            "count": 3
           },
           {
            "bin_start": -0.00015287160644531,
            "bin_end": -0.00010547160644532001,
            "count": 0
           },
           {
            "bin_start": -0.00010547160644532001,
            "bin_end": -0.000058071606445329996,
            "count": 0
           },
           {
            "bin_start": -0.000058071606445329996,
            "bin_end": -0.000010671606445340011,
            "count": 0
           },
           {
            "bin_start": -0.000010671606445340011,
            "bin_end": 0.000036728393554649974,
            "count": 0
           },
           {
            "bin_start": 0.000036728393554649974,
            "bin_end": 0.00008412839355464001,
            "count": 0
           },
           {
            "bin_start": 0.00008412839355464001,
            "bin_end": 0.00013152839355463,
            "count": 0
           },
           {
            "bin_start": 0.00013152839355463,
            "bin_end": 0.00017892839355461998,
            "count": 1
           },
           {
            "bin_start": 0.00017892839355461998,
            "bin_end": 0.00022632839355460997,
            "count": 0
           },
           {
            "bin_start": 0.00022632839355460997,
            "bin_end": 0.0002737283935546,
            "count": 1
           }
          ]
         }
        },
        {
         "name": "A5T0G0C5",
         "dtype": "float64",
         "stats": {
          "unique_count": 3,
          "nan_count": 0,
          "min": "-0.0002403259277343",
          "max": "-2.8325927734375e-05",
          "histogram": [
           {
            "bin_start": -0.0002403259277343,
            "bin_end": -0.0002191259277343075,
            "count": 3
           },
           {
            "bin_start": -0.0002191259277343075,
            "bin_end": -0.000197925927734315,
            "count": 0
           },
           {
            "bin_start": -0.000197925927734315,
            "bin_end": -0.0001767259277343225,
            "count": 0
           },
           {
            "bin_start": -0.0001767259277343225,
            "bin_end": -0.00015552592773433,
            "count": 0
           },
           {
            "bin_start": -0.00015552592773433,
            "bin_end": -0.0001343259277343375,
            "count": 0
           },
           {
            "bin_start": -0.0001343259277343375,
            "bin_end": -0.00011312592773434499,
            "count": 0
           },
           {
            "bin_start": -0.00011312592773434499,
            "bin_end": -0.0000919259277343525,
            "count": 0
           },
           {
            "bin_start": -0.0000919259277343525,
            "bin_end": -0.00007072592773436001,
            "count": 0
           },
           {
            "bin_start": -0.00007072592773436001,
            "bin_end": -0.000049525927734367516,
            "count": 1
           },
           {
            "bin_start": -0.000049525927734367516,
            "bin_end": -0.000028325927734375,
            "count": 1
           }
          ]
         }
        },
        {
         "name": "A5T0G1C4",
         "dtype": "float64",
         "stats": {
          "unique_count": 4,
          "nan_count": 0,
          "min": "-0.0012016296386718",
          "max": "1.737036132812503e-05",
          "histogram": [
           {
            "bin_start": -0.0012016296386718,
            "bin_end": -0.0010797296386718075,
            "count": 2
           },
           {
            "bin_start": -0.0010797296386718075,
            "bin_end": -0.000957829638671815,
            "count": 0
           },
           {
            "bin_start": -0.000957829638671815,
            "bin_end": -0.0008359296386718225,
            "count": 0
           },
           {
            "bin_start": -0.0008359296386718225,
            "bin_end": -0.00071402963867183,
            "count": 0
           },
           {
            "bin_start": -0.00071402963867183,
            "bin_end": -0.0005921296386718375,
            "count": 0
           },
           {
            "bin_start": -0.0005921296386718375,
            "bin_end": -0.00047022963867184497,
            "count": 0
           },
           {
            "bin_start": -0.00047022963867184497,
            "bin_end": -0.00034832963867185247,
            "count": 0
           },
           {
            "bin_start": -0.00034832963867185247,
            "bin_end": -0.00022642963867185997,
            "count": 0
           },
           {
            "bin_start": -0.00022642963867185997,
            "bin_end": -0.00010452963867186747,
            "count": 1
           },
           {
            "bin_start": -0.00010452963867186747,
            "bin_end": 0.00001737036132812503,
            "count": 2
           }
          ]
         }
        },
        {
         "name": "A5T0G2C3",
         "dtype": "float64",
         "stats": {
          "unique_count": 4,
          "nan_count": 0,
          "min": "0.0002487407226562",
          "max": "0.0175967407226562",
          "histogram": [
           {
            "bin_start": 0.0002487407226562,
            "bin_end": 0.0019835407226562,
            "count": 3
           },
           {
            "bin_start": 0.0019835407226562,
            "bin_end": 0.0037183407226561997,
            "count": 0
           },
           {
            "bin_start": 0.0037183407226561997,
            "bin_end": 0.0054531407226562,
            "count": 0
           },
           {
            "bin_start": 0.0054531407226562,
            "bin_end": 0.0071879407226562,
            "count": 0
           },
           {
            "bin_start": 0.0071879407226562,
            "bin_end": 0.008922740722656199,
            "count": 0
           },
           {
            "bin_start": 0.008922740722656199,
            "bin_end": 0.010657540722656199,
            "count": 0
           },
           {
            "bin_start": 0.010657540722656199,
            "bin_end": 0.012392340722656199,
            "count": 0
           },
           {
            "bin_start": 0.012392340722656199,
            "bin_end": 0.014127140722656199,
            "count": 0
           },
           {
            "bin_start": 0.014127140722656199,
            "bin_end": 0.0158619407226562,
            "count": 0
           },
           {
            "bin_start": 0.0158619407226562,
            "bin_end": 0.0175967407226562,
            "count": 2
           }
          ]
         }
        },
        {
         "name": "A5T0G3C2",
         "dtype": "float64",
         "stats": {
          "unique_count": 4,
          "nan_count": 0,
          "min": "-0.0024032592773437",
          "max": "0.0005407407226562",
          "histogram": [
           {
            "bin_start": -0.0024032592773437,
            "bin_end": -0.00210885927734371,
            "count": 2
           },
           {
            "bin_start": -0.00210885927734371,
            "bin_end": -0.00181445927734372,
            "count": 0
           },
           {
            "bin_start": -0.00181445927734372,
            "bin_end": -0.00152005927734373,
            "count": 0
           },
           {
            "bin_start": -0.00152005927734373,
            "bin_end": -0.00122565927734374,
            "count": 0
           },
           {
            "bin_start": -0.00122565927734374,
            "bin_end": -0.00093125927734375,
            "count": 0
           },
           {
            "bin_start": -0.00093125927734375,
            "bin_end": -0.00063685927734376,
            "count": 0
           },
           {
            "bin_start": -0.00063685927734376,
            "bin_end": -0.00034245927734376973,
            "count": 1
           },
           {
            "bin_start": -0.00034245927734376973,
            "bin_end": -0.00004805927734377992,
            "count": 0
           },
           {
            "bin_start": -0.00004805927734377992,
            "bin_end": 0.0002463407226562099,
            "count": 0
           },
           {
            "bin_start": 0.0002463407226562099,
            "bin_end": 0.0005407407226562,
            "count": 2
           }
          ]
         }
        },
        {
         "name": "A5T0G4C1",
         "dtype": "float64",
         "stats": {
          "unique_count": 4,
          "nan_count": 0,
          "min": "-0.0012016296386718",
          "max": "0.0037983703613281",
          "histogram": [
           {
            "bin_start": -0.0012016296386718,
            "bin_end": -0.0007016296386718099,
            "count": 2
           },
           {
            "bin_start": -0.0007016296386718099,
            "bin_end": -0.0002016296386718199,
            "count": 0
           },
           {
            "bin_start": -0.0002016296386718199,
            "bin_end": 0.00029837036132817013,
            "count": 2
           },
           {
            "bin_start": 0.00029837036132817013,
            "bin_end": 0.0007983703613281602,
            "count": 0
           },
           {
            "bin_start": 0.0007983703613281602,
            "bin_end": 0.0012983703613281502,
            "count": 0
           },
           {
            "bin_start": 0.0012983703613281502,
            "bin_end": 0.0017983703613281402,
            "count": 0
           },
           {
            "bin_start": 0.0017983703613281402,
            "bin_end": 0.0022983703613281303,
            "count": 0
           },
           {
            "bin_start": 0.0022983703613281303,
            "bin_end": 0.0027983703613281203,
            "count": 0
           },
           {
            "bin_start": 0.0027983703613281203,
            "bin_end": 0.0032983703613281103,
            "count": 0
           },
           {
            "bin_start": 0.0032983703613281103,
            "bin_end": 0.0037983703613281,
            "count": 1
           }
          ]
         }
        },
        {
         "name": "A5T0G5C0",
         "dtype": "float64",
         "stats": {
          "unique_count": 3,
          "nan_count": 0,
          "min": "-0.0002403259277343",
          "max": "-1.5325927734375006e-05",
          "histogram": [
           {
            "bin_start": -0.0002403259277343,
            "bin_end": -0.0002178259277343075,
            "count": 3
           },
           {
            "bin_start": -0.0002178259277343075,
            "bin_end": -0.000195325927734315,
            "count": 0
           },
           {
            "bin_start": -0.000195325927734315,
            "bin_end": -0.0001728259277343225,
            "count": 0
           },
           {
            "bin_start": -0.0001728259277343225,
            "bin_end": -0.00015032592773432999,
            "count": 0
           },
           {
            "bin_start": -0.00015032592773432999,
            "bin_end": -0.00012782592773433752,
            "count": 0
           },
           {
            "bin_start": -0.00012782592773433752,
            "bin_end": -0.00010532592773434499,
            "count": 0
           },
           {
            "bin_start": -0.00010532592773434499,
            "bin_end": -0.0000828259277343525,
            "count": 0
           },
           {
            "bin_start": -0.0000828259277343525,
            "bin_end": -0.00006032592773436,
            "count": 0
           },
           {
            "bin_start": -0.00006032592773436,
            "bin_end": -0.0000378259277343675,
            "count": 1
           },
           {
            "bin_start": -0.0000378259277343675,
            "bin_end": -0.000015325927734375006,
            "count": 1
           }
          ]
         }
        },
        {
         "name": "A5T1G0C4",
         "dtype": "float64",
         "stats": {
          "unique_count": 3,
          "nan_count": 0,
          "min": "-0.0012016296386718",
          "max": "-0.0001516296386718",
          "histogram": [
           {
            "bin_start": -0.0012016296386718,
            "bin_end": -0.0010966296386718,
            "count": 3
           },
           {
            "bin_start": -0.0010966296386718,
            "bin_end": -0.0009916296386718,
            "count": 0
           },
           {
            "bin_start": -0.0009916296386718,
            "bin_end": -0.0008866296386718,
            "count": 0
           },
           {
            "bin_start": -0.0008866296386718,
            "bin_end": -0.0007816296386718,
            "count": 0
           },
           {
            "bin_start": -0.0007816296386718,
            "bin_end": -0.0006766296386718,
            "count": 0
           },
           {
            "bin_start": -0.0006766296386718,
            "bin_end": -0.0005716296386718001,
            "count": 0
           },
           {
            "bin_start": -0.0005716296386718001,
            "bin_end": -0.0004666296386718,
            "count": 0
           },
           {
            "bin_start": -0.0004666296386718,
            "bin_end": -0.00036162963867180005,
            "count": 0
           },
           {
            "bin_start": -0.00036162963867180005,
            "bin_end": -0.0002566296386718001,
            "count": 0
           },
           {
            "bin_start": -0.0002566296386718001,
            "bin_end": -0.0001516296386718,
            "count": 2
           }
          ]
         }
        },
        {
         "name": "A5T1G1C3",
         "dtype": "float64",
         "stats": {
          "unique_count": 4,
          "nan_count": 0,
          "min": "-0.0048065185546875",
          "max": "0.0011934814453125",
          "histogram": [
           {
            "bin_start": -0.0048065185546875,
            "bin_end": -0.0042065185546875,
            "count": 2
           },
           {
            "bin_start": -0.0042065185546875,
            "bin_end": -0.0036065185546875,
            "count": 0
           },
           {
            "bin_start": -0.0036065185546875,
            "bin_end": -0.0030065185546874996,
            "count": 0
           },
           {
            "bin_start": -0.0030065185546874996,
            "bin_end": -0.0024065185546874998,
            "count": 0
           },
           {
            "bin_start": -0.0024065185546874998,
            "bin_end": -0.0018065185546875,
            "count": 0
           },
           {
            "bin_start": -0.0018065185546875,
            "bin_end": -0.0012065185546874997,
            "count": 0
           },
           {
            "bin_start": -0.0012065185546874997,
            "bin_end": -0.0006065185546874994,
            "count": 0
           },
           {
            "bin_start": -0.0006065185546874994,
            "bin_end": -0.000006518554687499553,
            "count": 2
           },
           {
            "bin_start": -0.000006518554687499553,
            "bin_end": 0.0005934814453125003,
            "count": 0
           },
           {
            "bin_start": 0.0005934814453125003,
            "bin_end": 0.0011934814453125,
            "count": 1
           }
          ]
         }
        },
        {
         "name": "A5T1G2C2",
         "dtype": "float64",
         "stats": {
          "unique_count": 5,
          "nan_count": 0,
          "min": "-0.0072097778320312",
          "max": "0.0027902221679687",
          "histogram": [
           {
            "bin_start": -0.0072097778320312,
            "bin_end": -0.006209777832031209,
            "count": 1
           },
           {
            "bin_start": -0.006209777832031209,
            "bin_end": -0.00520977783203122,
            "count": 0
           },
           {
            "bin_start": -0.00520977783203122,
            "bin_end": -0.00420977783203123,
            "count": 0
           },
           {
            "bin_start": -0.00420977783203123,
            "bin_end": -0.0032097778320312395,
            "count": 1
           },
           {
            "bin_start": -0.0032097778320312395,
            "bin_end": -0.002209777832031249,
            "count": 0
           },
           {
            "bin_start": -0.002209777832031249,
            "bin_end": -0.0012097778320312594,
            "count": 0
           },
           {
            "bin_start": -0.0012097778320312594,
            "bin_end": -0.0002097778320312698,
            "count": 0
           },
           {
            "bin_start": -0.0002097778320312698,
            "bin_end": 0.0007902221679687207,
            "count": 2
           },
           {
            "bin_start": 0.0007902221679687207,
            "bin_end": 0.0017902221679687112,
            "count": 0
           },
           {
            "bin_start": 0.0017902221679687112,
            "bin_end": 0.0027902221679687,
            "count": 1
           }
          ]
         }
        },
        {
         "name": "A5T1G3C1",
         "dtype": "float64",
         "stats": {
          "unique_count": 5,
          "nan_count": 0,
          "min": "-0.0008065185546874",
          "max": "0.0151934814453125",
          "histogram": [
           {
            "bin_start": -0.0008065185546874,
            "bin_end": 0.0007934814453125899,
            "count": 3
           },
           {
            "bin_start": 0.0007934814453125899,
            "bin_end": 0.0023934814453125796,
            "count": 0
           },
           {
            "bin_start": 0.0023934814453125796,
            "bin_end": 0.003993481445312569,
            "count": 0
           },
           {
            "bin_start": 0.003993481445312569,
            "bin_end": 0.005593481445312559,
            "count": 1
           },
           {
            "bin_start": 0.005593481445312559,
            "bin_end": 0.00719348144531255,
            "count": 0
           },
           {
            "bin_start": 0.00719348144531255,
            "bin_end": 0.00879348144531254,
            "count": 0
           },
           {
            "bin_start": 0.00879348144531254,
            "bin_end": 0.01039348144531253,
            "count": 0
           },
           {
            "bin_start": 0.01039348144531253,
            "bin_end": 0.01199348144531252,
            "count": 0
           },
           {
            "bin_start": 0.01199348144531252,
            "bin_end": 0.01359348144531251,
            "count": 0
           },
           {
            "bin_start": 0.01359348144531251,
            "bin_end": 0.0151934814453125,
            "count": 1
           }
          ]
         }
        },
        {
         "name": "A5T1G4C0",
         "dtype": "float64",
         "stats": {
          "unique_count": 4,
          "nan_count": 0,
          "min": "-0.0012016296386718",
          "max": "3.937036132812492e-05",
          "histogram": [
           {
            "bin_start": -0.0012016296386718,
            "bin_end": -0.0010775296386718075,
            "count": 2
           },
           {
            "bin_start": -0.0010775296386718075,
            "bin_end": -0.000953429638671815,
            "count": 0
           },
           {
            "bin_start": -0.000953429638671815,
            "bin_end": -0.0008293296386718224,
            "count": 0
           },
           {
            "bin_start": -0.0008293296386718224,
            "bin_end": -0.00070522963867183,
            "count": 0
           },
           {
            "bin_start": -0.00070522963867183,
            "bin_end": -0.0005811296386718375,
            "count": 0
           },
           {
            "bin_start": -0.0005811296386718375,
            "bin_end": -0.000457029638671845,
            "count": 0
           },
           {
            "bin_start": -0.000457029638671845,
            "bin_end": -0.0003329296386718524,
            "count": 0
           },
           {
            "bin_start": -0.0003329296386718524,
            "bin_end": -0.00020882963867185998,
            "count": 0
           },
           {
            "bin_start": -0.00020882963867185998,
            "bin_end": -0.00008472963867186753,
            "count": 1
           },
           {
            "bin_start": -0.00008472963867186753,
            "bin_end": 0.00003937036132812492,
            "count": 2
           }
          ]
         }
        },
        {
         "name": "A5T2G0C3",
         "dtype": "float64",
         "stats": {
          "unique_count": 5,
          "nan_count": 0,
          "min": "-0.0024032592773437",
          "max": "0.0075967407226562",
          "histogram": [
           {
            "bin_start": -0.0024032592773437,
            "bin_end": -0.00140325927734371,
            "count": 1
           },
           {
            "bin_start": -0.00140325927734371,
            "bin_end": -0.00040325927734372003,
            "count": 1
           },
           {
            "bin_start": -0.00040325927734372003,
            "bin_end": 0.00059674072265627,
            "count": 2
           },
           {
            "bin_start": 0.00059674072265627,
            "bin_end": 0.00159674072265626,
            "count": 0
           },
           {
            "bin_start": 0.00159674072265626,
            "bin_end": 0.0025967407226562505,
            "count": 0
           },
           {
            "bin_start": 0.0025967407226562505,
            "bin_end": 0.00359674072265624,
            "count": 0
           },
           {
            "bin_start": 0.00359674072265624,
            "bin_end": 0.00459674072265623,
            "count": 0
           },
           {
            "bin_start": 0.00459674072265623,
            "bin_end": 0.005596740722656221,
            "count": 0
           },
           {
            "bin_start": 0.005596740722656221,
            "bin_end": 0.006596740722656211,
            "count": 0
           },
           {
            "bin_start": 0.006596740722656211,
            "bin_end": 0.0075967407226562,
            "count": 1
           }
          ]
         }
        },
        {
         "name": "A5T2G1C2",
         "dtype": "float64",
         "stats": {
          "unique_count": 4,
          "nan_count": 0,
          "min": "-0.0072097778320312",
          "max": "0.0037902221679687",
          "histogram": [
           {
            "bin_start": -0.0072097778320312,
            "bin_end": -0.00610977783203121,
            "count": 2
           },
           {
            "bin_start": -0.00610977783203121,
            "bin_end": -0.00500977783203122,
            "count": 0
           },
           {
            "bin_start": -0.00500977783203122,
            "bin_end": -0.00390977783203123,
            "count": 0
           },
           {
            "bin_start": -0.00390977783203123,
            "bin_end": -0.00280977783203124,
            "count": 0
           },
           {
            "bin_start": -0.00280977783203124,
            "bin_end": -0.0017097778320312503,
            "count": 0
           },
           {
            "bin_start": -0.0017097778320312503,
            "bin_end": -0.0006097778320312604,
            "count": 1
           },
           {
            "bin_start": -0.0006097778320312604,
            "bin_end": 0.0004902221679687294,
            "count": 1
           },
           {
            "bin_start": 0.0004902221679687294,
            "bin_end": 0.0015902221679687193,
            "count": 0
           },
           {
            "bin_start": 0.0015902221679687193,
            "bin_end": 0.002690222167968709,
            "count": 0
           },
           {
            "bin_start": 0.002690222167968709,
            "bin_end": 0.0037902221679687,
            "count": 1
           }
          ]
         }
        },
        {
         "name": "A5T2G2C1",
         "dtype": "float64",
         "stats": {
          "unique_count": 5,
          "nan_count": 0,
          "min": "-0.0003187778320312",
          "max": "0.0127902221679687",
          "histogram": [
           {
            "bin_start": -0.0003187778320312,
            "bin_end": 0.0009921221679687901,
            "count": 3
           },
           {
            "bin_start": 0.0009921221679687901,
            "bin_end": 0.00230302216796878,
            "count": 0
           },
           {
            "bin_start": 0.00230302216796878,
            "bin_end": 0.0036139221679687703,
            "count": 1
           },
           {
            "bin_start": 0.0036139221679687703,
            "bin_end": 0.00492482216796876,
            "count": 0
           },
           {
            "bin_start": 0.00492482216796876,
            "bin_end": 0.00623572216796875,
            "count": 0
           },
           {
            "bin_start": 0.00623572216796875,
            "bin_end": 0.007546622167968741,
            "count": 0
           },
           {
            "bin_start": 0.007546622167968741,
            "bin_end": 0.00885752216796873,
            "count": 0
           },
           {
            "bin_start": 0.00885752216796873,
            "bin_end": 0.01016842216796872,
            "count": 0
           },
           {
            "bin_start": 0.01016842216796872,
            "bin_end": 0.01147932216796871,
            "count": 0
           },
           {
            "bin_start": 0.01147932216796871,
            "bin_end": 0.0127902221679687,
            "count": 1
           }
          ]
         }
        },
        {
         "name": "A5T2G3C0",
         "dtype": "float64",
         "stats": {
          "unique_count": 4,
          "nan_count": 0,
          "min": "-1.8259277343750036e-05",
          "max": "0.0075967407226562",
          "histogram": [
           {
            "bin_start": -0.000018259277343750036,
            "bin_end": 0.000743240722656245,
            "count": 3
           },
           {
            "bin_start": 0.000743240722656245,
            "bin_end": 0.00150474072265624,
            "count": 0
           },
           {
            "bin_start": 0.00150474072265624,
            "bin_end": 0.0022662407226562353,
            "count": 0
           },
           {
            "bin_start": 0.0022662407226562353,
            "bin_end": 0.00302774072265623,
            "count": 0
           },
           {
            "bin_start": 0.00302774072265623,
            "bin_end": 0.003789240722656225,
            "count": 0
           },
           {
            "bin_start": 0.003789240722656225,
            "bin_end": 0.004550740722656221,
            "count": 0
           },
           {
            "bin_start": 0.004550740722656221,
            "bin_end": 0.0053122407226562154,
            "count": 0
           },
           {
            "bin_start": 0.0053122407226562154,
            "bin_end": 0.00607374072265621,
            "count": 0
           },
           {
            "bin_start": 0.00607374072265621,
            "bin_end": 0.006835240722656205,
            "count": 0
           },
           {
            "bin_start": 0.006835240722656205,
            "bin_end": 0.0075967407226562,
            "count": 2
           }
          ]
         }
        },
        {
         "name": "A5T3G0C2",
         "dtype": "float64",
         "stats": {
          "unique_count": 4,
          "nan_count": 0,
          "min": "-0.0001882592773437",
          "max": "0.0075967407226562",
          "histogram": [
           {
            "bin_start": -0.0001882592773437,
            "bin_end": 0.00059024072265629,
            "count": 2
           },
           {
            "bin_start": 0.00059024072265629,
            "bin_end": 0.0013687407226562799,
            "count": 1
           },
           {
            "bin_start": 0.0013687407226562799,
            "bin_end": 0.0021472407226562694,
            "count": 0
           },
           {
            "bin_start": 0.0021472407226562694,
            "bin_end": 0.0029257407226562595,
            "count": 0
           },
           {
            "bin_start": 0.0029257407226562595,
            "bin_end": 0.0037042407226562496,
            "count": 0
           },
           {
            "bin_start": 0.0037042407226562496,
            "bin_end": 0.004482740722656239,
            "count": 0
           },
           {
            "bin_start": 0.004482740722656239,
            "bin_end": 0.0052612407226562295,
            "count": 0
           },
           {
            "bin_start": 0.0052612407226562295,
            "bin_end": 0.00603974072265622,
            "count": 0
           },
           {
            "bin_start": 0.00603974072265622,
            "bin_end": 0.00681824072265621,
            "count": 0
           },
           {
            "bin_start": 0.00681824072265621,
            "bin_end": 0.0075967407226562,
            "count": 2
           }
          ]
         }
        },
        {
         "name": "A5T3G1C1",
         "dtype": "float64",
         "stats": {
          "unique_count": 4,
          "nan_count": 0,
          "min": "-0.0028065185546875",
          "max": "0.0151934814453125",
          "histogram": [
           {
            "bin_start": -0.0028065185546875,
            "bin_end": -0.0010065185546874998,
            "count": 1
           },
           {
            "bin_start": -0.0010065185546874998,
            "bin_end": 0.0007934814453125004,
            "count": 2
           },
           {
            "bin_start": 0.0007934814453125004,
            "bin_end": 0.0025934814453125003,
            "count": 0
           },
           {
            "bin_start": 0.0025934814453125003,
            "bin_end": 0.004393481445312501,
            "count": 0
           },
           {
            "bin_start": 0.004393481445312501,
            "bin_end": 0.006193481445312501,
            "count": 0
           },
           {
            "bin_start": 0.006193481445312501,
            "bin_end": 0.0079934814453125,
            "count": 0
           },
           {
            "bin_start": 0.0079934814453125,
            "bin_end": 0.009793481445312502,
            "count": 0
           },
           {
            "bin_start": 0.009793481445312502,
            "bin_end": 0.011593481445312501,
            "count": 0
           },
           {
            "bin_start": 0.011593481445312501,
            "bin_end": 0.013393481445312503,
            "count": 0
           },
           {
            "bin_start": 0.013393481445312503,
            "bin_end": 0.0151934814453125,
            "count": 2
           }
          ]
         }
        },
        {
         "name": "A5T3G2C0",
         "dtype": "float64",
         "stats": {
          "unique_count": 4,
          "nan_count": 0,
          "min": "-0.0024032592773437",
          "max": "0.0005967407226562",
          "histogram": [
           {
            "bin_start": -0.0024032592773437,
            "bin_end": -0.00210325927734371,
            "count": 2
           },
           {
            "bin_start": -0.00210325927734371,
            "bin_end": -0.00180325927734372,
            "count": 0
           },
           {
            "bin_start": -0.00180325927734372,
            "bin_end": -0.0015032592773437299,
            "count": 0
           },
           {
            "bin_start": -0.0015032592773437299,
            "bin_end": -0.00120325927734374,
            "count": 0
           },
           {
            "bin_start": -0.00120325927734374,
            "bin_end": -0.00090325927734375,
            "count": 0
           },
           {
            "bin_start": -0.00090325927734375,
            "bin_end": -0.0006032592773437598,
            "count": 0
           },
           {
            "bin_start": -0.0006032592773437598,
            "bin_end": -0.00030325927734376965,
            "count": 0
           },
           {
            "bin_start": -0.00030325927734376965,
            "bin_end": -0.0000032592773437797005,
            "count": 2
           },
           {
            "bin_start": -0.0000032592773437797005,
            "bin_end": 0.00029674072265621024,
            "count": 0
           },
           {
            "bin_start": 0.00029674072265621024,
            "bin_end": 0.0005967407226562,
            "count": 1
           }
          ]
         }
        },
        {
         "name": "A5T4G0C1",
         "dtype": "float64",
         "stats": {
          "unique_count": 4,
          "nan_count": 0,
          "min": "0.0001463703613281",
          "max": "0.0087983703613281",
          "histogram": [
           {
            "bin_start": 0.0001463703613281,
            "bin_end": 0.0010115703613281,
            "count": 2
           },
           {
            "bin_start": 0.0010115703613281,
            "bin_end": 0.0018767703613281,
            "count": 0
           },
           {
            "bin_start": 0.0018767703613281,
            "bin_end": 0.0027419703613281,
            "count": 0
           },
           {
            "bin_start": 0.0027419703613281,
            "bin_end": 0.0036071703613281,
            "count": 1
           },
           {
            "bin_start": 0.0036071703613281,
            "bin_end": 0.0044723703613281,
            "count": 0
           },
           {
            "bin_start": 0.0044723703613281,
            "bin_end": 0.0053375703613281,
            "count": 0
           },
           {
            "bin_start": 0.0053375703613281,
            "bin_end": 0.0062027703613281,
            "count": 0
           },
           {
            "bin_start": 0.0062027703613281,
            "bin_end": 0.0070679703613281,
            "count": 0
           },
           {
            "bin_start": 0.0070679703613281,
            "bin_end": 0.0079331703613281,
            "count": 0
           },
           {
            "bin_start": 0.0079331703613281,
            "bin_end": 0.0087983703613281,
            "count": 2
           }
          ]
         }
        },
        {
         "name": "A5T4G1C0",
         "dtype": "float64",
         "stats": {
          "unique_count": 4,
          "nan_count": 0,
          "min": "-0.0012016296386718",
          "max": "0.0017983703613281",
          "histogram": [
           {
            "bin_start": -0.0012016296386718,
            "bin_end": -0.00090162963867181,
            "count": 2
           },
           {
            "bin_start": -0.00090162963867181,
            "bin_end": -0.00060162963867182,
            "count": 0
           },
           {
            "bin_start": -0.00060162963867182,
            "bin_end": -0.0003016296386718299,
            "count": 0
           },
           {
            "bin_start": -0.0003016296386718299,
            "bin_end": -0.000001629638671839977,
            "count": 0
           },
           {
            "bin_start": -0.000001629638671839977,
            "bin_end": 0.00029837036132814997,
            "count": 2
           },
           {
            "bin_start": 0.00029837036132814997,
            "bin_end": 0.0005983703613281401,
            "count": 0
           },
           {
            "bin_start": 0.0005983703613281401,
            "bin_end": 0.0008983703613281301,
            "count": 0
           },
           {
            "bin_start": 0.0008983703613281301,
            "bin_end": 0.00119837036132812,
            "count": 0
           },
           {
            "bin_start": 0.00119837036132812,
            "bin_end": 0.00149837036132811,
            "count": 0
           },
           {
            "bin_start": 0.00149837036132811,
            "bin_end": 0.0017983703613281,
            "count": 1
           }
          ]
         }
        },
        {
         "name": "A5T5G0C0",
         "dtype": "float64",
         "stats": {
          "unique_count": 4,
          "nan_count": 0,
          "min": "0.0001556740722656",
          "max": "0.0097596740722656",
          "histogram": [
           {
            "bin_start": 0.0001556740722656,
            "bin_end": 0.0011160740722655999,
            "count": 3
           },
           {
            "bin_start": 0.0011160740722655999,
            "bin_end": 0.0020764740722655998,
            "count": 0
           },
           {
            "bin_start": 0.0020764740722655998,
            "bin_end": 0.0030368740722655995,
            "count": 0
           },
           {
            "bin_start": 0.0030368740722655995,
            "bin_end": 0.0039972740722656,
            "count": 0
           },
           {
            "bin_start": 0.0039972740722656,
            "bin_end": 0.0049576740722656,
            "count": 0
           },
           {
            "bin_start": 0.0049576740722656,
            "bin_end": 0.0059180740722655995,
            "count": 0
           },
           {
            "bin_start": 0.0059180740722655995,
            "bin_end": 0.0068784740722656,
            "count": 0
           },
           {
            "bin_start": 0.0068784740722656,
            "bin_end": 0.007838874072265599,
            "count": 0
           },
           {
            "bin_start": 0.007838874072265599,
            "bin_end": 0.008799274072265599,
            "count": 0
           },
           {
            "bin_start": 0.008799274072265599,
            "bin_end": 0.0097596740722656,
            "count": 2
           }
          ]
         }
        },
        {
         "name": "A6T0G0C4",
         "dtype": "float64",
         "stats": {
          "unique_count": 3,
          "nan_count": 0,
          "min": "-0.0002002716064453",
          "max": "2.728393554687501e-06",
          "histogram": [
           {
            "bin_start": -0.0002002716064453,
            "bin_end": -0.00017997160644530125,
            "count": 3
           },
           {
            "bin_start": -0.00017997160644530125,
            "bin_end": -0.00015967160644530251,
            "count": 0
           },
           {
            "bin_start": -0.00015967160644530251,
            "bin_end": -0.00013937160644530376,
            "count": 0
           },
           {
            "bin_start": -0.00013937160644530376,
            "bin_end": -0.000119071606445305,
            "count": 0
           },
           {
            "bin_start": -0.000119071606445305,
            "bin_end": -0.00009877160644530624,
            "count": 0
           },
           {
            "bin_start": -0.00009877160644530624,
            "bin_end": -0.00007847160644530749,
            "count": 0
           },
           {
            "bin_start": -0.00007847160644530749,
            "bin_end": -0.00005817160644530875,
            "count": 0
           },
           {
            "bin_start": -0.00005817160644530875,
            "bin_end": -0.00003787160644530999,
            "count": 0
           },
           {
            "bin_start": -0.00003787160644530999,
            "bin_end": -0.00001757160644531123,
            "count": 1
           },
           {
            "bin_start": -0.00001757160644531123,
            "bin_end": 0.000002728393554687501,
            "count": 1
           }
          ]
         }
        },
        {
         "name": "A6T0G1C3",
         "dtype": "float64",
         "stats": {
          "unique_count": 3,
          "nan_count": 0,
          "min": "-0.0008010864257812",
          "max": "0.0001939135742187",
          "histogram": [
           {
            "bin_start": -0.0008010864257812,
            "bin_end": -0.00070158642578121,
            "count": 3
           },
           {
            "bin_start": -0.00070158642578121,
            "bin_end": -0.00060208642578122,
            "count": 0
           },
           {
            "bin_start": -0.00060208642578122,
            "bin_end": -0.00050258642578123,
            "count": 0
           },
           {
            "bin_start": -0.00050258642578123,
            "bin_end": -0.00040308642578124,
            "count": 0
           },
           {
            "bin_start": -0.00040308642578124,
            "bin_end": -0.00030358642578125,
            "count": 0
           },
           {
            "bin_start": -0.00030358642578125,
            "bin_end": -0.00020408642578126,
            "count": 0
           },
           {
            "bin_start": -0.00020408642578126,
            "bin_end": -0.00010458642578126999,
            "count": 0
           },
           {
            "bin_start": -0.00010458642578126999,
            "bin_end": -0.000005086425781279983,
            "count": 0
           },
           {
            "bin_start": -0.000005086425781279983,
            "bin_end": 0.00009441357421871002,
            "count": 1
           },
           {
            "bin_start": 0.00009441357421871002,
            "bin_end": 0.0001939135742187,
            "count": 1
           }
          ]
         }
        },
        {
         "name": "A6T0G2C2",
         "dtype": "float64",
         "stats": {
          "unique_count": 5,
          "nan_count": 0,
          "min": "-0.0012016296386718",
          "max": "0.0087983703613281",
          "histogram": [
           {
            "bin_start": -0.0012016296386718,
            "bin_end": -0.00020162963867180993,
            "count": 1
           },
           {
            "bin_start": -0.00020162963867180993,
            "bin_end": 0.0007983703613281801,
            "count": 3
           },
           {
            "bin_start": 0.0007983703613281801,
            "bin_end": 0.0017983703613281702,
            "count": 0
           },
           {
            "bin_start": 0.0017983703613281702,
            "bin_end": 0.00279837036132816,
            "count": 0
           },
           {
            "bin_start": 0.00279837036132816,
            "bin_end": 0.0037983703613281507,
            "count": 0
           },
           {
            "bin_start": 0.0037983703613281507,
            "bin_end": 0.004798370361328141,
            "count": 0
           },
           {
            "bin_start": 0.004798370361328141,
            "bin_end": 0.0057983703613281295,
            "count": 0
           },
           {
            "bin_start": 0.0057983703613281295,
            "bin_end": 0.00679837036132812,
            "count": 0
           },
           {
            "bin_start": 0.00679837036132812,
            "bin_end": 0.0077983703613281104,
            "count": 0
           },
           {
            "bin_start": 0.0077983703613281104,
            "bin_end": 0.0087983703613281,
            "count": 1
           }
          ]
         }
        },
        {
         "name": "A6T0G3C1",
         "dtype": "float64",
         "stats": {
          "unique_count": 3,
          "nan_count": 0,
          "min": "-0.0008010864257812",
          "max": "0.0004069135742187",
          "histogram": [
           {
            "bin_start": -0.0008010864257812,
            "bin_end": -0.00068028642578121,
            "count": 3
           },
           {
            "bin_start": -0.00068028642578121,
            "bin_end": -0.0005594864257812201,
            "count": 0
           },
           {
            "bin_start": -0.0005594864257812201,
            "bin_end": -0.00043868642578123,
            "count": 0
           },
           {
            "bin_start": -0.00043868642578123,
            "bin_end": -0.00031788642578124,
            "count": 0
           },
           {
            "bin_start": -0.00031788642578124,
            "bin_end": -0.00019708642578124996,
            "count": 0
           },
           {
            "bin_start": -0.00019708642578124996,
            "bin_end": -0.00007628642578126003,
            "count": 0
           },
           {
            "bin_start": -0.00007628642578126003,
            "bin_end": 0.000044513574218730005,
            "count": 0
           },
           {
            "bin_start": 0.000044513574218730005,
            "bin_end": 0.00016531357421872004,
            "count": 0
           },
           {
            "bin_start": 0.00016531357421872004,
            "bin_end": 0.00028611357421870996,
            "count": 1
           },
           {
            "bin_start": 0.00028611357421870996,
            "bin_end": 0.0004069135742187,
            "count": 1
           }
          ]
         }
        },
        {
         "name": "A6T0G4C0",
         "dtype": "float64",
         "stats": {
          "unique_count": 4,
          "nan_count": 0,
          "min": "-0.0002002716064453",
          "max": "0.0007997283935546",
          "histogram": [
           {
            "bin_start": -0.0002002716064453,
            "bin_end": -0.00010027160644531,
            "count": 2
           },
           {
            "bin_start": -0.00010027160644531,
            "bin_end": -2.716064453199985e-7,
            "count": 0
           },
           {
            "bin_start": -2.716064453199985e-7,
            "bin_end": 0.00009972839355466999,
            "count": 2
           },
           {
            "bin_start": 0.00009972839355466999,
            "bin_end": 0.00019972839355466,
            "count": 0
           },
           {
            "bin_start": 0.00019972839355466,
            "bin_end": 0.00029972839355465,
            "count": 0
           },
           {
            "bin_start": 0.00029972839355465,
            "bin_end": 0.00039972839355463996,
            "count": 0
           },
           {
            "bin_start": 0.00039972839355463996,
            "bin_end": 0.00049972839355463,
            "count": 0
           },
           {
            "bin_start": 0.00049972839355463,
            "bin_end": 0.00059972839355462,
            "count": 0
           },
           {
            "bin_start": 0.00059972839355462,
            "bin_end": 0.00069972839355461,
            "count": 0
           },
           {
            "bin_start": 0.00069972839355461,
            "bin_end": 0.0007997283935546,
            "count": 1
           }
          ]
         }
        },
        {
         "name": "A6T1G0C3",
         "dtype": "float64",
         "stats": {
          "unique_count": 4,
          "nan_count": 0,
          "min": "-0.0008010864257812",
          "max": "0.0001989135742187",
          "histogram": [
           {
            "bin_start": -0.0008010864257812,
            "bin_end": -0.0007010864257812101,
            "count": 2
           },
           {
            "bin_start": -0.0007010864257812101,
            "bin_end": -0.00060108642578122,
            "count": 0
           },
           {
            "bin_start": -0.00060108642578122,
            "bin_end": -0.00050108642578123,
            "count": 0
           },
           {
            "bin_start": -0.00050108642578123,
            "bin_end": -0.00040108642578124,
            "count": 0
           },
           {
            "bin_start": -0.00040108642578124,
            "bin_end": -0.00030108642578125,
            "count": 0
           },
           {
            "bin_start": -0.00030108642578125,
            "bin_end": -0.00020108642578126003,
            "count": 0
           },
           {
            "bin_start": -0.00020108642578126003,
            "bin_end": -0.00010108642578126996,
            "count": 0
           },
           {
            "bin_start": -0.00010108642578126996,
            "bin_end": -0.000001086425781279994,
            "count": 0
           },
           {
            "bin_start": -0.000001086425781279994,
            "bin_end": 0.00009891357421870997,
            "count": 2
           },
           {
            "bin_start": 0.00009891357421870997,
            "bin_end": 0.0001989135742187,
            "count": 1
           }
          ]
         }
        },
        {
         "name": "A6T1G1C2",
         "dtype": "float64",
         "stats": {
          "unique_count": 4,
          "nan_count": 0,
          "min": "-0.0024032592773437",
          "max": "0.0035967407226562",
          "histogram": [
           {
            "bin_start": -0.0024032592773437,
            "bin_end": -0.0018032592773437103,
            "count": 2
           },
           {
            "bin_start": -0.0018032592773437103,
            "bin_end": -0.0012032592773437202,
            "count": 0
           },
           {
            "bin_start": -0.0012032592773437202,
            "bin_end": -0.0006032592773437301,
            "count": 0
           },
           {
            "bin_start": -0.0006032592773437301,
            "bin_end": -0.0000032592773437402356,
            "count": 0
           },
           {
            "bin_start": -0.0000032592773437402356,
            "bin_end": 0.0005967407226562496,
            "count": 2
           },
           {
            "bin_start": 0.0005967407226562496,
            "bin_end": 0.00119674072265624,
            "count": 0
           },
           {
            "bin_start": 0.00119674072265624,
            "bin_end": 0.0017967407226562294,
            "count": 0
           },
           {
            "bin_start": 0.0017967407226562294,
            "bin_end": 0.0023967407226562197,
            "count": 0
           },
           {
            "bin_start": 0.0023967407226562197,
            "bin_end": 0.00299674072265621,
            "count": 0
           },
           {
            "bin_start": 0.00299674072265621,
            "bin_end": 0.0035967407226562,
            "count": 1
           }
          ]
         }
        },
        {
         "name": "A6T1G2C1",
         "dtype": "float64",
         "stats": {
          "unique_count": 4,
          "nan_count": 0,
          "min": "-0.0024032592773437",
          "max": "0.0015967407226562",
          "histogram": [
           {
            "bin_start": -0.0024032592773437,
            "bin_end": -0.00200325927734371,
            "count": 2
           },
           {
            "bin_start": -0.00200325927734371,
            "bin_end": -0.0016032592773437201,
            "count": 0
           },
           {
            "bin_start": -0.0016032592773437201,
            "bin_end": -0.00120325927734373,
            "count": 0
           },
           {
            "bin_start": -0.00120325927734373,
            "bin_end": -0.00080325927734374,
            "count": 0
           },
           {
            "bin_start": -0.00080325927734374,
            "bin_end": -0.00040325927734374996,
            "count": 0
           },
           {
            "bin_start": -0.00040325927734374996,
            "bin_end": -0.0000032592773437597512,
            "count": 0
           },
           {
            "bin_start": -0.0000032592773437597512,
            "bin_end": 0.00039674072265623,
            "count": 1
           },
           {
            "bin_start": 0.00039674072265623,
            "bin_end": 0.0007967407226562202,
            "count": 1
           },
           {
            "bin_start": 0.0007967407226562202,
            "bin_end": 0.0011967407226562104,
            "count": 0
           },
           {
            "bin_start": 0.0011967407226562104,
            "bin_end": 0.0015967407226562,
            "count": 1
           }
          ]
         }
        },
        {
         "name": "A6T1G3C0",
         "dtype": "float64",
         "stats": {
          "unique_count": 3,
          "nan_count": 0,
          "min": "-0.0008010864257812",
          "max": "0.0002959135742187",
          "histogram": [
           {
            "bin_start": -0.0008010864257812,
            "bin_end": -0.00069138642578121,
            "count": 3
           },
           {
            "bin_start": -0.00069138642578121,
            "bin_end": -0.0005816864257812201,
            "count": 0
           },
           {
            "bin_start": -0.0005816864257812201,
            "bin_end": -0.00047198642578123,
            "count": 0
           },
           {
            "bin_start": -0.00047198642578123,
            "bin_end": -0.00036228642578124,
            "count": 0
           },
           {
            "bin_start": -0.00036228642578124,
            "bin_end": -0.00025258642578124995,
            "count": 0
           },
           {
            "bin_start": -0.00025258642578124995,
            "bin_end": -0.00014288642578126002,
            "count": 0
           },
           {
            "bin_start": -0.00014288642578126002,
            "bin_end": -0.000033186425781269987,
            "count": 0
           },
           {
            "bin_start": -0.000033186425781269987,
            "bin_end": 0.00007651357421872005,
            "count": 0
           },
           {
            "bin_start": 0.00007651357421872005,
            "bin_end": 0.00018621357421870998,
            "count": 1
           },
           {
            "bin_start": 0.00018621357421870998,
            "bin_end": 0.0002959135742187,
            "count": 1
           }
          ]
         }
        },
        {
         "name": "A6T2G0C2",
         "dtype": "float64",
         "stats": {
          "unique_count": 4,
          "nan_count": 0,
          "min": "-0.0012016296386718",
          "max": "0.0001283703613281",
          "histogram": [
           {
            "bin_start": -0.0012016296386718,
            "bin_end": -0.00106862963867181,
            "count": 2
           },
           {
            "bin_start": -0.00106862963867181,
            "bin_end": -0.00093562963867182,
            "count": 0
           },
           {
            "bin_start": -0.00093562963867182,
            "bin_end": -0.00080262963867183,
            "count": 0
           },
           {
            "bin_start": -0.00080262963867183,
            "bin_end": -0.00066962963867184,
            "count": 0
           },
           {
            "bin_start": -0.00066962963867184,
            "bin_end": -0.0005366296386718499,
            "count": 0
           },
           {
            "bin_start": -0.0005366296386718499,
            "bin_end": -0.00040362963867185994,
            "count": 0
           },
           {
            "bin_start": -0.00040362963867185994,
            "bin_end": -0.00027062963867186993,
            "count": 0
           },
           {
            "bin_start": -0.00027062963867186993,
            "bin_end": -0.00013762963867187993,
            "count": 1
           },
           {
            "bin_start": -0.00013762963867187993,
            "bin_end": -0.000004629638671890032,
            "count": 0
           },
           {
            "bin_start": -0.000004629638671890032,
            "bin_end": 0.0001283703613281,
            "count": 2
           }
          ]
         }
        },
        {
         "name": "A6T2G1C1",
         "dtype": "float64",
         "stats": {
          "unique_count": 4,
          "nan_count": 0,
          "min": "-0.0024032592773437",
          "max": "0.0008347407226562",
          "histogram": [
           {
            "bin_start": -0.0024032592773437,
            "bin_end": -0.00207945927734371,
            "count": 2
           },
           {
            "bin_start": -0.00207945927734371,
            "bin_end": -0.0017556592773437202,
            "count": 0
           },
           {
            "bin_start": -0.0017556592773437202,
            "bin_end": -0.00143185927734373,
            "count": 0
           },
           {
            "bin_start": -0.00143185927734373,
            "bin_end": -0.00110805927734374,
            "count": 1
           },
           {
            "bin_start": -0.00110805927734374,
            "bin_end": -0.00078425927734375,
            "count": 0
           },
           {
            "bin_start": -0.00078425927734375,
            "bin_end": -0.0004604592773437598,
            "count": 0
           },
           {
            "bin_start": -0.0004604592773437598,
            "bin_end": -0.00013665927734376982,
            "count": 0
           },
           {
            "bin_start": -0.00013665927734376982,
            "bin_end": 0.00018714072265622016,
            "count": 0
           },
           {
            "bin_start": 0.00018714072265622016,
            "bin_end": 0.0005109407226562101,
            "count": 1
           },
           {
            "bin_start": 0.0005109407226562101,
            "bin_end": 0.0008347407226562,
            "count": 1
           }
          ]
         }
        },
        {
         "name": "A6T2G2C0",
         "dtype": "float64",
         "stats": {
          "unique_count": 5,
          "nan_count": 0,
          "min": "-0.0012016296386718",
          "max": "0.0087983703613281",
          "histogram": [
           {
            "bin_start": -0.0012016296386718,
            "bin_end": -0.00020162963867180993,
            "count": 1
           },
           {
            "bin_start": -0.00020162963867180993,
            "bin_end": 0.0007983703613281801,
            "count": 3
           },
           {
            "bin_start": 0.0007983703613281801,
            "bin_end": 0.0017983703613281702,
            "count": 0
           },
           {
            "bin_start": 0.0017983703613281702,
            "bin_end": 0.00279837036132816,
            "count": 0
           },
           {
            "bin_start": 0.00279837036132816,
            "bin_end": 0.0037983703613281507,
            "count": 0
           },
           {
            "bin_start": 0.0037983703613281507,
            "bin_end": 0.004798370361328141,
            "count": 0
           },
           {
            "bin_start": 0.004798370361328141,
            "bin_end": 0.0057983703613281295,
            "count": 0
           },
           {
            "bin_start": 0.0057983703613281295,
            "bin_end": 0.00679837036132812,
            "count": 0
           },
           {
            "bin_start": 0.00679837036132812,
            "bin_end": 0.0077983703613281104,
            "count": 0
           },
           {
            "bin_start": 0.0077983703613281104,
            "bin_end": 0.0087983703613281,
            "count": 1
           }
          ]
         }
        },
        {
         "name": "A6T3G0C1",
         "dtype": "float64",
         "stats": {
          "unique_count": 4,
          "nan_count": 0,
          "min": "-0.0008010864257812",
          "max": "0.0011989135742187",
          "histogram": [
           {
            "bin_start": -0.0008010864257812,
            "bin_end": -0.00060108642578121,
            "count": 2
           },
           {
            "bin_start": -0.00060108642578121,
            "bin_end": -0.00040108642578122006,
            "count": 0
           },
           {
            "bin_start": -0.00040108642578122006,
            "bin_end": -0.0002010864257812301,
            "count": 0
           },
           {
            "bin_start": -0.0002010864257812301,
            "bin_end": -0.0000010864257812400954,
            "count": 0
           },
           {
            "bin_start": -0.0000010864257812400954,
            "bin_end": 0.0001989135742187499,
            "count": 0
           },
           {
            "bin_start": 0.0001989135742187499,
            "bin_end": 0.0003989135742187398,
            "count": 1
           },
           {
            "bin_start": 0.0003989135742187398,
            "bin_end": 0.0005989135742187299,
            "count": 1
           },
           {
            "bin_start": 0.0005989135742187299,
            "bin_end": 0.0007989135742187198,
            "count": 0
           },
           {
            "bin_start": 0.0007989135742187198,
            "bin_end": 0.0009989135742187096,
            "count": 0
           },
           {
            "bin_start": 0.0009989135742187096,
            "bin_end": 0.0011989135742187,
            "count": 1
           }
          ]
         }
        },
        {
         "name": "A6T3G1C0",
         "dtype": "float64",
         "stats": {
          "unique_count": 4,
          "nan_count": 0,
          "min": "-0.0008010864257812",
          "max": "0.0011989135742187",
          "histogram": [
           {
            "bin_start": -0.0008010864257812,
            "bin_end": -0.00060108642578121,
            "count": 2
           },
           {
            "bin_start": -0.00060108642578121,
            "bin_end": -0.00040108642578122006,
            "count": 0
           },
           {
            "bin_start": -0.00040108642578122006,
            "bin_end": -0.0002010864257812301,
            "count": 0
           },
           {
            "bin_start": -0.0002010864257812301,
            "bin_end": -0.0000010864257812400954,
            "count": 0
           },
           {
            "bin_start": -0.0000010864257812400954,
            "bin_end": 0.0001989135742187499,
            "count": 0
           },
           {
            "bin_start": 0.0001989135742187499,
            "bin_end": 0.0003989135742187398,
            "count": 1
           },
           {
            "bin_start": 0.0003989135742187398,
            "bin_end": 0.0005989135742187299,
            "count": 1
           },
           {
            "bin_start": 0.0005989135742187299,
            "bin_end": 0.0007989135742187198,
            "count": 0
           },
           {
            "bin_start": 0.0007989135742187198,
            "bin_end": 0.0009989135742187096,
            "count": 0
           },
           {
            "bin_start": 0.0009989135742187096,
            "bin_end": 0.0011989135742187,
            "count": 1
           }
          ]
         }
        },
        {
         "name": "A6T4G0C0",
         "dtype": "float64",
         "stats": {
          "unique_count": 4,
          "nan_count": 0,
          "min": "-0.0002002716064453",
          "max": "0.0007997283935546",
          "histogram": [
           {
            "bin_start": -0.0002002716064453,
            "bin_end": -0.00010027160644531,
            "count": 2
           },
           {
            "bin_start": -0.00010027160644531,
            "bin_end": -2.716064453199985e-7,
            "count": 0
           },
           {
            "bin_start": -2.716064453199985e-7,
            "bin_end": 0.00009972839355466999,
            "count": 0
           },
           {
            "bin_start": 0.00009972839355466999,
            "bin_end": 0.00019972839355466,
            "count": 1
           },
           {
            "bin_start": 0.00019972839355466,
            "bin_end": 0.00029972839355465,
            "count": 1
           },
           {
            "bin_start": 0.00029972839355465,
            "bin_end": 0.00039972839355463996,
            "count": 0
           },
           {
            "bin_start": 0.00039972839355463996,
            "bin_end": 0.00049972839355463,
            "count": 0
           },
           {
            "bin_start": 0.00049972839355463,
            "bin_end": 0.00059972839355462,
            "count": 0
           },
           {
            "bin_start": 0.00059972839355462,
            "bin_end": 0.00069972839355461,
            "count": 0
           },
           {
            "bin_start": 0.00069972839355461,
            "bin_end": 0.0007997283935546,
            "count": 1
           }
          ]
         }
        },
        {
         "name": "A7T0G0C3",
         "dtype": "float64",
         "stats": {
          "unique_count": 3,
          "nan_count": 0,
          "min": "-0.0001144409179687",
          "max": "4.655908203125001e-05",
          "histogram": [
           {
            "bin_start": -0.0001144409179687,
            "bin_end": -0.000098340917968705,
            "count": 3
           },
           {
            "bin_start": -0.000098340917968705,
            "bin_end": -0.00008224091796871,
            "count": 0
           },
           {
            "bin_start": -0.00008224091796871,
            "bin_end": -0.000066140917968715,
            "count": 0
           },
           {
            "bin_start": -0.000066140917968715,
            "bin_end": -0.00005004091796871999,
            "count": 0
           },
           {
            "bin_start": -0.00005004091796871999,
            "bin_end": -0.00003394091796872499,
            "count": 0
           },
           {
            "bin_start": -0.00003394091796872499,
            "bin_end": -0.00001784091796872998,
            "count": 0
           },
           {
            "bin_start": -0.00001784091796872998,
            "bin_end": -0.0000017409179687349685,
            "count": 0
           },
           {
            "bin_start": -0.0000017409179687349685,
            "bin_end": 0.000014359082031260029,
            "count": 0
           },
           {
            "bin_start": 0.000014359082031260029,
            "bin_end": 0.000030459082031255026,
            "count": 1
           },
           {
            "bin_start": 0.000030459082031255026,
            "bin_end": 0.00004655908203125001,
            "count": 1
           }
          ]
         }
        },
        {
         "name": "A7T0G1C2",
         "dtype": "float64",
         "stats": {
          "unique_count": 3,
          "nan_count": 0,
          "min": "-0.0003433227539062",
          "max": "0.0001596772460937",
          "histogram": [
           {
            "bin_start": -0.0003433227539062,
            "bin_end": -0.00029302275390621,
            "count": 3
           },
           {
            "bin_start": -0.00029302275390621,
            "bin_end": -0.00024272275390622002,
            "count": 0
           },
           {
            "bin_start": -0.00024272275390622002,
            "bin_end": -0.00019242275390623001,
            "count": 0
           },
           {
            "bin_start": -0.00019242275390623001,
            "bin_end": -0.00014212275390624001,
            "count": 0
           },
           {
            "bin_start": -0.00014212275390624001,
            "bin_end": -0.00009182275390625001,
            "count": 0
           },
           {
            "bin_start": -0.00009182275390625001,
            "bin_end": -0.00004152275390626001,
            "count": 0
           },
           {
            "bin_start": -0.00004152275390626001,
            "bin_end": 0.00000877724609372999,
            "count": 0
           },
           {
            "bin_start": 0.00000877724609372999,
            "bin_end": 0.00005907724609371999,
            "count": 0
           },
           {
            "bin_start": 0.00005907724609371999,
            "bin_end": 0.00010937724609370999,
            "count": 1
           },
           {
            "bin_start": 0.00010937724609370999,
            "bin_end": 0.0001596772460937,
            "count": 1
           }
          ]
         }
        },
        {
         "name": "A7T0G2C1",
         "dtype": "float64",
         "stats": {
          "unique_count": 3,
          "nan_count": 0,
          "min": "-0.0003433227539062",
          "max": "0.0003086772460937",
          "histogram": [
           {
            "bin_start": -0.0003433227539062,
            "bin_end": -0.00027812275390621003,
            "count": 3
           },
           {
            "bin_start": -0.00027812275390621003,
            "bin_end": -0.00021292275390622,
            "count": 0
           },
           {
            "bin_start": -0.00021292275390622,
            "bin_end": -0.00014772275390622999,
            "count": 0
           },
           {
            "bin_start": -0.00014772275390622999,
            "bin_end": -0.00008252275390623997,
            "count": 0
           },
           {
            "bin_start": -0.00008252275390623997,
            "bin_end": -0.00001732275390624999,
            "count": 0
           },
           {
            "bin_start": -0.00001732275390624999,
            "bin_end": 0.00004787724609374005,
            "count": 0
           },
           {
            "bin_start": 0.00004787724609374005,
            "bin_end": 0.00011307724609373009,
            "count": 0
           },
           {
            "bin_start": 0.00011307724609373009,
            "bin_end": 0.00017827724609372007,
            "count": 1
           },
           {
            "bin_start": 0.00017827724609372007,
            "bin_end": 0.00024347724609371005,
            "count": 0
           },
           {
            "bin_start": 0.00024347724609371005,
            "bin_end": 0.0003086772460937,
            "count": 1
           }
          ]
         }
        },
        {
         "name": "A7T0G3C0",
         "dtype": "float64",
         "stats": {
          "unique_count": 3,
          "nan_count": 0,
          "min": "-0.0001144409179687",
          "max": "0.0001285590820312",
          "histogram": [
           {
            "bin_start": -0.0001144409179687,
            "bin_end": -0.00009014091796871,
            "count": 3
           },
           {
            "bin_start": -0.00009014091796871,
            "bin_end": -0.00006584091796872,
            "count": 0
           },
           {
            "bin_start": -0.00006584091796872,
            "bin_end": -0.00004154091796873,
            "count": 0
           },
           {
            "bin_start": -0.00004154091796873,
            "bin_end": -0.000017240917968740007,
            "count": 0
           },
           {
            "bin_start": -0.000017240917968740007,
            "bin_end": 0.000007059082031249985,
            "count": 0
           },
           {
            "bin_start": 0.000007059082031249985,
            "bin_end": 0.000031359082031240005,
            "count": 0
           },
           {
            "bin_start": 0.000031359082031240005,
            "bin_end": 0.00005565908203123,
            "count": 0
           },
           {
            "bin_start": 0.00005565908203123,
            "bin_end": 0.00007995908203121999,
            "count": 1
           },
           {
            "bin_start": 0.00007995908203121999,
            "bin_end": 0.00010425908203120998,
            "count": 0
           },
           {
            "bin_start": 0.00010425908203120998,
            "bin_end": 0.0001285590820312,
            "count": 1
           }
          ]
         }
        },
        {
         "name": "A7T1G0C2",
         "dtype": "float64",
         "stats": {
          "unique_count": 3,
          "nan_count": 0,
          "min": "-0.0003433227539062",
          "max": "0.0002426772460937",
          "histogram": [
           {
            "bin_start": -0.0003433227539062,
            "bin_end": -0.00028472275390621003,
            "count": 3
           },
           {
            "bin_start": -0.00028472275390621003,
            "bin_end": -0.00022612275390622002,
            "count": 0
           },
           {
            "bin_start": -0.00022612275390622002,
            "bin_end": -0.00016752275390623,
            "count": 0
           },
           {
            "bin_start": -0.00016752275390623,
            "bin_end": -0.00010892275390624002,
            "count": 0
           },
           {
            "bin_start": -0.00010892275390624002,
            "bin_end": -0.000050322753906250034,
            "count": 0
           },
           {
            "bin_start": -0.000050322753906250034,
            "bin_end": 0.000008277246093740006,
            "count": 0
           },
           {
            "bin_start": 0.000008277246093740006,
            "bin_end": 0.00006687724609372999,
            "count": 0
           },
           {
            "bin_start": 0.00006687724609372999,
            "bin_end": 0.00012547724609371998,
            "count": 0
           },
           {
            "bin_start": 0.00012547724609371998,
            "bin_end": 0.00018407724609371002,
            "count": 1
           },
           {
            "bin_start": 0.00018407724609371002,
            "bin_end": 0.0002426772460937,
            "count": 1
           }
          ]
         }
        },
        {
         "name": "A7T1G1C1",
         "dtype": "float64",
         "stats": {
          "unique_count": 5,
          "nan_count": 0,
          "min": "-0.0006866455078125",
          "max": "0.0093133544921875",
          "histogram": [
           {
            "bin_start": -0.0006866455078125,
            "bin_end": 0.0003133544921875,
            "count": 1
           },
           {
            "bin_start": 0.0003133544921875,
            "bin_end": 0.0013133544921875,
            "count": 2
           },
           {
            "bin_start": 0.0013133544921875,
            "bin_end": 0.0023133544921875,
            "count": 1
           },
           {
            "bin_start": 0.0023133544921875,
            "bin_end": 0.0033133544921875,
            "count": 0
           },
           {
            "bin_start": 0.0033133544921875,
            "bin_end": 0.0043133544921875,
            "count": 0
           },
           {
            "bin_start": 0.0043133544921875,
            "bin_end": 0.0053133544921875,
            "count": 0
           },
           {
            "bin_start": 0.0053133544921875,
            "bin_end": 0.0063133544921875,
            "count": 0
           },
           {
            "bin_start": 0.0063133544921875,
            "bin_end": 0.0073133544921875,
            "count": 0
           },
           {
            "bin_start": 0.0073133544921875,
            "bin_end": 0.008313354492187501,
            "count": 0
           },
           {
            "bin_start": 0.008313354492187501,
            "bin_end": 0.0093133544921875,
            "count": 1
           }
          ]
         }
        },
        {
         "name": "A7T1G2C0",
         "dtype": "float64",
         "stats": {
          "unique_count": 4,
          "nan_count": 0,
          "min": "-0.0003433227539062",
          "max": "0.0006566772460937",
          "histogram": [
           {
            "bin_start": -0.0003433227539062,
            "bin_end": -0.00024332275390621,
            "count": 2
           },
           {
            "bin_start": -0.00024332275390621,
            "bin_end": -0.00014332275390622,
            "count": 0
           },
           {
            "bin_start": -0.00014332275390622,
            "bin_end": -0.00004332275390623002,
            "count": 0
           },
           {
            "bin_start": -0.00004332275390623002,
            "bin_end": 0.000056677246093759994,
            "count": 0
           },
           {
            "bin_start": 0.000056677246093759994,
            "bin_end": 0.00015667724609375,
            "count": 0
           },
           {
            "bin_start": 0.00015667724609375,
            "bin_end": 0.00025667724609373997,
            "count": 1
           },
           {
            "bin_start": 0.00025667724609373997,
            "bin_end": 0.00035667724609373004,
            "count": 0
           },
           {
            "bin_start": 0.00035667724609373004,
            "bin_end": 0.00045667724609372,
            "count": 1
           },
           {
            "bin_start": 0.00045667724609372,
            "bin_end": 0.00055667724609371,
            "count": 0
           },
           {
            "bin_start": 0.00055667724609371,
            "bin_end": 0.0006566772460937,
            "count": 1
           }
          ]
         }
        },
        {
         "name": "A7T2G0C1",
         "dtype": "float64",
         "stats": {
          "unique_count": 4,
          "nan_count": 0,
          "min": "-0.0003433227539062",
          "max": "0.0016566772460937",
          "histogram": [
           {
            "bin_start": -0.0003433227539062,
            "bin_end": -0.00014332275390621004,
            "count": 2
           },
           {
            "bin_start": -0.00014332275390621004,
            "bin_end": 0.00005667724609377994,
            "count": 0
           },
           {
            "bin_start": 0.00005667724609377994,
            "bin_end": 0.0002566772460937699,
            "count": 1
           },
           {
            "bin_start": 0.0002566772460937699,
            "bin_end": 0.0004566772460937599,
            "count": 1
           },
           {
            "bin_start": 0.0004566772460937599,
            "bin_end": 0.0006566772460937499,
            "count": 0
           },
           {
            "bin_start": 0.0006566772460937499,
            "bin_end": 0.0008566772460937398,
            "count": 0
           },
           {
            "bin_start": 0.0008566772460937398,
            "bin_end": 0.0010566772460937298,
            "count": 0
           },
           {
            "bin_start": 0.0010566772460937298,
            "bin_end": 0.00125667724609372,
            "count": 0
           },
           {
            "bin_start": 0.00125667724609372,
            "bin_end": 0.0014566772460937096,
            "count": 0
           },
           {
            "bin_start": 0.0014566772460937096,
            "bin_end": 0.0016566772460937,
            "count": 1
           }
          ]
         }
        },
        {
         "name": "A7T2G1C0",
         "dtype": "float64",
         "stats": {
          "unique_count": 5,
          "nan_count": 0,
          "min": "-0.0003433227539062",
          "max": "0.0096566772460937",
          "histogram": [
           {
            "bin_start": -0.0003433227539062,
            "bin_end": 0.00065667724609379,
            "count": 3
           },
           {
            "bin_start": 0.00065667724609379,
            "bin_end": 0.00165667724609378,
            "count": 1
           },
           {
            "bin_start": 0.00165667724609378,
            "bin_end": 0.00265667724609377,
            "count": 0
           },
           {
            "bin_start": 0.00265667724609377,
            "bin_end": 0.00365667724609376,
            "count": 0
           },
           {
            "bin_start": 0.00365667724609376,
            "bin_end": 0.004656677246093751,
            "count": 0
           },
           {
            "bin_start": 0.004656677246093751,
            "bin_end": 0.005656677246093741,
            "count": 0
           },
           {
            "bin_start": 0.005656677246093741,
            "bin_end": 0.00665667724609373,
            "count": 0
           },
           {
            "bin_start": 0.00665667724609373,
            "bin_end": 0.007656677246093721,
            "count": 0
           },
           {
            "bin_start": 0.007656677246093721,
            "bin_end": 0.008656677246093711,
            "count": 0
           },
           {
            "bin_start": 0.008656677246093711,
            "bin_end": 0.0096566772460937,
            "count": 1
           }
          ]
         }
        },
        {
         "name": "A7T3G0C0",
         "dtype": "float64",
         "stats": {
          "unique_count": 4,
          "nan_count": 0,
          "min": "-0.0001144409179687",
          "max": "0.0008855590820312",
          "histogram": [
           {
            "bin_start": -0.0001144409179687,
            "bin_end": -0.000014440917968710002,
            "count": 2
           },
           {
            "bin_start": -0.000014440917968710002,
            "bin_end": 0.00008555908203128,
            "count": 0
           },
           {
            "bin_start": 0.00008555908203128,
            "bin_end": 0.00018555908203126998,
            "count": 1
           },
           {
            "bin_start": 0.00018555908203126998,
            "bin_end": 0.00028555908203126,
            "count": 1
           },
           {
            "bin_start": 0.00028555908203126,
            "bin_end": 0.00038555908203125,
            "count": 0
           },
           {
            "bin_start": 0.00038555908203125,
            "bin_end": 0.00048555908203123997,
            "count": 0
           },
           {
            "bin_start": 0.00048555908203123997,
            "bin_end": 0.00058555908203123,
            "count": 0
           },
           {
            "bin_start": 0.00058555908203123,
            "bin_end": 0.00068555908203122,
            "count": 0
           },
           {
            "bin_start": 0.00068555908203122,
            "bin_end": 0.00078555908203121,
            "count": 0
           },
           {
            "bin_start": 0.00078555908203121,
            "bin_end": 0.0008855590820312,
            "count": 1
           }
          ]
         }
        },
        {
         "name": "A8T0G0C2",
         "dtype": "float64",
         "stats": {
          "unique_count": 3,
          "nan_count": 0,
          "min": "-4.291534423828125e-05",
          "max": "6.808465576171875e-05",
          "histogram": [
           {
            "bin_start": -0.00004291534423828125,
            "bin_end": -0.00003181534423828125,
            "count": 3
           },
           {
            "bin_start": -0.00003181534423828125,
            "bin_end": -0.00002071534423828125,
            "count": 0
           },
           {
            "bin_start": -0.00002071534423828125,
            "bin_end": -0.000009615344238281247,
            "count": 0
           },
           {
            "bin_start": -0.000009615344238281247,
            "bin_end": 0.0000014846557617187518,
            "count": 0
           },
           {
            "bin_start": 0.0000014846557617187518,
            "bin_end": 0.00001258465576171875,
            "count": 0
           },
           {
            "bin_start": 0.00001258465576171875,
            "bin_end": 0.000023684655761718756,
            "count": 0
           },
           {
            "bin_start": 0.000023684655761718756,
            "bin_end": 0.000034784655761718755,
            "count": 0
           },
           {
            "bin_start": 0.000034784655761718755,
            "bin_end": 0.000045884655761718754,
            "count": 1
           },
           {
            "bin_start": 0.000045884655761718754,
            "bin_end": 0.00005698465576171875,
            "count": 0
           },
           {
            "bin_start": 0.00005698465576171875,
            "bin_end": 0.00006808465576171875,
            "count": 1
           }
          ]
         }
        },
        {
         "name": "A8T0G1C1",
         "dtype": "float64",
         "stats": {
          "unique_count": 3,
          "nan_count": 0,
          "min": "-8.58306884765625e-05",
          "max": "0.0001511693115234",
          "histogram": [
           {
            "bin_start": -0.0000858306884765625,
            "bin_end": -0.00006213068847656625,
            "count": 3
           },
           {
            "bin_start": -0.00006213068847656625,
            "bin_end": -0.00003843068847657,
            "count": 0
           },
           {
            "bin_start": -0.00003843068847657,
            "bin_end": -0.000014730688476573755,
            "count": 0
           },
           {
            "bin_start": -0.000014730688476573755,
            "bin_end": 0.000008969311523422498,
            "count": 0
           },
           {
            "bin_start": 0.000008969311523422498,
            "bin_end": 0.00003266931152341875,
            "count": 0
           },
           {
            "bin_start": 0.00003266931152341875,
            "bin_end": 0.00005636931152341499,
            "count": 0
           },
           {
            "bin_start": 0.00005636931152341499,
            "bin_end": 0.00008006931152341126,
            "count": 0
           },
           {
            "bin_start": 0.00008006931152341126,
            "bin_end": 0.0001037693115234075,
            "count": 1
           },
           {
            "bin_start": 0.0001037693115234075,
            "bin_end": 0.00012746931152340373,
            "count": 0
           },
           {
            "bin_start": 0.00012746931152340373,
            "bin_end": 0.0001511693115234,
            "count": 1
           }
          ]
         }
        },
        {
         "name": "A8T0G2C0",
         "dtype": "float64",
         "stats": {
          "unique_count": 3,
          "nan_count": 0,
          "min": "-4.291534423828125e-05",
          "max": "0.0001000846557617",
          "histogram": [
           {
            "bin_start": -0.00004291534423828125,
            "bin_end": -0.000028615344238283125,
            "count": 3
           },
           {
            "bin_start": -0.000028615344238283125,
            "bin_end": -0.000014315344238285,
            "count": 0
           },
           {
            "bin_start": -0.000014315344238285,
            "bin_end": -1.5344238286875075e-8,
            "count": 0
           },
           {
            "bin_start": -1.5344238286875075e-8,
            "bin_end": 0.00001428465576171125,
            "count": 0
           },
           {
            "bin_start": 0.00001428465576171125,
            "bin_end": 0.000028584655761709375,
            "count": 0
           },
           {
            "bin_start": 0.000028584655761709375,
            "bin_end": 0.0000428846557617075,
            "count": 0
           },
           {
            "bin_start": 0.0000428846557617075,
            "bin_end": 0.000057184655761705625,
            "count": 1
           },
           {
            "bin_start": 0.000057184655761705625,
            "bin_end": 0.00007148465576170375,
            "count": 0
           },
           {
            "bin_start": 0.00007148465576170375,
            "bin_end": 0.00008578465576170187,
            "count": 0
           },
           {
            "bin_start": 0.00008578465576170187,
            "bin_end": 0.0001000846557617,
            "count": 1
           }
          ]
         }
        },
        {
         "name": "A8T1G0C1",
         "dtype": "float64",
         "stats": {
          "unique_count": 4,
          "nan_count": 0,
          "min": "-8.58306884765625e-05",
          "max": "0.0009141693115234",
          "histogram": [
           {
            "bin_start": -0.0000858306884765625,
            "bin_end": 0.00001416931152343375,
            "count": 2
           },
           {
            "bin_start": 0.00001416931152343375,
            "bin_end": 0.00011416931152343,
            "count": 1
           },
           {
            "bin_start": 0.00011416931152343,
            "bin_end": 0.00021416931152342625,
            "count": 1
           },
           {
            "bin_start": 0.00021416931152342625,
            "bin_end": 0.0003141693115234225,
            "count": 0
           },
           {
            "bin_start": 0.0003141693115234225,
            "bin_end": 0.00041416931152341875,
            "count": 0
           },
           {
            "bin_start": 0.00041416931152341875,
            "bin_end": 0.000514169311523415,
            "count": 0
           },
           {
            "bin_start": 0.000514169311523415,
            "bin_end": 0.0006141693115234113,
            "count": 0
           },
           {
            "bin_start": 0.0006141693115234113,
            "bin_end": 0.0007141693115234075,
            "count": 0
           },
           {
            "bin_start": 0.0007141693115234075,
            "bin_end": 0.0008141693115234038,
            "count": 0
           },
           {
            "bin_start": 0.0008141693115234038,
            "bin_end": 0.0009141693115234,
            "count": 1
           }
          ]
         }
        },
        {
         "name": "A8T1G1C0",
         "dtype": "float64",
         "stats": {
          "unique_count": 4,
          "nan_count": 0,
          "min": "-8.58306884765625e-05",
          "max": "0.0009141693115234",
          "histogram": [
           {
            "bin_start": -0.0000858306884765625,
            "bin_end": 0.00001416931152343375,
            "count": 2
           },
           {
            "bin_start": 0.00001416931152343375,
            "bin_end": 0.00011416931152343,
            "count": 1
           },
           {
            "bin_start": 0.00011416931152343,
            "bin_end": 0.00021416931152342625,
            "count": 1
           },
           {
            "bin_start": 0.00021416931152342625,
            "bin_end": 0.0003141693115234225,
            "count": 0
           },
           {
            "bin_start": 0.0003141693115234225,
            "bin_end": 0.00041416931152341875,
            "count": 0
           },
           {
            "bin_start": 0.00041416931152341875,
            "bin_end": 0.000514169311523415,
            "count": 0
           },
           {
            "bin_start": 0.000514169311523415,
            "bin_end": 0.0006141693115234113,
            "count": 0
           },
           {
            "bin_start": 0.0006141693115234113,
            "bin_end": 0.0007141693115234075,
            "count": 0
           },
           {
            "bin_start": 0.0007141693115234075,
            "bin_end": 0.0008141693115234038,
            "count": 0
           },
           {
            "bin_start": 0.0008141693115234038,
            "bin_end": 0.0009141693115234,
            "count": 1
           }
          ]
         }
        },
        {
         "name": "A8T2G0C0",
         "dtype": "float64",
         "stats": {
          "unique_count": 3,
          "nan_count": 0,
          "min": "-4.291534423828125e-05",
          "max": "0.0001530846557617",
          "histogram": [
           {
            "bin_start": -0.00004291534423828125,
            "bin_end": -0.000023315344238283125,
            "count": 3
           },
           {
            "bin_start": -0.000023315344238283125,
            "bin_end": -0.000003715344238285,
            "count": 0
           },
           {
            "bin_start": -0.000003715344238285,
            "bin_end": 0.000015884655761713125,
            "count": 0
           },
           {
            "bin_start": 0.000015884655761713125,
            "bin_end": 0.00003548465576171125,
            "count": 0
           },
           {
            "bin_start": 0.00003548465576171125,
            "bin_end": 0.00005508465576170937,
            "count": 0
           },
           {
            "bin_start": 0.00005508465576170937,
            "bin_end": 0.0000746846557617075,
            "count": 1
           },
           {
            "bin_start": 0.0000746846557617075,
            "bin_end": 0.00009428465576170563,
            "count": 0
           },
           {
            "bin_start": 0.00009428465576170563,
            "bin_end": 0.00011388465576170375,
            "count": 0
           },
           {
            "bin_start": 0.00011388465576170375,
            "bin_end": 0.00013348465576170187,
            "count": 0
           },
           {
            "bin_start": 0.00013348465576170187,
            "bin_end": 0.0001530846557617,
            "count": 1
           }
          ]
         }
        },
        {
         "name": "A9T0G0C1",
         "dtype": "float64",
         "stats": {
          "unique_count": 3,
          "nan_count": 0,
          "min": "-9.5367431640625e-06",
          "max": "2.14632568359375e-05",
          "histogram": [
           {
            "bin_start": -0.0000095367431640625,
            "bin_end": -0.0000064367431640625,
            "count": 3
           },
           {
            "bin_start": -0.0000064367431640625,
            "bin_end": -0.0000033367431640625,
            "count": 0
           },
           {
            "bin_start": -0.0000033367431640625,
            "bin_end": -2.3674316406250095e-7,
            "count": 0
           },
           {
            "bin_start": -2.3674316406250095e-7,
            "bin_end": 0.0000028632568359375,
            "count": 0
           },
           {
            "bin_start": 0.0000028632568359375,
            "bin_end": 0.000005963256835937501,
            "count": 0
           },
           {
            "bin_start": 0.000005963256835937501,
            "bin_end": 0.000009063256835937498,
            "count": 0
           },
           {
            "bin_start": 0.000009063256835937498,
            "bin_end": 0.000012163256835937499,
            "count": 1
           },
           {
            "bin_start": 0.000012163256835937499,
            "bin_end": 0.0000152632568359375,
            "count": 0
           },
           {
            "bin_start": 0.0000152632568359375,
            "bin_end": 0.0000183632568359375,
            "count": 0
           },
           {
            "bin_start": 0.0000183632568359375,
            "bin_end": 0.0000214632568359375,
            "count": 1
           }
          ]
         }
        },
        {
         "name": "A9T0G1C0",
         "dtype": "float64",
         "stats": {
          "unique_count": 3,
          "nan_count": 0,
          "min": "-9.5367431640625e-06",
          "max": "1.54632568359375e-05",
          "histogram": [
           {
            "bin_start": -0.0000095367431640625,
            "bin_end": -0.0000070367431640625,
            "count": 3
           },
           {
            "bin_start": -0.0000070367431640625,
            "bin_end": -0.0000045367431640625,
            "count": 0
           },
           {
            "bin_start": -0.0000045367431640625,
            "bin_end": -0.000002036743164062499,
            "count": 0
           },
           {
            "bin_start": -0.000002036743164062499,
            "bin_end": 4.632568359375008e-7,
            "count": 0
           },
           {
            "bin_start": 4.632568359375008e-7,
            "bin_end": 0.0000029632568359375006,
            "count": 0
           },
           {
            "bin_start": 0.0000029632568359375006,
            "bin_end": 0.000005463256835937502,
            "count": 0
           },
           {
            "bin_start": 0.000005463256835937502,
            "bin_end": 0.000007963256835937502,
            "count": 0
           },
           {
            "bin_start": 0.000007963256835937502,
            "bin_end": 0.000010463256835937502,
            "count": 1
           },
           {
            "bin_start": 0.000010463256835937502,
            "bin_end": 0.000012963256835937501,
            "count": 0
           },
           {
            "bin_start": 0.000012963256835937501,
            "bin_end": 0.0000154632568359375,
            "count": 1
           }
          ]
         }
        },
        {
         "name": "A9T1G0C0",
         "dtype": "float64",
         "stats": {
          "unique_count": 3,
          "nan_count": 0,
          "min": "-9.5367431640625e-06",
          "max": "4.64632568359375e-05",
          "histogram": [
           {
            "bin_start": -0.0000095367431640625,
            "bin_end": -0.0000039367431640625,
            "count": 3
           },
           {
            "bin_start": -0.0000039367431640625,
            "bin_end": 0.0000016632568359374995,
            "count": 0
           },
           {
            "bin_start": 0.0000016632568359374995,
            "bin_end": 0.000007263256835937498,
            "count": 0
           },
           {
            "bin_start": 0.000007263256835937498,
            "bin_end": 0.000012863256835937499,
            "count": 0
           },
           {
            "bin_start": 0.000012863256835937499,
            "bin_end": 0.0000184632568359375,
            "count": 0
           },
           {
            "bin_start": 0.0000184632568359375,
            "bin_end": 0.000024063256835937497,
            "count": 1
           },
           {
            "bin_start": 0.000024063256835937497,
            "bin_end": 0.000029663256835937497,
            "count": 0
           },
           {
            "bin_start": 0.000029663256835937497,
            "bin_end": 0.0000352632568359375,
            "count": 0
           },
           {
            "bin_start": 0.0000352632568359375,
            "bin_end": 0.0000408632568359375,
            "count": 0
           },
           {
            "bin_start": 0.0000408632568359375,
            "bin_end": 0.0000464632568359375,
            "count": 1
           }
          ]
         }
        },
        {
         "name": "A10T0G0C0",
         "dtype": "float64",
         "stats": {
          "unique_count": 2,
          "nan_count": 0,
          "min": "-9.5367431640625e-07",
          "max": "1.04632568359375e-06",
          "histogram": [
           {
            "bin_start": -9.5367431640625e-7,
            "bin_end": -7.5367431640625e-7,
            "count": 4
           },
           {
            "bin_start": -7.5367431640625e-7,
            "bin_end": -5.5367431640625e-7,
            "count": 0
           },
           {
            "bin_start": -5.5367431640625e-7,
            "bin_end": -3.5367431640625003e-7,
            "count": 0
           },
           {
            "bin_start": -3.5367431640625003e-7,
            "bin_end": -1.5367431640625004e-7,
            "count": 0
           },
           {
            "bin_start": -1.5367431640625004e-7,
            "bin_end": 4.6325683593749955e-8,
            "count": 0
           },
           {
            "bin_start": 4.6325683593749955e-8,
            "bin_end": 2.4632568359374995e-7,
            "count": 0
           },
           {
            "bin_start": 2.4632568359374995e-7,
            "bin_end": 4.4632568359374994e-7,
            "count": 0
           },
           {
            "bin_start": 4.4632568359374994e-7,
            "bin_end": 6.463256835937499e-7,
            "count": 0
           },
           {
            "bin_start": 6.463256835937499e-7,
            "bin_end": 8.463256835937499e-7,
            "count": 0
           },
           {
            "bin_start": 8.463256835937499e-7,
            "bin_end": 0.00000104632568359375,
            "count": 1
           }
          ]
         }
        },
        {
         "name": "target",
         "dtype": "object",
         "stats": {
          "unique_count": 3,
          "nan_count": 0,
          "categories": [
           {
            "name": "Salmonella_enterica",
            "count": 3
           },
           {
            "name": "Streptococcus_pyogenes",
            "count": 1
           },
           {
            "name": "Enterococcus_hirae",
            "count": 1
           }
          ]
         }
        },
        {
         "name": "_deepnote_index_column",
         "dtype": "int64"
        }
       ],
       "rows": [
        {
         "row_id": 0,
         "A0T0G0C10": -9.5367431640625e-7,
         "A0T0G1C9": -0.0000095367431640625,
         "A0T0G2C8": -0.00004291534423828125,
         "A0T0G3C7": -0.0001144409179687,
         "A0T0G4C6": -0.0002002716064453,
         "A0T0G5C5": -0.0002403259277343,
         "A0T0G6C4": -0.0002002716064453,
         "A0T0G7C3": -0.0001144409179687,
         "A0T0G8C2": -0.00004291534423828125,
         "A0T0G9C1": -0.0000095367431640625,
         "A0T0G10C0": -9.5367431640625e-7,
         "A0T1G0C9": -0.0000095367431640625,
         "A0T1G1C8": -0.0000858306884765625,
         "A0T1G2C7": -0.0003433227539062,
         "A0T1G3C6": -0.0008010864257812,
         "A0T1G4C5": -0.0012016296386718,
         "A0T1G5C4": -0.0012016296386718,
         "A0T1G6C3": -0.0008010864257812,
         "A0T1G7C2": -0.0003433227539062,
         "A0T1G8C1": -0.0000858306884765625,
         "A0T1G9C0": -0.0000095367431640625,
         "A0T2G0C8": -0.00004291534423828125,
         "A0T2G1C7": -0.0003433227539062,
         "A0T2G2C6": -0.0012016296386718,
         "A0T2G3C5": -0.0024032592773437,
         "A0T2G4C4": -0.0030040740966796,
         "A0T2G5C3": -0.0024032592773437,
         "A0T2G6C2": -0.0012016296386718,
         "A0T2G7C1": -0.0003433227539062,
         "A0T2G8C0": -0.00004291534423828125,
         "A0T3G0C7": -0.0001144409179687,
         "A0T3G1C6": -0.0008010864257812,
         "A0T3G2C5": -0.0024032592773437,
         "A0T3G3C4": -0.0040054321289062,
         "A0T3G4C3": -0.0040054321289062,
         "A0T3G5C2": -0.0024032592773437,
         "A0T3G6C1": -0.0008010864257812,
         "A0T3G7C0": -0.0001144409179687,
         "A0T4G0C6": -0.0002002716064453,
         "A0T4G1C5": -0.0012016296386718,
         "A0T4G2C4": -0.0030040740966796,
         "A0T4G3C3": -0.0040054321289062,
         "A0T4G4C2": -0.0030040740966796,
         "A0T4G5C1": -0.0012016296386718,
         "A0T4G6C0": -0.0002002716064453,
         "A0T5G0C5": -0.0002403259277343,
         "A0T5G1C4": -0.0012016296386718,
         "A0T5G2C3": -0.0024032592773437,
         "A0T5G3C2": -0.0024032592773437,
         "A0T5G4C1": -0.0012016296386718,
         "A0T5G5C0": -0.0002403259277343,
         "A0T6G0C4": -0.0002002716064453,
         "A0T6G1C3": -0.0008010864257812,
         "A0T6G2C2": -0.0012016296386718,
         "A0T6G3C1": -0.0008010864257812,
         "A0T6G4C0": -0.0002002716064453,
         "A0T7G0C3": -0.0001144409179687,
         "A0T7G1C2": -0.0003433227539062,
         "A0T7G2C1": -0.0003433227539062,
         "A0T7G3C0": -0.0001144409179687,
         "A0T8G0C2": -0.00004291534423828125,
         "A0T8G1C1": -0.0000858306884765625,
         "A0T8G2C0": -0.00004291534423828125,
         "A0T9G0C1": -0.0000095367431640625,
         "A0T9G1C0": -0.0000095367431640625,
         "A0T10G0C0": -9.5367431640625e-7,
         "A1T0G0C9": -0.0000095367431640625,
         "A1T0G1C8": -0.0000858306884765625,
         "A1T0G2C7": -0.0003433227539062,
         "A1T0G3C6": -0.0008010864257812,
         "A1T0G4C5": -0.0012016296386718,
         "A1T0G5C4": -0.0012016296386718,
         "A1T0G6C3": -0.0008010864257812,
         "A1T0G7C2": -0.0003433227539062,
         "A1T0G8C1": -0.0000858306884765625,
         "A1T0G9C0": -0.0000095367431640625,
         "A1T1G0C8": -0.0000858306884765625,
         "A1T1G1C7": -0.0006866455078125,
         "A1T1G2C6": -0.0024032592773437,
         "A1T1G3C5": -0.0048065185546875,
         "A1T1G4C4": -0.0060081481933593,
         "A1T1G5C3": -0.0048065185546875,
         "A1T1G6C2": -0.0024032592773437,
         "A1T1G7C1": -0.0006866455078125,
         "A1T1G8C0": "-8.58306884765625e-05",
         "A1T2G0C7": -0.0003433227539062,
         "A1T2G1C6": -0.0024032592773437,
         "A1T2G2C5": -0.0072097778320312,
         "A1T2G3C4": -0.0020162963867187,
         "A1T2G4C3": -0.0120162963867187,
         "A1T2G5C2": -0.0072097778320312,
         "A1T2G6C1": 0.0175967407226562,
         "A1T2G7C0": 0.0096566772460937,
         "A1T3G0C6": -0.0008010864257812,
         "A1T3G1C5": -0.0048065185546875,
         "A1T3G2C4": 0.0079837036132812,
         "A1T3G3C3": -0.006021728515625,
         "A1T3G4C2": 0.0079837036132812,
         "A1T3G5C1": -0.0048065185546875,
         "A1T3G6C0": -0.0008010864257812,
         "A1T4G0C5": -0.0012016296386718,
         "A1T4G1C4": 0.0039918518066406,
         "A1T4G2C3": -0.0120162963867187,
         "A1T4G3C2": -0.0120162963867187,
         "A1T4G4C1": 0.0039918518066406,
         "A1T4G5C0": 0.0087983703613281,
         "A1T5G0C4": -0.0012016296386718,
         "A1T5G1C3": -0.0048065185546875,
         "A1T5G2C2": 0.0027902221679687,
         "A1T5G3C1": -0.0048065185546875,
         "A1T5G4C0": -0.0012016296386718,
         "A1T6G0C3": -0.0008010864257812,
         "A1T6G1C2": 0.0075967407226562,
         "A1T6G2C1": 0.0075967407226562,
         "A1T6G3C0": -0.0008010864257812,
         "A1T7G0C2": -0.0003433227539062,
         "A1T7G1C1": -0.0006866455078125,
         "A1T7G2C0": -0.0003433227539062,
         "A1T8G0C1": -0.0000858306884765625,
         "A1T8G1C0": -0.0000858306884765625,
         "A1T9G0C0": -0.0000095367431640625,
         "A2T0G0C8": -0.00004291534423828125,
         "A2T0G1C7": -0.0003433227539062,
         "A2T0G2C6": -0.0012016296386718,
         "A2T0G3C5": -0.0024032592773437,
         "A2T0G4C4": -0.0030040740966796,
         "A2T0G5C3": -0.0024032592773437,
         "A2T0G6C2": -0.0012016296386718,
         "A2T0G7C1": -0.0003433227539062,
         "A2T0G8C0": -0.00004291534423828125,
         "A2T1G0C7": -0.0003433227539062,
         "A2T1G1C6": -0.0024032592773437,
         "A2T1G2C5": -0.0072097778320312,
         "A2T1G3C4": -0.0120162963867187,
         "A2T1G4C3": -0.0020162963867187,
         "A2T1G5C2": -0.0072097778320312,
         "A2T1G6C1": -0.0024032592773437,
         "A2T1G7C0": -0.0003433227539062,
         "A2T2G0C6": 0.0087983703613281,
         "A2T2G1C5": -0.0072097778320312,
         "A2T2G2C4": 0.0119755554199218,
         "A2T2G3C3": -0.0140325927734375,
         "A2T2G4C2": 0.0219755554199218,
         "A2T2G5C1": 0.0127902221679687,
         "A2T2G6C0": -0.0012016296386718,
         "A2T3G0C5": -0.0024032592773437,
         "A2T3G1C4": -0.0120162963867187,
         "A2T3G2C3": -0.0140325927734375,
         "A2T3G3C2": -0.0040325927734375,
         "A2T3G4C1": -0.0020162963867187,
         "A2T3G5C0": -0.0024032592773437,
         "A2T4G0C4": -0.0030040740966796,
         "A2T4G1C3": 0.0079837036132812,
         "A2T4G2C2": 0.0019755554199218,
         "A2T4G3C1": 0.0179837036132812,
         "A2T4G4C0": 0.0069959259033203,
         "A2T5G0C3": -0.0024032592773437,
         "A2T5G1C2": 0.0127902221679687,
         "A2T5G2C1": -0.0072097778320312,
         "A2T5G3C0": -0.0024032592773437,
         "A2T6G0C2": -0.0012016296386718,
         "A2T6G1C1": 0.0075967407226562,
         "A2T6G2C0": 0.0087983703613281,
         "A2T7G0C1": -0.0003433227539062,
         "A2T7G1C0": -0.0003433227539062,
         "A2T8G0C0": -0.00004291534423828125,
         "A3T0G0C7": -0.0001144409179687,
         "A3T0G1C6": -0.0008010864257812,
         "A3T0G2C5": 0.0075967407226562,
         "A3T0G3C4": 0.0159945678710937,
         "A3T0G4C3": 0.0059945678710937,
         "A3T0G5C2": 0.0075967407226562,
         "A3T0G6C1": -0.0008010864257812,
         "A3T0G7C0": -0.0001144409179687,
         "A3T1G0C6": -0.0008010864257812,
         "A3T1G1C5": 0.0051934814453125,
         "A3T1G2C4": -0.0120162963867187,
         "A3T1G3C3": 0.023978271484375,
         "A3T1G4C2": -0.0120162963867187,
         "A3T1G5C1": 0.0051934814453125,
         "A3T1G6C0": -0.0008010864257812,
         "A3T2G0C5": -0.0024032592773437,
         "A3T2G1C4": -0.0020162963867187,
         "A3T2G2C3": -0.0040325927734375,
         "A3T2G3C2": -0.0140325927734375,
         "A3T2G4C1": -0.0020162963867187,
         "A3T2G5C0": 0.0075967407226562,
         "A3T3G0C4": -0.0040054321289062,
         "A3T3G1C3": 0.003978271484375,
         "A3T3G2C2": 0.0059674072265624,
         "A3T3G3C1": -0.006021728515625,
         "A3T3G4C0": -0.0040054321289062,
         "A3T4G0C3": -0.0040054321289062,
         "A3T4G1C2": -0.0020162963867187,
         "A3T4G2C1": 0.0079837036132812,
         "A3T4G3C0": 0.0159945678710937,
         "A3T5G0C2": -0.0024032592773437,
         "A3T5G1C1": -0.0048065185546875,
         "A3T5G2C0": -0.0024032592773437,
         "A3T6G0C1": -0.0008010864257812,
         "A3T6G1C0": -0.0008010864257812,
         "A3T7G0C0": -0.0001144409179687,
         "A4T0G0C6": -0.0002002716064453,
         "A4T0G1C5": 0.0087983703613281,
         "A4T0G2C4": 0.0069959259033203,
         "A4T0G3C3": 0.0059945678710937,
         "A4T0G4C2": -0.0030040740966796,
         "A4T0G5C1": -0.0012016296386718,
         "A4T0G6C0": -0.0002002716064453,
         "A4T1G0C5": -0.0012016296386718,
         "A4T1G1C4": -0.0060081481933593,
         "A4T1G2C3": -0.0020162963867187,
         "A4T1G3C2": 0.0079837036132812,
         "A4T1G4C1": 0.0139918518066406,
         "A4T1G5C0": -0.0012016296386718,
         "A4T2G0C4": -0.0030040740966796,
         "A4T2G1C3": -0.0120162963867187,
         "A4T2G2C2": 0.0019755554199218,
         "A4T2G3C1": 0.0079837036132812,
         "A4T2G4C0": -0.0030040740966796,
         "A4T3G0C3": -0.0040054321289062,
         "A4T3G1C2": -0.0020162963867187,
         "A4T3G2C1": 0.0179837036132812,
         "A4T3G3C0": -0.0040054321289062,
         "A4T4G0C2": -0.0030040740966796,
         "A4T4G1C1": 0.0239918518066406,
         "A4T4G2C0": -0.0030040740966796,
         "A4T5G0C1": -0.0012016296386718,
         "A4T5G1C0": -0.0012016296386718,
         "A4T6G0C0": -0.0002002716064453,
         "A5T0G0C5": -0.0002403259277343,
         "A5T0G1C4": -0.0012016296386718,
         "A5T0G2C3": 0.0175967407226562,
         "A5T0G3C2": -0.0024032592773437,
         "A5T0G4C1": -0.0012016296386718,
         "A5T0G5C0": -0.0002403259277343,
         "A5T1G0C4": -0.0012016296386718,
         "A5T1G1C3": -0.0048065185546875,
         "A5T1G2C2": -0.0072097778320312,
         "A5T1G3C1": 0.0051934814453125,
         "A5T1G4C0": -0.0012016296386718,
         "A5T2G0C3": -0.0024032592773437,
         "A5T2G1C2": -0.0072097778320312,
         "A5T2G2C1": 0.0027902221679687,
         "A5T2G3C0": 0.0075967407226562,
         "A5T3G0C2": 0.0075967407226562,
         "A5T3G1C1": 0.0151934814453125,
         "A5T3G2C0": -0.0024032592773437,
         "A5T4G0C1": 0.0087983703613281,
         "A5T4G1C0": -0.0012016296386718,
         "A5T5G0C0": 0.0097596740722656,
         "A6T0G0C4": -0.0002002716064453,
         "A6T0G1C3": -0.0008010864257812,
         "A6T0G2C2": -0.0012016296386718,
         "A6T0G3C1": -0.0008010864257812,
         "A6T0G4C0": -0.0002002716064453,
         "A6T1G0C3": -0.0008010864257812,
         "A6T1G1C2": -0.0024032592773437,
         "A6T1G2C1": -0.0024032592773437,
         "A6T1G3C0": -0.0008010864257812,
         "A6T2G0C2": -0.0012016296386718,
         "A6T2G1C1": -0.0024032592773437,
         "A6T2G2C0": -0.0012016296386718,
         "A6T3G0C1": -0.0008010864257812,
         "A6T3G1C0": -0.0008010864257812,
         "A6T4G0C0": -0.0002002716064453,
         "A7T0G0C3": -0.0001144409179687,
         "A7T0G1C2": -0.0003433227539062,
         "A7T0G2C1": -0.0003433227539062,
         "A7T0G3C0": -0.0001144409179687,
         "A7T1G0C2": -0.0003433227539062,
         "A7T1G1C1": -0.0006866455078125,
         "A7T1G2C0": -0.0003433227539062,
         "A7T2G0C1": -0.0003433227539062,
         "A7T2G1C0": -0.0003433227539062,
         "A7T3G0C0": -0.0001144409179687,
         "A8T0G0C2": -0.00004291534423828125,
         "A8T0G1C1": -0.0000858306884765625,
         "A8T0G2C0": -0.00004291534423828125,
         "A8T1G0C1": -0.0000858306884765625,
         "A8T1G1C0": -0.0000858306884765625,
         "A8T2G0C0": -0.00004291534423828125,
         "A9T0G0C1": -0.0000095367431640625,
         "A9T0G1C0": -0.0000095367431640625,
         "A9T1G0C0": -0.0000095367431640625,
         "A10T0G0C0": -9.5367431640625e-7,
         "target": "Streptococcus_pyogenes",
         "_deepnote_index_column": 0
        },
        {
         "row_id": 1,
         "A0T0G0C10": -9.5367431640625e-7,
         "A0T0G1C9": -0.0000095367431640625,
         "A0T0G2C8": -0.00004291534423828125,
         "A0T0G3C7": 0.0008855590820312,
         "A0T0G4C6": -0.0002002716064453,
         "A0T0G5C5": 0.0007596740722656,
         "A0T0G6C4": -0.0002002716064453,
         "A0T0G7C3": -0.0001144409179687,
         "A0T0G8C2": -0.00004291534423828125,
         "A0T0G9C1": -0.0000095367431640625,
         "A0T0G10C0": -9.5367431640625e-7,
         "A0T1G0C9": -0.0000095367431640625,
         "A0T1G1C8": -0.0000858306884765625,
         "A0T1G2C7": -0.0003433227539062,
         "A0T1G3C6": 0.0001989135742187,
         "A0T1G4C5": -0.0002016296386718,
         "A0T1G5C4": 0.0017983703613281,
         "A0T1G6C3": -0.0008010864257812,
         "A0T1G7C2": -0.0003433227539062,
         "A0T1G8C1": -0.0000858306884765625,
         "A0T1G9C0": -0.0000095367431640625,
         "A0T2G0C8": -0.00004291534423828125,
         "A0T2G1C7": -0.0003433227539062,
         "A0T2G2C6": 0.0017983703613281,
         "A0T2G3C5": -0.0004032592773437,
         "A0T2G4C4": 0.0019959259033203,
         "A0T2G5C3": 0.0035967407226562,
         "A0T2G6C2": -0.0012016296386718,
         "A0T2G7C1": -0.0003433227539062,
         "A0T2G8C0": -0.00004291534423828125,
         "A0T3G0C7": -0.0001144409179687,
         "A0T3G1C6": -0.0008010864257812,
         "A0T3G2C5": -0.0004032592773437,
         "A0T3G3C4": 0.0029945678710937,
         "A0T3G4C3": 0.0029945678710937,
         "A0T3G5C2": 0.0005967407226562,
         "A0T3G6C1": 0.0011989135742187,
         "A0T3G7C0": -0.0001144409179687,
         "A0T4G0C6": -0.0002002716064453,
         "A0T4G1C5": -0.0012016296386718,
         "A0T4G2C4": -0.0020040740966796,
         "A0T4G3C3": -0.000005432128906249917,
         "A0T4G4C2": -0.0000040740966796874375,
         "A0T4G5C1": 0.0007983703613281,
         "A0T4G6C0": -0.0002002716064453,
         "A0T5G0C5": -0.0002403259277343,
         "A0T5G1C4": 0.0027983703613281,
         "A0T5G2C3": 0.0015967407226562,
         "A0T5G3C2": 0.0005967407226562,
         "A0T5G4C1": -0.0002016296386718,
         "A0T5G5C0": -0.0002403259277343,
         "A0T6G0C4": -0.0002002716064453,
         "A0T6G1C3": 0.0011989135742187,
         "A0T6G2C2": -0.0002016296386718,
         "A0T6G3C1": 0.0001989135742187,
         "A0T6G4C0": -0.0002002716064453,
         "A0T7G0C3": -0.0001144409179687,
         "A0T7G1C2": -0.0003433227539062,
         "A0T7G2C1": -0.0003433227539062,
         "A0T7G3C0": -0.0001144409179687,
         "A0T8G0C2": -0.00004291534423828125,
         "A0T8G1C1": -0.0000858306884765625,
         "A0T8G2C0": -0.00004291534423828125,
         "A0T9G0C1": -0.0000095367431640625,
         "A0T9G1C0": -0.0000095367431640625,
         "A0T10G0C0": -9.5367431640625e-7,
         "A1T0G0C9": -0.0000095367431640625,
         "A1T0G1C8": 0.0009141693115234,
         "A1T0G2C7": -0.0003433227539062,
         "A1T0G3C6": 0.0001989135742187,
         "A1T0G4C5": -0.0012016296386718,
         "A1T0G5C4": 0.0007983703613281,
         "A1T0G6C3": 0.0011989135742187,
         "A1T0G7C2": 0.0006566772460937,
         "A1T0G8C1": -0.0000858306884765625,
         "A1T0G9C0": -0.0000095367431640625,
         "A1T1G0C8": -0.0000858306884765625,
         "A1T1G1C7": -0.0006866455078125,
         "A1T1G2C6": 0.0005967407226562,
         "A1T1G3C5": 0.0021934814453125,
         "A1T1G4C4": -0.0030081481933593,
         "A1T1G5C3": 0.0031934814453125,
         "A1T1G6C2": 0.0025967407226562,
         "A1T1G7C1": -0.0006866455078125,
         "A1T1G8C0": "-8.58306884765625e-05",
         "A1T2G0C7": -0.0003433227539062,
         "A1T2G1C6": 0.0005967407226562,
         "A1T2G2C5": 0.0007902221679687,
         "A1T2G3C4": -0.0020162963867187,
         "A1T2G4C3": 0.0019837036132812,
         "A1T2G5C2": -0.0002097778320312,
         "A1T2G6C1": 0.0025967407226562,
         "A1T2G7C0": -0.0003433227539062,
         "A1T3G0C6": 0.0001989135742187,
         "A1T3G1C5": 0.0011934814453125,
         "A1T3G2C4": -0.0010162963867187,
         "A1T3G3C3": 0.000978271484375,
         "A1T3G4C2": -0.0030162963867187,
         "A1T3G5C1": -0.0008065185546874,
         "A1T3G6C0": 0.0001989135742187,
         "A1T4G0C5": -0.0012016296386718,
         "A1T4G1C4": 0.0019918518066406,
         "A1T4G2C3": -0.0030162963867187,
         "A1T4G3C2": 0.0009837036132812,
         "A1T4G4C1": 0.0019918518066406,
         "A1T4G5C0": -0.0012016296386718,
         "A1T5G0C4": -0.0002016296386718,
         "A1T5G1C3": 0.0001934814453125,
         "A1T5G2C2": -0.0022097778320312,
         "A1T5G3C1": -0.0018065185546875,
         "A1T5G4C0": -0.0012016296386718,
         "A1T6G0C3": -0.0008010864257812,
         "A1T6G1C2": -0.0014032592773437,
         "A1T6G2C1": 0.0015967407226562,
         "A1T6G3C0": -0.0008010864257812,
         "A1T7G0C2": -0.0003433227539062,
         "A1T7G1C1": 0.0013133544921875,
         "A1T7G2C0": 0.0006566772460937,
         "A1T8G0C1": -0.0000858306884765625,
         "A1T8G1C0": -0.0000858306884765625,
         "A1T9G0C0": -0.0000095367431640625,
         "A2T0G0C8": -0.00004291534423828125,
         "A2T0G1C7": 0.0006566772460937,
         "A2T0G2C6": -0.0012016296386718,
         "A2T0G3C5": 0.0015967407226562,
         "A2T0G4C4": -0.0020040740966796,
         "A2T0G5C3": -0.0004032592773437,
         "A2T0G6C2": 0.0017983703613281,
         "A2T0G7C1": -0.0003433227539062,
         "A2T0G8C0": -0.00004291534423828125,
         "A2T1G0C7": -0.0003433227539062,
         "A2T1G1C6": 0.0005967407226562,
         "A2T1G2C5": -0.0002097778320312,
         "A2T1G3C4": -0.0020162963867187,
         "A2T1G4C3": -0.00001629638671874975,
         "A2T1G5C2": -0.0012097778320312,
         "A2T1G6C1": -0.0004032592773437,
         "A2T1G7C0": -0.0003433227539062,
         "A2T2G0C6": 0.0007983703613281,
         "A2T2G1C5": -0.0012097778320312,
         "A2T2G2C4": 0.0079755554199218,
         "A2T2G3C3": -0.0010325927734375,
         "A2T2G4C2": 0.0019755554199218,
         "A2T2G5C1": -0.0022097778320312,
         "A2T2G6C0": -0.0012016296386718,
         "A2T3G0C5": 0.0005967407226562,
         "A2T3G1C4": -0.0050162963867187,
         "A2T3G2C3": -0.0010325927734375,
         "A2T3G3C2": -0.0020325927734375,
         "A2T3G4C1": -0.0010162963867187,
         "A2T3G5C0": -0.0024032592773437,
         "A2T4G0C4": -0.0010040740966796,
         "A2T4G1C3": -0.0050162963867187,
         "A2T4G2C2": 0.0029755554199218,
         "A2T4G3C1": 0.0089837036132812,
         "A2T4G4C0": 0.0009959259033203,
         "A2T5G0C3": -0.0024032592773437,
         "A2T5G1C2": -0.0012097778320312,
         "A2T5G2C1": -0.0002097778320312,
         "A2T5G3C0": 0.0005967407226562,
         "A2T6G0C2": -0.0002016296386718,
         "A2T6G1C1": -0.0014032592773437,
         "A2T6G2C0": 0.0017983703613281,
         "A2T7G0C1": -0.0003433227539062,
         "A2T7G1C0": 0.0006566772460937,
         "A2T8G0C0": -0.00004291534423828125,
         "A3T0G0C7": -0.0001144409179687,
         "A3T0G1C6": -0.0008010864257812,
         "A3T0G2C5": 0.0005967407226562,
         "A3T0G3C4": 0.0019945678710937,
         "A3T0G4C3": 0.0019945678710937,
         "A3T0G5C2": 0.0015967407226562,
         "A3T0G6C1": -0.0008010864257812,
         "A3T0G7C0": -0.0001144409179687,
         "A3T1G0C6": -0.0008010864257812,
         "A3T1G1C5": -0.0008065185546874,
         "A3T1G2C4": -0.0040162963867187,
         "A3T1G3C3": 0.003978271484375,
         "A3T1G4C2": -0.0030162963867187,
         "A3T1G5C1": 0.0001934814453125,
         "A3T1G6C0": -0.0008010864257812,
         "A3T2G0C5": -0.0004032592773437,
         "A3T2G1C4": -0.0040162963867187,
         "A3T2G2C3": -0.0040325927734375,
         "A3T2G3C2": -0.0000325927734374995,
         "A3T2G4C1": -0.0040162963867187,
         "A3T2G5C0": -0.0004032592773437,
         "A3T3G0C4": 0.0019945678710937,
         "A3T3G1C3": -0.0020217285156249,
         "A3T3G2C2": 0.0009674072265625,
         "A3T3G3C1": -0.003021728515625,
         "A3T3G4C0": -0.000005432128906249917,
         "A3T4G0C3": -0.0030054321289062,
         "A3T4G1C2": -0.0050162963867187,
         "A3T4G2C1": -0.0030162963867187,
         "A3T4G3C0": 0.0059945678710937,
         "A3T5G0C2": 0.0005967407226562,
         "A3T5G1C1": 0.0001934814453125,
         "A3T5G2C0": 0.0015967407226562,
         "A3T6G0C1": -0.0008010864257812,
         "A3T6G1C0": -0.0008010864257812,
         "A3T7G0C0": 0.0008855590820312,
         "A4T0G0C6": -0.0002002716064453,
         "A4T0G1C5": 0.0017983703613281,
         "A4T0G2C4": 0.0009959259033203,
         "A4T0G3C3": -0.0010054321289062,
         "A4T0G4C2": -0.0030040740966796,
         "A4T0G5C1": -0.0012016296386718,
         "A4T0G6C0": 0.0007997283935546,
         "A4T1G0C5": -0.0002016296386718,
         "A4T1G1C4": -0.0030081481933593,
         "A4T1G2C3": -0.00001629638671874975,
         "A4T1G3C2": -0.00001629638671874975,
         "A4T1G4C1": 0.0059918518066406,
         "A4T1G5C0": -0.0002016296386718,
         "A4T2G0C4": -0.0020040740966796,
         "A4T2G1C3": -0.0020162963867187,
         "A4T2G2C2": 0.0009755554199218,
         "A4T2G3C1": 0.0029837036132812,
         "A4T2G4C0": -0.0020040740966796,
         "A4T3G0C3": -0.000005432128906249917,
         "A4T3G1C2": -0.0040162963867187,
         "A4T3G2C1": 0.0019837036132812,
         "A4T3G3C0": -0.0030054321289062,
         "A4T4G0C2": -0.0000040740966796874375,
         "A4T4G1C1": 0.0009918518066406,
         "A4T4G2C0": -0.0030040740966796,
         "A4T5G0C1": -0.0002016296386718,
         "A4T5G1C0": -0.0012016296386718,
         "A4T6G0C0": -0.0002002716064453,
         "A5T0G0C5": -0.0002403259277343,
         "A5T0G1C4": -0.0002016296386718,
         "A5T0G2C3": 0.0015967407226562,
         "A5T0G3C2": -0.0004032592773437,
         "A5T0G4C1": 0.0037983703613281,
         "A5T0G5C0": -0.0002403259277343,
         "A5T1G0C4": -0.0012016296386718,
         "A5T1G1C3": 0.0011934814453125,
         "A5T1G2C2": -0.0042097778320312,
         "A5T1G3C1": -0.0008065185546874,
         "A5T1G4C0": -0.0002016296386718,
         "A5T2G0C3": 0.0005967407226562,
         "A5T2G1C2": 0.0037902221679687,
         "A5T2G2C1": -0.0002097778320312,
         "A5T2G3C0": 0.0005967407226562,
         "A5T3G0C2": 0.0005967407226562,
         "A5T3G1C1": -0.0028065185546875,
         "A5T3G2C0": 0.0005967407226562,
         "A5T4G0C1": 0.0027983703613281,
         "A5T4G1C0": 0.0017983703613281,
         "A5T5G0C0": 0.0007596740722656,
         "A6T0G0C4": -0.0002002716064453,
         "A6T0G1C3": -0.0008010864257812,
         "A6T0G2C2": -0.0002016296386718,
         "A6T0G3C1": -0.0008010864257812,
         "A6T0G4C0": 0.0007997283935546,
         "A6T1G0C3": 0.0001989135742187,
         "A6T1G1C2": 0.0035967407226562,
         "A6T1G2C1": 0.0015967407226562,
         "A6T1G3C0": -0.0008010864257812,
         "A6T2G0C2": -0.0002016296386718,
         "A6T2G1C1": -0.0014032592773437,
         "A6T2G2C0": 0.0007983703613281,
         "A6T3G0C1": 0.0011989135742187,
         "A6T3G1C0": 0.0011989135742187,
         "A6T4G0C0": 0.0007997283935546,
         "A7T0G0C3": -0.0001144409179687,
         "A7T0G1C2": -0.0003433227539062,
         "A7T0G2C1": -0.0003433227539062,
         "A7T0G3C0": -0.0001144409179687,
         "A7T1G0C2": -0.0003433227539062,
         "A7T1G1C1": 0.0013133544921875,
         "A7T1G2C0": 0.0006566772460937,
         "A7T2G0C1": 0.0016566772460937,
         "A7T2G1C0": 0.0016566772460937,
         "A7T3G0C0": 0.0008855590820312,
         "A8T0G0C2": -0.00004291534423828125,
         "A8T0G1C1": -0.0000858306884765625,
         "A8T0G2C0": -0.00004291534423828125,
         "A8T1G0C1": 0.0009141693115234,
         "A8T1G1C0": 0.0009141693115234,
         "A8T2G0C0": -0.00004291534423828125,
         "A9T0G0C1": -0.0000095367431640625,
         "A9T0G1C0": -0.0000095367431640625,
         "A9T1G0C0": -0.0000095367431640625,
         "A10T0G0C0": -9.5367431640625e-7,
         "target": "Salmonella_enterica",
         "_deepnote_index_column": 1
        },
        {
         "row_id": 2,
         "A0T0G0C10": -9.5367431640625e-7,
         "A0T0G1C9": -0.0000015367431640625004,
         "A0T0G2C8": 0.000007084655761718752,
         "A0T0G3C7": 0.0001285590820312,
         "A0T0G4C6": 0.0002677283935546,
         "A0T0G5C5": 0.0002696740722656,
         "A0T0G6C4": 0.0002427283935546,
         "A0T0G7C3": 0.0001245590820312,
         "A0T0G8C2": 0.0000010846557617187489,
         "A0T0G9C1": -0.0000065367431640625,
         "A0T0G10C0": 4.632568359374996e-8,
         "A0T1G0C9": -0.0000035367431640625,
         "A0T1G1C8": 1.693115234375033e-7,
         "A0T1G2C7": 0.00000767724609375002,
         "A0T1G3C6": 0.0003659135742187,
         "A0T1G4C5": 0.0007663703613281,
         "A0T1G5C4": 0.0009373703613281,
         "A0T1G6C3": 0.0006319135742187,
         "A0T1G7C2": 0.0001006772460937,
         "A0T1G8C1": -0.000020830688476562502,
         "A0T1G9C0": -0.000007536743164062499,
         "A0T2G0C8": 8.465576171875165e-8,
         "A0T2G1C7": -0.00008032275390625,
         "A0T2G2C6": 0.0001143703613281,
         "A0T2G3C5": 0.0007097407226562,
         "A0T2G4C4": 0.0013069259033203,
         "A0T2G5C3": 0.0010647407226562,
         "A0T2G6C2": 0.0003753703613281,
         "A0T2G7C1": -0.00001732275390624999,
         "A0T2G8C0": -0.00001691534423828125,
         "A0T3G0C7": -0.000014440917968749995,
         "A0T3G1C6": -0.00009408642578125004,
         "A0T3G2C5": 0.0001827407226562,
         "A0T3G3C4": 0.0008165678710937,
         "A0T3G4C3": 0.0009675678710937,
         "A0T3G5C2": 0.0004687407226562,
         "A0T3G6C1": -0.000007086425781249999,
         "A0T3G7C0": -0.00001744091796875,
         "A0T4G0C6": -0.00003127160644531251,
         "A0T4G1C5": -0.000048629638671875055,
         "A0T4G2C4": 0.0002449259033203,
         "A0T4G3C3": 0.0004365678710937,
         "A0T4G4C2": 0.0002579259033203,
         "A0T4G5C1": -0.00000462963867187507,
         "A0T4G6C0": -0.00002227160644531251,
         "A0T5G0C5": -0.000025325927734375005,
         "A0T5G1C4": 0.0000833703613281249,
         "A0T5G2C3": 0.0003297407226562,
         "A0T5G3C2": 0.0001527407226562,
         "A0T5G4C1": 0.00006337036132812507,
         "A0T5G5C0": -0.000028325927734375,
         "A0T6G0C4": 0.000030728393554687504,
         "A0T6G1C3": 0.0001569135742187,
         "A0T6G2C2": 0.0002273703613281,
         "A0T6G3C1": 0.0001399135742187,
         "A0T6G4C0": 0.000001728393554687504,
         "A0T7G0C3": 0.00005955908203125,
         "A0T7G1C2": 0.0001906772460937,
         "A0T7G2C1": 0.0001326772460937,
         "A0T7G3C0": 0.000025559082031249988,
         "A0T8G0C2": 0.00002508465576171875,
         "A0T8G1C1": 0.0001001693115234,
         "A0T8G2C0": 0.000016084655761718748,
         "A0T9G0C1": 0.0000044632568359375,
         "A0T9G1C0": 0.0000094632568359375,
         "A0T10G0C0": -9.5367431640625e-7,
         "A1T0G0C9": -5.367431640624998e-7,
         "A1T0G1C8": -0.0000128306884765625,
         "A1T0G2C7": 0.0001186772460937,
         "A1T0G3C6": 0.0006039135742187,
         "A1T0G4C5": 0.0009563703613281,
         "A1T0G5C4": 0.0008923703613281,
         "A1T0G6C3": 0.0003919135742187,
         "A1T0G7C2": 0.00002767724609375002,
         "A1T0G8C1": -0.0000178306884765625,
         "A1T0G9C0": -0.0000045367431640625,
         "A1T1G0C8": -0.000009830688476562496,
         "A1T1G1C7": -0.00009464550781250004,
         "A1T1G2C6": 0.0002787407226562,
         "A1T1G3C5": 0.0016504814453125,
         "A1T1G4C4": 0.0023268518066406,
         "A1T1G5C3": 0.0015734814453125,
         "A1T1G6C2": 0.0003777407226562,
         "A1T1G7C1": -0.00007264550781250004,
         "A1T1G8C0": "-2.58306884765625e-05",
         "A1T2G0C7": -0.0001053227539062,
         "A1T2G1C6": -0.0004682592773437,
         "A1T2G2C5": 0.0005882221679687,
         "A1T2G3C4": 0.0016717036132812,
         "A1T2G4C3": 0.0020727036132812,
         "A1T2G5C2": 0.0006522221679687,
         "A1T2G6C1": -0.0001972592773437,
         "A1T2G7C0": -0.00008932275390625,
         "A1T3G0C6": -0.0001760864257812,
         "A1T3G1C5": -0.0004715185546874,
         "A1T3G2C4": 0.0003107036132812,
         "A1T3G3C3": 0.000440271484375,
         "A1T3G4C2": 0.0004347036132812,
         "A1T3G5C1": -0.0003815185546874,
         "A1T3G6C0": -0.0001550864257812,
         "A1T4G0C5": -0.0001326296386718,
         "A1T4G1C4": -0.0004231481933593,
         "A1T4G2C3": 0.00007170361328124979,
         "A1T4G3C2": -0.00008229638671874984,
         "A1T4G4C1": -0.0004931481933593,
         "A1T4G5C0": -0.0002106296386718,
         "A1T5G0C4": 0.0000423703613281251,
         "A1T5G1C3": 0.0001524814453124,
         "A1T5G2C2": 0.0001312221679687,
         "A1T5G3C1": -0.0001425185546875,
         "A1T5G4C0": -0.0001636296386718,
         "A1T6G0C3": 0.0001929135742187,
         "A1T6G1C2": 0.0004157407226562,
         "A1T6G2C1": 0.0003037407226562,
         "A1T6G3C0": 0.00008891357421874995,
         "A1T7G0C2": 0.0001786772460937,
         "A1T7G1C1": 0.0002973544921875,
         "A1T7G2C0": 0.00008367724609375002,
         "A1T8G0C1": 0.0001231693115234,
         "A1T8G1C0": 0.0000901693115234375,
         "A1T9G0C0": 0.0000214632568359375,
         "A2T0G0C8": -0.000009915344238281247,
         "A2T0G1C7": -0.000025322753906250022,
         "A2T0G2C6": 0.0003653703613281,
         "A2T0G3C5": 0.0011047407226562,
         "A2T0G4C4": 0.0012689259033203,
         "A2T0G5C3": 0.0007257407226562,
         "A2T0G6C2": 0.00003137036132812494,
         "A2T0G7C1": -0.00006332275390625002,
         "A2T0G8C0": -0.000006915344238281249,
         "A2T1G0C7": -0.00008832275390624998,
         "A2T1G1C6": -0.0001652592773437,
         "A2T1G2C5": 0.0007742221679687,
         "A2T1G3C4": 0.0020557036132812,
         "A2T1G4C3": 0.0014067036132812,
         "A2T1G5C2": 0.0004172221679687,
         "A2T1G6C1": -0.0003132592773437,
         "A2T1G7C0": -0.00008432275390624999,
         "A2T2G0C6": -0.0002726296386718,
         "A2T2G1C5": -0.0007247778320312,
         "A2T2G2C4": -0.0001004445800781,
         "A2T2G3C3": 0.0001224072265624,
         "A2T2G4C2": -0.0001024445800781,
         "A2T2G5C1": -0.0007067778320312,
         "A2T2G6C0": -0.0002756296386718,
         "A2T3G0C5": -0.0005442592773437,
         "A2T3G1C4": -0.0012382963867187,
         "A2T3G2C3": -0.0013875927734375,
         "A2T3G3C2": -0.0019445927734375,
         "A2T3G4C1": -0.0012022963867187,
         "A2T3G5C0": -0.0004342592773437,
         "A2T4G0C4": -0.0004480740966796,
         "A2T4G1C3": -0.0009572963867187,
         "A2T4G2C2": -0.0015134445800781,
         "A2T4G3C1": -0.0013522963867187,
         "A2T4G4C0": -0.0005150740966796,
         "A2T5G0C3": -0.00008925927734374992,
         "A2T5G1C2": -0.0001187778320312,
         "A2T5G2C1": -0.0001577778320312,
         "A2T5G3C0": -0.0002852592773437,
         "A2T6G0C2": 0.0002723703613281,
         "A2T6G1C1": 0.0003417407226562,
         "A2T6G2C0": 0.0001393703613281,
         "A2T7G0C1": 0.0002126772460937,
         "A2T7G1C0": 0.0001706772460937,
         "A2T8G0C0": 0.00008608465576171874,
         "A3T0G0C7": -0.00002344091796875,
         "A3T0G1C6": 0.000017913574218749958,
         "A3T0G2C5": 0.0003977407226562,
         "A3T0G3C4": 0.0009595678710937,
         "A3T0G4C3": 0.0007085678710937,
         "A3T0G5C2": 0.0001307407226562,
         "A3T0G6C1": -0.00005708642578125002,
         "A3T0G7C0": -0.000009440917968749996,
         "A3T1G0C6": -0.0001830864257812,
         "A3T1G1C5": -0.0002305185546874,
         "A3T1G2C4": 0.0003347036132812,
         "A3T1G3C3": 0.0007962714843749,
         "A3T1G4C2": 0.0002307036132812,
         "A3T1G5C1": -0.0005905185546874,
         "A3T1G6C0": -0.0001780864257812,
         "A3T2G0C5": -0.0005272592773437,
         "A3T2G1C4": -0.0016062963867187,
         "A3T2G2C3": -0.0017615927734375,
         "A3T2G3C2": -0.0018315927734375,
         "A3T2G4C1": -0.0013172963867187,
         "A3T2G5C0": -0.0005242592773437,
         "A3T3G0C4": -0.0007854321289062,
         "A3T3G1C3": -0.0019507285156249,
         "A3T3G2C2": -0.0025865927734375,
         "A3T3G3C1": -0.001925728515625,
         "A3T3G4C0": -0.0006894321289062,
         "A3T4G0C3": -0.0004404321289062,
         "A3T4G1C2": -0.0013862963867187,
         "A3T4G2C1": -0.0011422963867187,
         "A3T4G3C0": -0.0005074321289062,
         "A3T5G0C2": -0.000026259277343749797,
         "A3T5G1C1": -0.000029518554687500004,
         "A3T5G2C0": -0.00009625927734374998,
         "A3T6G0C1": 0.0001969135742187,
         "A3T6G1C0": 0.0001419135742187,
         "A3T7G0C0": 0.0001465590820312,
         "A4T0G0C6": -0.000030271606445312488,
         "A4T0G1C5": -0.00003462963867187493,
         "A4T0G2C4": 0.0002819259033203,
         "A4T0G3C3": 0.0004995678710937,
         "A4T0G4C2": 0.0002019259033203,
         "A4T0G5C1": -0.00003162963867187497,
         "A4T0G6C0": -0.00005127160644531251,
         "A4T1G0C5": -0.0001786296386718,
         "A4T1G1C4": -0.0003241481933593,
         "A4T1G2C3": -0.0001372963867187,
         "A4T1G3C2": 0.00006870361328125026,
         "A4T1G4C1": -0.0001611481933593,
         "A4T1G5C0": -0.0001706296386718,
         "A4T2G0C4": -0.0004130740966796,
         "A4T2G1C3": -0.0011222963867187,
         "A4T2G2C2": -0.0014224445800781,
         "A4T2G3C1": -0.0011602963867187,
         "A4T2G4C0": -0.0004360740966796,
         "A4T3G0C3": -0.0006104321289062,
         "A4T3G1C2": -0.0012992963867187,
         "A4T3G2C1": -0.0011502963867187,
         "A4T3G3C0": -0.0006054321289062,
         "A4T4G0C2": -0.0001490740966796,
         "A4T4G1C1": -0.0004901481933593,
         "A4T4G2C0": -0.0001830740966796,
         "A4T5G0C1": 0.0001373703613281,
         "A4T5G1C0": 0.0001683703613281,
         "A4T6G0C0": 0.0001367283935546,
         "A5T0G0C5": -0.000028325927734375,
         "A5T0G1C4": 0.000011370361328125102,
         "A5T0G2C3": 0.0002487407226562,
         "A5T0G3C2": 0.0002577407226562,
         "A5T0G4C1": 0.00009637036132812488,
         "A5T0G5C0": -0.000015325927734375006,
         "A5T1G0C4": -0.0001516296386718,
         "A5T1G1C3": -0.0001255185546874,
         "A5T1G2C2": 0.0002502221679687,
         "A5T1G3C1": 0.0001614814453125,
         "A5T1G4C0": 0.00003937036132812492,
         "A5T2G0C3": -0.0002212592773437,
         "A5T2G1C2": -0.0003257778320312,
         "A5T2G2C1": -0.0002047778320312,
         "A5T2G3C0": 0.00007974072265624996,
         "A5T3G0C2": -0.0001162592773437,
         "A5T3G1C1": -0.00008451855468750036,
         "A5T3G2C0": -0.000031259277343750023,
         "A5T4G0C1": 0.0001463703613281,
         "A5T4G1C0": 0.0001183703613281,
         "A5T5G0C0": 0.0001556740722656,
         "A6T0G0C4": 0.000002728393554687501,
         "A6T0G1C3": 0.00007991357421874995,
         "A6T0G2C2": 0.0002193703613281,
         "A6T0G3C1": 0.0002249135742187,
         "A6T0G4C0": 0.00001672839355468749,
         "A6T1G0C3": 0.00001391357421874997,
         "A6T1G1C2": 0.0003187407226562,
         "A6T1G2C1": 0.0003547407226562,
         "A6T1G3C0": 0.0001749135742187,
         "A6T2G0C2": 0.000030370361328125026,
         "A6T2G1C1": 0.0003467407226562,
         "A6T2G2C0": 0.0002293703613281,
         "A6T3G0C1": 0.0002029135742187,
         "A6T3G1C0": 0.0002379135742187,
         "A6T4G0C0": 0.0001197283935546,
         "A7T0G0C3": 0.00002655908203125001,
         "A7T0G1C2": 0.00009667724609375002,
         "A7T0G2C1": 0.0001586772460937,
         "A7T0G3C0": 0.00006955908203125,
         "A7T1G0C2": 0.0001376772460937,
         "A7T1G1C1": 0.0003153544921875,
         "A7T1G2C0": 0.0002136772460937,
         "A7T2G0C1": 0.0001776772460937,
         "A7T2G1C0": 0.0002956772460937,
         "A7T3G0C0": 0.0001175590820312,
         "A8T0G0C2": 0.00004208465576171876,
         "A8T0G1C1": 0.00008416931152343751,
         "A8T0G2C0": 0.00004808465576171875,
         "A8T1G0C1": 0.0000811693115234375,
         "A8T1G1C0": 0.0001061693115234,
         "A8T2G0C0": 0.00007208465576171875,
         "A9T0G0C1": 0.000010463256835937502,
         "A9T0G1C0": 0.0000084632568359375,
         "A9T1G0C0": 0.0000194632568359375,
         "A10T0G0C0": 0.00000104632568359375,
         "target": "Salmonella_enterica",
         "_deepnote_index_column": 2
        },
        {
         "row_id": 3,
         "A0T0G0C10": 4.632568359374996e-8,
         "A0T0G1C9": -0.0000055367431640625,
         "A0T0G2C8": 0.000012084655761718752,
         "A0T0G3C7": 0.0002445590820312,
         "A0T0G4C6": 0.0004917283935546,
         "A0T0G5C5": 0.0005216740722656,
         "A0T0G6C4": 0.0003957283935546,
         "A0T0G7C3": 0.0001965590820312,
         "A0T0G8C2": -0.0000029153442382812467,
         "A0T0G9C1": -0.0000065367431640625,
         "A0T0G10C0": -9.5367431640625e-7,
         "A0T1G0C9": -0.0000095367431640625,
         "A0T1G1C8": -0.0000178306884765625,
         "A0T1G2C7": 0.00006767724609375002,
         "A0T1G3C6": 0.0007219135742187,
         "A0T1G4C5": 0.0015943703613281,
         "A0T1G5C4": 0.0019133703613281,
         "A0T1G6C3": 0.0011109135742187,
         "A0T1G7C2": 0.0002466772460937,
         "A0T1G8C1": -0.0000468306884765625,
         "A0T1G9C0": -0.0000095367431640625,
         "A0T2G0C8": -0.00001891534423828125,
         "A0T2G1C7": -0.0001383227539062,
         "A0T2G2C6": 0.0001613703613281,
         "A0T2G3C5": 0.0013447407226562,
         "A0T2G4C4": 0.0025259259033203,
         "A0T2G5C3": 0.0021547407226562,
         "A0T2G6C2": 0.0007543703613281,
         "A0T2G7C1": -0.00002932275390625001,
         "A0T2G8C0": -0.00002491534423828125,
         "A0T3G0C7": -0.000034440917968749993,
         "A0T3G1C6": -0.0001790864257812,
         "A0T3G2C5": 0.0003447407226562,
         "A0T3G3C4": 0.0014265678710937,
         "A0T3G4C3": 0.0019635678710937,
         "A0T3G5C2": 0.0008607407226562,
         "A0T3G6C1": -0.00003808642578125,
         "A0T3G7C0": -0.00005044091796875,
         "A0T4G0C6": -0.00006727160644531249,
         "A0T4G1C5": -0.0001366296386718,
         "A0T4G2C4": 0.0004369259033203,
         "A0T4G3C3": 0.0009865678710937,
         "A0T4G4C2": 0.0004979259033203,
         "A0T4G5C1": 0.000003370361328124908,
         "A0T4G6C0": -0.0000622716064453125,
         "A0T5G0C5": -0.00002332592773437501,
         "A0T5G1C4": 0.00008937036132812505,
         "A0T5G2C3": 0.0005297407226562,
         "A0T5G3C2": 0.0004277407226562,
         "A0T5G4C1": 0.00005337036132812504,
         "A0T5G5C0": -0.00005032592773437499,
         "A0T6G0C4": 0.00006672839355468748,
         "A0T6G1C3": 0.0003159135742187,
         "A0T6G2C2": 0.0004503703613281,
         "A0T6G3C1": 0.0001799135742187,
         "A0T6G4C0": 0.0000037283935546874975,
         "A0T7G0C3": 0.0001105590820312,
         "A0T7G1C2": 0.0003386772460937,
         "A0T7G2C1": 0.0001976772460937,
         "A0T7G3C0": 0.00005555908203125001,
         "A0T8G0C2": 0.00007508465576171875,
         "A0T8G1C1": 0.0001421693115234,
         "A0T8G2C0": 0.00005308465576171875,
         "A0T9G0C1": 0.0000214632568359375,
         "A0T9G1C0": 0.0000224632568359375,
         "A0T10G0C0": -9.5367431640625e-7,
         "A1T0G0C9": -0.0000085367431640625,
         "A1T0G1C8": -0.0000328306884765625,
         "A1T0G2C7": 0.0002126772460937,
         "A1T0G3C6": 0.0011229135742187,
         "A1T0G4C5": 0.0018383703613281,
         "A1T0G5C4": 0.0017253703613281,
         "A1T0G6C3": 0.0007229135742187,
         "A1T0G7C2": 0.00006267724609375,
         "A1T0G8C1": -0.0000488306884765625,
         "A1T0G9C0": -0.0000085367431640625,
         "A1T1G0C8": -0.0000408306884765625,
         "A1T1G1C7": -0.0001936455078125,
         "A1T1G2C6": 0.0007077407226562,
         "A1T1G3C5": 0.0031124814453125,
         "A1T1G4C4": 0.0046018518066406,
         "A1T1G5C3": 0.0030924814453124,
         "A1T1G6C2": 0.0006617407226562,
         "A1T1G7C1": -0.0001466455078125,
         "A1T1G8C0": "-5.68306884765625e-05",
         "A1T2G0C7": -0.0001883227539062,
         "A1T2G1C6": -0.0006552592773437,
         "A1T2G2C5": 0.0007842221679687,
         "A1T2G3C4": 0.0034557036132812,
         "A1T2G4C3": 0.0037707036132812,
         "A1T2G5C2": 0.0013642221679687,
         "A1T2G6C1": -0.0004032592773437,
         "A1T2G7C0": -0.0001623227539062,
         "A1T3G0C6": -0.0003420864257812,
         "A1T3G1C5": -0.0008275185546875,
         "A1T3G2C4": 0.0004367036132812,
         "A1T3G3C3": 0.0012992714843749,
         "A1T3G4C2": 0.0005577036132812,
         "A1T3G5C1": -0.0006625185546874,
         "A1T3G6C0": -0.0003040864257812,
         "A1T4G0C5": -0.0003756296386718,
         "A1T4G1C4": -0.0005071481933593,
         "A1T4G2C3": -0.00001329638671875022,
         "A1T4G3C2": -0.0001862963867187,
         "A1T4G4C1": -0.0007871481933593,
         "A1T4G5C0": -0.0003526296386718,
         "A1T5G0C4": -0.000009629638671875084,
         "A1T5G1C3": 0.0002254814453125,
         "A1T5G2C2": 0.0001982221679687,
         "A1T5G3C1": -0.0001925185546874,
         "A1T5G4C0": -0.0002846296386718,
         "A1T6G0C3": 0.0003019135742187,
         "A1T6G1C2": 0.0007347407226562,
         "A1T6G2C1": 0.0004807407226562,
         "A1T6G3C0": 0.00007991357421874995,
         "A1T7G0C2": 0.0003966772460937,
         "A1T7G1C1": 0.0005823544921874,
         "A1T7G2C0": 0.0002116772460937,
         "A1T8G0C1": 0.0002441693115234,
         "A1T8G1C0": 0.0001721693115234,
         "A1T9G0C0": 0.0000424632568359375,
         "A2T0G0C8": -0.00001991534423828125,
         "A2T0G1C7": -0.00000432275390625,
         "A2T0G2C6": 0.0007383703613281,
         "A2T0G3C5": 0.0020997407226562,
         "A2T0G4C4": 0.0025459259033203,
         "A2T0G5C3": 0.0014487407226562,
         "A2T0G6C2": 0.0001213703613281,
         "A2T0G7C1": -0.00008932275390625,
         "A2T0G8C0": -0.00001991534423828125,
         "A2T1G0C7": -0.0001883227539062,
         "A2T1G1C6": -0.0003882592773437,
         "A2T1G2C5": 0.0015252221679687,
         "A2T1G3C4": 0.0036197036132812,
         "A2T1G4C3": 0.0034397036132812,
         "A2T1G5C2": 0.0008622221679687,
         "A2T1G6C1": -0.0005982592773437,
         "A2T1G7C0": -0.0001603227539062,
         "A2T2G0C6": -0.0005156296386718,
         "A2T2G1C5": -0.0015577778320312,
         "A2T2G2C4": -0.0001504445800781,
         "A2T2G3C3": 0.0004394072265625,
         "A2T2G4C2": -0.0005534445800781,
         "A2T2G5C1": -0.0013387778320312,
         "A2T2G6C0": -0.0005726296386718,
         "A2T3G0C5": -0.0009092592773437,
         "A2T3G1C4": -0.0023562963867187,
         "A2T3G2C3": -0.0032475927734374,
         "A2T3G3C2": -0.0030875927734375,
         "A2T3G4C1": -0.0024462963867187,
         "A2T3G5C0": -0.0009832592773437,
         "A2T4G0C4": -0.0007630740966796,
         "A2T4G1C3": -0.0017952963867187,
         "A2T4G2C2": -0.0027764445800781,
         "A2T4G3C1": -0.0023882963867187,
         "A2T4G4C0": -0.0009720740966796,
         "A2T5G0C3": -0.0001202592773437,
         "A2T5G1C2": -0.0001867778320312,
         "A2T5G2C1": -0.0005907778320312,
         "A2T5G3C0": -0.0004352592773437,
         "A2T6G0C2": 0.0003833703613281,
         "A2T6G1C1": 0.0006317407226562,
         "A2T6G2C0": 0.0001773703613281,
         "A2T7G0C1": 0.0004186772460937,
         "A2T7G1C0": 0.0003256772460937,
         "A2T8G0C0": 0.0001480846557617,
         "A3T0G0C7": -0.00002744091796875,
         "A3T0G1C6": 0.000011913574218750027,
         "A3T0G2C5": 0.0007887407226562,
         "A3T0G3C4": 0.0017835678710937,
         "A3T0G4C3": 0.0014985678710937,
         "A3T0G5C2": 0.0002627407226562,
         "A3T0G6C1": -0.0001920864257812,
         "A3T0G7C0": -0.00004544091796875,
         "A3T1G0C6": -0.0003320864257812,
         "A3T1G1C5": -0.0006725185546875,
         "A3T1G2C4": 0.0005437036132812,
         "A3T1G3C3": 0.0015142714843749,
         "A3T1G4C2": 0.0003227036132812,
         "A3T1G5C1": -0.0008835185546874,
         "A3T1G6C0": -0.0003160864257812,
         "A3T2G0C5": -0.0009652592773437,
         "A3T2G1C4": -0.0027102963867187,
         "A3T2G2C3": -0.0031855927734374,
         "A3T2G3C2": -0.0030815927734374,
         "A3T2G4C1": -0.0024162963867187,
         "A3T2G5C0": -0.0009242592773437,
         "A3T3G0C4": -0.0013284321289062,
         "A3T3G1C3": -0.0040957285156249,
         "A3T3G2C2": -0.0054025927734374,
         "A3T3G3C1": -0.0038187285156249,
         "A3T3G4C0": -0.0013694321289062,
         "A3T4G0C3": -0.0010114321289062,
         "A3T4G1C2": -0.0025202963867187,
         "A3T4G2C1": -0.0025012963867187,
         "A3T4G3C0": -0.0010564321289062,
         "A3T5G0C2": -0.00002225927734375013,
         "A3T5G1C1": -0.0001335185546874,
         "A3T5G2C0": -0.0002422592773437,
         "A3T6G0C1": 0.0004739135742187,
         "A3T6G1C0": 0.0002859135742187,
         "A3T7G0C0": 0.0002705590820312,
         "A4T0G0C6": -0.0000542716064453125,
         "A4T0G1C5": -0.00004062963867187508,
         "A4T0G2C4": 0.0005479259033203,
         "A4T0G3C3": 0.0009545678710937,
         "A4T0G4C2": 0.0004449259033203,
         "A4T0G5C1": -0.000090629638671875,
         "A4T0G6C0": -0.0000542716064453125,
         "A4T1G0C5": -0.0003986296386718,
         "A4T1G1C4": -0.0006151481933593,
         "A4T1G2C3": -0.0002652963867187,
         "A4T1G3C2": 0.00009470361328125024,
         "A4T1G4C1": -0.0004661481933593,
         "A4T1G5C0": -0.0003176296386718,
         "A4T2G0C4": -0.0009490740966796,
         "A4T2G1C3": -0.0023222963867187,
         "A4T2G2C2": -0.0027914445800781,
         "A4T2G3C1": -0.0020422963867187,
         "A4T2G4C0": -0.0007330740966796,
         "A4T3G0C3": -0.0010784321289062,
         "A4T3G1C2": -0.0025852963867187,
         "A4T3G2C1": -0.0023042963867187,
         "A4T3G3C0": -0.0009404321289062,
         "A4T4G0C2": -0.0003720740966796,
         "A4T4G1C1": -0.0008351481933593,
         "A4T4G2C0": -0.0004210740966796,
         "A4T5G0C1": 0.0002763703613281,
         "A4T5G1C0": 0.0002303703613281,
         "A4T6G0C0": 0.0002737283935546,
         "A5T0G0C5": -0.00005232592773437501,
         "A5T0G1C4": 0.00001737036132812503,
         "A5T0G2C3": 0.0003877407226562,
         "A5T0G3C2": 0.0005407407226562,
         "A5T0G4C1": 0.0001803703613281,
         "A5T0G5C0": -0.000044325927734375006,
         "A5T1G0C4": -0.0002356296386718,
         "A5T1G1C3": -0.0001145185546875,
         "A5T1G2C2": 0.0003042221679687,
         "A5T1G3C1": 0.0002594814453125,
         "A5T1G4C0": -0.00003962963867187495,
         "A5T2G0C3": -0.0004232592773437,
         "A5T2G1C2": -0.0007287778320312,
         "A5T2G2C1": -0.0003187778320312,
         "A5T2G3C0": -0.000018259277343750036,
         "A5T3G0C2": -0.0001882592773437,
         "A5T3G1C1": -0.0002145185546875,
         "A5T3G2C0": -0.00007525927734374979,
         "A5T4G0C1": 0.0002843703613281,
         "A5T4G1C0": 0.0002513703613281,
         "A5T5G0C0": 0.0002956740722656,
         "A6T0G0C4": -0.00002027160644531249,
         "A6T0G1C3": 0.0001939135742187,
         "A6T0G2C2": 0.0003993703613281,
         "A6T0G3C1": 0.0004069135742187,
         "A6T0G4C0": 0.00003972839355468751,
         "A6T1G0C3": 0.00005791357421874996,
         "A6T1G1C2": 0.0005047407226562,
         "A6T1G2C1": 0.0007837407226562,
         "A6T1G3C0": 0.0002959135742187,
         "A6T2G0C2": 0.0001283703613281,
         "A6T2G1C1": 0.0008347407226562,
         "A6T2G2C0": 0.0004453703613281,
         "A6T3G0C1": 0.0004009135742187,
         "A6T3G1C0": 0.0004119135742187,
         "A6T4G0C0": 0.0002457283935546,
         "A7T0G0C3": 0.00004655908203125001,
         "A7T0G1C2": 0.0001596772460937,
         "A7T0G2C1": 0.0003086772460937,
         "A7T0G3C0": 0.0001285590820312,
         "A7T1G0C2": 0.0002426772460937,
         "A7T1G1C1": 0.0005973544921875,
         "A7T1G2C0": 0.0004276772460937,
         "A7T2G0C1": 0.0003626772460937,
         "A7T2G1C0": 0.0004716772460937,
         "A7T3G0C0": 0.0001965590820312,
         "A8T0G0C2": 0.00006808465576171875,
         "A8T0G1C1": 0.0001511693115234,
         "A8T0G2C0": 0.0001000846557617,
         "A8T1G0C1": 0.0001801693115234,
         "A8T1G1C0": 0.0002021693115234,
         "A8T2G0C0": 0.0001530846557617,
         "A9T0G0C1": 0.0000214632568359375,
         "A9T0G1C0": 0.0000154632568359375,
         "A9T1G0C0": 0.0000464632568359375,
         "A10T0G0C0": -9.5367431640625e-7,
         "target": "Salmonella_enterica",
         "_deepnote_index_column": 3
        },
        {
         "row_id": 4,
         "A0T0G0C10": -9.5367431640625e-7,
         "A0T0G1C9": -0.0000095367431640625,
         "A0T0G2C8": -0.00004291534423828125,
         "A0T0G3C7": -0.0001144409179687,
         "A0T0G4C6": -0.0002002716064453,
         "A0T0G5C5": -0.0002403259277343,
         "A0T0G6C4": -0.0002002716064453,
         "A0T0G7C3": -0.0001144409179687,
         "A0T0G8C2": -0.00004291534423828125,
         "A0T0G9C1": -0.0000095367431640625,
         "A0T0G10C0": -9.5367431640625e-7,
         "A0T1G0C9": -0.0000095367431640625,
         "A0T1G1C8": -0.0000858306884765625,
         "A0T1G2C7": -0.0003433227539062,
         "A0T1G3C6": -0.0008010864257812,
         "A0T1G4C5": -0.0012016296386718,
         "A0T1G5C4": -0.0012016296386718,
         "A0T1G6C3": -0.0008010864257812,
         "A0T1G7C2": -0.0003433227539062,
         "A0T1G8C1": -0.0000858306884765625,
         "A0T1G9C0": -0.0000095367431640625,
         "A0T2G0C8": -0.00004291534423828125,
         "A0T2G1C7": -0.0003433227539062,
         "A0T2G2C6": -0.0012016296386718,
         "A0T2G3C5": -0.0024032592773437,
         "A0T2G4C4": -0.0030040740966796,
         "A0T2G5C3": -0.0024032592773437,
         "A0T2G6C2": -0.0012016296386718,
         "A0T2G7C1": -0.0003433227539062,
         "A0T2G8C0": -0.00004291534423828125,
         "A0T3G0C7": -0.0001144409179687,
         "A0T3G1C6": -0.0008010864257812,
         "A0T3G2C5": -0.0024032592773437,
         "A0T3G3C4": -0.0040054321289062,
         "A0T3G4C3": -0.0040054321289062,
         "A0T3G5C2": -0.0024032592773437,
         "A0T3G6C1": -0.0008010864257812,
         "A0T3G7C0": -0.0001144409179687,
         "A0T4G0C6": -0.0002002716064453,
         "A0T4G1C5": -0.0012016296386718,
         "A0T4G2C4": -0.0030040740966796,
         "A0T4G3C3": -0.0040054321289062,
         "A0T4G4C2": -0.0030040740966796,
         "A0T4G5C1": -0.0012016296386718,
         "A0T4G6C0": -0.0002002716064453,
         "A0T5G0C5": -0.0002403259277343,
         "A0T5G1C4": -0.0012016296386718,
         "A0T5G2C3": -0.0024032592773437,
         "A0T5G3C2": -0.0024032592773437,
         "A0T5G4C1": -0.0012016296386718,
         "A0T5G5C0": -0.0002403259277343,
         "A0T6G0C4": -0.0002002716064453,
         "A0T6G1C3": -0.0008010864257812,
         "A0T6G2C2": -0.0012016296386718,
         "A0T6G3C1": -0.0008010864257812,
         "A0T6G4C0": -0.0002002716064453,
         "A0T7G0C3": -0.0001144409179687,
         "A0T7G1C2": -0.0003433227539062,
         "A0T7G2C1": -0.0003433227539062,
         "A0T7G3C0": -0.0001144409179687,
         "A0T8G0C2": -0.00004291534423828125,
         "A0T8G1C1": -0.0000858306884765625,
         "A0T8G2C0": -0.00004291534423828125,
         "A0T9G0C1": -0.0000095367431640625,
         "A0T9G1C0": -0.0000095367431640625,
         "A0T10G0C0": -9.5367431640625e-7,
         "A1T0G0C9": -0.0000095367431640625,
         "A1T0G1C8": -0.0000858306884765625,
         "A1T0G2C7": -0.0003433227539062,
         "A1T0G3C6": -0.0008010864257812,
         "A1T0G4C5": -0.0012016296386718,
         "A1T0G5C4": -0.0012016296386718,
         "A1T0G6C3": -0.0008010864257812,
         "A1T0G7C2": -0.0003433227539062,
         "A1T0G8C1": -0.0000858306884765625,
         "A1T0G9C0": -0.0000095367431640625,
         "A1T1G0C8": -0.0000858306884765625,
         "A1T1G1C7": -0.0006866455078125,
         "A1T1G2C6": -0.0024032592773437,
         "A1T1G3C5": -0.0048065185546875,
         "A1T1G4C4": -0.0060081481933593,
         "A1T1G5C3": -0.0048065185546875,
         "A1T1G6C2": -0.0024032592773437,
         "A1T1G7C1": -0.0006866455078125,
         "A1T1G8C0": "-8.58306884765625e-05",
         "A1T2G0C7": -0.0003433227539062,
         "A1T2G1C6": -0.0024032592773437,
         "A1T2G2C5": -0.0072097778320312,
         "A1T2G3C4": -0.0120162963867187,
         "A1T2G4C3": -0.0020162963867187,
         "A1T2G5C2": -0.0072097778320312,
         "A1T2G6C1": -0.0024032592773437,
         "A1T2G7C0": -0.0003433227539062,
         "A1T3G0C6": -0.0008010864257812,
         "A1T3G1C5": -0.0048065185546875,
         "A1T3G2C4": -0.0120162963867187,
         "A1T3G3C3": -0.016021728515625,
         "A1T3G4C2": -0.0120162963867187,
         "A1T3G5C1": -0.0048065185546875,
         "A1T3G6C0": -0.0008010864257812,
         "A1T4G0C5": -0.0012016296386718,
         "A1T4G1C4": -0.0060081481933593,
         "A1T4G2C3": -0.0120162963867187,
         "A1T4G3C2": -0.0120162963867187,
         "A1T4G4C1": -0.0060081481933593,
         "A1T4G5C0": -0.0012016296386718,
         "A1T5G0C4": -0.0012016296386718,
         "A1T5G1C3": 0.0051934814453125,
         "A1T5G2C2": -0.0072097778320312,
         "A1T5G3C1": -0.0048065185546875,
         "A1T5G4C0": -0.0012016296386718,
         "A1T6G0C3": 0.0091989135742187,
         "A1T6G1C2": 0.0075967407226562,
         "A1T6G2C1": -0.0024032592773437,
         "A1T6G3C0": -0.0008010864257812,
         "A1T7G0C2": -0.0003433227539062,
         "A1T7G1C1": -0.0006866455078125,
         "A1T7G2C0": -0.0003433227539062,
         "A1T8G0C1": -0.0000858306884765625,
         "A1T8G1C0": -0.0000858306884765625,
         "A1T9G0C0": -0.0000095367431640625,
         "A2T0G0C8": -0.00004291534423828125,
         "A2T0G1C7": -0.0003433227539062,
         "A2T0G2C6": -0.0012016296386718,
         "A2T0G3C5": -0.0024032592773437,
         "A2T0G4C4": -0.0030040740966796,
         "A2T0G5C3": -0.0024032592773437,
         "A2T0G6C2": -0.0012016296386718,
         "A2T0G7C1": -0.0003433227539062,
         "A2T0G8C0": -0.00004291534423828125,
         "A2T1G0C7": -0.0003433227539062,
         "A2T1G1C6": -0.0024032592773437,
         "A2T1G2C5": -0.0072097778320312,
         "A2T1G3C4": -0.0120162963867187,
         "A2T1G4C3": -0.0120162963867187,
         "A2T1G5C2": -0.0072097778320312,
         "A2T1G6C1": -0.0024032592773437,
         "A2T1G7C0": -0.0003433227539062,
         "A2T2G0C6": -0.0012016296386718,
         "A2T2G1C5": -0.0072097778320312,
         "A2T2G2C4": -0.0180244445800781,
         "A2T2G3C3": -0.0240325927734375,
         "A2T2G4C2": -0.0180244445800781,
         "A2T2G5C1": 0.0027902221679687,
         "A2T2G6C0": -0.0012016296386718,
         "A2T3G0C5": -0.0024032592773437,
         "A2T3G1C4": -0.0120162963867187,
         "A2T3G2C3": -0.0040325927734375,
         "A2T3G3C2": -0.0240325927734375,
         "A2T3G4C1": -0.0020162963867187,
         "A2T3G5C0": -0.0024032592773437,
         "A2T4G0C4": -0.0030040740966796,
         "A2T4G1C3": -0.0020162963867187,
         "A2T4G2C2": 0.0019755554199218,
         "A2T4G3C1": -0.0120162963867187,
         "A2T4G4C0": 0.0069959259033203,
         "A2T5G0C3": 0.0075967407226562,
         "A2T5G1C2": -0.0072097778320312,
         "A2T5G2C1": 0.0127902221679687,
         "A2T5G3C0": -0.0024032592773437,
         "A2T6G0C2": 0.0287983703613281,
         "A2T6G1C1": 0.0175967407226562,
         "A2T6G2C0": 0.0087983703613281,
         "A2T7G0C1": -0.0003433227539062,
         "A2T7G1C0": -0.0003433227539062,
         "A2T8G0C0": -0.00004291534423828125,
         "A3T0G0C7": -0.0001144409179687,
         "A3T0G1C6": -0.0008010864257812,
         "A3T0G2C5": -0.0024032592773437,
         "A3T0G3C4": 0.0159945678710937,
         "A3T0G4C3": 0.0059945678710937,
         "A3T0G5C2": 0.0075967407226562,
         "A3T0G6C1": -0.0008010864257812,
         "A3T0G7C0": -0.0001144409179687,
         "A3T1G0C6": -0.0008010864257812,
         "A3T1G1C5": 0.0151934814453125,
         "A3T1G2C4": -0.0120162963867187,
         "A3T1G3C3": 0.033978271484375,
         "A3T1G4C2": -0.0120162963867187,
         "A3T1G5C1": 0.0051934814453125,
         "A3T1G6C0": -0.0008010864257812,
         "A3T2G0C5": -0.0024032592773437,
         "A3T2G1C4": -0.0020162963867187,
         "A3T2G2C3": 0.0159674072265625,
         "A3T2G3C2": -0.0140325927734375,
         "A3T2G4C1": -0.0020162963867187,
         "A3T2G5C0": 0.0075967407226562,
         "A3T3G0C4": -0.0040054321289062,
         "A3T3G1C3": 0.003978271484375,
         "A3T3G2C2": 0.0259674072265625,
         "A3T3G3C1": -0.006021728515625,
         "A3T3G4C0": -0.0040054321289062,
         "A3T4G0C3": -0.0040054321289062,
         "A3T4G1C2": -0.0120162963867187,
         "A3T4G2C1": 0.0179837036132812,
         "A3T4G3C0": 0.0159945678710937,
         "A3T5G0C2": 0.0075967407226562,
         "A3T5G1C1": -0.0048065185546875,
         "A3T5G2C0": 0.0075967407226562,
         "A3T6G0C1": -0.0008010864257812,
         "A3T6G1C0": -0.0008010864257812,
         "A3T7G0C0": 0.0098855590820312,
         "A4T0G0C6": -0.0002002716064453,
         "A4T0G1C5": 0.0087983703613281,
         "A4T0G2C4": 0.0069959259033203,
         "A4T0G3C3": 0.0059945678710937,
         "A4T0G4C2": -0.0030040740966796,
         "A4T0G5C1": -0.0012016296386718,
         "A4T0G6C0": -0.0002002716064453,
         "A4T1G0C5": -0.0012016296386718,
         "A4T1G1C4": -0.0060081481933593,
         "A4T1G2C3": 0.0079837036132812,
         "A4T1G3C2": 0.0079837036132812,
         "A4T1G4C1": 0.0139918518066406,
         "A4T1G5C0": -0.0012016296386718,
         "A4T2G0C4": -0.0030040740966796,
         "A4T2G1C3": -0.0020162963867187,
         "A4T2G2C2": 0.0019755554199218,
         "A4T2G3C1": 0.0079837036132812,
         "A4T2G4C0": -0.0030040740966796,
         "A4T3G0C3": -0.0040054321289062,
         "A4T3G1C2": 0.0079837036132812,
         "A4T3G2C1": 0.0379837036132812,
         "A4T3G3C0": -0.0040054321289062,
         "A4T4G0C2": -0.0030040740966796,
         "A4T4G1C1": 0.0139918518066406,
         "A4T4G2C0": 0.0069959259033203,
         "A4T5G0C1": -0.0012016296386718,
         "A4T5G1C0": 0.0087983703613281,
         "A4T6G0C0": -0.0002002716064453,
         "A5T0G0C5": -0.0002403259277343,
         "A5T0G1C4": -0.0012016296386718,
         "A5T0G2C3": 0.0175967407226562,
         "A5T0G3C2": -0.0024032592773437,
         "A5T0G4C1": -0.0012016296386718,
         "A5T0G5C0": -0.0002403259277343,
         "A5T1G0C4": -0.0012016296386718,
         "A5T1G1C3": -0.0048065185546875,
         "A5T1G2C2": 0.0027902221679687,
         "A5T1G3C1": 0.0151934814453125,
         "A5T1G4C0": -0.0012016296386718,
         "A5T2G0C3": 0.0075967407226562,
         "A5T2G1C2": -0.0072097778320312,
         "A5T2G2C1": 0.0127902221679687,
         "A5T2G3C0": 0.0075967407226562,
         "A5T3G0C2": 0.0075967407226562,
         "A5T3G1C1": 0.0151934814453125,
         "A5T3G2C0": -0.0024032592773437,
         "A5T4G0C1": 0.0087983703613281,
         "A5T4G1C0": -0.0012016296386718,
         "A5T5G0C0": 0.0097596740722656,
         "A6T0G0C4": -0.0002002716064453,
         "A6T0G1C3": -0.0008010864257812,
         "A6T0G2C2": 0.0087983703613281,
         "A6T0G3C1": -0.0008010864257812,
         "A6T0G4C0": -0.0002002716064453,
         "A6T1G0C3": -0.0008010864257812,
         "A6T1G1C2": -0.0024032592773437,
         "A6T1G2C1": -0.0024032592773437,
         "A6T1G3C0": -0.0008010864257812,
         "A6T2G0C2": -0.0012016296386718,
         "A6T2G1C1": -0.0024032592773437,
         "A6T2G2C0": 0.0087983703613281,
         "A6T3G0C1": -0.0008010864257812,
         "A6T3G1C0": -0.0008010864257812,
         "A6T4G0C0": -0.0002002716064453,
         "A7T0G0C3": -0.0001144409179687,
         "A7T0G1C2": -0.0003433227539062,
         "A7T0G2C1": -0.0003433227539062,
         "A7T0G3C0": -0.0001144409179687,
         "A7T1G0C2": -0.0003433227539062,
         "A7T1G1C1": 0.0093133544921875,
         "A7T1G2C0": -0.0003433227539062,
         "A7T2G0C1": -0.0003433227539062,
         "A7T2G1C0": 0.0096566772460937,
         "A7T3G0C0": -0.0001144409179687,
         "A8T0G0C2": -0.00004291534423828125,
         "A8T0G1C1": -0.0000858306884765625,
         "A8T0G2C0": -0.00004291534423828125,
         "A8T1G0C1": -0.0000858306884765625,
         "A8T1G1C0": -0.0000858306884765625,
         "A8T2G0C0": -0.00004291534423828125,
         "A9T0G0C1": -0.0000095367431640625,
         "A9T0G1C0": -0.0000095367431640625,
         "A9T1G0C0": -0.0000095367431640625,
         "A10T0G0C0": -9.5367431640625e-7,
         "target": "Enterococcus_hirae",
         "_deepnote_index_column": 4
        }
       ]
      },
      "text/plain": "   row_id     A0T0G0C10  A0T0G1C9  A0T0G2C8  A0T0G3C7  A0T0G4C6  A0T0G5C5  \\\n0       0 -9.536743e-07 -0.000010 -0.000043 -0.000114 -0.000200 -0.000240   \n1       1 -9.536743e-07 -0.000010 -0.000043  0.000886 -0.000200  0.000760   \n2       2 -9.536743e-07 -0.000002  0.000007  0.000129  0.000268  0.000270   \n3       3  4.632568e-08 -0.000006  0.000012  0.000245  0.000492  0.000522   \n4       4 -9.536743e-07 -0.000010 -0.000043 -0.000114 -0.000200 -0.000240   \n\n   A0T0G6C4  A0T0G7C3  A0T0G8C2  ...  A8T0G1C1  A8T0G2C0  A8T1G0C1  A8T1G1C0  \\\n0 -0.000200 -0.000114 -0.000043  ... -0.000086 -0.000043 -0.000086 -0.000086   \n1 -0.000200 -0.000114 -0.000043  ... -0.000086 -0.000043  0.000914  0.000914   \n2  0.000243  0.000125  0.000001  ...  0.000084  0.000048  0.000081  0.000106   \n3  0.000396  0.000197 -0.000003  ...  0.000151  0.000100  0.000180  0.000202   \n4 -0.000200 -0.000114 -0.000043  ... -0.000086 -0.000043 -0.000086 -0.000086   \n\n   A8T2G0C0  A9T0G0C1  A9T0G1C0  A9T1G0C0     A10T0G0C0  \\\n0 -0.000043 -0.000010 -0.000010 -0.000010 -9.536743e-07   \n1 -0.000043 -0.000010 -0.000010 -0.000010 -9.536743e-07   \n2  0.000072  0.000010  0.000008  0.000019  1.046326e-06   \n3  0.000153  0.000021  0.000015  0.000046 -9.536743e-07   \n4 -0.000043 -0.000010 -0.000010 -0.000010 -9.536743e-07   \n\n                   target  \n0  Streptococcus_pyogenes  \n1     Salmonella_enterica  \n2     Salmonella_enterica  \n3     Salmonella_enterica  \n4      Enterococcus_hirae  \n\n[5 rows x 288 columns]",
      "text/html": "<div>\n<style scoped>\n    .dataframe tbody tr th:only-of-type {\n        vertical-align: middle;\n    }\n\n    .dataframe tbody tr th {\n        vertical-align: top;\n    }\n\n    .dataframe thead th {\n        text-align: right;\n    }\n</style>\n<table border=\"1\" class=\"dataframe\">\n  <thead>\n    <tr style=\"text-align: right;\">\n      <th></th>\n      <th>row_id</th>\n      <th>A0T0G0C10</th>\n      <th>A0T0G1C9</th>\n      <th>A0T0G2C8</th>\n      <th>A0T0G3C7</th>\n      <th>A0T0G4C6</th>\n      <th>A0T0G5C5</th>\n      <th>A0T0G6C4</th>\n      <th>A0T0G7C3</th>\n      <th>A0T0G8C2</th>\n      <th>...</th>\n      <th>A8T0G1C1</th>\n      <th>A8T0G2C0</th>\n      <th>A8T1G0C1</th>\n      <th>A8T1G1C0</th>\n      <th>A8T2G0C0</th>\n      <th>A9T0G0C1</th>\n      <th>A9T0G1C0</th>\n      <th>A9T1G0C0</th>\n      <th>A10T0G0C0</th>\n      <th>target</th>\n    </tr>\n  </thead>\n  <tbody>\n    <tr>\n      <th>0</th>\n      <td>0</td>\n      <td>-9.536743e-07</td>\n      <td>-0.000010</td>\n      <td>-0.000043</td>\n      <td>-0.000114</td>\n      <td>-0.000200</td>\n      <td>-0.000240</td>\n      <td>-0.000200</td>\n      <td>-0.000114</td>\n      <td>-0.000043</td>\n      <td>...</td>\n      <td>-0.000086</td>\n      <td>-0.000043</td>\n      <td>-0.000086</td>\n      <td>-0.000086</td>\n      <td>-0.000043</td>\n      <td>-0.000010</td>\n      <td>-0.000010</td>\n      <td>-0.000010</td>\n      <td>-9.536743e-07</td>\n      <td>Streptococcus_pyogenes</td>\n    </tr>\n    <tr>\n      <th>1</th>\n      <td>1</td>\n      <td>-9.536743e-07</td>\n      <td>-0.000010</td>\n      <td>-0.000043</td>\n      <td>0.000886</td>\n      <td>-0.000200</td>\n      <td>0.000760</td>\n      <td>-0.000200</td>\n      <td>-0.000114</td>\n      <td>-0.000043</td>\n      <td>...</td>\n      <td>-0.000086</td>\n      <td>-0.000043</td>\n      <td>0.000914</td>\n      <td>0.000914</td>\n      <td>-0.000043</td>\n      <td>-0.000010</td>\n      <td>-0.000010</td>\n      <td>-0.000010</td>\n      <td>-9.536743e-07</td>\n      <td>Salmonella_enterica</td>\n    </tr>\n    <tr>\n      <th>2</th>\n      <td>2</td>\n      <td>-9.536743e-07</td>\n      <td>-0.000002</td>\n      <td>0.000007</td>\n      <td>0.000129</td>\n      <td>0.000268</td>\n      <td>0.000270</td>\n      <td>0.000243</td>\n      <td>0.000125</td>\n      <td>0.000001</td>\n      <td>...</td>\n      <td>0.000084</td>\n      <td>0.000048</td>\n      <td>0.000081</td>\n      <td>0.000106</td>\n      <td>0.000072</td>\n      <td>0.000010</td>\n      <td>0.000008</td>\n      <td>0.000019</td>\n      <td>1.046326e-06</td>\n      <td>Salmonella_enterica</td>\n    </tr>\n    <tr>\n      <th>3</th>\n      <td>3</td>\n      <td>4.632568e-08</td>\n      <td>-0.000006</td>\n      <td>0.000012</td>\n      <td>0.000245</td>\n      <td>0.000492</td>\n      <td>0.000522</td>\n      <td>0.000396</td>\n      <td>0.000197</td>\n      <td>-0.000003</td>\n      <td>...</td>\n      <td>0.000151</td>\n      <td>0.000100</td>\n      <td>0.000180</td>\n      <td>0.000202</td>\n      <td>0.000153</td>\n      <td>0.000021</td>\n      <td>0.000015</td>\n      <td>0.000046</td>\n      <td>-9.536743e-07</td>\n      <td>Salmonella_enterica</td>\n    </tr>\n    <tr>\n      <th>4</th>\n      <td>4</td>\n      <td>-9.536743e-07</td>\n      <td>-0.000010</td>\n      <td>-0.000043</td>\n      <td>-0.000114</td>\n      <td>-0.000200</td>\n      <td>-0.000240</td>\n      <td>-0.000200</td>\n      <td>-0.000114</td>\n      <td>-0.000043</td>\n      <td>...</td>\n      <td>-0.000086</td>\n      <td>-0.000043</td>\n      <td>-0.000086</td>\n      <td>-0.000086</td>\n      <td>-0.000043</td>\n      <td>-0.000010</td>\n      <td>-0.000010</td>\n      <td>-0.000010</td>\n      <td>-9.536743e-07</td>\n      <td>Enterococcus_hirae</td>\n    </tr>\n  </tbody>\n</table>\n<p>5 rows × 288 columns</p>\n</div>"
     },
     "metadata": {}
    }
   ]
  },
  {
   "cell_type": "code",
   "metadata": {
    "cell_id": "c21f0244-bb75-4938-b513-f163fc484d38",
    "tags": [],
    "deepnote_to_be_reexecuted": false,
    "source_hash": "4b67484f",
    "execution_start": 1645594830888,
    "execution_millis": 311,
    "deepnote_cell_type": "code"
   },
   "source": "sns.countplot(y='target',data=raw_train)",
   "execution_count": 4,
   "outputs": [
    {
     "output_type": "execute_result",
     "execution_count": 4,
     "data": {
      "text/plain": "<AxesSubplot:xlabel='count', ylabel='target'>"
     },
     "metadata": {}
    },
    {
     "data": {
      "text/plain": "<Figure size 432x288 with 1 Axes>",
      "image/png": "[encoded data removed]"
     },
     "metadata": {
      "needs_background": "light",
      "image/png": {
       "width": 509,
       "height": 262
      }
     },
     "output_type": "display_data"
    }
   ]
  },
  {
   "cell_type": "code",
   "metadata": {
    "cell_id": "da26de40-3fb2-4602-8f7a-6fec97aae0d8",
    "tags": [],
    "deepnote_to_be_reexecuted": false,
    "source_hash": "2155851f",
    "execution_start": 1645594831202,
    "execution_millis": 558,
    "deepnote_cell_type": "code"
   },
   "source": "raw_train[raw_train.columns[-5:-1]].hist()\nplt.tight_layout()",
   "execution_count": 5,
   "outputs": [
    {
     "data": {
      "text/plain": "<Figure size 432x288 with 4 Axes>",
      "image/png": "[encoded data removed]"
     },
     "metadata": {
      "needs_background": "light",
      "image/png": {
       "width": 427,
       "height": 280
      }
     },
     "output_type": "display_data"
    }
   ]
  },
  {
   "cell_type": "code",
   "metadata": {
    "cell_id": "353bf308-200b-40ae-97df-7d59b1cadc80",
    "tags": [],
    "deepnote_to_be_reexecuted": false,
    "source_hash": "213f1496",
    "execution_start": 1645594831764,
    "execution_millis": 34,
    "is_code_hidden": true,
    "deepnote_cell_type": "code"
   },
   "source": "print(\"Total Samples: \", len(raw_train), \"\\nNaN Samples: \", len(raw_train.dropna()),\n\"\\nBecause the difference is only one record, I will drop this one record before splitting the data and \\npreparing it for analysis.\")",
   "execution_count": 6,
   "outputs": [
    {
     "name": "stdout",
     "text": "Total Samples:  19421 \nNaN Samples:  19420 \nBecause the difference is only one record, I will drop this one record before splitting the data and \npreparing it for analysis.\n",
     "output_type": "stream"
    }
   ]
  },
  {
   "cell_type": "code",
   "metadata": {
    "cell_id": "e7d7be08-4541-4da9-a697-54b1fa0703f5",
    "tags": [],
    "deepnote_to_be_reexecuted": false,
    "source_hash": "421c3c",
    "execution_start": 1645594831799,
    "execution_millis": 142,
    "deepnote_cell_type": "code"
   },
   "source": "raw_train = raw_train.dropna()\ntrain = raw_train.iloc[:,:-1].drop('row_id', axis=1)\ntest = raw_test.drop('row_id', axis=1)\ntarget = raw_train.iloc[:,-1]",
   "execution_count": 7,
   "outputs": []
  },
  {
   "cell_type": "code",
   "metadata": {
    "cell_id": "dfd881b6-6b36-4a9f-9afa-ab0673770db4",
    "tags": [],
    "deepnote_to_be_reexecuted": false,
    "source_hash": "5ba3788f",
    "execution_start": 1645594831945,
    "execution_millis": 9,
    "deepnote_cell_type": "code"
   },
   "source": "enc = LabelEncoder().fit(target)\ntarget = enc.transform(target)\n\nprint(enc.classes_,target)",
   "execution_count": 8,
   "outputs": [
    {
     "name": "stdout",
     "text": "['Bacteroides_fragilis' 'Campylobacter_jejuni' 'Enterococcus_hirae'\n 'Escherichia_coli' 'Escherichia_fergusonii' 'Klebsiella_pneumoniae'\n 'Salmonella_enterica' 'Staphylococcus_aureus' 'Streptococcus_pneumoniae'\n 'Streptococcus_pyogenes'] [9 6 6 ... 5 6 4]\n",
     "output_type": "stream"
    }
   ]
  },
  {
   "cell_type": "markdown",
   "source": "### Model 1: Gaussian Mixture Model",
   "metadata": {
    "cell_id": "a56b1016-1be7-4aed-a299-a1cb3868253d",
    "tags": [],
    "is_collapsed": false,
    "deepnote_cell_type": "text-cell-h3"
   }
  },
  {
   "cell_type": "markdown",
   "source": "",
   "metadata": {
    "cell_id": "b7e917f0-c021-4ec9-b350-410d0f0bc91d",
    "tags": [],
    "is_collapsed": false,
    "deepnote_cell_type": "text-cell-p"
   }
  },
  {
   "cell_type": "code",
   "metadata": {
    "cell_id": "1f69c064-6ad6-42a3-9af3-4e93817af08d",
    "tags": [],
    "deepnote_to_be_reexecuted": false,
    "source_hash": "3e8aa4dc",
    "execution_start": 1645594831956,
    "execution_millis": 196,
    "deepnote_cell_type": "code"
   },
   "source": "# X_train, X_val, y_train, y_val = train_test_split()",
   "execution_count": 9,
   "outputs": [
    {
     "output_type": "error",
     "ename": "ValueError",
     "evalue": "At least one array required as input",
     "traceback": [
      "\u001b[0;31m---------------------------------------------------------------------------\u001b[0m",
      "\u001b[0;31mValueError\u001b[0m                                Traceback (most recent call last)",
      "\u001b[0;32m<ipython-input-9-f8098a989e91>\u001b[0m in \u001b[0;36m<module>\u001b[0;34m\u001b[0m\n\u001b[0;32m----> 1\u001b[0;31m \u001b[0mX_train\u001b[0m\u001b[0;34m,\u001b[0m \u001b[0mX_val\u001b[0m\u001b[0;34m,\u001b[0m \u001b[0my_train\u001b[0m\u001b[0;34m,\u001b[0m \u001b[0my_val\u001b[0m \u001b[0;34m=\u001b[0m \u001b[0mtrain_test_split\u001b[0m\u001b[0;34m(\u001b[0m\u001b[0;34m)\u001b[0m\u001b[0;34m\u001b[0m\u001b[0;34m\u001b[0m\u001b[0m\n\u001b[0m",
      "\u001b[0;32m/shared-libs/python3.9/py/lib/python3.9/site-packages/sklearn/model_selection/_split.py\u001b[0m in \u001b[0;36mtrain_test_split\u001b[0;34m(test_size, train_size, random_state, shuffle, stratify, *arrays)\u001b[0m\n\u001b[1;32m   2413\u001b[0m     \u001b[0mn_arrays\u001b[0m \u001b[0;34m=\u001b[0m \u001b[0mlen\u001b[0m\u001b[0;34m(\u001b[0m\u001b[0marrays\u001b[0m\u001b[0;34m)\u001b[0m\u001b[0;34m\u001b[0m\u001b[0;34m\u001b[0m\u001b[0m\n\u001b[1;32m   2414\u001b[0m     \u001b[0;32mif\u001b[0m \u001b[0mn_arrays\u001b[0m \u001b[0;34m==\u001b[0m \u001b[0;36m0\u001b[0m\u001b[0;34m:\u001b[0m\u001b[0;34m\u001b[0m\u001b[0;34m\u001b[0m\u001b[0m\n\u001b[0;32m-> 2415\u001b[0;31m         \u001b[0;32mraise\u001b[0m \u001b[0mValueError\u001b[0m\u001b[0;34m(\u001b[0m\u001b[0;34m\"At least one array required as input\"\u001b[0m\u001b[0;34m)\u001b[0m\u001b[0;34m\u001b[0m\u001b[0;34m\u001b[0m\u001b[0m\n\u001b[0m\u001b[1;32m   2416\u001b[0m \u001b[0;34m\u001b[0m\u001b[0m\n\u001b[1;32m   2417\u001b[0m     \u001b[0marrays\u001b[0m \u001b[0;34m=\u001b[0m \u001b[0mindexable\u001b[0m\u001b[0;34m(\u001b[0m\u001b[0;34m*\u001b[0m\u001b[0marrays\u001b[0m\u001b[0;34m)\u001b[0m\u001b[0;34m\u001b[0m\u001b[0;34m\u001b[0m\u001b[0m\n",
      "\u001b[0;31mValueError\u001b[0m: At least one array required as input"
     ]
    }
   ]
  },
  {
   "cell_type": "code",
   "metadata": {
    "cell_id": "93d46763-cfc4-4648-8749-bc719e9363b5",
    "tags": [],
    "deepnote_to_be_reexecuted": false,
    "source_hash": "59d462aa",
    "execution_start": 1645594856858,
    "execution_millis": 1,
    "deepnote_cell_type": "code"
   },
   "source": "models = []",
   "execution_count": 10,
   "outputs": []
  },
  {
   "cell_type": "code",
   "metadata": {
    "cell_id": "681e03b6-874d-425d-9b32-f1c6a565e223",
    "tags": [],
    "deepnote_to_be_reexecuted": false,
    "source_hash": "7446076",
    "execution_start": 1645594859464,
    "execution_millis": 15450,
    "deepnote_cell_type": "code"
   },
   "source": "for train_index, test_index in StratifiedKFold(n_splits=9).split(train, target):\n    knn = KNeighborsClassifier(n_neighbors=len(enc.classes_))\n    knn.fit(train.loc[train_index], target[train_index])\n    res = knn.predict(train.loc[test_index])\n    models.append((knn, accuracy_score(target[test_index], res)))",
   "execution_count": 11,
   "outputs": []
  },
  {
   "cell_type": "code",
   "metadata": {
    "cell_id": "e6c2aaaa-c30c-46b0-91a7-42955f866fbb",
    "tags": [],
    "deepnote_to_be_reexecuted": false,
    "source_hash": "6d6890ff",
    "execution_start": 1645594874919,
    "execution_millis": 20,
    "deepnote_cell_type": "code"
   },
   "source": "models",
   "execution_count": 12,
   "outputs": [
    {
     "output_type": "execute_result",
     "execution_count": 12,
     "data": {
      "text/plain": "[(KNeighborsClassifier(n_neighbors=10), 0.8424467099165894),\n (KNeighborsClassifier(n_neighbors=10), 0.8410565338276181),\n (KNeighborsClassifier(n_neighbors=10), 0.8317886932344764),\n (KNeighborsClassifier(n_neighbors=10), 0.8313253012048193),\n (KNeighborsClassifier(n_neighbors=10), 0.8229842446709916),\n (KNeighborsClassifier(n_neighbors=10), 0.8257645968489342),\n (KNeighborsClassifier(n_neighbors=10), 0.8141797961075069),\n (KNeighborsClassifier(n_neighbors=10), 0.8344923504867872),\n (KNeighborsClassifier(n_neighbors=10), 0.8349559573481687)]"
     },
     "metadata": {}
    }
   ]
  },
  {
   "cell_type": "code",
   "metadata": {
    "cell_id": "c2d22fd3-25c4-44a2-b84a-a159f70fd85d",
    "tags": [],
    "deepnote_to_be_reexecuted": false,
    "source_hash": "9294b3af",
    "execution_start": 1645594874938,
    "execution_millis": 52583,
    "deepnote_cell_type": "code"
   },
   "source": "model, result = models[0]\ntest_res = model.predict(test)",
   "execution_count": 13,
   "outputs": []
  },
  {
   "cell_type": "code",
   "metadata": {
    "cell_id": "83ca505c-ff60-4b41-9346-c194e79f5481",
    "tags": [],
    "deepnote_to_be_reexecuted": false,
    "source_hash": "439a241",
    "execution_start": 1645595382443,
    "execution_millis": 5,
    "deepnote_cell_type": "code"
   },
   "source": "test_res_labeled = enc.inverse_transform(test_res)\nfinal = pd.DataFrame(test_res_labeled, index=raw_test.row_id, \n                    columns=['target'])#.reset_index(col_fill='row_id')\nfinal.index.name = 'row_id'",
   "execution_count": 19,
   "outputs": []
  },
  {
   "cell_type": "code",
   "metadata": {
    "cell_id": "046eff02-8ece-4513-ac59-6cacadc4bb7c",
    "tags": [],
    "deepnote_to_be_reexecuted": false,
    "source_hash": "8c094222",
    "execution_start": 1645595384722,
    "execution_millis": 212,
    "deepnote_cell_type": "code"
   },
   "source": "final.to_csv('/work/tabular-playground-series-feb-2022/submission.csv')",
   "execution_count": 20,
   "outputs": []
  },
  {
   "cell_type": "markdown",
   "source": "When this csv was uploaded to Kaggle, the results were 80% accurate. Although most of the models have a 90% accuracy score or above, this is a good benchmark model to continuing to work on this challenge until the February playground challenge! Excited to submit more results.",
   "metadata": {
    "cell_id": "8bf16905-66f3-49a1-a42c-e2138df17ad5",
    "tags": [],
    "is_collapsed": false,
    "deepnote_cell_type": "text-cell-p"
   }
  },
  {
   "cell_type": "markdown",
   "source": "### Model 2: Random Forest",
   "metadata": {
    "cell_id": "2042874e-448b-4894-a649-342cbb49fcad",
    "tags": [],
    "is_collapsed": false,
    "deepnote_cell_type": "text-cell-h3"
   }
  },
  {
   "cell_type": "markdown",
   "source": "<a style='text-decoration:none;line-height:16px;display:flex;color:#5B5B62;padding:10px;justify-content:end;' href='https://deepnote.com?utm_source=created-in-deepnote-cell&projectId=45ed05e0-f62f-4c72-a058-9ea7964d8a5d' target=\"_blank\">\n<img alt='Created in deepnote.com' style='display:inline;max-height:16px;margin:0px;margin-right:7.5px;' src='data:image/svg+xml;base64,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' > </img>\nCreated in <span style='font-weight:600;margin-left:4px;'>Deepnote</span></a>",
   "metadata": {
    "tags": [],
    "created_in_deepnote_cell": true,
    "deepnote_cell_type": "markdown"
   }
  }
 ],
 "nbformat": 4,
 "nbformat_minor": 2,
 "metadata": {
  "orig_nbformat": 2,
  "deepnote": {
   "is_reactive": false
  },
  "deepnote_notebook_id": "4e336c99-716d-4e1f-b0d2-c5672e7951ac",
  "deepnote_execution_queue": []
 }
}