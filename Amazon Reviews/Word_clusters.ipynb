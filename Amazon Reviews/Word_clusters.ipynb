{
 "cells": [
  {
   "cell_type": "markdown",
   "source": "# Amazon Review Data",
   "metadata": {
    "formattedRanges": [],
    "cell_id": "3ccb15b1-c73c-43d4-b260-a505bf4cea4b",
    "tags": [],
    "is_collapsed": false,
    "deepnote_cell_type": "text-cell-h1"
   }
  },
  {
   "cell_type": "markdown",
   "source": "## Data profiling, data visualization, statistical testing, and machine learning",
   "metadata": {
    "formattedRanges": [],
    "cell_id": "b7340602-cd7e-4cb5-a171-232865b9a11a",
    "tags": [],
    "is_collapsed": false,
    "deepnote_cell_type": "text-cell-h2"
   }
  },
  {
   "cell_type": "code",
   "metadata": {
    "tags": [],
    "deepnote_to_be_reexecuted": false,
    "source_hash": "1f34f250",
    "execution_start": 1647818361683,
    "execution_millis": 10,
    "cell_id": "00000-7c9de0a9-bf0b-498d-b71d-18b75ae61ccb",
    "deepnote_cell_type": "code",
    "deepnote_cell_height": 405
   },
   "source": "import torch\nimport torchtext\nfrom torchvision import io\nfrom torch.utils import data\nfrom torchtext.legacy.data import TabularDataset, Field\n\nimport pandas as pd\nimport numpy as np\nimport seaborn as sns\nimport matplotlib.pyplot as plt\nfrom pandas_profiling import ProfileReport\n\nfrom scipy.stats import t, ttest_ind\n\nfrom sklearn.feature_extraction.text import TfidfVectorizer\nfrom sklearn.pipeline import make_pipeline\nfrom sklearn.feature_extraction.text import CountVectorizer\n\nsns.set_style('darkgrid')",
   "execution_count": null,
   "outputs": []
  },
  {
   "cell_type": "code",
   "metadata": {
    "tags": [],
    "deepnote_to_be_reexecuted": false,
    "source_hash": "bf7e71e8",
    "execution_start": 1647817338088,
    "execution_millis": 501,
    "cell_id": "00001-bde14b41-4858-43eb-9f05-9b284ad09507",
    "deepnote_cell_type": "code",
    "deepnote_cell_height": 111.6875
   },
   "source": "!ls /datasets/the-multilingual-amazon-reviews-corpus",
   "execution_count": null,
   "outputs": [
    {
     "name": "stdout",
     "text": "dataset_en_dev.json  dataset_en_test.json  dataset_en_train.json\r\n",
     "output_type": "stream"
    }
   ]
  },
  {
   "cell_type": "code",
   "metadata": {
    "tags": [],
    "deepnote_to_be_reexecuted": false,
    "source_hash": "2433ae8",
    "execution_start": 1647817662507,
    "execution_millis": 4411,
    "cell_id": "00002-074ee712-56c7-4233-99a9-b5087150ad0d",
    "owner_user_id": "6a3e6705-6df2-4ee7-b8ab-c6542d9bf9fe",
    "deepnote_cell_type": "code",
    "deepnote_cell_height": 117
   },
   "source": "train = pd.read_json('/datasets/the-multilingual-amazon-reviews-corpus/dataset_en_train.json', lines=True)\ntest = pd.read_json('/datasets/the-multilingual-amazon-reviews-corpus/dataset_en_test.json', lines=True)\ndev = pd.read_json('/datasets/the-multilingual-amazon-reviews-corpus/dataset_en_dev.json', lines=True)",
   "execution_count": null,
   "outputs": []
  },
  {
   "cell_type": "markdown",
   "source": "## Exploring the training data\n\nThere are 3 files included in the dataset. To get a sense of the data, I will perform some exploratory tasks to explain the dataset better.",
   "metadata": {
    "tags": [],
    "cell_id": "00003-399380fc-c8cc-4e99-b1bd-2162f1d1cdfa",
    "deepnote_cell_type": "markdown",
    "deepnote_cell_height": 130.796875
   }
  },
  {
   "cell_type": "code",
   "metadata": {
    "tags": [],
    "deepnote_to_be_reexecuted": false,
    "source_hash": "a37b3354",
    "execution_start": 1647817891083,
    "execution_millis": 42,
    "is_code_hidden": false,
    "cell_id": "00004-d481c4a0-6ae2-4e41-a666-6bc371a664cf",
    "deepnote_cell_type": "code",
    "deepnote_cell_height": 313
   },
   "source": "train.head(3)",
   "execution_count": null,
   "outputs": [
    {
     "output_type": "execute_result",
     "execution_count": 7,
     "data": {
      "application/vnd.deepnote.dataframe.v3+json": {
       "column_count": 8,
       "row_count": 3,
       "columns": [
        {
         "name": "review_id",
         "dtype": "object",
         "stats": {
          "unique_count": 3,
          "nan_count": 0,
          "categories": [
           {
            "name": "en_0964290",
            "count": 1
           },
           {
            "name": "en_0690095",
            "count": 1
           },
           {
            "name": "en_0311558",
            "count": 1
           }
          ]
         }
        },
        {
         "name": "product_id",
         "dtype": "object",
         "stats": {
          "unique_count": 3,
          "nan_count": 0,
          "categories": [
           {
            "name": "product_en_0740675",
            "count": 1
           },
           {
            "name": "product_en_0440378",
            "count": 1
           },
           {
            "name": "product_en_0399702",
            "count": 1
           }
          ]
         }
        },
        {
         "name": "reviewer_id",
         "dtype": "object",
         "stats": {
          "unique_count": 3,
          "nan_count": 0,
          "categories": [
           {
            "name": "reviewer_en_0342986",
            "count": 1
           },
           {
            "name": "reviewer_en_0133349",
            "count": 1
           },
           {
            "name": "reviewer_en_0152034",
            "count": 1
           }
          ]
         }
        },
        {
         "name": "stars",
         "dtype": "int64",
         "stats": {
          "unique_count": 1,
          "nan_count": 0,
          "min": "1",
          "max": "1",
          "histogram": [
           {
            "bin_start": 0.5,
            "bin_end": 0.6,
            "count": 0
           },
           {
            "bin_start": 0.6,
            "bin_end": 0.7,
            "count": 0
           },
           {
            "bin_start": 0.7,
            "bin_end": 0.8,
            "count": 0
           },
           {
            "bin_start": 0.8,
            "bin_end": 0.9,
            "count": 0
           },
           {
            "bin_start": 0.9,
            "bin_end": 1,
            "count": 0
           },
           {
            "bin_start": 1,
            "bin_end": 1.1,
            "count": 3
           },
           {
            "bin_start": 1.1,
            "bin_end": 1.2000000000000002,
            "count": 0
           },
           {
            "bin_start": 1.2000000000000002,
            "bin_end": 1.3,
            "count": 0
           },
           {
            "bin_start": 1.3,
            "bin_end": 1.4,
            "count": 0
           },
           {
            "bin_start": 1.4,
            "bin_end": 1.5,
            "count": 0
           }
          ]
         }
        },
        {
         "name": "review_body",
         "dtype": "object",
         "stats": {
          "unique_count": 3,
          "nan_count": 0,
          "categories": [
           {
            "name": "Arrived broken. Manufacturer defect. Two of the legs of the base were not completely formed, so there was no way to insert the casters. I unpackaged the entire chair and hardware before noticing this. So, I'll spend twice the amount of time boxing up the whole useless thing and send it back with a 1-star review of part of a chair I never got to sit in. I will go so far as to include a picture of what their injection molding and quality assurance process missed though. I will be hesitant to buy again. It makes me wonder if there aren't missing structures and supports that don't impede the assembly process.",
            "count": 1
           },
           {
            "name": "the cabinet dot were all detached from backing... got me",
            "count": 1
           },
           {
            "name": "I received my first order of this product and it was broke so I ordered it again. The second one was broke in more places than the first. I can't blame the shipping process as it's shrink wrapped and boxed.",
            "count": 1
           }
          ]
         }
        },
        {
         "name": "review_title",
         "dtype": "object",
         "stats": {
          "unique_count": 3,
          "nan_count": 0,
          "categories": [
           {
            "name": "I'll spend twice the amount of time boxing up the whole useless thing and send it back with a 1-star review ...",
            "count": 1
           },
           {
            "name": "Not use able",
            "count": 1
           },
           {
            "name": "The product is junk.",
            "count": 1
           }
          ]
         }
        },
        {
         "name": "language",
         "dtype": "object",
         "stats": {
          "unique_count": 1,
          "nan_count": 0,
          "categories": [
           {
            "name": "en",
            "count": 3
           }
          ]
         }
        },
        {
         "name": "product_category",
         "dtype": "object",
         "stats": {
          "unique_count": 3,
          "nan_count": 0,
          "categories": [
           {
            "name": "furniture",
            "count": 1
           },
           {
            "name": "home_improvement",
            "count": 1
           },
           {
            "name": "home",
            "count": 1
           }
          ]
         }
        },
        {
         "name": "_deepnote_index_column",
         "dtype": "int64"
        }
       ],
       "rows": [
        {
         "review_id": "en_0964290",
         "product_id": "product_en_0740675",
         "reviewer_id": "reviewer_en_0342986",
         "stars": 1,
         "review_body": "Arrived broken. Manufacturer defect. Two of the legs of the base were not completely formed, so the…",
         "review_title": "I'll spend twice the amount of time boxing up the whole useless thing and send it back with a 1-sta…",
         "language": "en",
         "product_category": "furniture",
         "_deepnote_index_column": 0
        },
        {
         "review_id": "en_0690095",
         "product_id": "product_en_0440378",
         "reviewer_id": "reviewer_en_0133349",
         "stars": 1,
         "review_body": "the cabinet dot were all detached from backing... got me",
         "review_title": "Not use able",
         "language": "en",
         "product_category": "home_improvement",
         "_deepnote_index_column": 1
        },
        {
         "review_id": "en_0311558",
         "product_id": "product_en_0399702",
         "reviewer_id": "reviewer_en_0152034",
         "stars": 1,
         "review_body": "I received my first order of this product and it was broke so I ordered it again. The second one wa…",
         "review_title": "The product is junk.",
         "language": "en",
         "product_category": "home",
         "_deepnote_index_column": 2
        }
       ]
      },
      "text/plain": "    review_id          product_id          reviewer_id  stars  \\\n0  en_0964290  product_en_0740675  reviewer_en_0342986      1   \n1  en_0690095  product_en_0440378  reviewer_en_0133349      1   \n2  en_0311558  product_en_0399702  reviewer_en_0152034      1   \n\n                                         review_body  \\\n0  Arrived broken. Manufacturer defect. Two of th...   \n1  the cabinet dot were all detached from backing...   \n2  I received my first order of this product and ...   \n\n                                        review_title language  \\\n0  I'll spend twice the amount of time boxing up ...       en   \n1                                       Not use able       en   \n2                               The product is junk.       en   \n\n   product_category  \n0         furniture  \n1  home_improvement  \n2              home  ",
      "text/html": "<div>\n<style scoped>\n    .dataframe tbody tr th:only-of-type {\n        vertical-align: middle;\n    }\n\n    .dataframe tbody tr th {\n        vertical-align: top;\n    }\n\n    .dataframe thead th {\n        text-align: right;\n    }\n</style>\n<table border=\"1\" class=\"dataframe\">\n  <thead>\n    <tr style=\"text-align: right;\">\n      <th></th>\n      <th>review_id</th>\n      <th>product_id</th>\n      <th>reviewer_id</th>\n      <th>stars</th>\n      <th>review_body</th>\n      <th>review_title</th>\n      <th>language</th>\n      <th>product_category</th>\n    </tr>\n  </thead>\n  <tbody>\n    <tr>\n      <th>0</th>\n      <td>en_0964290</td>\n      <td>product_en_0740675</td>\n      <td>reviewer_en_0342986</td>\n      <td>1</td>\n      <td>Arrived broken. Manufacturer defect. Two of th...</td>\n      <td>I'll spend twice the amount of time boxing up ...</td>\n      <td>en</td>\n      <td>furniture</td>\n    </tr>\n    <tr>\n      <th>1</th>\n      <td>en_0690095</td>\n      <td>product_en_0440378</td>\n      <td>reviewer_en_0133349</td>\n      <td>1</td>\n      <td>the cabinet dot were all detached from backing...</td>\n      <td>Not use able</td>\n      <td>en</td>\n      <td>home_improvement</td>\n    </tr>\n    <tr>\n      <th>2</th>\n      <td>en_0311558</td>\n      <td>product_en_0399702</td>\n      <td>reviewer_en_0152034</td>\n      <td>1</td>\n      <td>I received my first order of this product and ...</td>\n      <td>The product is junk.</td>\n      <td>en</td>\n      <td>home</td>\n    </tr>\n  </tbody>\n</table>\n</div>"
     },
     "metadata": {}
    }
   ]
  },
  {
   "cell_type": "code",
   "metadata": {
    "tags": [],
    "deepnote_to_be_reexecuted": false,
    "source_hash": "3c74b26a",
    "execution_start": 1647817892129,
    "execution_millis": 1674,
    "is_code_hidden": false,
    "cell_id": "00006-aa0e55f4-8708-49ec-be49-5757fe2611b6",
    "deepnote_cell_type": "code",
    "deepnote_cell_height": 816
   },
   "source": "# Looking at the number of reviews and the mean rating for the individual products\nproduct_summary = train.groupby(['product_id', 'product_category'], as_index=False)\\\n                        .agg({'review_id':'count','stars':'mean'})\\\n                        .sort_values('review_id', ascending=False)\n\n# Add the denominator for the weights for the summary stastic of weighted average in the products by category\nproduct_summary['total_categ_reviews'] = product_summary.groupby('product_category')['review_id']\\\n                                                 .transform(np.sum)\n\nproduct_summary['weights'] =  product_summary['review_id'] / product_summary['total_categ_reviews']\nproduct_summary = product_summary.rename(columns={'review_id':'review_count', 'stars':'average_stars'})\n\nproduct_summary",
   "execution_count": null,
   "outputs": [
    {
     "output_type": "execute_result",
     "execution_count": 8,
     "data": {
      "application/vnd.deepnote.dataframe.v3+json": {
       "column_count": 6,
       "row_count": 185541,
       "columns": [
        {
         "name": "product_id",
         "dtype": "object"
        },
        {
         "name": "product_category",
         "dtype": "object"
        },
        {
         "name": "review_count",
         "dtype": "int64"
        },
        {
         "name": "average_stars",
         "dtype": "float64"
        },
        {
         "name": "total_categ_reviews",
         "dtype": "int64"
        },
        {
         "name": "weights",
         "dtype": "float64"
        },
        {
         "name": "_deepnote_index_column",
         "dtype": "int64"
        }
       ],
       "rows": [
        {
         "product_id": "product_en_0184780",
         "product_category": "home",
         "review_count": 6,
         "average_stars": 2.8333333333333335,
         "total_categ_reviews": 17679,
         "weights": 0.00033938571186153065,
         "_deepnote_index_column": 34011
        },
        {
         "product_id": "product_en_0491284",
         "product_category": "automotive",
         "review_count": 5,
         "average_stars": 2.8,
         "total_categ_reviews": 7506,
         "weights": 0.0006661337596589396,
         "_deepnote_index_column": 91250
        },
        {
         "product_id": "product_en_0420950",
         "product_category": "lawn_and_garden",
         "review_count": 5,
         "average_stars": 2.4,
         "total_categ_reviews": 7327,
         "weights": 0.0006824075337791729,
         "_deepnote_index_column": 78050
        },
        {
         "product_id": "product_en_0061393",
         "product_category": "other",
         "review_count": 5,
         "average_stars": 2.4,
         "total_categ_reviews": 13418,
         "weights": 0.0003726337755254136,
         "_deepnote_index_column": 11380
        },
        {
         "product_id": "product_en_0584134",
         "product_category": "kitchen",
         "review_count": 5,
         "average_stars": 2,
         "total_categ_reviews": 10382,
         "weights": 0.0004816027740319784,
         "_deepnote_index_column": 108271
        },
        {
         "product_id": "product_en_0209329",
         "product_category": "grocery",
         "review_count": 5,
         "average_stars": 2.8,
         "total_categ_reviews": 4730,
         "weights": 0.0010570824524312897,
         "_deepnote_index_column": 38776
        },
        {
         "product_id": "product_en_0207468",
         "product_category": "baby_product",
         "review_count": 5,
         "average_stars": 2.6,
         "total_categ_reviews": 3150,
         "weights": 0.0015873015873015873,
         "_deepnote_index_column": 38399
        },
        {
         "product_id": "product_en_0538497",
         "product_category": "office_product",
         "review_count": 5,
         "average_stars": 3,
         "total_categ_reviews": 5521,
         "weights": 0.0009056330374932077,
         "_deepnote_index_column": 99880
        },
        {
         "product_id": "product_en_0977951",
         "product_category": "home",
         "review_count": 5,
         "average_stars": 3.4,
         "total_categ_reviews": 17679,
         "weights": 0.0002828214265512755,
         "_deepnote_index_column": 181380
        },
        {
         "product_id": "product_en_0360338",
         "product_category": "electronics",
         "review_count": 5,
         "average_stars": 2.8,
         "total_categ_reviews": 6186,
         "weights": 0.0008082767539605561,
         "_deepnote_index_column": 66811
        }
       ]
      },
      "text/plain": "                product_id product_category  review_count  average_stars  \\\n34011   product_en_0184780             home             6       2.833333   \n91250   product_en_0491284       automotive             5       2.800000   \n78050   product_en_0420950  lawn_and_garden             5       2.400000   \n11380   product_en_0061393            other             5       2.400000   \n108271  product_en_0584134          kitchen             5       2.000000   \n...                    ...              ...           ...            ...   \n64109   product_en_0345967          kitchen             1       3.000000   \n64110   product_en_0345972             home             1       1.000000   \n64111   product_en_0345976              toy             1       2.000000   \n64112   product_en_0345977             book             1       3.000000   \n185540  product_en_0999988          jewelry             1       1.000000   \n\n        total_categ_reviews   weights  \n34011                 17679  0.000339  \n91250                  7506  0.000666  \n78050                  7327  0.000682  \n11380                 13418  0.000373  \n108271                10382  0.000482  \n...                     ...       ...  \n64109                 10382  0.000096  \n64110                 17679  0.000057  \n64111                  8745  0.000114  \n64112                  3756  0.000266  \n185540                 2747  0.000364  \n\n[185541 rows x 6 columns]",
      "text/html": "<div>\n<style scoped>\n    .dataframe tbody tr th:only-of-type {\n        vertical-align: middle;\n    }\n\n    .dataframe tbody tr th {\n        vertical-align: top;\n    }\n\n    .dataframe thead th {\n        text-align: right;\n    }\n</style>\n<table border=\"1\" class=\"dataframe\">\n  <thead>\n    <tr style=\"text-align: right;\">\n      <th></th>\n      <th>product_id</th>\n      <th>product_category</th>\n      <th>review_count</th>\n      <th>average_stars</th>\n      <th>total_categ_reviews</th>\n      <th>weights</th>\n    </tr>\n  </thead>\n  <tbody>\n    <tr>\n      <th>34011</th>\n      <td>product_en_0184780</td>\n      <td>home</td>\n      <td>6</td>\n      <td>2.833333</td>\n      <td>17679</td>\n      <td>0.000339</td>\n    </tr>\n    <tr>\n      <th>91250</th>\n      <td>product_en_0491284</td>\n      <td>automotive</td>\n      <td>5</td>\n      <td>2.800000</td>\n      <td>7506</td>\n      <td>0.000666</td>\n    </tr>\n    <tr>\n      <th>78050</th>\n      <td>product_en_0420950</td>\n      <td>lawn_and_garden</td>\n      <td>5</td>\n      <td>2.400000</td>\n      <td>7327</td>\n      <td>0.000682</td>\n    </tr>\n    <tr>\n      <th>11380</th>\n      <td>product_en_0061393</td>\n      <td>other</td>\n      <td>5</td>\n      <td>2.400000</td>\n      <td>13418</td>\n      <td>0.000373</td>\n    </tr>\n    <tr>\n      <th>108271</th>\n      <td>product_en_0584134</td>\n      <td>kitchen</td>\n      <td>5</td>\n      <td>2.000000</td>\n      <td>10382</td>\n      <td>0.000482</td>\n    </tr>\n    <tr>\n      <th>...</th>\n      <td>...</td>\n      <td>...</td>\n      <td>...</td>\n      <td>...</td>\n      <td>...</td>\n      <td>...</td>\n    </tr>\n    <tr>\n      <th>64109</th>\n      <td>product_en_0345967</td>\n      <td>kitchen</td>\n      <td>1</td>\n      <td>3.000000</td>\n      <td>10382</td>\n      <td>0.000096</td>\n    </tr>\n    <tr>\n      <th>64110</th>\n      <td>product_en_0345972</td>\n      <td>home</td>\n      <td>1</td>\n      <td>1.000000</td>\n      <td>17679</td>\n      <td>0.000057</td>\n    </tr>\n    <tr>\n      <th>64111</th>\n      <td>product_en_0345976</td>\n      <td>toy</td>\n      <td>1</td>\n      <td>2.000000</td>\n      <td>8745</td>\n      <td>0.000114</td>\n    </tr>\n    <tr>\n      <th>64112</th>\n      <td>product_en_0345977</td>\n      <td>book</td>\n      <td>1</td>\n      <td>3.000000</td>\n      <td>3756</td>\n      <td>0.000266</td>\n    </tr>\n    <tr>\n      <th>185540</th>\n      <td>product_en_0999988</td>\n      <td>jewelry</td>\n      <td>1</td>\n      <td>1.000000</td>\n      <td>2747</td>\n      <td>0.000364</td>\n    </tr>\n  </tbody>\n</table>\n<p>185541 rows × 6 columns</p>\n</div>"
     },
     "metadata": {}
    }
   ]
  },
  {
   "cell_type": "code",
   "metadata": {
    "tags": [],
    "deepnote_to_be_reexecuted": false,
    "source_hash": "31933678",
    "execution_start": 1647818951311,
    "execution_millis": 2473,
    "is_code_hidden": false,
    "cell_id": "00007-bcb7be6c-9518-4ba4-8f56-c4b06ba00c76",
    "deepnote_cell_type": "code",
    "deepnote_cell_height": 720,
    "deepnote_output_heights": [
     515
    ]
   },
   "source": "categories_summary = train.groupby('product_category').agg({'review_id':'count','stars':'mean'})\ncateg_scatter = sns.scatterplot(x='review_id', y='stars', data=categories_summary, hue='product_category')\ncateg_scatter.legend(bbox_to_anchor=(1, 1), loc=2)\ncateg_scatter.set(title=\"Mean number of stars for Amazon categories\", \n                  xlabel='Number of Review', \n                  ylabel='Average Number of Stars')\nplt.show()",
   "execution_count": null,
   "outputs": [
    {
     "data": {
      "text/plain": "<Figure size 432x288 with 1 Axes>",
      "image/png": "[encoded data removed]"
     },
     "metadata": {
      "image/png": {
       "width": 555,
       "height": 513
      }
     },
     "output_type": "display_data"
    }
   ]
  },
  {
   "cell_type": "markdown",
   "source": "## Comparing Category Performance",
   "metadata": {
    "formattedRanges": [],
    "cell_id": "45cc81f6-4446-44f3-8015-ea966f4ee82c",
    "tags": [],
    "is_collapsed": false,
    "deepnote_cell_type": "text-cell-h2"
   }
  },
  {
   "cell_type": "markdown",
   "source": "Ecommerce categories are very good to monitor at a high level. Some executives are looking to understand, at a high level, where are the consumer dollars going. It can help support narratives to place more advertising dollars in that category, or it can be a good way to understand where to look next as an analyst.",
   "metadata": {
    "formattedRanges": [],
    "cell_id": "a395ec8b-6a45-415c-8da1-d5e0e9054b8b",
    "tags": [],
    "is_collapsed": false,
    "deepnote_cell_type": "text-cell-p"
   }
  },
  {
   "cell_type": "markdown",
   "source": "I will first perform student t-tests to understand if the means between two categories are significantly different. The test is supporting whether a category is outperformed another in this training review set.",
   "metadata": {
    "formattedRanges": [],
    "cell_id": "58d96d45-9c3d-47e3-8258-a5a03fdc0e70",
    "tags": [],
    "is_collapsed": false,
    "deepnote_cell_type": "text-cell-p"
   }
  },
  {
   "cell_type": "markdown",
   "source": "### Significance testing with Student's T-Test",
   "metadata": {
    "formattedRanges": [],
    "cell_id": "952c2635-3463-453d-9aee-2dd01ee50081",
    "tags": [],
    "is_collapsed": false,
    "deepnote_cell_type": "text-cell-h3"
   }
  },
  {
   "cell_type": "code",
   "metadata": {
    "tags": [],
    "deepnote_to_be_reexecuted": false,
    "source_hash": "13f38013",
    "execution_start": 1647821062616,
    "execution_millis": 2974,
    "is_code_hidden": false,
    "cell_id": "00008-8d3a9aef-7dcf-4f85-b9c2-f2230278464a",
    "deepnote_cell_type": "code",
    "deepnote_cell_height": 747.421875
   },
   "source": "categ = list(categories_summary.index)\nkeep = []\n\nfor i in range(len(categ)-1):\n    ind2 = i+1\n\n    v1 = train[train['product_category']==categ[i]]['stars']\n    v2 = train[train['product_category']==categ[ind2]]['stars']\n\n    ttest = ttest_ind(v1,v2)\n    dof = len(v1) + len(v2) - 2\n    cv = t.ppf(.95, dof)\n\n    if ttest.pvalue < .05 and ttest.statistic > cv:\n        if set([categ[i], categ[ind2]]) not in keep:\n            keep.append(set([categ[i], categ[ind2]]))\nprint(f\"\"\"\n        The following categories have a significant difference in their means compared to X categories:\n        \"\"\")\nfor i in keep:\n    print(i)",
   "execution_count": null,
   "outputs": [
    {
     "name": "stdout",
     "text": "\n        The following categories have a significant difference in their means compared to X categories:\n        \n{'apparel', 'automotive'}\n{'beauty', 'baby_product'}\n{'book', 'camera'}\n{'digital_video_download', 'digital_ebook_purchase'}\n{'drugstore', 'electronics'}\n{'furniture', 'grocery'}\n{'lawn_and_garden', 'kitchen'}\n{'luggage', 'musical_instruments'}\n{'pc', 'other'}\n{'toy', 'sports'}\n{'toy', 'video_games'}\n{'watch', 'wireless'}\n",
     "output_type": "stream"
    }
   ]
  },
  {
   "cell_type": "markdown",
   "source": "## Preprocessing for Model Processing",
   "metadata": {
    "tags": [],
    "cell_id": "00009-7372037c-1448-405d-9a60-e9fc896db437",
    "deepnote_cell_type": "markdown",
    "deepnote_cell_height": 70
   }
  },
  {
   "cell_type": "code",
   "metadata": {
    "tags": [],
    "deepnote_to_be_reexecuted": false,
    "source_hash": "55d4f8b",
    "execution_start": 1634413956200,
    "execution_millis": 35,
    "cell_id": "00010-69fde632-2171-4558-959a-8e2ef20ff698",
    "deepnote_cell_type": "code",
    "deepnote_cell_height": 171
   },
   "source": "from torchtext.data.utils import get_tokenizer\nfrom torchtext.vocab import build_vocab_from_iterator\n\ntokenizer = get_tokenizer('basic_english')\n\n",
   "execution_count": null,
   "outputs": []
  },
  {
   "cell_type": "code",
   "metadata": {
    "tags": [],
    "deepnote_to_be_reexecuted": false,
    "source_hash": "555dad65",
    "execution_start": 1634413956239,
    "execution_millis": 31765,
    "cell_id": "00011-de0713af-4982-4c50-9511-7a7e409624e1",
    "deepnote_cell_type": "code",
    "deepnote_cell_height": 333
   },
   "source": "train_ds, valid_ds, test_ds = TabularDataset.splits(\n  path = '/datasets/the-multilingual-amazon-reviews-corpus',\n  train = 'dataset_en_train.json',\n  validation = 'dataset_en_test.json',\n  test = 'dataset_en_dev.json',\n  format = 'json',\n  fields={#\"review_id\": \"en_0968227\", \n          \"product_id\": ('pid', Field(False,False)), \n          \"reviewer_id\": ('rid',Field(False, False)), \n          \"stars\": ('stars', Field(False, False)), \n          \"review_body\": ('body',Field(True,True, tokenize=tokenizer, lower=True)),\n          \"review_title\": ('title',Field(True, True, tokenize=tokenizer, lower=True)),\n          #\"language\": \"en\",\n          \"product_category\": ('categ',Field(False, False))}\n)",
   "execution_count": null,
   "outputs": []
  },
  {
   "cell_type": "code",
   "metadata": {
    "tags": [],
    "deepnote_to_be_reexecuted": false,
    "source_hash": "8f69d81f",
    "execution_start": 1634413988004,
    "execution_millis": 2,
    "cell_id": "00012-b0a4af79-8d07-49ea-ac18-69930b381efb",
    "deepnote_cell_type": "code",
    "deepnote_cell_height": 116.1875
   },
   "source": "print(vars(train_ds[10]))",
   "execution_count": null,
   "outputs": [
    {
     "name": "stdout",
     "text": "{'pid': 'product_en_0724267', 'rid': 'reviewer_en_0031791', 'stars': '1', 'body': ['i', 'am', 'disappointed', 'in', 'this', 'purchase', '.', 'i', 'bought', 'one', 'of', 'these', 'in', 'another', 'color', 'and', 'in', 'size', 'xl', 'and', 'it', 'fit', 'great', '.', 'this', 'one', 'i', 'bought', 'in', 'white', 'in', 'xl', 'and', 'it', 'fits', 'like', 'a', 'medium', '.', 'i', 'cannot', 'wear', 'this', 'top', 'and', 'am', 'really', 'disappointed', 'about', 'that', ',', 'it', 'is', 'advertised', 'as', 'xl', 'but', 'seriously', 'this', 'top', 'would', 'only', 'fit', 'someone', 'who', 'would', 'be', 'a', 'size', 's/m', '.', 'an', 'xxl', 'would', 'have', 'been', 'a', 'better', 'choice', 'for', 'me', 'because', 'the', 'sizing', 'is', 'incorrect', 'on', 'this', 'product', '.'], 'title': ['not', 'what', 'i', 'ordered'], 'categ': 'apparel'}\n",
     "output_type": "stream"
    }
   ]
  },
  {
   "cell_type": "code",
   "metadata": {
    "tags": [],
    "deepnote_to_be_reexecuted": false,
    "source_hash": "db7717d3",
    "execution_start": 1634413988005,
    "execution_millis": 10836,
    "cell_id": "00013-b666480a-71dc-492d-b5cd-d39d75831fa2",
    "deepnote_cell_type": "code",
    "deepnote_cell_height": 99
   },
   "source": "vectorizer = CountVectorizer(min_df=3)\nterm_dense_matrix = vectorizer.fit_transform(train['review_body'])",
   "execution_count": null,
   "outputs": []
  },
  {
   "cell_type": "markdown",
   "source": "Looking at the feature names learned from the training dataset. Performing this work with what is in the sklearn pipeline. Later, I will use this dataset for a model in pytorch to better predict word classification from the bag of words that is created in this step.\n\nLet's see if the users are happy with Amazon products by looking at the words in the feature names but every word occuring at the cadence of every 1,422 term.",
   "metadata": {
    "tags": [],
    "cell_id": "00014-29436d7e-0b9c-482b-8833-837b035358a4",
    "deepnote_cell_type": "markdown",
    "deepnote_cell_height": 155.984375
   }
  },
  {
   "cell_type": "code",
   "metadata": {
    "tags": [],
    "deepnote_to_be_reexecuted": false,
    "source_hash": "9255027c",
    "execution_start": 1634413998845,
    "execution_millis": 34,
    "cell_id": "00015-81b05f7a-f402-4506-a03c-031bf5373041",
    "deepnote_cell_type": "code",
    "deepnote_cell_height": 425,
    "deepnote_output_heights": [
     328
    ]
   },
   "source": "vectorizer.get_feature_names()[::1422]",
   "execution_count": null,
   "outputs": [
    {
     "output_type": "execute_result",
     "execution_count": 18,
     "data": {
      "text/plain": "['00',\n 'apologies',\n 'brat',\n 'coincidentally',\n 'dehumidifier',\n 'encounters',\n 'fret',\n 'honeysuckle',\n 'knees',\n 'mildew',\n 'overloading',\n 'proficient',\n 'rim',\n 'skits',\n 'supplements',\n 'tutu',\n 'wisconsin']"
     },
     "metadata": {}
    }
   ]
  },
  {
   "cell_type": "markdown",
   "source": "These look like very unhappy customers. I'll continue to work on the tf-idf vectorizer model. This will help create a term-weight matrix that is sparse for the apparence in each document.\n",
   "metadata": {
    "tags": [],
    "cell_id": "00016-014cd74b-9ee4-45c2-9d20-454a384db340",
    "deepnote_cell_type": "markdown",
    "deepnote_cell_height": 74.796875
   }
  },
  {
   "cell_type": "code",
   "metadata": {
    "tags": [],
    "deepnote_to_be_reexecuted": false,
    "source_hash": "9300573a",
    "execution_start": 1634413998892,
    "execution_millis": 11,
    "cell_id": "00017-4b5d8c69-c862-438e-a7e0-f6fe936ba33d",
    "deepnote_cell_type": "code",
    "deepnote_cell_height": 657
   },
   "source": "from sklearn.feature_extraction.text import TfidfVectorizer\n\n# This function returns:\n# - a matrix X with one row per document (review). Each row is a sparse\n# vector containing tf.idf term weights for the words in the document.\n#\n# - the vectorizor used to create X\n# \n# - the actual reviews used as input to the vectorizer\n\ndef get_reviews_vectorized(col, top_n = -1, ngram_range = (1,1), max_features = 1000):\n    df = col\n    df = df.dropna()   # drop any rows with empty reviews\n    vectorizer = TfidfVectorizer(max_df=0.5, max_features=max_features,\n                                 min_df=2, stop_words='english',\n                                 ngram_range = ngram_range,\n                                 use_idf=True)\n    if (top_n >= 0):\n        review_instances = df.values[0:top_n]\n    else:\n        review_instances = df.values\n    \n    X = vectorizer.fit_transform(review_instances) \n    \n    return (X, vectorizer, review_instances)\n\n# def print_cluster_features(vectorizer, centroids, n_clusters, top_n_features):\n#     terms = vectorizer.get_feature_names()\n#     for i in range(n_clusters):\n#         print(\"Cluster %d:\" % i, end='')\n#         for ind in centroids[i, :top_n_features]:\n#             print(' [%s]' % terms[ind], end='')\n#         print()",
   "execution_count": null,
   "outputs": []
  },
  {
   "cell_type": "code",
   "metadata": {
    "tags": [],
    "deepnote_to_be_reexecuted": false,
    "source_hash": "51c7387f",
    "execution_start": 1634414006371,
    "execution_millis": 292,
    "cell_id": "00018-1918a065-a33f-4219-9a6e-ca51ebb266dd",
    "deepnote_cell_type": "code",
    "deepnote_cell_height": 81
   },
   "source": "x = get_reviews_vectorized(train['review_body'], top_n=2000, ngram_range=(1,2), max_features = 2000)",
   "execution_count": null,
   "outputs": []
  },
  {
   "cell_type": "code",
   "metadata": {
    "tags": [],
    "deepnote_to_be_reexecuted": false,
    "source_hash": "577d5527",
    "execution_start": 1634414007273,
    "execution_millis": 7,
    "cell_id": "00019-99e93c08-a720-48a5-9682-a1b43b9b796a",
    "deepnote_cell_type": "code",
    "deepnote_cell_height": 315,
    "deepnote_output_heights": [
     218
    ]
   },
   "source": "x",
   "execution_count": null,
   "outputs": [
    {
     "output_type": "execute_result",
     "execution_count": 21,
     "data": {
      "text/plain": "(<2000x2000 sparse matrix of type '<class 'numpy.float64'>'\n \twith 23353 stored elements in Compressed Sparse Row format>,\n TfidfVectorizer(max_df=0.5, max_features=2000, min_df=2, ngram_range=(1, 2),\n                 stop_words='english'),\n array([\"Arrived broken. Manufacturer defect. Two of the legs of the base were not completely formed, so there was no way to insert the casters. I unpackaged the entire chair and hardware before noticing this. So, I'll spend twice the amount of time boxing up the whole useless thing and send it back with a 1-star review of part of a chair I never got to sit in. I will go so far as to include a picture of what their injection molding and quality assurance process missed though. I will be hesitant to buy again. It makes me wonder if there aren't missing structures and supports that don't impede the assembly process.\",\n        'the cabinet dot were all detached from backing... got me',\n        \"I received my first order of this product and it was broke so I ordered it again. The second one was broke in more places than the first. I can't blame the shipping process as it's shrink wrapped and boxed.\",\n        ..., 'Sits too high on my head',\n        'Only marking this down because I ordered 2 of the 3 packs and one of the packs was completely damaged. Emailed the company and never got a response or refund.',\n        'my son got this from \"Santa\" about a week ago, because we had to postpone our xmas due to a very large storm on xmas day here in maine. well when he opened it he was so excited and put it on immediately, when he did we found that there were 2 holes in the tail. my son was so disappointed that \"santa\" would send a whale tail with holes in it. i had to tell him that santa was so busy and made a mistake...he still wasnt happy and wouldnt stop crying. i am very disappointed with all the reviews on how nice it was that i got this and didnt compare to theirs. it is more expensive than the snuggie tails i figured it may be better quality, but now this momma is out her money and has to look for another one so my little man will be happy.'],\n       dtype=object))"
     },
     "metadata": {}
    }
   ]
  },
  {
   "cell_type": "code",
   "metadata": {
    "tags": [],
    "cell_id": "00020-802aa6d8-6197-4c39-8054-85c71dac8dac",
    "deepnote_cell_type": "code",
    "deepnote_cell_height": 66
   },
   "source": "",
   "execution_count": null,
   "outputs": []
  },
  {
   "cell_type": "code",
   "metadata": {
    "tags": [],
    "deepnote_to_be_reexecuted": false,
    "source_hash": "ffe9a3e5",
    "execution_start": 1634414009808,
    "execution_millis": 7530,
    "cell_id": "00021-8cf74a5d-d925-4a7e-862c-6f85d1c9a8bd",
    "deepnote_cell_type": "code",
    "deepnote_cell_height": 879,
    "deepnote_output_heights": [
     386
    ]
   },
   "source": "from sklearn.cluster import KMeans\nfrom sklearn.metrics import davies_bouldin_score, calinski_harabasz_score\n\ndef kmeans_reviews():\n    \n    X = x[0].toarray()\n    cls = KMeans(n_clusters=2, init='k-means++', max_iter=100, n_init=1, random_state=42).fit(X)\n    \n    # labels = cls.labels_\n    # print(davies_bouldin_score(X,labels),calinski_harabasz_score(X,labels))\n\n    result = [[] for i in range(len(cls.cluster_centers_))]\n    terms = vectorizer.get_feature_names()\n    for ind,i in enumerate(cls.cluster_centers_):\n        clust = np.argsort(-i)\n        done = list(clust)[:10]\n\n        for j in done:\n            result[ind].append(terms[j])\n        \n    return result\n\nkmeans_reviews()",
   "execution_count": null,
   "outputs": [
    {
     "output_type": "execute_result",
     "execution_count": 22,
     "data": {
      "text/plain": "[['andi',\n  'bags',\n  '50mm',\n  'adored',\n  'aide',\n  'award',\n  '550',\n  '69',\n  'add',\n  'accidents'],\n ['anti',\n  'acura',\n  'allergic',\n  '4oz',\n  'andi',\n  'antibiotic',\n  'balling',\n  'archaic',\n  'anticipated',\n  'allergens']]"
     },
     "metadata": {}
    }
   ]
  },
  {
   "cell_type": "markdown",
   "source": "These groups are focused on some type of accident readiness with aide, bags, and accidents while the second is focused on pre-emptively dealing with allergies. While these two groups are very similar to each other, they probably don't make too much sense in the broader context of all the reviews. Given these groups would not provide the ",
   "metadata": {
    "formattedRanges": [],
    "tags": [],
    "is_collapsed": false,
    "cell_id": "00022-0aab5b58-8d57-48f3-8324-7f1affe74a65",
    "deepnote_cell_type": "text-cell-p"
   }
  },
  {
   "cell_type": "markdown",
   "source": "<a style='text-decoration:none;line-height:16px;display:flex;color:#5B5B62;padding:10px;justify-content:end;' href='https://deepnote.com?utm_source=created-in-deepnote-cell&projectId=24d50205-0d01-4bd6-a263-9bbd6567f7de' target=\"_blank\">\n<img alt='Created in deepnote.com' style='display:inline;max-height:16px;margin:0px;margin-right:7.5px;' src='data:image/svg+xml;base64,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' > </img>\nCreated in <span style='font-weight:600;margin-left:4px;'>Deepnote</span></a>",
   "metadata": {
    "tags": [],
    "created_in_deepnote_cell": true,
    "deepnote_cell_type": "markdown"
   }
  }
 ],
 "nbformat": 4,
 "nbformat_minor": 2,
 "metadata": {
  "orig_nbformat": 2,
  "deepnote": {
   "is_reactive": false
  },
  "deepnote_notebook_id": "c2a3faef-3357-4548-9474-2e7be9d6e17e",
  "deepnote_execution_queue": []
 }
}